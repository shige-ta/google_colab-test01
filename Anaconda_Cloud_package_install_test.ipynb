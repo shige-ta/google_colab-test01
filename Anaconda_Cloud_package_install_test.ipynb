{
  "nbformat": 4,
  "nbformat_minor": 0,
  "metadata": {
    "colab": {
      "name": "Anaconda_Cloud_package_install_test.ipynb",
      "provenance": [],
      "authorship_tag": "ABX9TyNyE263Q4fTLt0zooPejmv7",
      "include_colab_link": true
    },
    "kernelspec": {
      "name": "python3",
      "display_name": "Python 3"
    },
    "language_info": {
      "name": "python"
    }
  },
  "cells": [
    {
      "cell_type": "markdown",
      "metadata": {
        "id": "view-in-github",
        "colab_type": "text"
      },
      "source": [
        "<a href=\"https://colab.research.google.com/github/shige-ywyw/google_colab-test01/blob/main/Anaconda_Cloud_package_install_test.ipynb\" target=\"_parent\"><img src=\"https://colab.research.google.com/assets/colab-badge.svg\" alt=\"Open In Colab\"/></a>"
      ]
    },
    {
      "cell_type": "code",
      "metadata": {
        "colab": {
          "base_uri": "https://localhost:8080/"
        },
        "id": "mPjvmsjFW2PW",
        "outputId": "ceb89fb7-b027-4e1f-81b9-8f581e624552"
      },
      "source": [
        "!pip install fake_useragent"
      ],
      "execution_count": 11,
      "outputs": [
        {
          "output_type": "stream",
          "text": [
            "Collecting fake_useragent\n",
            "  Downloading https://files.pythonhosted.org/packages/d1/79/af647635d6968e2deb57a208d309f6069d31cb138066d7e821e575112a80/fake-useragent-0.1.11.tar.gz\n",
            "Building wheels for collected packages: fake-useragent\n",
            "  Building wheel for fake-useragent (setup.py) ... \u001b[?25l\u001b[?25hdone\n",
            "  Created wheel for fake-useragent: filename=fake_useragent-0.1.11-cp37-none-any.whl size=13501 sha256=0f95076aa3ac2acb505358240f601c1f6f4d6b3b4eff12643c87e0c23da2330d\n",
            "  Stored in directory: /root/.cache/pip/wheels/5e/63/09/d1dc15179f175357d3f5c00cbffbac37f9e8690d80545143ff\n",
            "Successfully built fake-useragent\n",
            "Installing collected packages: fake-useragent\n",
            "Successfully installed fake-useragent-0.1.11\n"
          ],
          "name": "stdout"
        }
      ]
    },
    {
      "cell_type": "code",
      "metadata": {
        "id": "7Cxl6nFB2fZ_"
      },
      "source": [
        "import requests\n",
        "import io\n",
        "from fake_useragent import UserAgent\n",
        "ua = UserAgent()\n",
        "url = 'https://anaconda.org/t2y/LittleHTTPServer/0.1.4/download/LittleHTTPServer-0.1.4.tar.gz'\n",
        "headers = {\"User-Agent\": ua.chrome}\n",
        "source = requests.get(url, headers=headers).text\n",
        "data = io.StringIO(source)"
      ],
      "execution_count": 13,
      "outputs": []
    },
    {
      "cell_type": "code",
      "metadata": {
        "colab": {
          "base_uri": "https://localhost:8080/"
        },
        "id": "H7htGnK8XGQf",
        "outputId": "40967f4b-f474-4ab3-e2e2-0708a8256bdf"
      },
      "source": [
        "!pip install data"
      ],
      "execution_count": 14,
      "outputs": [
        {
          "output_type": "stream",
          "text": [
            "Requirement already satisfied: data in /usr/local/lib/python3.7/dist-packages (0.4)\n",
            "Requirement already satisfied: decorator in /usr/local/lib/python3.7/dist-packages (from data) (4.4.2)\n",
            "Requirement already satisfied: funcsigs in /usr/local/lib/python3.7/dist-packages (from data) (1.0.2)\n",
            "Requirement already satisfied: six in /usr/local/lib/python3.7/dist-packages (from data) (1.15.0)\n"
          ],
          "name": "stdout"
        }
      ]
    },
    {
      "cell_type": "code",
      "metadata": {
        "id": "Hn9GU9KFW1O5"
      },
      "source": [
        ""
      ],
      "execution_count": null,
      "outputs": []
    },
    {
      "cell_type": "code",
      "metadata": {
        "id": "_DDOgcIxUurC"
      },
      "source": [
        ""
      ],
      "execution_count": null,
      "outputs": []
    }
  ]
}