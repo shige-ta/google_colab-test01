{
  "nbformat": 4,
  "nbformat_minor": 0,
  "metadata": {
    "colab": {
      "name": "PDFtoCSV.ipynb",
      "provenance": [],
      "authorship_tag": "ABX9TyNxVX/C5yoVrej+XNBJl4jn",
      "include_colab_link": true
    },
    "kernelspec": {
      "name": "python3",
      "display_name": "Python 3"
    },
    "language_info": {
      "name": "python"
    }
  },
  "cells": [
    {
      "cell_type": "markdown",
      "metadata": {
        "id": "view-in-github",
        "colab_type": "text"
      },
      "source": [
        "<a href=\"https://colab.research.google.com/github/shige-ywyw/google_colab-test01/blob/main/PDFtoCSV.ipynb\" target=\"_parent\"><img src=\"https://colab.research.google.com/assets/colab-badge.svg\" alt=\"Open In Colab\"/></a>"
      ]
    },
    {
      "cell_type": "code",
      "metadata": {
        "colab": {
          "base_uri": "https://localhost:8080/"
        },
        "id": "KNs6-cYVQnwZ",
        "outputId": "b71367d4-5009-49a5-d926-5ce4522d8276"
      },
      "source": [
        "!pip install tabula-py"
      ],
      "execution_count": 1,
      "outputs": [
        {
          "output_type": "stream",
          "text": [
            "Collecting tabula-py\n",
            "  Downloading tabula_py-2.3.0-py3-none-any.whl (12.0 MB)\n",
            "\u001b[K     |████████████████████████████████| 12.0 MB 85 kB/s \n",
            "\u001b[?25hRequirement already satisfied: numpy in /usr/local/lib/python3.7/dist-packages (from tabula-py) (1.19.5)\n",
            "Requirement already satisfied: pandas>=0.25.3 in /usr/local/lib/python3.7/dist-packages (from tabula-py) (1.1.5)\n",
            "Collecting distro\n",
            "  Downloading distro-1.6.0-py2.py3-none-any.whl (19 kB)\n",
            "Requirement already satisfied: pytz>=2017.2 in /usr/local/lib/python3.7/dist-packages (from pandas>=0.25.3->tabula-py) (2018.9)\n",
            "Requirement already satisfied: python-dateutil>=2.7.3 in /usr/local/lib/python3.7/dist-packages (from pandas>=0.25.3->tabula-py) (2.8.2)\n",
            "Requirement already satisfied: six>=1.5 in /usr/local/lib/python3.7/dist-packages (from python-dateutil>=2.7.3->pandas>=0.25.3->tabula-py) (1.15.0)\n",
            "Installing collected packages: distro, tabula-py\n",
            "Successfully installed distro-1.6.0 tabula-py-2.3.0\n"
          ],
          "name": "stdout"
        }
      ]
    },
    {
      "cell_type": "code",
      "metadata": {
        "colab": {
          "base_uri": "https://localhost:8080/"
        },
        "id": "ltBoZL1_Qflk",
        "outputId": "de5d147e-fa4e-40b0-b58e-807161ca8118"
      },
      "source": [
        "\n",
        "import pandas as pd\n",
        "from tabula.io import read_pdf\n",
        "dfs = read_pdf(\"https://r1.jizokukahojokin.info/files/2616/1958/5415/r1i_4_hokurikusinetsu.pdf\", lattice=True, pages='all')\n",
        "\n",
        "for i, df in enumerate(dfs):\n",
        "  df.to_csv(f\"/content/sample_data/r1i_4_hokurikusinetsu{i}.csv\")\n"
      ],
      "execution_count": null,
      "outputs": [
        {
          "output_type": "stream",
          "text": [
            "Got stderr: Aug 27, 2021 1:57:41 AM org.apache.fontbox.ttf.CmapSubtable processSubtype14\n",
            "WARNING: Format 14 cmap table is not supported and will be ignored\n",
            "Aug 27, 2021 1:57:41 AM org.apache.fontbox.ttf.CmapSubtable processSubtype14\n",
            "WARNING: Format 14 cmap table is not supported and will be ignored\n",
            "\n"
          ],
          "name": "stderr"
        }
      ]
    },
    {
      "cell_type": "code",
      "metadata": {
        "id": "wGKpMkjjSP9i",
        "colab": {
          "base_uri": "https://localhost:8080/"
        },
        "outputId": "079326d3-2fd9-481a-ae68-f700101582e5"
      },
      "source": [
        "from tabula.io import convert_into\n",
        "convert_into('https://r1.jizokukahojokin.info/files/2616/1958/5415/r1i_4_hokurikusinetsu.pdf', '/content/sample_data/r1i_4_hokurikusinetsu.csv', lattice=True,output_format=\"csv\",pages='all', stream=True)"
      ],
      "execution_count": 3,
      "outputs": [
        {
          "output_type": "stream",
          "text": [
            "Got stderr: Aug 27, 2021 8:12:50 AM org.apache.fontbox.ttf.CmapSubtable processSubtype14\n",
            "WARNING: Format 14 cmap table is not supported and will be ignored\n",
            "Aug 27, 2021 8:12:50 AM org.apache.fontbox.ttf.CmapSubtable processSubtype14\n",
            "WARNING: Format 14 cmap table is not supported and will be ignored\n",
            "\n"
          ],
          "name": "stderr"
        }
      ]
    },
    {
      "cell_type": "code",
      "metadata": {
        "id": "Ic0RoBExqPzJ"
      },
      "source": [
        ""
      ],
      "execution_count": null,
      "outputs": []
    }
  ]
}