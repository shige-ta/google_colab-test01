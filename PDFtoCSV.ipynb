{
  "nbformat": 4,
  "nbformat_minor": 0,
  "metadata": {
    "colab": {
      "name": "PDFtoCSV.ipynb",
      "provenance": [],
      "authorship_tag": "ABX9TyPcxf4U3i4g1FHWL9eZDKu4",
      "include_colab_link": true
    },
    "kernelspec": {
      "name": "python3",
      "display_name": "Python 3"
    },
    "language_info": {
      "name": "python"
    }
  },
  "cells": [
    {
      "cell_type": "markdown",
      "metadata": {
        "id": "view-in-github",
        "colab_type": "text"
      },
      "source": [
        "<a href=\"https://colab.research.google.com/github/shige-ywyw/google_colab-test01/blob/main/PDFtoCSV.ipynb\" target=\"_parent\"><img src=\"https://colab.research.google.com/assets/colab-badge.svg\" alt=\"Open In Colab\"/></a>"
      ]
    },
    {
      "cell_type": "code",
      "metadata": {
        "colab": {
          "base_uri": "https://localhost:8080/"
        },
        "id": "KNs6-cYVQnwZ",
        "outputId": "79daf972-159f-438d-b83b-dce77e5ddad7"
      },
      "source": [
        "!pip install tabula-py"
      ],
      "execution_count": 6,
      "outputs": [
        {
          "output_type": "stream",
          "text": [
            "Requirement already satisfied: tabula-py in /usr/local/lib/python3.7/dist-packages (2.3.0)\n",
            "Requirement already satisfied: distro in /usr/local/lib/python3.7/dist-packages (from tabula-py) (1.6.0)\n",
            "Requirement already satisfied: pandas>=0.25.3 in /usr/local/lib/python3.7/dist-packages (from tabula-py) (1.1.5)\n",
            "Requirement already satisfied: numpy in /usr/local/lib/python3.7/dist-packages (from tabula-py) (1.19.5)\n",
            "Requirement already satisfied: pytz>=2017.2 in /usr/local/lib/python3.7/dist-packages (from pandas>=0.25.3->tabula-py) (2018.9)\n",
            "Requirement already satisfied: python-dateutil>=2.7.3 in /usr/local/lib/python3.7/dist-packages (from pandas>=0.25.3->tabula-py) (2.8.2)\n",
            "Requirement already satisfied: six>=1.5 in /usr/local/lib/python3.7/dist-packages (from python-dateutil>=2.7.3->pandas>=0.25.3->tabula-py) (1.15.0)\n"
          ],
          "name": "stdout"
        }
      ]
    },
    {
      "cell_type": "code",
      "metadata": {
        "colab": {
          "base_uri": "https://localhost:8080/"
        },
        "id": "ltBoZL1_Qflk",
        "outputId": "de5d147e-fa4e-40b0-b58e-807161ca8118"
      },
      "source": [
        "\n",
        "import pandas as pd\n",
        "from tabula.io import read_pdf\n",
        "dfs = read_pdf(\"https://r1.jizokukahojokin.info/files/2616/1958/5415/r1i_4_hokurikusinetsu.pdf\", lattice=True, pages='all')\n",
        "\n",
        "for i, df in enumerate(dfs):\n",
        "  df.to_csv(f\"/content/sample_data/r1i_4_hokurikusinetsu{i}.csv\")\n"
      ],
      "execution_count": 5,
      "outputs": [
        {
          "output_type": "stream",
          "text": [
            "Got stderr: Aug 27, 2021 1:57:41 AM org.apache.fontbox.ttf.CmapSubtable processSubtype14\n",
            "WARNING: Format 14 cmap table is not supported and will be ignored\n",
            "Aug 27, 2021 1:57:41 AM org.apache.fontbox.ttf.CmapSubtable processSubtype14\n",
            "WARNING: Format 14 cmap table is not supported and will be ignored\n",
            "\n"
          ],
          "name": "stderr"
        }
      ]
    },
    {
      "cell_type": "code",
      "metadata": {
        "id": "wGKpMkjjSP9i"
      },
      "source": [
        ""
      ],
      "execution_count": null,
      "outputs": []
    }
  ]
}