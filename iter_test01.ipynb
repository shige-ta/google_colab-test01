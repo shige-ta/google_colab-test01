{
  "nbformat": 4,
  "nbformat_minor": 0,
  "metadata": {
    "colab": {
      "name": "iter test01.ipynb",
      "provenance": [],
      "authorship_tag": "ABX9TyNNHS7Xc7VKycMgnc3dLENo",
      "include_colab_link": true
    },
    "kernelspec": {
      "name": "python3",
      "display_name": "Python 3"
    },
    "language_info": {
      "name": "python"
    }
  },
  "cells": [
    {
      "cell_type": "markdown",
      "metadata": {
        "id": "view-in-github",
        "colab_type": "text"
      },
      "source": [
        "<a href=\"https://colab.research.google.com/github/shige-ta/google_colab-test01/blob/main/iter_test01.ipynb\" target=\"_parent\"><img src=\"https://colab.research.google.com/assets/colab-badge.svg\" alt=\"Open In Colab\"/></a>"
      ]
    },
    {
      "cell_type": "code",
      "execution_count": 1,
      "metadata": {
        "colab": {
          "base_uri": "https://localhost:8080/"
        },
        "id": "e-In5j9wOdkI",
        "outputId": "8bbace84-ff2c-4c9e-a254-3d254bd89d8b"
      },
      "outputs": [
        {
          "output_type": "stream",
          "name": "stdout",
          "text": [
            "AB\n",
            "AB\n",
            "AB\n",
            "AB\n",
            "AB\n",
            "AB\n",
            "AB\n",
            "AB\n",
            "AB\n",
            "AB\n",
            "AB\n",
            "AB\n"
          ]
        }
      ],
      "source": [
        "s = \"ABABABABABABABABABABABAB\"\n",
        "\n",
        "iter_s = iter(s)\n",
        "while True:\n",
        "  try:\n",
        "    ss = next(iter_s)\n",
        "    ss += next(iter_s)\n",
        "    print(ss)\n",
        "  except:\n",
        "    break\n"
      ]
    },
    {
      "cell_type": "code",
      "source": [
        ""
      ],
      "metadata": {
        "id": "uFuOAatkOtb4"
      },
      "execution_count": null,
      "outputs": []
    }
  ]
}