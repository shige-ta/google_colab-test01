{
  "nbformat": 4,
  "nbformat_minor": 0,
  "metadata": {
    "colab": {
      "name": "itertools functools operator study.ipynb",
      "provenance": [],
      "authorship_tag": "ABX9TyPnTVk99F22HgfklBCrlY+L",
      "include_colab_link": true
    },
    "kernelspec": {
      "name": "python3",
      "display_name": "Python 3"
    },
    "language_info": {
      "name": "python"
    }
  },
  "cells": [
    {
      "cell_type": "markdown",
      "metadata": {
        "id": "view-in-github",
        "colab_type": "text"
      },
      "source": [
        "<a href=\"https://colab.research.google.com/github/shige-ta/google_colab-test01/blob/main/itertools_functools_operator_study.ipynb\" target=\"_parent\"><img src=\"https://colab.research.google.com/assets/colab-badge.svg\" alt=\"Open In Colab\"/></a>"
      ]
    },
    {
      "cell_type": "code",
      "execution_count": 1,
      "metadata": {
        "id": "-WyDHPNvPAAq"
      },
      "outputs": [],
      "source": [
        "from itertools import *\n",
        "from functools import *\n",
        "from operator import * \n",
        "\n",
        "\n",
        "\n"
      ]
    },
    {
      "cell_type": "code",
      "source": [
        ""
      ],
      "metadata": {
        "id": "Cz6mx_AvPNOn"
      },
      "execution_count": null,
      "outputs": []
    }
  ]
}