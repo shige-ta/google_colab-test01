{
  "cells": [
    {
      "metadata": {
        "id": "kDpdXVvWqtdG"
      },
      "cell_type": "markdown",
      "source": [
        "# データサイエンス100本ノック（構造化データ加工編） - Python\n",
        "# for AzureNotebook"
      ]
    },
    {
      "metadata": {
        "id": "a-atpqs0qtdS"
      },
      "cell_type": "markdown",
      "source": [
        "## 【注意】オリジナル版との変更点\n",
        "1. Azure Notebook ではDockerを使えないので、2020.06.18時点の 100knocks-preprocess/docker/work/data にあるCSVファイルをPostgreSQLから入手する代わりに使います。\n",
        "2. オリジナルのCSVデータ, geocode.csvの'latitude'列名の初めにスペースが入っていたため、それを削除しました。\n",
        "\n",
        "   オリジナル(100knocks-preprocess ver.1.0): ' latitude' --> 'latitude'\n",
        "   \n",
        "\n",
        "4. オリジナルの解答を元に、必要のないlibraryはimportせず、そして必要なlibraryをAzureNotebookでインストールするように最初のセルを改変してあります。\n",
        "5. また、SQLではなく上記CSVからデータを読み込むように'はじめに'の最初のセルを改変してあります。"
      ]
    },
    {
      "metadata": {
        "id": "NWF0usE8qtdX"
      },
      "cell_type": "markdown",
      "source": [
        "## 【Azure Notebook】動かす前に\n",
        "1. 本100本ノックの解答例スクリプトはPython3.6で動作検証し、それを元にLibraryの選定を行っております。メニュ-->Kernel-->Change Kernelから、Python 3.6を選んでください。Python3ではLibraryをインストールする際にエラーが発生します。"
      ]
    },
    {
      "metadata": {
        "id": "Q7f1hnuSqtdb"
      },
      "cell_type": "markdown",
      "source": [
        "## はじめに\n",
        "- 初めに以下のセルを実行してください\n",
        "- 必要なライブラリのインポートと~~データベース（PostgreSQL）~~ 100knocks-preprocess/docker/work/data にあるCSVファイルからのデータ読み込みを行います。geocode.csvに変更を加えたため、またgit cloneをするとAzure Notebooksの簡便さを損なうため、筆者(noguhiro2002)のgithubレポジトリから直接読み込みます。\n",
        "- pandas等、利用が想定されるライブラリは以下セルでインポートしています\n",
        "- その他利用したいライブラリがあれば適宜インストールしてください（\"!pip install ライブラリ名\"でインストールも可能)\n",
        "- オリジナルの解答例を元に、必要なライブラリーをpipでインストールします。\n",
        "- 処理は複数回に分けても構いません\n",
        "- 名前、住所等はダミーデータであり、実在するものではありません"
      ]
    },
    {
      "metadata": {
        "trusted": true,
        "id": "GkGtv6Ahqtdl",
        "outputId": "6e801330-7f4e-4baa-9a66-b34876743d1b",
        "colab": {
          "base_uri": "https://localhost:8080/",
          "height": 818
        }
      },
      "cell_type": "code",
      "source": [
        "# pipでオリジナルの解答に必要なライブラリーをインストール\n",
        "!pip install --upgrade pip\n",
        "!pip uninstall numpy -y\n",
        "!pip uninstall pandas -y\n",
        "!pip install --user pandas numpy scikit-learn\n",
        "!pip install imbalanced-learn\n",
        "\n",
        "# pipでオリジナルの解答に必要なライブラリーをインポート\n",
        "import os\n",
        "import pandas as pd\n",
        "import numpy as np\n",
        "from datetime import datetime, date\n",
        "from dateutil.relativedelta import relativedelta\n",
        "import math\n",
        "from sklearn import preprocessing\n",
        "from sklearn.model_selection import train_test_split\n",
        "from imblearn.under_sampling import RandomUnderSampler\n",
        "\n",
        "\n",
        "# データを github/noguhiro2002/100knocks-preprocess/work/data フォルダよりDataframe形式でRead\n",
        "df_customer = pd.read_csv('https://raw.githubusercontent.com/The-Japan-DataScientist-Society/100knocks-preprocess/master/docker/work/data/customer.csv')\n",
        "df_category = pd.read_csv('https://raw.githubusercontent.com/The-Japan-DataScientist-Society/100knocks-preprocess/master/docker/work/data/category.csv')\n",
        "df_product = pd.read_csv('https://raw.githubusercontent.com/The-Japan-DataScientist-Society/100knocks-preprocess/master/docker/work/data/product.csv')\n",
        "df_receipt = pd.read_csv('https://raw.githubusercontent.com/The-Japan-DataScientist-Society/100knocks-preprocess/master/docker/work/data/receipt.csv')\n",
        "df_store = pd.read_csv('https://raw.githubusercontent.com/The-Japan-DataScientist-Society/100knocks-preprocess/master/docker/work/data/store.csv')\n",
        "df_geocode = pd.read_csv('https://raw.githubusercontent.com/noguhiro2002/100knocks-preprocess_ForColab-AzureNotebook/master/data/geocode.csv')"
      ],
      "execution_count": 34,
      "outputs": [
        {
          "output_type": "stream",
          "name": "stdout",
          "text": [
            "Requirement already satisfied: pip in /usr/local/lib/python3.7/dist-packages (21.3.1)\n",
            "\u001b[33mWARNING: Running pip as the 'root' user can result in broken permissions and conflicting behaviour with the system package manager. It is recommended to use a virtual environment instead: https://pip.pypa.io/warnings/venv\u001b[0m\n",
            "Found existing installation: numpy 1.21.5\n",
            "Uninstalling numpy-1.21.5:\n",
            "  Successfully uninstalled numpy-1.21.5\n",
            "\u001b[33mWARNING: Running pip as the 'root' user can result in broken permissions and conflicting behaviour with the system package manager. It is recommended to use a virtual environment instead: https://pip.pypa.io/warnings/venv\u001b[0m\n",
            "Found existing installation: pandas 1.3.5\n",
            "Uninstalling pandas-1.3.5:\n",
            "  Successfully uninstalled pandas-1.3.5\n",
            "\u001b[33mWARNING: Running pip as the 'root' user can result in broken permissions and conflicting behaviour with the system package manager. It is recommended to use a virtual environment instead: https://pip.pypa.io/warnings/venv\u001b[0m\n",
            "Collecting pandas\n",
            "  Using cached pandas-1.3.5-cp37-cp37m-manylinux_2_17_x86_64.manylinux2014_x86_64.whl (11.3 MB)\n",
            "Collecting numpy\n",
            "  Using cached numpy-1.21.5-cp37-cp37m-manylinux_2_12_x86_64.manylinux2010_x86_64.whl (15.7 MB)\n",
            "Requirement already satisfied: scikit-learn in /usr/local/lib/python3.7/dist-packages (1.0.2)\n",
            "Requirement already satisfied: pytz>=2017.3 in /usr/local/lib/python3.7/dist-packages (from pandas) (2018.9)\n",
            "Requirement already satisfied: python-dateutil>=2.7.3 in /usr/local/lib/python3.7/dist-packages (from pandas) (2.8.2)\n",
            "Requirement already satisfied: joblib>=0.11 in /usr/local/lib/python3.7/dist-packages (from scikit-learn) (1.1.0)\n",
            "Requirement already satisfied: threadpoolctl>=2.0.0 in /usr/local/lib/python3.7/dist-packages (from scikit-learn) (3.0.0)\n",
            "Requirement already satisfied: scipy>=1.1.0 in /usr/local/lib/python3.7/dist-packages (from scikit-learn) (1.4.1)\n",
            "Requirement already satisfied: six>=1.5 in /usr/local/lib/python3.7/dist-packages (from python-dateutil>=2.7.3->pandas) (1.15.0)\n",
            "Installing collected packages: numpy, pandas\n",
            "\u001b[33m  WARNING: The scripts f2py, f2py3 and f2py3.7 are installed in '/root/.local/bin' which is not on PATH.\n",
            "  Consider adding this directory to PATH or, if you prefer to suppress this warning, use --no-warn-script-location.\u001b[0m\n",
            "\u001b[31mERROR: pip's dependency resolver does not currently take into account all the packages that are installed. This behaviour is the source of the following dependency conflicts.\n",
            "yellowbrick 1.3.post1 requires numpy<1.20,>=1.16.0, but you have numpy 1.21.5 which is incompatible.\n",
            "google-colab 1.0.0 requires pandas~=1.1.0; python_version >= \"3.0\", but you have pandas 1.3.5 which is incompatible.\n",
            "datascience 0.10.6 requires folium==0.2.1, but you have folium 0.8.3 which is incompatible.\n",
            "albumentations 0.1.12 requires imgaug<0.2.7,>=0.2.5, but you have imgaug 0.2.9 which is incompatible.\u001b[0m\n",
            "Successfully installed numpy-1.21.5 pandas-1.3.5\n",
            "\u001b[33mWARNING: Running pip as the 'root' user can result in broken permissions and conflicting behaviour with the system package manager. It is recommended to use a virtual environment instead: https://pip.pypa.io/warnings/venv\u001b[0m\n"
          ]
        },
        {
          "output_type": "display_data",
          "data": {
            "application/vnd.colab-display-data+json": {
              "pip_warning": {
                "packages": [
                  "numpy",
                  "pandas"
                ]
              }
            }
          },
          "metadata": {}
        },
        {
          "output_type": "stream",
          "name": "stdout",
          "text": [
            "Requirement already satisfied: imbalanced-learn in /usr/local/lib/python3.7/dist-packages (0.8.1)\n",
            "Requirement already satisfied: scipy>=0.19.1 in /usr/local/lib/python3.7/dist-packages (from imbalanced-learn) (1.4.1)\n",
            "Requirement already satisfied: scikit-learn>=0.24 in /usr/local/lib/python3.7/dist-packages (from imbalanced-learn) (1.0.2)\n",
            "Requirement already satisfied: numpy>=1.13.3 in /root/.local/lib/python3.7/site-packages (from imbalanced-learn) (1.21.5)\n",
            "Requirement already satisfied: joblib>=0.11 in /usr/local/lib/python3.7/dist-packages (from imbalanced-learn) (1.1.0)\n",
            "Requirement already satisfied: threadpoolctl>=2.0.0 in /usr/local/lib/python3.7/dist-packages (from scikit-learn>=0.24->imbalanced-learn) (3.0.0)\n",
            "\u001b[33mWARNING: Running pip as the 'root' user can result in broken permissions and conflicting behaviour with the system package manager. It is recommended to use a virtual environment instead: https://pip.pypa.io/warnings/venv\u001b[0m\n"
          ]
        },
        {
          "output_type": "stream",
          "name": "stderr",
          "text": [
            "/usr/local/lib/python3.7/dist-packages/IPython/core/interactiveshell.py:2718: DtypeWarning: Columns (4) have mixed types.Specify dtype option on import or set low_memory=False.\n",
            "  interactivity=interactivity, compiler=compiler, result=result)\n"
          ]
        }
      ]
    },
    {
      "metadata": {
        "id": "tiIxXeJNqtdr"
      },
      "cell_type": "markdown",
      "source": [
        "# 演習問題"
      ]
    },
    {
      "metadata": {
        "id": "65Zm4biRqtdw"
      },
      "cell_type": "markdown",
      "source": [
        "---\n",
        "> P-001: レシート明細のデータフレーム（df_receipt）から全項目の先頭10件を表示し、どのようなデータを保有しているか目視で確認せよ。"
      ]
    },
    {
      "metadata": {
        "trusted": false,
        "id": "2xFWZ7x6qtdy",
        "outputId": "46e663ac-929c-4f60-b3ca-b27ddd3f2da8",
        "colab": {
          "base_uri": "https://localhost:8080/"
        }
      },
      "cell_type": "code",
      "source": [
        "df_receipt_head = df_receipt.head(10)\n",
        "print(df_receipt_head)"
      ],
      "execution_count": 35,
      "outputs": [
        {
          "output_type": "stream",
          "name": "stdout",
          "text": [
            "   sales_ymd  sales_epoch store_cd  ...  product_cd  quantity amount\n",
            "0   20181103   1541203200   S14006  ...  P070305012         1    158\n",
            "1   20181118   1542499200   S13008  ...  P070701017         1     81\n",
            "2   20170712   1499817600   S14028  ...  P060101005         1    170\n",
            "3   20190205   1549324800   S14042  ...  P050301001         1     25\n",
            "4   20180821   1534809600   S14025  ...  P060102007         1     90\n",
            "5   20190605   1559692800   S13003  ...  P050102002         1    138\n",
            "6   20181205   1543968000   S14024  ...  P080101005         1     30\n",
            "7   20190922   1569110400   S14040  ...  P070501004         1    128\n",
            "8   20170504   1493856000   S13020  ...  P071302010         1    770\n",
            "9   20191010   1570665600   S14027  ...  P071101003         1    680\n",
            "\n",
            "[10 rows x 9 columns]\n"
          ]
        }
      ]
    },
    {
      "metadata": {
        "id": "YFZ1Tzcpqtdz"
      },
      "cell_type": "markdown",
      "source": [
        "---\n",
        "> P-002: レシート明細のデータフレーム（df_receipt）から売上日（sales_ymd）、顧客ID（customer_id）、商品コード（product_cd）、売上金額（amount）の順に列を指定し、10件表示させよ。"
      ]
    },
    {
      "metadata": {
        "trusted": false,
        "id": "Q0v3TKAbqtd1",
        "outputId": "08a05f1b-1002-4abb-9ac3-9ba497ac4357",
        "colab": {
          "base_uri": "https://localhost:8080/"
        }
      },
      "cell_type": "code",
      "source": [
        "print(df_receipt[['sales_ymd','customer_id', 'product_cd','amount']].head(10))\n"
      ],
      "execution_count": 36,
      "outputs": [
        {
          "output_type": "stream",
          "name": "stdout",
          "text": [
            "   sales_ymd     customer_id  product_cd  amount\n",
            "0   20181103  CS006214000001  P070305012     158\n",
            "1   20181118  CS008415000097  P070701017      81\n",
            "2   20170712  CS028414000014  P060101005     170\n",
            "3   20190205  ZZ000000000000  P050301001      25\n",
            "4   20180821  CS025415000050  P060102007      90\n",
            "5   20190605  CS003515000195  P050102002     138\n",
            "6   20181205  CS024514000042  P080101005      30\n",
            "7   20190922  CS040415000178  P070501004     128\n",
            "8   20170504  ZZ000000000000  P071302010     770\n",
            "9   20191010  CS027514000015  P071101003     680\n"
          ]
        }
      ]
    },
    {
      "metadata": {
        "id": "ybA3e2Prqtd2"
      },
      "cell_type": "markdown",
      "source": [
        "---\n",
        "> P-003: レシート明細のデータフレーム（df_receipt）から売上日（sales_ymd）、顧客ID（customer_id）、商品コード（product_cd）、売上金額（amount）の順に列を指定し、10件表示させよ。ただし、sales_ymdはsales_dateに項目名を変更しながら抽出すること。"
      ]
    },
    {
      "metadata": {
        "trusted": false,
        "id": "DMnKQSxBqtd3",
        "outputId": "20aa0d3d-5351-4d44-892f-51082925301f",
        "colab": {
          "base_uri": "https://localhost:8080/"
        }
      },
      "cell_type": "code",
      "source": [
        "df_receipt_rename = df_receipt.rename(columns={'sales_ymd': 'sales_date'})\n",
        "print(df_receipt_rename[['sales_date','customer_id','product_cd','amount']].head(10))"
      ],
      "execution_count": 37,
      "outputs": [
        {
          "output_type": "stream",
          "name": "stdout",
          "text": [
            "   sales_date     customer_id  product_cd  amount\n",
            "0    20181103  CS006214000001  P070305012     158\n",
            "1    20181118  CS008415000097  P070701017      81\n",
            "2    20170712  CS028414000014  P060101005     170\n",
            "3    20190205  ZZ000000000000  P050301001      25\n",
            "4    20180821  CS025415000050  P060102007      90\n",
            "5    20190605  CS003515000195  P050102002     138\n",
            "6    20181205  CS024514000042  P080101005      30\n",
            "7    20190922  CS040415000178  P070501004     128\n",
            "8    20170504  ZZ000000000000  P071302010     770\n",
            "9    20191010  CS027514000015  P071101003     680\n"
          ]
        }
      ]
    },
    {
      "metadata": {
        "id": "yg93FXfEqtd4"
      },
      "cell_type": "markdown",
      "source": [
        "---\n",
        "> P-004: レシート明細のデータフレーム（df_receipt）から売上日（sales_ymd）、顧客ID（customer_id）、商品コード（product_cd）、売上金額（amount）の順に列を指定し、以下の条件を満たすデータを抽出せよ。\n",
        "> - 顧客ID（customer_id）が\"CS018205000001\""
      ]
    },
    {
      "metadata": {
        "trusted": false,
        "id": "1UvXdDPMqtd4",
        "outputId": "70512c36-777c-4647-fc0a-b6782d18f54c",
        "colab": {
          "base_uri": "https://localhost:8080/"
        }
      },
      "cell_type": "code",
      "source": [
        "CS = df_receipt[df_receipt['customer_id'].isin(['CS018205000001'])]\n",
        "print(CS[['sales_ymd', 'customer_id','product_cd', 'amount']])"
      ],
      "execution_count": 40,
      "outputs": [
        {
          "output_type": "stream",
          "name": "stdout",
          "text": [
            "       sales_ymd     customer_id  product_cd  amount\n",
            "36      20180911  CS018205000001  P071401012    2200\n",
            "9843    20180414  CS018205000001  P060104007     600\n",
            "21110   20170614  CS018205000001  P050206001     990\n",
            "27673   20170614  CS018205000001  P060702015     108\n",
            "27840   20190216  CS018205000001  P071005024     102\n",
            "28757   20180414  CS018205000001  P071101002     278\n",
            "39256   20190226  CS018205000001  P070902035     168\n",
            "58121   20190924  CS018205000001  P060805001     495\n",
            "68117   20190226  CS018205000001  P071401020    2200\n",
            "72254   20180911  CS018205000001  P071401005    1100\n",
            "88508   20190216  CS018205000001  P040101002     218\n",
            "91525   20190924  CS018205000001  P091503001     280\n"
          ]
        }
      ]
    },
    {
      "metadata": {
        "id": "0hbScAWDqtd5"
      },
      "cell_type": "markdown",
      "source": [
        "---\n",
        "> P-005: レシート明細のデータフレーム（df_receipt）から売上日（sales_ymd）、顧客ID（customer_id）、商品コード（product_cd）、売上金額（amount）の順に列を指定し、以下の条件を満たすデータを抽出せよ。\n",
        "> - 顧客ID（customer_id）が\"CS018205000001\"\n",
        "> - 売上金額（amount）が1,000以上"
      ]
    },
    {
      "metadata": {
        "trusted": false,
        "id": "LJBvtkMMqtd6"
      },
      "cell_type": "code",
      "source": [
        ""
      ],
      "execution_count": null,
      "outputs": []
    },
    {
      "metadata": {
        "id": "YBq-fia8qtd6"
      },
      "cell_type": "markdown",
      "source": [
        "---\n",
        "> P-006: レシート明細データフレーム「df_receipt」から売上日（sales_ymd）、顧客ID（customer_id）、商品コード（product_cd）、売上数量（quantity）、売上金額（amount）の順に列を指定し、以下の条件を満たすデータを抽出せよ。\n",
        "> - 顧客ID（customer_id）が\"CS018205000001\"\n",
        "> - 売上金額（amount）が1,000以上または売上数量（quantity）が5以上"
      ]
    },
    {
      "metadata": {
        "trusted": false,
        "id": "yH8GaveQqtd8"
      },
      "cell_type": "code",
      "source": [
        ""
      ],
      "execution_count": null,
      "outputs": []
    },
    {
      "metadata": {
        "id": "axp4nQdpqtd9"
      },
      "cell_type": "markdown",
      "source": [
        "---\n",
        "> P-007: レシート明細のデータフレーム（df_receipt）から売上日（sales_ymd）、顧客ID（customer_id）、商品コード（product_cd）、売上金額（amount）の順に列を指定し、以下の条件を満たすデータを抽出せよ。\n",
        "> - 顧客ID（customer_id）が\"CS018205000001\"\n",
        "> - 売上金額（amount）が1,000以上2,000以下"
      ]
    },
    {
      "metadata": {
        "trusted": false,
        "id": "u8IrTCfMqtd-"
      },
      "cell_type": "code",
      "source": [
        ""
      ],
      "execution_count": null,
      "outputs": []
    },
    {
      "metadata": {
        "id": "7fA6KDC3qtd_"
      },
      "cell_type": "markdown",
      "source": [
        "---\n",
        "> P-008: レシート明細のデータフレーム（df_receipt）から売上日（sales_ymd）、顧客ID（customer_id）、商品コード（product_cd）、売上金額（amount）の順に列を指定し、以下の条件を満たすデータを抽出せよ。\n",
        "> - 顧客ID（customer_id）が\"CS018205000001\"\n",
        "> - 商品コード（product_cd）が\"P071401019\"以外"
      ]
    },
    {
      "metadata": {
        "trusted": false,
        "id": "WRdNZ8UQqtd_"
      },
      "cell_type": "code",
      "source": [
        ""
      ],
      "execution_count": null,
      "outputs": []
    },
    {
      "metadata": {
        "id": "N1Wg_FQfqtd_"
      },
      "cell_type": "markdown",
      "source": [
        "---\n",
        "> P-009: 以下の処理において、出力結果を変えずにORをANDに書き換えよ。\n",
        "\n",
        "`df_store.query('not(prefecture_cd == \"13\" | floor_area > 900)')`"
      ]
    },
    {
      "metadata": {
        "trusted": false,
        "id": "1nn58WyDqteA"
      },
      "cell_type": "code",
      "source": [
        ""
      ],
      "execution_count": null,
      "outputs": []
    },
    {
      "metadata": {
        "id": "CYs87N-7qteB"
      },
      "cell_type": "markdown",
      "source": [
        "---\n",
        "> P-010: 店舗データフレーム（df_store）から、店舗コード（store_cd）が\"S14\"で始まるものだけ全項目抽出し、10件だけ表示せよ。"
      ]
    },
    {
      "metadata": {
        "trusted": false,
        "id": "dGDyJ7lPqteB"
      },
      "cell_type": "code",
      "source": [
        ""
      ],
      "execution_count": null,
      "outputs": []
    },
    {
      "metadata": {
        "id": "LOxXRebAqteC"
      },
      "cell_type": "markdown",
      "source": [
        "---\n",
        "> P-011: 顧客データフレーム（df_customer）から顧客ID（customer_id）の末尾が1のものだけ全項目抽出し、10件だけ表示せよ。"
      ]
    },
    {
      "metadata": {
        "trusted": false,
        "id": "7GW2gcGBqteC"
      },
      "cell_type": "code",
      "source": [
        ""
      ],
      "execution_count": null,
      "outputs": []
    },
    {
      "metadata": {
        "id": "gRXlP7NsqteC"
      },
      "cell_type": "markdown",
      "source": [
        "---\n",
        "> P-012: 店舗データフレーム（df_store）から横浜市の店舗だけ全項目表示せよ。"
      ]
    },
    {
      "metadata": {
        "trusted": false,
        "id": "qwdyBVB6qteD"
      },
      "cell_type": "code",
      "source": [
        ""
      ],
      "execution_count": null,
      "outputs": []
    },
    {
      "metadata": {
        "id": "F6ngDpHPqteD"
      },
      "cell_type": "markdown",
      "source": [
        "---\n",
        "> P-013: 顧客データフレーム（df_customer）から、ステータスコード（status_cd）の先頭がアルファベットのA〜Fで始まるデータを全項目抽出し、10件だけ表示せよ。"
      ]
    },
    {
      "metadata": {
        "trusted": false,
        "id": "aa0RNCgKqteE"
      },
      "cell_type": "code",
      "source": [
        ""
      ],
      "execution_count": null,
      "outputs": []
    },
    {
      "metadata": {
        "id": "iO_tgylcqteF"
      },
      "cell_type": "markdown",
      "source": [
        "---\n",
        "> P-014: 顧客データフレーム（df_customer）から、ステータスコード（status_cd）の末尾が数字の1〜9で終わるデータを全項目抽出し、10件だけ表示せよ。"
      ]
    },
    {
      "metadata": {
        "trusted": false,
        "id": "nu7juN3uqteF"
      },
      "cell_type": "code",
      "source": [
        ""
      ],
      "execution_count": null,
      "outputs": []
    },
    {
      "metadata": {
        "id": "OCu-KPcHqteF"
      },
      "cell_type": "markdown",
      "source": [
        "---\n",
        "> P-015: 顧客データフレーム（df_customer）から、ステータスコード（status_cd）の先頭がアルファベットのA〜Fで始まり、末尾が数字の1〜9で終わるデータを全項目抽出し、10件だけ表示せよ。"
      ]
    },
    {
      "metadata": {
        "trusted": false,
        "id": "Ve11vsr6qteG"
      },
      "cell_type": "code",
      "source": [
        ""
      ],
      "execution_count": null,
      "outputs": []
    },
    {
      "metadata": {
        "id": "uDKEFtQmqteG"
      },
      "cell_type": "markdown",
      "source": [
        "---\n",
        "> P-016: 店舗データフレーム（df_store）から、電話番号（tel_no）が3桁-3桁-4桁のデータを全項目表示せよ。"
      ]
    },
    {
      "metadata": {
        "trusted": false,
        "id": "RbinNrcvqteH"
      },
      "cell_type": "code",
      "source": [
        ""
      ],
      "execution_count": null,
      "outputs": []
    },
    {
      "metadata": {
        "id": "2hwHtMFxqteH"
      },
      "cell_type": "markdown",
      "source": [
        "---\n",
        "> P-17: 顧客データフレーム（df_customer）を生年月日（birth_day）で高齢順にソートし、先頭10件を全項目表示せよ。"
      ]
    },
    {
      "metadata": {
        "trusted": false,
        "id": "_7NIyIzFqteI"
      },
      "cell_type": "code",
      "source": [
        ""
      ],
      "execution_count": null,
      "outputs": []
    },
    {
      "metadata": {
        "id": "lDKkt6wPqteJ"
      },
      "cell_type": "markdown",
      "source": [
        "---\n",
        "> P-18: 顧客データフレーム（df_customer）を生年月日（birth_day）で若い順にソートし、先頭10件を全項目表示せよ。"
      ]
    },
    {
      "metadata": {
        "trusted": false,
        "id": "5bAjutroqteJ"
      },
      "cell_type": "code",
      "source": [
        ""
      ],
      "execution_count": null,
      "outputs": []
    },
    {
      "metadata": {
        "id": "BYxO0ni9qteJ"
      },
      "cell_type": "markdown",
      "source": [
        "---\n",
        "> P-19: レシート明細データフレーム（df_receipt）に対し、1件あたりの売上金額（amount）が高い順にランクを付与し、先頭10件を抽出せよ。項目は顧客ID（customer_id）、売上金額（amount）、付与したランクを表示させること。なお、売上金額（amount）が等しい場合は同一順位を付与するものとする。"
      ]
    },
    {
      "metadata": {
        "trusted": false,
        "id": "yFMnd62sqteK"
      },
      "cell_type": "code",
      "source": [
        ""
      ],
      "execution_count": null,
      "outputs": []
    },
    {
      "metadata": {
        "id": "b0ZHKqOYqteK"
      },
      "cell_type": "markdown",
      "source": [
        "---\n",
        "> P-020: レシート明細データフレーム（df_receipt）に対し、1件あたりの売上金額（amount）が高い順にランクを付与し、先頭10件を抽出せよ。項目は顧客ID（customer_id）、売上金額（amount）、付与したランクを表示させること。なお、売上金額（amount）が等しい場合でも別順位を付与すること。"
      ]
    },
    {
      "metadata": {
        "trusted": false,
        "id": "yAVFdHm3qteL"
      },
      "cell_type": "code",
      "source": [
        ""
      ],
      "execution_count": null,
      "outputs": []
    },
    {
      "metadata": {
        "id": "LVTQiSpqqteL"
      },
      "cell_type": "markdown",
      "source": [
        "---\n",
        "> P-021: レシート明細データフレーム（df_receipt）に対し、件数をカウントせよ。"
      ]
    },
    {
      "metadata": {
        "trusted": false,
        "id": "R5vs4vk3qteL"
      },
      "cell_type": "code",
      "source": [
        ""
      ],
      "execution_count": null,
      "outputs": []
    },
    {
      "metadata": {
        "id": "m_6O9tJEqteM"
      },
      "cell_type": "markdown",
      "source": [
        "---\n",
        "> P-022: レシート明細データフレーム（df_receipt）の顧客ID（customer_id）に対し、ユニーク件数をカウントせよ。"
      ]
    },
    {
      "metadata": {
        "trusted": false,
        "id": "StBb7M9qqteM"
      },
      "cell_type": "code",
      "source": [
        ""
      ],
      "execution_count": null,
      "outputs": []
    },
    {
      "metadata": {
        "id": "ofAlfmRVqteN"
      },
      "cell_type": "markdown",
      "source": [
        "---\n",
        "> P-023: レシート明細データフレーム（df_receipt）に対し、店舗コード（store_cd）ごとに売上金額（amount）と売上数量（quantity）を合計せよ。"
      ]
    },
    {
      "metadata": {
        "trusted": false,
        "id": "OGgYa9VQqteO"
      },
      "cell_type": "code",
      "source": [
        ""
      ],
      "execution_count": null,
      "outputs": []
    },
    {
      "metadata": {
        "id": "xmZLBB2gqteO"
      },
      "cell_type": "markdown",
      "source": [
        "---\n",
        "> P-024: レシート明細データフレーム（df_receipt）に対し、顧客ID（customer_id）ごとに最も新しい売上日（sales_ymd）を求め、10件表示せよ。"
      ]
    },
    {
      "metadata": {
        "trusted": false,
        "id": "RVNW44mSqteP"
      },
      "cell_type": "code",
      "source": [
        ""
      ],
      "execution_count": null,
      "outputs": []
    },
    {
      "metadata": {
        "id": "qU8pNbw_qteP"
      },
      "cell_type": "markdown",
      "source": [
        "---\n",
        "> P-025: レシート明細データフレーム（df_receipt）に対し、顧客ID（customer_id）ごとに最も古い売上日（sales_ymd）を求め、10件表示せよ。"
      ]
    },
    {
      "metadata": {
        "trusted": false,
        "id": "i4DYXnEAqteP"
      },
      "cell_type": "code",
      "source": [
        ""
      ],
      "execution_count": null,
      "outputs": []
    },
    {
      "metadata": {
        "id": "nA8yhIfpqteQ"
      },
      "cell_type": "markdown",
      "source": [
        "---\n",
        "> P-026: レシート明細データフレーム（df_receipt）に対し、顧客ID（customer_id）ごとに最も新しい売上日（sales_ymd）と古い売上日を求め、両者が異なるデータを10件表示せよ。"
      ]
    },
    {
      "metadata": {
        "trusted": false,
        "id": "jlpaU7bAqteQ"
      },
      "cell_type": "code",
      "source": [
        ""
      ],
      "execution_count": null,
      "outputs": []
    },
    {
      "metadata": {
        "id": "Cdyr_hGoqteQ"
      },
      "cell_type": "markdown",
      "source": [
        "---\n",
        "> P-027: レシート明細データフレーム（df_receipt）に対し、店舗コード（store_cd）ごとに売上金額（amount）の平均を計算し、降順でTOP5を表示せよ。"
      ]
    },
    {
      "metadata": {
        "trusted": false,
        "id": "cMTO5POfqteQ"
      },
      "cell_type": "code",
      "source": [
        ""
      ],
      "execution_count": null,
      "outputs": []
    },
    {
      "metadata": {
        "id": "3kZk_sQzqteQ"
      },
      "cell_type": "markdown",
      "source": [
        "---\n",
        "> P-028: レシート明細データフレーム（df_receipt）に対し、店舗コード（store_cd）ごとに売上金額（amount）の中央値を計算し、降順でTOP5を表示せよ。"
      ]
    },
    {
      "metadata": {
        "trusted": false,
        "id": "8XihqpEuqteR"
      },
      "cell_type": "code",
      "source": [
        ""
      ],
      "execution_count": null,
      "outputs": []
    },
    {
      "metadata": {
        "id": "8nonem75qteR"
      },
      "cell_type": "markdown",
      "source": [
        "---\n",
        "> P-029: レシート明細データフレーム（df_receipt）に対し、店舗コード（store_cd）ごとに商品コード（product_cd）の最頻値を求めよ。"
      ]
    },
    {
      "metadata": {
        "trusted": false,
        "id": "_-YLhwQcqteR"
      },
      "cell_type": "code",
      "source": [
        ""
      ],
      "execution_count": null,
      "outputs": []
    },
    {
      "metadata": {
        "id": "0hB_ZEzuqteR"
      },
      "cell_type": "markdown",
      "source": [
        "---\n",
        "> P-030: レシート明細データフレーム（df_receipt）に対し、店舗コード（store_cd）ごとに売上金額（amount）の標本分散を計算し、降順でTOP5を表示せよ。"
      ]
    },
    {
      "metadata": {
        "trusted": false,
        "id": "JkcDe8-NqteR"
      },
      "cell_type": "code",
      "source": [
        ""
      ],
      "execution_count": null,
      "outputs": []
    },
    {
      "metadata": {
        "id": "X1uoGqxEqteS"
      },
      "cell_type": "markdown",
      "source": [
        "---\n",
        "> P-031: レシート明細データフレーム（df_receipt）に対し、店舗コード（store_cd）ごとに売上金額（amount）の標本標準偏差を計算し、降順でTOP5を表示せよ。"
      ]
    },
    {
      "metadata": {
        "trusted": false,
        "id": "KMnWaf_oqteS"
      },
      "cell_type": "code",
      "source": [
        ""
      ],
      "execution_count": null,
      "outputs": []
    },
    {
      "metadata": {
        "id": "PyCIM9oqqteS"
      },
      "cell_type": "markdown",
      "source": [
        "---\n",
        "> P-032: レシート明細データフレーム（df_receipt）の売上金額（amount）について、25％刻みでパーセンタイル値を求めよ。"
      ]
    },
    {
      "metadata": {
        "trusted": false,
        "id": "or8hCjiXqteT"
      },
      "cell_type": "code",
      "source": [
        ""
      ],
      "execution_count": null,
      "outputs": []
    },
    {
      "metadata": {
        "id": "nvaQML0hqteT"
      },
      "cell_type": "markdown",
      "source": [
        "---\n",
        "> P-033: レシート明細データフレーム（df_receipt）に対し、店舗コード（store_cd）ごとに売上金額（amount）の平均を計算し、330以上のものを抽出せよ。"
      ]
    },
    {
      "metadata": {
        "trusted": false,
        "id": "Yv_VwQFyqteU"
      },
      "cell_type": "code",
      "source": [
        ""
      ],
      "execution_count": null,
      "outputs": []
    },
    {
      "metadata": {
        "id": "lZryjG9yqteU"
      },
      "cell_type": "markdown",
      "source": [
        "---\n",
        "> P-034: レシート明細データフレーム（df_receipt）に対し、顧客ID（customer_id）ごとに売上金額（amount）を合計して全顧客の平均を求めよ。ただし、顧客IDが\"Z\"から始まるのものは非会員を表すため、除外して計算すること。\n"
      ]
    },
    {
      "metadata": {
        "trusted": false,
        "id": "FDBM7GXrqteV"
      },
      "cell_type": "code",
      "source": [
        ""
      ],
      "execution_count": null,
      "outputs": []
    },
    {
      "metadata": {
        "id": "LJNw731nqteV"
      },
      "cell_type": "markdown",
      "source": [
        "---\n",
        "> P-035: レシート明細データフレーム（df_receipt）に対し、顧客ID（customer_id）ごとに売上金額（amount）を合計して全顧客の平均を求め、平均以上に買い物をしている顧客を抽出せよ。ただし、顧客IDが\"Z\"から始まるのものは非会員を表すため、除外して計算すること。なお、データは10件だけ表示させれば良い。"
      ]
    },
    {
      "metadata": {
        "trusted": false,
        "id": "esWT8Z_nqteW"
      },
      "cell_type": "code",
      "source": [
        ""
      ],
      "execution_count": null,
      "outputs": []
    },
    {
      "metadata": {
        "id": "nUdsz01uqteW"
      },
      "cell_type": "markdown",
      "source": [
        "---\n",
        "> P-036: レシート明細データフレーム（df_receipt）と店舗データフレーム（df_store）を内部結合し、レシート明細データフレームの全項目と店舗データフレームの店舗名（store_name）を10件表示させよ。"
      ]
    },
    {
      "metadata": {
        "trusted": false,
        "id": "cssogIGnqteW"
      },
      "cell_type": "code",
      "source": [
        ""
      ],
      "execution_count": null,
      "outputs": []
    },
    {
      "metadata": {
        "id": "duLN-LWAqteX"
      },
      "cell_type": "markdown",
      "source": [
        "---\n",
        "> P-037: 商品データフレーム（df_product）とカテゴリデータフレーム（df_category）を内部結合し、商品データフレームの全項目とカテゴリデータフレームの小区分名（category_small_name）を10件表示させよ。"
      ]
    },
    {
      "metadata": {
        "trusted": false,
        "id": "jFVc73ZaqteX"
      },
      "cell_type": "code",
      "source": [
        ""
      ],
      "execution_count": null,
      "outputs": []
    },
    {
      "metadata": {
        "id": "puU1hNVnqteX"
      },
      "cell_type": "markdown",
      "source": [
        "---\n",
        "> P-038: 顧客データフレーム（df_customer）とレシート明細データフレーム（df_receipt）から、各顧客ごとの売上金額合計を求めよ。ただし、買い物の実績がない顧客については売上金額を0として表示させること。また、顧客は性別コード（gender_cd）が女性（1）であるものを対象とし、非会員（顧客IDが'Z'から始まるもの）は除外すること。なお、結果は10件だけ表示させれば良い。"
      ]
    },
    {
      "metadata": {
        "trusted": false,
        "id": "m9R99eivqteX"
      },
      "cell_type": "code",
      "source": [
        ""
      ],
      "execution_count": null,
      "outputs": []
    },
    {
      "metadata": {
        "id": "GFnw1wd1qteX"
      },
      "cell_type": "markdown",
      "source": [
        "---\n",
        "> P-039: レシート明細データフレーム（df_receipt）から売上日数の多い顧客の上位20件と、売上金額合計の多い顧客の上位20件を抽出し、完全外部結合せよ。ただし、非会員（顧客IDが'Z'から始まるもの）は除外すること。"
      ]
    },
    {
      "metadata": {
        "trusted": false,
        "id": "WbF_on7jqteY"
      },
      "cell_type": "code",
      "source": [
        ""
      ],
      "execution_count": null,
      "outputs": []
    },
    {
      "metadata": {
        "id": "D650QLB_qteY"
      },
      "cell_type": "markdown",
      "source": [
        "---\n",
        "> P-040: 全ての店舗と全ての商品を組み合わせると何件のデータとなるか調査したい。店舗（df_store）と商品（df_product）を直積した件数を計算せよ。"
      ]
    },
    {
      "metadata": {
        "trusted": false,
        "id": "zUxo2BY4qteY"
      },
      "cell_type": "code",
      "source": [
        ""
      ],
      "execution_count": null,
      "outputs": []
    },
    {
      "metadata": {
        "id": "W1IXPLIEqteY"
      },
      "cell_type": "markdown",
      "source": [
        "---\n",
        "> P-041: レシート明細データフレーム（df_receipt）の売上金額（amount）を日付（sales_ymd）ごとに集計し、前日からの売上金額増減を計算せよ。なお、計算結果は10件表示すればよい。"
      ]
    },
    {
      "metadata": {
        "trusted": false,
        "id": "JxeqBUiwqteY"
      },
      "cell_type": "code",
      "source": [
        ""
      ],
      "execution_count": null,
      "outputs": []
    },
    {
      "metadata": {
        "id": "enYIMuiPqteZ"
      },
      "cell_type": "markdown",
      "source": [
        "---\n",
        "> P-042: レシート明細データフレーム（df_receipt）の売上金額（amount）を日付（sales_ymd）ごとに集計し、各日付のデータに対し、１日前、２日前、３日前のデータを結合せよ。結果は10件表示すればよい。"
      ]
    },
    {
      "metadata": {
        "trusted": false,
        "id": "OauPCp0qqteZ"
      },
      "cell_type": "code",
      "source": [
        ""
      ],
      "execution_count": null,
      "outputs": []
    },
    {
      "metadata": {
        "id": "8gLQ9HQ1qteZ"
      },
      "cell_type": "markdown",
      "source": [
        "---\n",
        "> P-043： レシート明細データフレーム（df_receipt）と顧客データフレーム（df_customer）を結合し、性別（gender）と年代（ageから計算）ごとに売上金額（amount）を合計した売上サマリデータフレーム（df_sales_summary）を作成せよ。性別は0が男性、1が女性、9が不明を表すものとする。\n",
        ">\n",
        "> ただし、項目構成は年代、女性の売上金額、男性の売上金額、性別不明の売上金額の4項目とすること（縦に年代、横に性別のクロス集計）。また、年代は10歳ごとの階級とすること。"
      ]
    },
    {
      "metadata": {
        "trusted": false,
        "id": "vEUGPmx7qteZ"
      },
      "cell_type": "code",
      "source": [
        ""
      ],
      "execution_count": null,
      "outputs": []
    },
    {
      "metadata": {
        "id": "3DqBl417qteZ"
      },
      "cell_type": "markdown",
      "source": [
        "---\n",
        "> P-044： 前設問で作成した売上サマリデータフレーム（df_sales_summary）は性別の売上を横持ちさせたものであった。このデータフレームから性別を縦持ちさせ、年代、性別コード、売上金額の3項目に変換せよ。ただし、性別コードは男性を'00'、女性を'01'、不明を'99'とする。"
      ]
    },
    {
      "metadata": {
        "trusted": false,
        "id": "RwtrQKZ8qtea"
      },
      "cell_type": "code",
      "source": [
        ""
      ],
      "execution_count": null,
      "outputs": []
    },
    {
      "metadata": {
        "id": "0LCg9G66qtea"
      },
      "cell_type": "markdown",
      "source": [
        "---\n",
        "> P-045: 顧客データフレーム（df_customer）の生年月日（birth_day）は日付型（Date）でデータを保有している。これをYYYYMMDD形式の文字列に変換し、顧客ID（customer_id）とともに抽出せよ。データは10件を抽出すれば良い。"
      ]
    },
    {
      "metadata": {
        "trusted": false,
        "id": "ILC7Q_BRqteb"
      },
      "cell_type": "code",
      "source": [
        ""
      ],
      "execution_count": null,
      "outputs": []
    },
    {
      "metadata": {
        "id": "SKNCst_Nqteb"
      },
      "cell_type": "markdown",
      "source": [
        "---\n",
        "> P-046: 顧客データフレーム（df_customer）の申し込み日（application_date）はYYYYMMD形式の文字列型でデータを保有している。これを日付型（dateやdatetime）に変換し、顧客ID（customer_id）とともに抽出せよ。データは10件を抽出すれば良い。"
      ]
    },
    {
      "metadata": {
        "trusted": false,
        "id": "k1VBARuIqtec"
      },
      "cell_type": "code",
      "source": [
        ""
      ],
      "execution_count": null,
      "outputs": []
    },
    {
      "metadata": {
        "id": "EYFBPwrxqtec"
      },
      "cell_type": "markdown",
      "source": [
        "---\n",
        "> P-047: レシート明細データフレーム（df_receipt）の売上日（sales_ymd）はYYYYMMDD形式の数値型でデータを保有している。これを日付型（dateやdatetime）に変換し、レシート番号(receipt_no)、レシートサブ番号（receipt_sub_no）とともに抽出せよ。データは10件を抽出すれば良い。"
      ]
    },
    {
      "metadata": {
        "trusted": false,
        "id": "9Qbxojo3qted"
      },
      "cell_type": "code",
      "source": [
        ""
      ],
      "execution_count": null,
      "outputs": []
    },
    {
      "metadata": {
        "id": "dOwE3JzNqted"
      },
      "cell_type": "markdown",
      "source": [
        "---\n",
        "> P-048: レシート明細データフレーム（df_receipt）の売上エポック秒（sales_epoch）は数値型のUNIX秒でデータを保有している。これを日付型（dateやdatetime）に変換し、レシート番号(receipt_no)、レシートサブ番号（receipt_sub_no）とともに抽出せよ。データは10件を抽出すれば良い。"
      ]
    },
    {
      "metadata": {
        "trusted": false,
        "id": "lAoZ_zyDqtee"
      },
      "cell_type": "code",
      "source": [
        ""
      ],
      "execution_count": null,
      "outputs": []
    },
    {
      "metadata": {
        "id": "dUkEpiywqtee"
      },
      "cell_type": "markdown",
      "source": [
        "---\n",
        "> P-049: レシート明細データフレーム（df_receipt）の売上エポック秒（sales_epoch）を日付型（timestamp型）に変換し、\"年\"だけ取り出してレシート番号(receipt_no)、レシートサブ番号（receipt_sub_no）とともに抽出せよ。データは10件を抽出すれば良い。"
      ]
    },
    {
      "metadata": {
        "trusted": false,
        "id": "DbK0D0eiqtef"
      },
      "cell_type": "code",
      "source": [
        ""
      ],
      "execution_count": null,
      "outputs": []
    },
    {
      "metadata": {
        "id": "A5yEqQa-qtef"
      },
      "cell_type": "markdown",
      "source": [
        "---\n",
        "> P-050: レシート明細データフレーム（df_receipt）の売上エポック秒（sales_epoch）を日付型（timestamp型）に変換し、\"月\"だけ取り出してレシート番号(receipt_no)、レシートサブ番号（receipt_sub_no）とともに抽出せよ。なお、\"月\"は0埋め2桁で取り出すこと。データは10件を抽出すれば良い。"
      ]
    },
    {
      "metadata": {
        "trusted": false,
        "id": "t_fkq5WXqteg"
      },
      "cell_type": "code",
      "source": [
        ""
      ],
      "execution_count": null,
      "outputs": []
    },
    {
      "metadata": {
        "id": "bUkMdEweqteg"
      },
      "cell_type": "markdown",
      "source": [
        "---\n",
        "> P-051: レシート明細データフレーム（df_receipt）の売上エポック秒（sales_epoch）を日付型（timestamp型）に変換し、\"日\"だけ取り出してレシート番号(receipt_no)、レシートサブ番号（receipt_sub_no）とともに抽出せよ。なお、\"日\"は0埋め2桁で取り出すこと。データは10件を抽出すれば良い。"
      ]
    },
    {
      "metadata": {
        "trusted": false,
        "id": "AodCYYxTqteh"
      },
      "cell_type": "code",
      "source": [
        ""
      ],
      "execution_count": null,
      "outputs": []
    },
    {
      "metadata": {
        "id": "D_JvleYQqteh"
      },
      "cell_type": "markdown",
      "source": [
        "---\n",
        "> P-052: レシート明細データフレーム（df_receipt）の売上金額（amount）を顧客ID（customer_id）ごとに合計の上、売上金額合計に対して2000円以下を0、2000円超を1に2値化し、顧客ID、売上金額合計とともに10件表示せよ。ただし、顧客IDが\"Z\"から始まるのものは非会員を表すため、除外して計算すること。"
      ]
    },
    {
      "metadata": {
        "trusted": false,
        "id": "cDyYdOTDqtei"
      },
      "cell_type": "code",
      "source": [
        ""
      ],
      "execution_count": null,
      "outputs": []
    },
    {
      "metadata": {
        "id": "nZ_H9pZaqtei"
      },
      "cell_type": "markdown",
      "source": [
        "---\n",
        "> P-053: 顧客データフレーム（df_customer）の郵便番号（postal_cd）に対し、東京（先頭3桁が100〜209のもの）を1、それ以外のものを0に２値化せよ。さらにレシート明細データフレーム（df_receipt）と結合し、全期間において買い物実績のある顧客数を、作成した2値ごとにカウントせよ。"
      ]
    },
    {
      "metadata": {
        "trusted": false,
        "id": "7chzrasmqtej"
      },
      "cell_type": "code",
      "source": [
        ""
      ],
      "execution_count": null,
      "outputs": []
    },
    {
      "metadata": {
        "id": "iuybez9pqtej"
      },
      "cell_type": "markdown",
      "source": [
        "---\n",
        "> P-054: 顧客データデータフレーム（df_customer）の住所（address）は、埼玉県、千葉県、東京都、神奈川県のいずれかとなっている。都道府県毎にコード値を作成し、顧客ID、住所とともに抽出せよ。値は埼玉県を11、千葉県を12、東京都を13、神奈川県を14とすること。結果は10件表示させれば良い。"
      ]
    },
    {
      "metadata": {
        "trusted": false,
        "id": "niD2YUQwqtej"
      },
      "cell_type": "code",
      "source": [
        ""
      ],
      "execution_count": null,
      "outputs": []
    },
    {
      "metadata": {
        "id": "L5ADmU5Zqtej"
      },
      "cell_type": "markdown",
      "source": [
        "---\n",
        "> P-055: レシート明細データフレーム（df_receipt）の売上金額（amount）を顧客ID（customer_id）ごとに合計し、その合計金額の四分位点を求めよ。その上で、顧客ごとの売上金額合計に対して以下の基準でカテゴリ値を作成し、顧客ID、売上金額と合計ともに表示せよ。カテゴリ値は上から順に1〜4とする。結果は10件表示させれば良い。\n",
        ">\n",
        "> - 最小値以上第一四分位未満\n",
        "> - 第一四分位以上第二四分位未満\n",
        "> - 第二四分位以上第三四分位未満\n",
        "> - 第三四分位以上"
      ]
    },
    {
      "metadata": {
        "trusted": false,
        "id": "M-dJ1H9Sqtek"
      },
      "cell_type": "code",
      "source": [
        ""
      ],
      "execution_count": null,
      "outputs": []
    },
    {
      "metadata": {
        "id": "riFttii0qtel"
      },
      "cell_type": "markdown",
      "source": [
        "---\n",
        "> P-056: 顧客データフレーム（df_customer）の年齢（age）をもとに10歳刻みで年代を算出し、顧客ID（customer_id）、生年月日（birth_day）とともに抽出せよ。ただし、60歳以上は全て60歳代とすること。年代を表すカテゴリ名は任意とする。先頭10件を表示させればよい。"
      ]
    },
    {
      "metadata": {
        "trusted": false,
        "id": "bi3zvOfiqtel"
      },
      "cell_type": "code",
      "source": [
        ""
      ],
      "execution_count": null,
      "outputs": []
    },
    {
      "metadata": {
        "id": "DlicLaCwqtel"
      },
      "cell_type": "markdown",
      "source": [
        "---\n",
        "> P-057: 前問題の抽出結果と性別（gender）を組み合わせ、新たに性別×年代の組み合わせを表すカテゴリデータを作成せよ。組み合わせを表すカテゴリの値は任意とする。先頭10件を表示させればよい。"
      ]
    },
    {
      "metadata": {
        "trusted": false,
        "id": "MeydJTh7qtem"
      },
      "cell_type": "code",
      "source": [
        ""
      ],
      "execution_count": null,
      "outputs": []
    },
    {
      "metadata": {
        "id": "LM88IzVMqtem"
      },
      "cell_type": "markdown",
      "source": [
        "---\n",
        "> P-058: 顧客データフレーム（df_customer）の性別コード（gender_cd）をダミー変数化し、顧客ID（customer_id）とともに抽出せよ。結果は10件表示させれば良い。"
      ]
    },
    {
      "metadata": {
        "trusted": false,
        "id": "Rcc6f5x6qtem"
      },
      "cell_type": "code",
      "source": [
        ""
      ],
      "execution_count": null,
      "outputs": []
    },
    {
      "metadata": {
        "id": "JfGR02Ebqtem"
      },
      "cell_type": "markdown",
      "source": [
        "---\n",
        "> P-059: レシート明細データフレーム（df_receipt）の売上金額（amount）を顧客ID（customer_id）ごとに合計し、合計した売上金額を平均0、標準偏差1に標準化して顧客ID、売上金額合計とともに表示せよ。標準化に使用する標準偏差は、不偏標準偏差と標本標準偏差のどちらでも良いものとする。ただし、顧客IDが\"Z\"から始まるのものは非会員を表すため、除外して計算すること。結果は10件表示させれば良い。"
      ]
    },
    {
      "metadata": {
        "trusted": false,
        "id": "T7welHsPqten"
      },
      "cell_type": "code",
      "source": [
        ""
      ],
      "execution_count": null,
      "outputs": []
    },
    {
      "metadata": {
        "id": "h93r_5lrqten"
      },
      "cell_type": "markdown",
      "source": [
        "---\n",
        "> P-060: レシート明細データフレーム（df_receipt）の売上金額（amount）を顧客ID（customer_id）ごとに合計し、合計した売上金額を最小値0、最大値1に正規化して顧客ID、売上金額合計とともに表示せよ。ただし、顧客IDが\"Z\"から始まるのものは非会員を表すため、除外して計算すること。結果は10件表示させれば良い。"
      ]
    },
    {
      "metadata": {
        "trusted": false,
        "id": "0iEEw4qqqten"
      },
      "cell_type": "code",
      "source": [
        ""
      ],
      "execution_count": null,
      "outputs": []
    },
    {
      "metadata": {
        "id": "nrMiNXUwqteo"
      },
      "cell_type": "markdown",
      "source": [
        "---\n",
        "> P-061: レシート明細データフレーム（df_receipt）の売上金額（amount）を顧客ID（customer_id）ごとに合計し、合計した売上金額を常用対数化（底=10）して顧客ID、売上金額合計とともに表示せよ。ただし、顧客IDが\"Z\"から始まるのものは非会員を表すため、除外して計算すること。結果は10件表示させれば良い。"
      ]
    },
    {
      "metadata": {
        "trusted": false,
        "id": "MLeQUuJyqteo"
      },
      "cell_type": "code",
      "source": [
        ""
      ],
      "execution_count": null,
      "outputs": []
    },
    {
      "metadata": {
        "id": "5E7RqnETqteo"
      },
      "cell_type": "markdown",
      "source": [
        "---\n",
        "> P-062: レシート明細データフレーム（df_receipt）の売上金額（amount）を顧客ID（customer_id）ごとに合計し、合計した売上金額を自然対数化(底=e）して顧客ID、売上金額合計とともに表示せよ。ただし、顧客IDが\"Z\"から始まるのものは非会員を表すため、除外して計算すること。結果は10件表示させれば良い。"
      ]
    },
    {
      "metadata": {
        "trusted": false,
        "id": "osN0pqIMqtep"
      },
      "cell_type": "code",
      "source": [
        ""
      ],
      "execution_count": null,
      "outputs": []
    },
    {
      "metadata": {
        "id": "wt7n3amYqtep"
      },
      "cell_type": "markdown",
      "source": [
        "---\n",
        "> P-063: 商品データフレーム（df_product）の単価（unit_price）と原価（unit_cost）から、各商品の利益額を算出せよ。結果は10件表示させれば良い。"
      ]
    },
    {
      "metadata": {
        "trusted": false,
        "id": "aBqRpGB2qtep"
      },
      "cell_type": "code",
      "source": [
        ""
      ],
      "execution_count": null,
      "outputs": []
    },
    {
      "metadata": {
        "id": "wViE0fLwqtep"
      },
      "cell_type": "markdown",
      "source": [
        "---\n",
        "> P-064: 商品データフレーム（df_product）の単価（unit_price）と原価（unit_cost）から、各商品の利益率の全体平均を算出せよ。\n",
        "ただし、単価と原価にはNULLが存在することに注意せよ。"
      ]
    },
    {
      "metadata": {
        "trusted": false,
        "id": "qJTmrXbmqteq"
      },
      "cell_type": "code",
      "source": [
        ""
      ],
      "execution_count": null,
      "outputs": []
    },
    {
      "metadata": {
        "id": "X-jp-UOhqteq"
      },
      "cell_type": "markdown",
      "source": [
        "---\n",
        "> P-065: 商品データフレーム（df_product）の各商品について、利益率が30%となる新たな単価を求めよ。ただし、1円未満は切り捨てること。そして結果を10件表示させ、利益率がおよそ30％付近であることを確認せよ。ただし、単価（unit_price）と原価（unit_cost）にはNULLが存在することに注意せよ。"
      ]
    },
    {
      "metadata": {
        "trusted": false,
        "id": "NFPuQTPLqteq"
      },
      "cell_type": "code",
      "source": [
        ""
      ],
      "execution_count": null,
      "outputs": []
    },
    {
      "metadata": {
        "id": "s6s1pc3-qteq"
      },
      "cell_type": "markdown",
      "source": [
        "---\n",
        "> P-066: 商品データフレーム（df_product）の各商品について、利益率が30%となる新たな単価を求めよ。今回は、1円未満を四捨五入すること（0.5については偶数方向の丸めで良い）。そして結果を10件表示させ、利益率がおよそ30％付近であることを確認せよ。ただし、単価（unit_price）と原価（unit_cost）にはNULLが存在することに注意せよ。"
      ]
    },
    {
      "metadata": {
        "trusted": false,
        "id": "ahucRrN4qter"
      },
      "cell_type": "code",
      "source": [
        ""
      ],
      "execution_count": null,
      "outputs": []
    },
    {
      "metadata": {
        "id": "BQQOuKZVqter"
      },
      "cell_type": "markdown",
      "source": [
        "---\n",
        "> P-067: 商品データフレーム（df_product）の各商品について、利益率が30%となる新たな単価を求めよ。今回は、1円未満を切り上げること。そして結果を10件表示させ、利益率がおよそ30％付近であることを確認せよ。ただし、単価（unit_price）と原価（unit_cost）にはNULLが存在することに注意せよ。"
      ]
    },
    {
      "metadata": {
        "trusted": false,
        "id": "apuSQ9l6qter"
      },
      "cell_type": "code",
      "source": [
        ""
      ],
      "execution_count": null,
      "outputs": []
    },
    {
      "metadata": {
        "id": "4Ny0bYfeqter"
      },
      "cell_type": "markdown",
      "source": [
        "---\n",
        "> P-068: 商品データフレーム（df_product）の各商品について、消費税率10%の税込み金額を求めよ。 1円未満の端数は切り捨てとし、結果は10件表示すれば良い。ただし、単価（unit_price）にはNULLが存在することに注意せよ。"
      ]
    },
    {
      "metadata": {
        "trusted": false,
        "id": "0DxOnkfIqtes"
      },
      "cell_type": "code",
      "source": [
        ""
      ],
      "execution_count": null,
      "outputs": []
    },
    {
      "metadata": {
        "id": "WmMPmhWbqtes"
      },
      "cell_type": "markdown",
      "source": [
        "---\n",
        "> P-069: レシート明細データフレーム（df_receipt）と商品データフレーム（df_product）を結合し、顧客毎に全商品の売上金額合計と、カテゴリ大区分（category_major_cd）が\"07\"（瓶詰缶詰）の売上金額合計を計算の上、両者の比率を求めよ。抽出対象はカテゴリ大区分\"07\"（瓶詰缶詰）の購入実績がある顧客のみとし、結果は10件表示させればよい。"
      ]
    },
    {
      "metadata": {
        "trusted": false,
        "id": "4hmF919iqtet"
      },
      "cell_type": "code",
      "source": [
        ""
      ],
      "execution_count": null,
      "outputs": []
    },
    {
      "metadata": {
        "id": "RABuv_acqtet"
      },
      "cell_type": "markdown",
      "source": [
        "---\n",
        "> P-070: レシート明細データフレーム（df_receipt）の売上日（sales_ymd）に対し、顧客データフレーム（df_customer）の会員申込日（application_date）からの経過日数を計算し、顧客ID（customer_id）、売上日、会員申込日とともに表示せよ。結果は10件表示させれば良い（なお、sales_ymdは数値、application_dateは文字列でデータを保持している点に注意）。"
      ]
    },
    {
      "metadata": {
        "trusted": false,
        "id": "Gahm3kUeqteu"
      },
      "cell_type": "code",
      "source": [
        ""
      ],
      "execution_count": null,
      "outputs": []
    },
    {
      "metadata": {
        "id": "yfKST4wZqteu"
      },
      "cell_type": "markdown",
      "source": [
        "---\n",
        "> P-071: レシート明細データフレーム（df_receipt）の売上日（sales_ymd）に対し、顧客データフレーム（df_customer）の会員申込日（application_date）からの経過月数を計算し、顧客ID（customer_id）、売上日、会員申込日とともに表示せよ。結果は10件表示させれば良い（なお、sales_ymdは数値、application_dateは文字列でデータを保持している点に注意）。1ヶ月未満は切り捨てること。"
      ]
    },
    {
      "metadata": {
        "trusted": false,
        "id": "tgHXWIAPqteu"
      },
      "cell_type": "code",
      "source": [
        ""
      ],
      "execution_count": null,
      "outputs": []
    },
    {
      "metadata": {
        "id": "n56i9Pq-qtev"
      },
      "cell_type": "markdown",
      "source": [
        "---\n",
        "> P-072: レシート明細データフレーム（df_receipt）の売上日（sales_ymd）に対し、顧客データフレーム（df_customer）の会員申込日（application_date）からの経過年数を計算し、顧客ID（customer_id）、売上日、会員申込日とともに表示せよ。結果は10件表示させれば良い。（なお、sales_ymdは数値、application_dateは文字列でデータを保持している点に注意）。1年未満は切り捨てること。"
      ]
    },
    {
      "metadata": {
        "trusted": false,
        "id": "DudH42sEqtev"
      },
      "cell_type": "code",
      "source": [
        ""
      ],
      "execution_count": null,
      "outputs": []
    },
    {
      "metadata": {
        "id": "3DiS0JPjqtew"
      },
      "cell_type": "markdown",
      "source": [
        "---\n",
        "> P-073: レシート明細データフレーム（df_receipt）の売上日（sales_ymd）に対し、顧客データフレーム（df_customer）の会員申込日（application_date）からのエポック秒による経過時間を計算し、顧客ID（customer_id）、売上日、会員申込日とともに表示せよ。結果は10件表示させれば良い（なお、sales_ymdは数値、application_dateは文字列でデータを保持している点に注意）。なお、時間情報は保有していないため各日付は0時0分0秒を表すものとする。"
      ]
    },
    {
      "metadata": {
        "trusted": false,
        "id": "u-YbIRbYqtew"
      },
      "cell_type": "code",
      "source": [
        ""
      ],
      "execution_count": null,
      "outputs": []
    },
    {
      "metadata": {
        "id": "91btR-7Mqtew"
      },
      "cell_type": "markdown",
      "source": [
        "---\n",
        "> P-074: レシート明細データフレーム（df_receipt）の売上日（sales_ymd）に対し、当該週の月曜日からの経過日数を計算し、売上日、当該週の月曜日付とともに表示せよ。結果は10件表示させれば良い（なお、sales_ymdは数値でデータを保持している点に注意）。"
      ]
    },
    {
      "metadata": {
        "trusted": false,
        "id": "x61uwiwKqtex"
      },
      "cell_type": "code",
      "source": [
        ""
      ],
      "execution_count": null,
      "outputs": []
    },
    {
      "metadata": {
        "id": "M_BWDK0Gqtex"
      },
      "cell_type": "markdown",
      "source": [
        "---\n",
        "> P-075: 顧客データフレーム（df_customer）からランダムに1%のデータを抽出し、先頭から10件データを抽出せよ。"
      ]
    },
    {
      "metadata": {
        "trusted": false,
        "id": "CVxjDszqqtex"
      },
      "cell_type": "code",
      "source": [
        ""
      ],
      "execution_count": null,
      "outputs": []
    },
    {
      "metadata": {
        "id": "VPxe__vFqtey"
      },
      "cell_type": "markdown",
      "source": [
        "---\n",
        "> P-076: 顧客データフレーム（df_customer）から性別（gender_cd）の割合に基づきランダムに10%のデータを層化抽出データし、性別ごとに件数を集計せよ。"
      ]
    },
    {
      "metadata": {
        "trusted": false,
        "id": "9XZa2gYYqtey"
      },
      "cell_type": "code",
      "source": [
        ""
      ],
      "execution_count": null,
      "outputs": []
    },
    {
      "metadata": {
        "id": "zQglv58Rqtez"
      },
      "cell_type": "markdown",
      "source": [
        "---\n",
        "> P-077: レシート明細データフレーム（df_receipt）の売上金額（amount）を顧客単位に合計し、合計した売上金額の外れ値を抽出せよ。ただし、顧客IDが\"Z\"から始まるのものは非会員を表すため、除外して計算すること。なお、ここでは外れ値を平均から3σ以上離れたものとする。結果は10件表示させれば良い。"
      ]
    },
    {
      "metadata": {
        "trusted": false,
        "id": "_x5EFfY7qtez"
      },
      "cell_type": "code",
      "source": [
        ""
      ],
      "execution_count": null,
      "outputs": []
    },
    {
      "metadata": {
        "id": "3ZfnHfCNqte0"
      },
      "cell_type": "markdown",
      "source": [
        "---\n",
        "> P-078: レシート明細データフレーム（df_receipt）の売上金額（amount）を顧客単位に合計し、合計した売上金額の外れ値を抽出せよ。ただし、顧客IDが\"Z\"から始まるのものは非会員を表すため、除外して計算すること。なお、ここでは外れ値を第一四分位と第三四分位の差であるIQRを用いて、「第一四分位数-1.5×IQR」よりも下回るもの、または「第三四分位数+1.5×IQR」を超えるものとする。結果は10件表示させれば良い。"
      ]
    },
    {
      "metadata": {
        "trusted": false,
        "id": "B4L_wpHGqte0"
      },
      "cell_type": "code",
      "source": [
        ""
      ],
      "execution_count": null,
      "outputs": []
    },
    {
      "metadata": {
        "id": "lspXy8Acqte1"
      },
      "cell_type": "markdown",
      "source": [
        "---\n",
        "> P-079: 商品データフレーム（df_product）の各項目に対し、欠損数を確認せよ。"
      ]
    },
    {
      "metadata": {
        "trusted": false,
        "id": "s8zdoICEqte2"
      },
      "cell_type": "code",
      "source": [
        ""
      ],
      "execution_count": null,
      "outputs": []
    },
    {
      "metadata": {
        "id": "3tXrGcrQqte2"
      },
      "cell_type": "markdown",
      "source": [
        "---\n",
        "> P-080: 商品データフレーム（df_product）のいずれかの項目に欠損が発生しているレコードを全て削除した新たなdf_product_1を作成せよ。なお、削除前後の件数を表示させ、前設問で確認した件数だけ減少していることも確認すること。"
      ]
    },
    {
      "metadata": {
        "trusted": false,
        "id": "EE7Epzkzqte3"
      },
      "cell_type": "code",
      "source": [
        ""
      ],
      "execution_count": null,
      "outputs": []
    },
    {
      "metadata": {
        "id": "tmWpjd_Fqte3"
      },
      "cell_type": "markdown",
      "source": [
        "---\n",
        "> P-081: 単価（unit_price）と原価（unit_cost）の欠損値について、それぞれの平均値で補完した新たなdf_product_2を作成せよ。なお、平均値について1円未満は四捨五入とし、0.5については偶数寄せでかまわない。補完実施後、各項目について欠損が生じていないことも確認すること。"
      ]
    },
    {
      "metadata": {
        "trusted": false,
        "id": "FmgeDOPFqte4"
      },
      "cell_type": "code",
      "source": [
        ""
      ],
      "execution_count": null,
      "outputs": []
    },
    {
      "metadata": {
        "id": "LWw43VAbqte4"
      },
      "cell_type": "markdown",
      "source": [
        "---\n",
        "> P-082: 単価（unit_price）と原価（unit_cost）の欠損値について、それぞれの中央値で補完した新たなdf_product_3を作成せよ。なお、中央値について1円未満は四捨五入とし、0.5については偶数寄せでかまわない。補完実施後、各項目について欠損が生じていないことも確認すること。"
      ]
    },
    {
      "metadata": {
        "trusted": false,
        "id": "parBno9Bqte5"
      },
      "cell_type": "code",
      "source": [
        ""
      ],
      "execution_count": null,
      "outputs": []
    },
    {
      "metadata": {
        "id": "1Ea35OD7qte5"
      },
      "cell_type": "markdown",
      "source": [
        "---\n",
        "> P-083: 単価（unit_price）と原価（unit_cost）の欠損値について、各商品の小区分（category_small_cd）ごとに算出した中央値で補完した新たなdf_product_4を作成せよ。なお、中央値について1円未満は四捨五入とし、0.5については偶数寄せでかまわない。補完実施後、各項目について欠損が生じていないことも確認すること。"
      ]
    },
    {
      "metadata": {
        "trusted": false,
        "id": "Sn9F9SALqte5"
      },
      "cell_type": "code",
      "source": [
        ""
      ],
      "execution_count": null,
      "outputs": []
    },
    {
      "metadata": {
        "id": "Js37j8d3qte5"
      },
      "cell_type": "markdown",
      "source": [
        "---\n",
        "> P-084: 顧客データフレーム（df_customer）の全顧客に対し、全期間の売上金額に占める2019年売上金額の割合を計算せよ。ただし、販売実績のない場合は0として扱うこと。そして計算した割合が0超のものを抽出せよ。 結果は10件表示させれば良い。また、作成したデータにNAやNANが存在しないことを確認せよ。"
      ]
    },
    {
      "metadata": {
        "trusted": false,
        "id": "SoHVjGqqqte6"
      },
      "cell_type": "code",
      "source": [
        ""
      ],
      "execution_count": null,
      "outputs": []
    },
    {
      "metadata": {
        "id": "42VFdAeRqte6"
      },
      "cell_type": "markdown",
      "source": [
        "---\n",
        "> P-085: 顧客データフレーム（df_customer）の全顧客に対し、郵便番号（postal_cd）を用いて経度緯度変換用データフレーム（df_geocode）を紐付け、新たなdf_customer_1を作成せよ。ただし、複数紐づく場合は経度（longitude）、緯度（latitude）それぞれ平均を算出すること。\n"
      ]
    },
    {
      "metadata": {
        "trusted": false,
        "id": "pyyh0mUKqte6"
      },
      "cell_type": "code",
      "source": [
        ""
      ],
      "execution_count": null,
      "outputs": []
    },
    {
      "metadata": {
        "id": "e-KNq8rYqte6"
      },
      "cell_type": "markdown",
      "source": [
        "---\n",
        "> P-086: 前設問で作成した緯度経度つき顧客データフレーム（df_customer_1）に対し、申込み店舗コード（application_store_cd）をキーに店舗データフレーム（df_store）と結合せよ。そして申込み店舗の緯度（latitude）・経度情報（longitude)と顧客の緯度・経度を用いて距離（km）を求め、顧客ID（customer_id）、顧客住所（address）、店舗住所（address）とともに表示せよ。計算式は簡易式で良いものとするが、その他精度の高い方式を利用したライブラリを利用してもかまわない。結果は10件表示すれば良い。"
      ]
    },
    {
      "metadata": {
        "id": "FPLwBqOWqte7"
      },
      "cell_type": "markdown",
      "source": [
        "$$\n",
        "緯度（ラジアン）：\\phi \\\\\n",
        "経度（ラジアン）：\\lambda \\\\\n",
        "距離L = 6371 * arccos(sin \\phi_1 * sin \\phi_2\n",
        "+ cos \\phi_1 * cos \\phi_2 * cos(\\lambda_1 − \\lambda_2))\n",
        "$$"
      ]
    },
    {
      "metadata": {
        "trusted": false,
        "id": "OJbNxiWlqte7"
      },
      "cell_type": "code",
      "source": [
        ""
      ],
      "execution_count": null,
      "outputs": []
    },
    {
      "metadata": {
        "id": "NGucu7tvqte8"
      },
      "cell_type": "markdown",
      "source": [
        "---\n",
        "> P-087:  顧客データフレーム（df_customer）では、異なる店舗での申込みなどにより同一顧客が複数登録されている。名前（customer_name）と郵便番号（postal_cd）が同じ顧客は同一顧客とみなし、1顧客1レコードとなるように名寄せした名寄顧客データフレーム（df_customer_u）を作成せよ。ただし、同一顧客に対しては売上金額合計が最も高いものを残すものとし、売上金額合計が同一もしくは売上実績の無い顧客については顧客ID（customer_id）の番号が小さいものを残すこととする。"
      ]
    },
    {
      "metadata": {
        "trusted": false,
        "id": "0XIgpvUBqte9"
      },
      "cell_type": "code",
      "source": [
        ""
      ],
      "execution_count": null,
      "outputs": []
    },
    {
      "metadata": {
        "id": "nZ6-17SZqte9"
      },
      "cell_type": "markdown",
      "source": [
        "---\n",
        "> P-088: 前設問で作成したデータを元に、顧客データフレームに統合名寄IDを付与したデータフレーム（df_customer_n）を作成せよ。ただし、統合名寄IDは以下の仕様で付与するものとする。\n",
        ">\n",
        "> - 重複していない顧客：顧客ID（customer_id）を設定\n",
        "> - 重複している顧客：前設問で抽出したレコードの顧客IDを設定"
      ]
    },
    {
      "metadata": {
        "trusted": false,
        "id": "VhpVs5dCqte-"
      },
      "cell_type": "code",
      "source": [
        ""
      ],
      "execution_count": null,
      "outputs": []
    },
    {
      "metadata": {
        "id": "ZFmvdscXqte-"
      },
      "cell_type": "markdown",
      "source": [
        "---\n",
        "> P-閑話: df_customer_1, df_customer_nは使わないので削除する。"
      ]
    },
    {
      "metadata": {
        "trusted": false,
        "id": "b5XQ6_Tqqte-"
      },
      "cell_type": "code",
      "source": [
        ""
      ],
      "execution_count": null,
      "outputs": []
    },
    {
      "metadata": {
        "id": "wK6D2hqlqte_"
      },
      "cell_type": "markdown",
      "source": [
        "---\n",
        "> P-089: 売上実績のある顧客に対し、予測モデル構築のため学習用データとテスト用データに分割したい。それぞれ8:2の割合でランダムにデータを分割せよ。"
      ]
    },
    {
      "metadata": {
        "trusted": false,
        "id": "RMi0JBQOqte_"
      },
      "cell_type": "code",
      "source": [
        ""
      ],
      "execution_count": null,
      "outputs": []
    },
    {
      "metadata": {
        "id": "05lExKJVqte_"
      },
      "cell_type": "markdown",
      "source": [
        "---\n",
        "> P-090: レシート明細データフレーム（df_receipt）は2017年1月1日〜2019年10月31日までのデータを有している。売上金額（amount）を月次で集計し、学習用に12ヶ月、テスト用に6ヶ月のモデル構築用データを3セット作成せよ。"
      ]
    },
    {
      "metadata": {
        "trusted": false,
        "id": "bkCqyOHgqtfA"
      },
      "cell_type": "code",
      "source": [
        ""
      ],
      "execution_count": null,
      "outputs": []
    },
    {
      "metadata": {
        "id": "LwJDTXzJqtfA"
      },
      "cell_type": "markdown",
      "source": [
        "---\n",
        "> P-091: 顧客データフレーム（df_customer）の各顧客に対し、売上実績のある顧客数と売上実績のない顧客数が1:1となるようにアンダーサンプリングで抽出せよ。"
      ]
    },
    {
      "metadata": {
        "trusted": false,
        "id": "N85LuUwJqtfB"
      },
      "cell_type": "code",
      "source": [
        ""
      ],
      "execution_count": null,
      "outputs": []
    },
    {
      "metadata": {
        "id": "XCpUyrEVqtfB"
      },
      "cell_type": "markdown",
      "source": [
        "---\n",
        "> P-092: 顧客データフレーム（df_customer）では、性別に関する情報が非正規化の状態で保持されている。これを第三正規化せよ。"
      ]
    },
    {
      "metadata": {
        "trusted": false,
        "id": "toFBFWjJqtfB"
      },
      "cell_type": "code",
      "source": [
        ""
      ],
      "execution_count": null,
      "outputs": []
    },
    {
      "metadata": {
        "id": "_VacxhjQqtfB"
      },
      "cell_type": "markdown",
      "source": [
        "---\n",
        "> P-093: 商品データフレーム（df_product）では各カテゴリのコード値だけを保有し、カテゴリ名は保有していない。カテゴリデータフレーム（df_category）と組み合わせて非正規化し、カテゴリ名を保有した新たな商品データフレームを作成せよ。"
      ]
    },
    {
      "metadata": {
        "trusted": false,
        "id": "wfqq2cypqtfC"
      },
      "cell_type": "code",
      "source": [
        ""
      ],
      "execution_count": null,
      "outputs": []
    },
    {
      "metadata": {
        "id": "a9swqmJRqtfC"
      },
      "cell_type": "markdown",
      "source": [
        "---\n",
        "> P-094: 先に作成したカテゴリ名付き商品データを以下の仕様でファイル出力せよ。なお、出力先のパスはdata配下とする。\n",
        ">\n",
        "> - ファイル形式はCSV（カンマ区切り）\n",
        "> - ヘッダ有り\n",
        "> - 文字コードはUTF-8"
      ]
    },
    {
      "metadata": {
        "trusted": false,
        "id": "KhVGG-NTqtfD"
      },
      "cell_type": "code",
      "source": [
        ""
      ],
      "execution_count": null,
      "outputs": []
    },
    {
      "metadata": {
        "id": "LGfHWI-VqtfF"
      },
      "cell_type": "markdown",
      "source": [
        "---\n",
        "> P-095: 先に作成したカテゴリ名付き商品データを以下の仕様でファイル出力せよ。なお、出力先のパスはdata配下とする。\n",
        ">\n",
        "> - ファイル形式はCSV（カンマ区切り）\n",
        "> - ヘッダ有り\n",
        "> - 文字コードはCP932"
      ]
    },
    {
      "metadata": {
        "trusted": false,
        "id": "z6nrISmzqtfF"
      },
      "cell_type": "code",
      "source": [
        ""
      ],
      "execution_count": null,
      "outputs": []
    },
    {
      "metadata": {
        "id": "S_o-GvPMqtfF"
      },
      "cell_type": "markdown",
      "source": [
        "---\n",
        "> P-096: 先に作成したカテゴリ名付き商品データを以下の仕様でファイル出力せよ。なお、出力先のパスはdata配下とする。\n",
        ">\n",
        "> - ファイル形式はCSV（カンマ区切り）\n",
        "> - ヘッダ無し\n",
        "> - 文字コードはUTF-8"
      ]
    },
    {
      "metadata": {
        "trusted": false,
        "id": "dtbsDCWhqtfF"
      },
      "cell_type": "code",
      "source": [
        ""
      ],
      "execution_count": null,
      "outputs": []
    },
    {
      "metadata": {
        "id": "Gu9ns5wzqtfG"
      },
      "cell_type": "markdown",
      "source": [
        "---\n",
        "> P-097: 先に作成した以下形式のファイルを読み込み、データフレームを作成せよ。また、先頭10件を表示させ、正しくとりまれていることを確認せよ。\n",
        ">\n",
        "> - ファイル形式はCSV（カンマ区切り）\n",
        "> - ヘッダ有り\n",
        "> - 文字コードはUTF-8"
      ]
    },
    {
      "metadata": {
        "trusted": false,
        "id": "Uhthwmp9qtfH"
      },
      "cell_type": "code",
      "source": [
        ""
      ],
      "execution_count": null,
      "outputs": []
    },
    {
      "metadata": {
        "id": "LFW7NrqIqtfH"
      },
      "cell_type": "markdown",
      "source": [
        "---\n",
        "> P-098: 先に作成した以下形式のファイルを読み込み、データフレームを作成せよ。また、先頭10件を表示させ、正しくとりまれていることを確認せよ。\n",
        ">\n",
        "> - ファイル形式はCSV（カンマ区切り）\n",
        "> - ヘッダ無し\n",
        "> - 文字コードはUTF-8"
      ]
    },
    {
      "metadata": {
        "trusted": false,
        "id": "ALbIb2mFqtfH"
      },
      "cell_type": "code",
      "source": [
        ""
      ],
      "execution_count": null,
      "outputs": []
    },
    {
      "metadata": {
        "id": "4rISHI6YqtfH"
      },
      "cell_type": "markdown",
      "source": [
        "---\n",
        "> P-099: 先に作成したカテゴリ名付き商品データを以下の仕様でファイル出力せよ。なお、出力先のパスはdata配下とする。\n",
        ">\n",
        "> - ファイル形式はTSV（タブ区切り）\n",
        "> - ヘッダ有り\n",
        "> - 文字コードはUTF-8"
      ]
    },
    {
      "metadata": {
        "trusted": false,
        "id": "twqpIZVQqtfI"
      },
      "cell_type": "code",
      "source": [
        ""
      ],
      "execution_count": null,
      "outputs": []
    },
    {
      "metadata": {
        "id": "XN20E-zRqtfI"
      },
      "cell_type": "markdown",
      "source": [
        "---\n",
        "> P-100: 先に作成した以下形式のファイルを読み込み、データフレームを作成せよ。また、先頭10件を表示させ、正しくとりまれていることを確認せよ。\n",
        ">\n",
        "> - ファイル形式はTSV（タブ区切り）\n",
        "> - ヘッダ有り\n",
        "> - 文字コードはUTF-8"
      ]
    },
    {
      "metadata": {
        "trusted": false,
        "id": "Th0etSH2qtfI"
      },
      "cell_type": "code",
      "source": [
        ""
      ],
      "execution_count": null,
      "outputs": []
    },
    {
      "metadata": {
        "id": "NvFCDYeJqtfJ"
      },
      "cell_type": "markdown",
      "source": [
        "# これで１００本終わりです。おつかれさまでした！"
      ]
    }
  ],
  "metadata": {
    "kernelspec": {
      "name": "python36",
      "display_name": "Python 3.6",
      "language": "python"
    },
    "language_info": {
      "mimetype": "text/x-python",
      "nbconvert_exporter": "python",
      "name": "python",
      "pygments_lexer": "ipython3",
      "version": "3.6.6",
      "file_extension": ".py",
      "codemirror_mode": {
        "version": 3,
        "name": "ipython"
      }
    },
    "colab": {
      "name": "preprocess_knock_Python_Azure.ipynb",
      "provenance": []
    }
  },
  "nbformat": 4,
  "nbformat_minor": 0
}