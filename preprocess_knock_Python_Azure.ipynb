{
  "cells": [
    {
      "cell_type": "markdown",
      "metadata": {
        "id": "view-in-github",
        "colab_type": "text"
      },
      "source": [
        "<a href=\"https://colab.research.google.com/github/shige-ta/google_colab-test01/blob/main/preprocess_knock_Python_Azure.ipynb\" target=\"_parent\"><img src=\"https://colab.research.google.com/assets/colab-badge.svg\" alt=\"Open In Colab\"/></a>"
      ]
    },
    {
      "metadata": {
        "id": "kDpdXVvWqtdG"
      },
      "cell_type": "markdown",
      "source": [
        "# データサイエンス100本ノック（構造化データ加工編） - Python\n",
        "# for AzureNotebook"
      ]
    },
    {
      "metadata": {
        "id": "a-atpqs0qtdS"
      },
      "cell_type": "markdown",
      "source": [
        "## 【注意】オリジナル版との変更点\n",
        "1. Azure Notebook ではDockerを使えないので、2020.06.18時点の 100knocks-preprocess/docker/work/data にあるCSVファイルをPostgreSQLから入手する代わりに使います。\n",
        "2. オリジナルのCSVデータ, geocode.csvの'latitude'列名の初めにスペースが入っていたため、それを削除しました。\n",
        "\n",
        "   オリジナル(100knocks-preprocess ver.1.0): ' latitude' --> 'latitude'\n",
        "   \n",
        "\n",
        "4. オリジナルの解答を元に、必要のないlibraryはimportせず、そして必要なlibraryをAzureNotebookでインストールするように最初のセルを改変してあります。\n",
        "5. また、SQLではなく上記CSVからデータを読み込むように'はじめに'の最初のセルを改変してあります。"
      ]
    },
    {
      "metadata": {
        "id": "NWF0usE8qtdX"
      },
      "cell_type": "markdown",
      "source": [
        "## 【Azure Notebook】動かす前に\n",
        "1. 本100本ノックの解答例スクリプトはPython3.6で動作検証し、それを元にLibraryの選定を行っております。メニュ-->Kernel-->Change Kernelから、Python 3.6を選んでください。Python3ではLibraryをインストールする際にエラーが発生します。"
      ]
    },
    {
      "metadata": {
        "id": "Q7f1hnuSqtdb"
      },
      "cell_type": "markdown",
      "source": [
        "## はじめに\n",
        "- 初めに以下のセルを実行してください\n",
        "- 必要なライブラリのインポートと~~データベース（PostgreSQL）~~ 100knocks-preprocess/docker/work/data にあるCSVファイルからのデータ読み込みを行います。geocode.csvに変更を加えたため、またgit cloneをするとAzure Notebooksの簡便さを損なうため、筆者(noguhiro2002)のgithubレポジトリから直接読み込みます。\n",
        "- pandas等、利用が想定されるライブラリは以下セルでインポートしています\n",
        "- その他利用したいライブラリがあれば適宜インストールしてください（\"!pip install ライブラリ名\"でインストールも可能)\n",
        "- オリジナルの解答例を元に、必要なライブラリーをpipでインストールします。\n",
        "- 処理は複数回に分けても構いません\n",
        "- 名前、住所等はダミーデータであり、実在するものではありません"
      ]
    },
    {
      "metadata": {
        "trusted": true,
        "id": "GkGtv6Ahqtdl",
        "outputId": "13587994-8c80-48b8-d425-c1c0ddee68d4",
        "colab": {
          "base_uri": "https://localhost:8080/"
        }
      },
      "cell_type": "code",
      "source": [
        "# pipでオリジナルの解答に必要なライブラリーをインストール\n",
        "!pip install --upgrade pip\n",
        "!pip install -U pandas numpy scikit-learn imbalanced-learn\n",
        "\n",
        "# pipでオリジナルの解答に必要なライブラリーをインポート\n",
        "import os\n",
        "import pandas as pd\n",
        "import numpy as np\n",
        "from datetime import datetime, date\n",
        "from dateutil.relativedelta import relativedelta\n",
        "import math\n",
        "from sklearn import preprocessing\n",
        "from sklearn.model_selection import train_test_split\n",
        "from imblearn.under_sampling import RandomUnderSampler\n",
        "\n",
        "\n",
        "# データを github/noguhiro2002/100knocks-preprocess/work/data フォルダよりDataframe形式でRead\n",
        "df_customer = pd.read_csv('https://raw.githubusercontent.com/The-Japan-DataScientist-Society/100knocks-preprocess/master/docker/work/data/customer.csv')\n",
        "df_category = pd.read_csv('https://raw.githubusercontent.com/The-Japan-DataScientist-Society/100knocks-preprocess/master/docker/work/data/category.csv')\n",
        "df_product = pd.read_csv('https://raw.githubusercontent.com/The-Japan-DataScientist-Society/100knocks-preprocess/master/docker/work/data/product.csv')\n",
        "df_receipt = pd.read_csv('https://raw.githubusercontent.com/The-Japan-DataScientist-Society/100knocks-preprocess/master/docker/work/data/receipt.csv')\n",
        "df_store = pd.read_csv('https://raw.githubusercontent.com/The-Japan-DataScientist-Society/100knocks-preprocess/master/docker/work/data/store.csv')\n",
        "df_geocode = pd.read_csv('https://raw.githubusercontent.com/noguhiro2002/100knocks-preprocess_ForColab-AzureNotebook/master/data/geocode.csv')"
      ],
      "execution_count": 1,
      "outputs": [
        {
          "output_type": "stream",
          "name": "stdout",
          "text": [
            "Requirement already satisfied: pip in /usr/local/lib/python3.7/dist-packages (21.3.1)\n",
            "\u001b[33mWARNING: Running pip as the 'root' user can result in broken permissions and conflicting behaviour with the system package manager. It is recommended to use a virtual environment instead: https://pip.pypa.io/warnings/venv\u001b[0m\n",
            "Requirement already satisfied: pandas in /usr/local/lib/python3.7/dist-packages (1.3.5)\n",
            "Requirement already satisfied: numpy in /usr/local/lib/python3.7/dist-packages (1.21.5)\n",
            "Requirement already satisfied: scikit-learn in /usr/local/lib/python3.7/dist-packages (1.0.2)\n",
            "Requirement already satisfied: imbalanced-learn in /usr/local/lib/python3.7/dist-packages (0.9.0)\n",
            "Requirement already satisfied: pytz>=2017.3 in /usr/local/lib/python3.7/dist-packages (from pandas) (2018.9)\n",
            "Requirement already satisfied: python-dateutil>=2.7.3 in /usr/local/lib/python3.7/dist-packages (from pandas) (2.8.2)\n",
            "Requirement already satisfied: joblib>=0.11 in /usr/local/lib/python3.7/dist-packages (from scikit-learn) (1.1.0)\n",
            "Requirement already satisfied: scipy>=1.1.0 in /usr/local/lib/python3.7/dist-packages (from scikit-learn) (1.4.1)\n",
            "Requirement already satisfied: threadpoolctl>=2.0.0 in /usr/local/lib/python3.7/dist-packages (from scikit-learn) (3.0.0)\n",
            "Requirement already satisfied: six>=1.5 in /usr/local/lib/python3.7/dist-packages (from python-dateutil>=2.7.3->pandas) (1.15.0)\n",
            "\u001b[33mWARNING: Running pip as the 'root' user can result in broken permissions and conflicting behaviour with the system package manager. It is recommended to use a virtual environment instead: https://pip.pypa.io/warnings/venv\u001b[0m\n"
          ]
        },
        {
          "output_type": "stream",
          "name": "stderr",
          "text": [
            "/usr/local/lib/python3.7/dist-packages/IPython/core/interactiveshell.py:2882: DtypeWarning: Columns (4) have mixed types.Specify dtype option on import or set low_memory=False.\n",
            "  exec(code_obj, self.user_global_ns, self.user_ns)\n"
          ]
        }
      ]
    },
    {
      "metadata": {
        "id": "tiIxXeJNqtdr"
      },
      "cell_type": "markdown",
      "source": [
        "# 演習問題"
      ]
    },
    {
      "metadata": {
        "id": "65Zm4biRqtdw"
      },
      "cell_type": "markdown",
      "source": [
        "---\n",
        "> P-001: レシート明細のデータフレーム（df_receipt）から全項目の先頭10件を表示し、どのようなデータを保有しているか目視で確認せよ。"
      ]
    },
    {
      "metadata": {
        "trusted": false,
        "id": "2xFWZ7x6qtdy",
        "outputId": "343be4c8-df80-495c-f114-2d5defeba1be",
        "colab": {
          "base_uri": "https://localhost:8080/"
        }
      },
      "cell_type": "code",
      "source": [
        "df_receipt_head = df_receipt.head(10)\n",
        "print(df_receipt_head)"
      ],
      "execution_count": 2,
      "outputs": [
        {
          "output_type": "stream",
          "name": "stdout",
          "text": [
            "   sales_ymd  sales_epoch store_cd  ...  product_cd  quantity amount\n",
            "0   20181103   1541203200   S14006  ...  P070305012         1    158\n",
            "1   20181118   1542499200   S13008  ...  P070701017         1     81\n",
            "2   20170712   1499817600   S14028  ...  P060101005         1    170\n",
            "3   20190205   1549324800   S14042  ...  P050301001         1     25\n",
            "4   20180821   1534809600   S14025  ...  P060102007         1     90\n",
            "5   20190605   1559692800   S13003  ...  P050102002         1    138\n",
            "6   20181205   1543968000   S14024  ...  P080101005         1     30\n",
            "7   20190922   1569110400   S14040  ...  P070501004         1    128\n",
            "8   20170504   1493856000   S13020  ...  P071302010         1    770\n",
            "9   20191010   1570665600   S14027  ...  P071101003         1    680\n",
            "\n",
            "[10 rows x 9 columns]\n"
          ]
        }
      ]
    },
    {
      "metadata": {
        "id": "YFZ1Tzcpqtdz"
      },
      "cell_type": "markdown",
      "source": [
        "---\n",
        "> P-002: レシート明細のデータフレーム（df_receipt）から売上日（sales_ymd）、顧客ID（customer_id）、商品コード（product_cd）、売上金額（amount）の順に列を指定し、10件表示させよ。"
      ]
    },
    {
      "metadata": {
        "trusted": false,
        "id": "Q0v3TKAbqtd1",
        "outputId": "8921bf00-db1f-47a3-ceca-3756b3185fad",
        "colab": {
          "base_uri": "https://localhost:8080/"
        }
      },
      "cell_type": "code",
      "source": [
        "print(df_receipt[['sales_ymd','customer_id', 'product_cd','amount']].head(10))\n"
      ],
      "execution_count": 3,
      "outputs": [
        {
          "output_type": "stream",
          "name": "stdout",
          "text": [
            "   sales_ymd     customer_id  product_cd  amount\n",
            "0   20181103  CS006214000001  P070305012     158\n",
            "1   20181118  CS008415000097  P070701017      81\n",
            "2   20170712  CS028414000014  P060101005     170\n",
            "3   20190205  ZZ000000000000  P050301001      25\n",
            "4   20180821  CS025415000050  P060102007      90\n",
            "5   20190605  CS003515000195  P050102002     138\n",
            "6   20181205  CS024514000042  P080101005      30\n",
            "7   20190922  CS040415000178  P070501004     128\n",
            "8   20170504  ZZ000000000000  P071302010     770\n",
            "9   20191010  CS027514000015  P071101003     680\n"
          ]
        }
      ]
    },
    {
      "metadata": {
        "id": "ybA3e2Prqtd2"
      },
      "cell_type": "markdown",
      "source": [
        "---\n",
        "> P-003: レシート明細のデータフレーム（df_receipt）から売上日（sales_ymd）、顧客ID（customer_id）、商品コード（product_cd）、売上金額（amount）の順に列を指定し、10件表示させよ。ただし、sales_ymdはsales_dateに項目名を変更しながら抽出すること。"
      ]
    },
    {
      "metadata": {
        "trusted": false,
        "id": "DMnKQSxBqtd3",
        "outputId": "9b78ab5b-9529-4f11-81ca-532c0a168fa9",
        "colab": {
          "base_uri": "https://localhost:8080/"
        }
      },
      "cell_type": "code",
      "source": [
        "df_receipt_rename = df_receipt.rename(columns={'sales_ymd': 'sales_date'})\n",
        "print(df_receipt_rename[['sales_date','customer_id','product_cd','amount']].head(10))"
      ],
      "execution_count": 4,
      "outputs": [
        {
          "output_type": "stream",
          "name": "stdout",
          "text": [
            "   sales_date     customer_id  product_cd  amount\n",
            "0    20181103  CS006214000001  P070305012     158\n",
            "1    20181118  CS008415000097  P070701017      81\n",
            "2    20170712  CS028414000014  P060101005     170\n",
            "3    20190205  ZZ000000000000  P050301001      25\n",
            "4    20180821  CS025415000050  P060102007      90\n",
            "5    20190605  CS003515000195  P050102002     138\n",
            "6    20181205  CS024514000042  P080101005      30\n",
            "7    20190922  CS040415000178  P070501004     128\n",
            "8    20170504  ZZ000000000000  P071302010     770\n",
            "9    20191010  CS027514000015  P071101003     680\n"
          ]
        }
      ]
    },
    {
      "metadata": {
        "id": "yg93FXfEqtd4"
      },
      "cell_type": "markdown",
      "source": [
        "---\n",
        "> P-004: レシート明細のデータフレーム（df_receipt）から売上日（sales_ymd）、顧客ID（customer_id）、商品コード（product_cd）、売上金額（amount）の順に列を指定し、以下の条件を満たすデータを抽出せよ。\n",
        "> - 顧客ID（customer_id）が\"CS018205000001\""
      ]
    },
    {
      "metadata": {
        "trusted": false,
        "id": "1UvXdDPMqtd4",
        "outputId": "561914ad-6923-4958-8613-34ab710c7330",
        "colab": {
          "base_uri": "https://localhost:8080/"
        }
      },
      "cell_type": "code",
      "source": [
        "CS = df_receipt[df_receipt['customer_id'].isin(['CS018205000001'])]\n",
        "print(CS[['sales_ymd', 'customer_id','product_cd', 'amount']])"
      ],
      "execution_count": 5,
      "outputs": [
        {
          "output_type": "stream",
          "name": "stdout",
          "text": [
            "       sales_ymd     customer_id  product_cd  amount\n",
            "36      20180911  CS018205000001  P071401012    2200\n",
            "9843    20180414  CS018205000001  P060104007     600\n",
            "21110   20170614  CS018205000001  P050206001     990\n",
            "27673   20170614  CS018205000001  P060702015     108\n",
            "27840   20190216  CS018205000001  P071005024     102\n",
            "28757   20180414  CS018205000001  P071101002     278\n",
            "39256   20190226  CS018205000001  P070902035     168\n",
            "58121   20190924  CS018205000001  P060805001     495\n",
            "68117   20190226  CS018205000001  P071401020    2200\n",
            "72254   20180911  CS018205000001  P071401005    1100\n",
            "88508   20190216  CS018205000001  P040101002     218\n",
            "91525   20190924  CS018205000001  P091503001     280\n"
          ]
        }
      ]
    },
    {
      "metadata": {
        "id": "0hbScAWDqtd5"
      },
      "cell_type": "markdown",
      "source": [
        "---\n",
        "> P-005: レシート明細のデータフレーム（df_receipt）から売上日（sales_ymd）、顧客ID（customer_id）、商品コード（product_cd）、売上金額（amount）の順に列を指定し、以下の条件を満たすデータを抽出せよ。\n",
        "> - 顧客ID（customer_id）が\"CS018205000001\"\n",
        "> - 売上金額（amount）が1,000以上"
      ]
    },
    {
      "cell_type": "code",
      "source": [
        "!pip install numexpr --upgrade"
      ],
      "metadata": {
        "id": "42oAPhwkGGML",
        "outputId": "d734fe4f-3e4b-4b30-8a42-d105c1978b7e",
        "colab": {
          "base_uri": "https://localhost:8080/"
        }
      },
      "execution_count": 6,
      "outputs": [
        {
          "output_type": "stream",
          "name": "stdout",
          "text": [
            "Requirement already satisfied: numexpr in /usr/local/lib/python3.7/dist-packages (2.8.1)\n",
            "Requirement already satisfied: numpy>=1.13.3 in /usr/local/lib/python3.7/dist-packages (from numexpr) (1.21.5)\n",
            "Requirement already satisfied: packaging in /usr/local/lib/python3.7/dist-packages (from numexpr) (21.3)\n",
            "Requirement already satisfied: pyparsing!=3.0.5,>=2.0.2 in /usr/local/lib/python3.7/dist-packages (from packaging->numexpr) (3.0.6)\n",
            "\u001b[33mWARNING: Running pip as the 'root' user can result in broken permissions and conflicting behaviour with the system package manager. It is recommended to use a virtual environment instead: https://pip.pypa.io/warnings/venv\u001b[0m\n"
          ]
        }
      ]
    },
    {
      "cell_type": "code",
      "source": [
        "!pip install pandas --upgrade"
      ],
      "metadata": {
        "id": "DeuV3-1EJpqp",
        "outputId": "d8879724-a600-485d-e49d-36f9e77afd5b",
        "colab": {
          "base_uri": "https://localhost:8080/"
        }
      },
      "execution_count": 7,
      "outputs": [
        {
          "output_type": "stream",
          "name": "stdout",
          "text": [
            "Requirement already satisfied: pandas in /usr/local/lib/python3.7/dist-packages (1.3.5)\n",
            "Requirement already satisfied: python-dateutil>=2.7.3 in /usr/local/lib/python3.7/dist-packages (from pandas) (2.8.2)\n",
            "Requirement already satisfied: numpy>=1.17.3 in /usr/local/lib/python3.7/dist-packages (from pandas) (1.21.5)\n",
            "Requirement already satisfied: pytz>=2017.3 in /usr/local/lib/python3.7/dist-packages (from pandas) (2018.9)\n",
            "Requirement already satisfied: six>=1.5 in /usr/local/lib/python3.7/dist-packages (from python-dateutil>=2.7.3->pandas) (1.15.0)\n",
            "\u001b[33mWARNING: Running pip as the 'root' user can result in broken permissions and conflicting behaviour with the system package manager. It is recommended to use a virtual environment instead: https://pip.pypa.io/warnings/venv\u001b[0m\n"
          ]
        }
      ]
    },
    {
      "metadata": {
        "trusted": false,
        "id": "LJBvtkMMqtd6",
        "outputId": "6bb9ae49-bcd4-408f-f557-6b82bca0451f",
        "colab": {
          "base_uri": "https://localhost:8080/"
        }
      },
      "cell_type": "code",
      "source": [
        "amount_1000_over = df_receipt.query(\"customer_id == 'CS018205000001' & amount >= 1000\")\n",
        "# amount_1000_over = df_receipt[(df_receipt[\"customer_id\"]=='CS018205000001') &(df_receipt[\"amount\"]>=1000)]\n",
        "print(amount_1000_over)"
      ],
      "execution_count": 8,
      "outputs": [
        {
          "output_type": "stream",
          "name": "stdout",
          "text": [
            "       sales_ymd  sales_epoch store_cd  ...  product_cd  quantity amount\n",
            "36      20180911   1536624000   S13018  ...  P071401012         1   2200\n",
            "68117   20190226   1551139200   S13018  ...  P071401020         1   2200\n",
            "72254   20180911   1536624000   S13018  ...  P071401005         1   1100\n",
            "\n",
            "[3 rows x 9 columns]\n"
          ]
        }
      ]
    },
    {
      "metadata": {
        "id": "YBq-fia8qtd6"
      },
      "cell_type": "markdown",
      "source": [
        "---\n",
        "> P-006: レシート明細データフレーム「df_receipt」から売上日（sales_ymd）、顧客ID（customer_id）、商品コード（product_cd）、売上数量（quantity）、売上金額（amount）の順に列を指定し、以下の条件を満たすデータを抽出せよ。\n",
        "> - 顧客ID（customer_id）が\"CS018205000001\"\n",
        "> - 売上金額（amount）が1,000以上または売上数量（quantity）が5以上"
      ]
    },
    {
      "metadata": {
        "trusted": false,
        "id": "yH8GaveQqtd8",
        "outputId": "ac459fd9-c1a3-4cbb-895f-f450f31c868f",
        "colab": {
          "base_uri": "https://localhost:8080/"
        }
      },
      "cell_type": "code",
      "source": [
        "df_006 = df_receipt.query(\"customer_id == 'CS018205000001' & (amount >= 1000 | quantity >= 5)\")\n",
        "print(df_006[['sales_ymd', 'customer_id', 'product_cd', 'quantity', 'amount']])"
      ],
      "execution_count": 9,
      "outputs": [
        {
          "output_type": "stream",
          "name": "stdout",
          "text": [
            "       sales_ymd     customer_id  product_cd  quantity  amount\n",
            "36      20180911  CS018205000001  P071401012         1    2200\n",
            "9843    20180414  CS018205000001  P060104007         6     600\n",
            "21110   20170614  CS018205000001  P050206001         5     990\n",
            "68117   20190226  CS018205000001  P071401020         1    2200\n",
            "72254   20180911  CS018205000001  P071401005         1    1100\n"
          ]
        }
      ]
    },
    {
      "metadata": {
        "id": "axp4nQdpqtd9"
      },
      "cell_type": "markdown",
      "source": [
        "---\n",
        "> P-007: レシート明細のデータフレーム（df_receipt）から売上日（sales_ymd）、顧客ID（customer_id）、商品コード（product_cd）、売上金額（amount）の順に列を指定し、以下の条件を満たすデータを抽出せよ。\n",
        "> - 顧客ID（customer_id）が\"CS018205000001\"\n",
        "> - 売上金額（amount）が1,000以上2,000以下"
      ]
    },
    {
      "metadata": {
        "trusted": false,
        "id": "u8IrTCfMqtd-",
        "outputId": "70348476-a881-444b-ba50-4b32493164b0",
        "colab": {
          "base_uri": "https://localhost:8080/",
          "height": 81
        }
      },
      "cell_type": "code",
      "source": [
        "df_007 = df_receipt.query(\"customer_id == 'CS018205000001' & (amount >= 1000 & amount <= 2000)\")\n",
        "df_007[['sales_ymd', 'customer_id', 'product_cd', 'amount']]"
      ],
      "execution_count": 10,
      "outputs": [
        {
          "output_type": "execute_result",
          "data": {
            "text/html": [
              "\n",
              "  <div id=\"df-49841020-085f-4b6f-826d-1298780c5a06\">\n",
              "    <div class=\"colab-df-container\">\n",
              "      <div>\n",
              "<style scoped>\n",
              "    .dataframe tbody tr th:only-of-type {\n",
              "        vertical-align: middle;\n",
              "    }\n",
              "\n",
              "    .dataframe tbody tr th {\n",
              "        vertical-align: top;\n",
              "    }\n",
              "\n",
              "    .dataframe thead th {\n",
              "        text-align: right;\n",
              "    }\n",
              "</style>\n",
              "<table border=\"1\" class=\"dataframe\">\n",
              "  <thead>\n",
              "    <tr style=\"text-align: right;\">\n",
              "      <th></th>\n",
              "      <th>sales_ymd</th>\n",
              "      <th>customer_id</th>\n",
              "      <th>product_cd</th>\n",
              "      <th>amount</th>\n",
              "    </tr>\n",
              "  </thead>\n",
              "  <tbody>\n",
              "    <tr>\n",
              "      <th>72254</th>\n",
              "      <td>20180911</td>\n",
              "      <td>CS018205000001</td>\n",
              "      <td>P071401005</td>\n",
              "      <td>1100</td>\n",
              "    </tr>\n",
              "  </tbody>\n",
              "</table>\n",
              "</div>\n",
              "      <button class=\"colab-df-convert\" onclick=\"convertToInteractive('df-49841020-085f-4b6f-826d-1298780c5a06')\"\n",
              "              title=\"Convert this dataframe to an interactive table.\"\n",
              "              style=\"display:none;\">\n",
              "        \n",
              "  <svg xmlns=\"http://www.w3.org/2000/svg\" height=\"24px\"viewBox=\"0 0 24 24\"\n",
              "       width=\"24px\">\n",
              "    <path d=\"M0 0h24v24H0V0z\" fill=\"none\"/>\n",
              "    <path d=\"M18.56 5.44l.94 2.06.94-2.06 2.06-.94-2.06-.94-.94-2.06-.94 2.06-2.06.94zm-11 1L8.5 8.5l.94-2.06 2.06-.94-2.06-.94L8.5 2.5l-.94 2.06-2.06.94zm10 10l.94 2.06.94-2.06 2.06-.94-2.06-.94-.94-2.06-.94 2.06-2.06.94z\"/><path d=\"M17.41 7.96l-1.37-1.37c-.4-.4-.92-.59-1.43-.59-.52 0-1.04.2-1.43.59L10.3 9.45l-7.72 7.72c-.78.78-.78 2.05 0 2.83L4 21.41c.39.39.9.59 1.41.59.51 0 1.02-.2 1.41-.59l7.78-7.78 2.81-2.81c.8-.78.8-2.07 0-2.86zM5.41 20L4 18.59l7.72-7.72 1.47 1.35L5.41 20z\"/>\n",
              "  </svg>\n",
              "      </button>\n",
              "      \n",
              "  <style>\n",
              "    .colab-df-container {\n",
              "      display:flex;\n",
              "      flex-wrap:wrap;\n",
              "      gap: 12px;\n",
              "    }\n",
              "\n",
              "    .colab-df-convert {\n",
              "      background-color: #E8F0FE;\n",
              "      border: none;\n",
              "      border-radius: 50%;\n",
              "      cursor: pointer;\n",
              "      display: none;\n",
              "      fill: #1967D2;\n",
              "      height: 32px;\n",
              "      padding: 0 0 0 0;\n",
              "      width: 32px;\n",
              "    }\n",
              "\n",
              "    .colab-df-convert:hover {\n",
              "      background-color: #E2EBFA;\n",
              "      box-shadow: 0px 1px 2px rgba(60, 64, 67, 0.3), 0px 1px 3px 1px rgba(60, 64, 67, 0.15);\n",
              "      fill: #174EA6;\n",
              "    }\n",
              "\n",
              "    [theme=dark] .colab-df-convert {\n",
              "      background-color: #3B4455;\n",
              "      fill: #D2E3FC;\n",
              "    }\n",
              "\n",
              "    [theme=dark] .colab-df-convert:hover {\n",
              "      background-color: #434B5C;\n",
              "      box-shadow: 0px 1px 3px 1px rgba(0, 0, 0, 0.15);\n",
              "      filter: drop-shadow(0px 1px 2px rgba(0, 0, 0, 0.3));\n",
              "      fill: #FFFFFF;\n",
              "    }\n",
              "  </style>\n",
              "\n",
              "      <script>\n",
              "        const buttonEl =\n",
              "          document.querySelector('#df-49841020-085f-4b6f-826d-1298780c5a06 button.colab-df-convert');\n",
              "        buttonEl.style.display =\n",
              "          google.colab.kernel.accessAllowed ? 'block' : 'none';\n",
              "\n",
              "        async function convertToInteractive(key) {\n",
              "          const element = document.querySelector('#df-49841020-085f-4b6f-826d-1298780c5a06');\n",
              "          const dataTable =\n",
              "            await google.colab.kernel.invokeFunction('convertToInteractive',\n",
              "                                                     [key], {});\n",
              "          if (!dataTable) return;\n",
              "\n",
              "          const docLinkHtml = 'Like what you see? Visit the ' +\n",
              "            '<a target=\"_blank\" href=https://colab.research.google.com/notebooks/data_table.ipynb>data table notebook</a>'\n",
              "            + ' to learn more about interactive tables.';\n",
              "          element.innerHTML = '';\n",
              "          dataTable['output_type'] = 'display_data';\n",
              "          await google.colab.output.renderOutput(dataTable, element);\n",
              "          const docLink = document.createElement('div');\n",
              "          docLink.innerHTML = docLinkHtml;\n",
              "          element.appendChild(docLink);\n",
              "        }\n",
              "      </script>\n",
              "    </div>\n",
              "  </div>\n",
              "  "
            ],
            "text/plain": [
              "       sales_ymd     customer_id  product_cd  amount\n",
              "72254   20180911  CS018205000001  P071401005    1100"
            ]
          },
          "metadata": {},
          "execution_count": 10
        }
      ]
    },
    {
      "metadata": {
        "id": "7fA6KDC3qtd_"
      },
      "cell_type": "markdown",
      "source": [
        "---\n",
        "> P-008: レシート明細のデータフレーム（df_receipt）から売上日（sales_ymd）、顧客ID（customer_id）、商品コード（product_cd）、売上金額（amount）の順に列を指定し、以下の条件を満たすデータを抽出せよ。\n",
        "> - 顧客ID（customer_id）が\"CS018205000001\"\n",
        "> - 商品コード（product_cd）が\"P071401019\"以外"
      ]
    },
    {
      "metadata": {
        "trusted": false,
        "id": "WRdNZ8UQqtd_",
        "outputId": "2d2481ba-3f7c-4df5-dcd3-608c04b43c50",
        "colab": {
          "base_uri": "https://localhost:8080/",
          "height": 426
        }
      },
      "cell_type": "code",
      "source": [
        "df_008 = df_receipt.query(\"customer_id == 'CS018205000001' & product_cd != 'P071401019'\")\n",
        "df_008[['sales_ymd', 'customer_id', 'product_cd', 'amount']]\n",
        "# df_receipt.query(\"amount > 1\")\n",
        "# df_receipt[df_receipt['amount']]"
      ],
      "execution_count": 11,
      "outputs": [
        {
          "output_type": "execute_result",
          "data": {
            "text/html": [
              "\n",
              "  <div id=\"df-e2f011a6-078c-48f4-91fb-82680c966883\">\n",
              "    <div class=\"colab-df-container\">\n",
              "      <div>\n",
              "<style scoped>\n",
              "    .dataframe tbody tr th:only-of-type {\n",
              "        vertical-align: middle;\n",
              "    }\n",
              "\n",
              "    .dataframe tbody tr th {\n",
              "        vertical-align: top;\n",
              "    }\n",
              "\n",
              "    .dataframe thead th {\n",
              "        text-align: right;\n",
              "    }\n",
              "</style>\n",
              "<table border=\"1\" class=\"dataframe\">\n",
              "  <thead>\n",
              "    <tr style=\"text-align: right;\">\n",
              "      <th></th>\n",
              "      <th>sales_ymd</th>\n",
              "      <th>customer_id</th>\n",
              "      <th>product_cd</th>\n",
              "      <th>amount</th>\n",
              "    </tr>\n",
              "  </thead>\n",
              "  <tbody>\n",
              "    <tr>\n",
              "      <th>36</th>\n",
              "      <td>20180911</td>\n",
              "      <td>CS018205000001</td>\n",
              "      <td>P071401012</td>\n",
              "      <td>2200</td>\n",
              "    </tr>\n",
              "    <tr>\n",
              "      <th>9843</th>\n",
              "      <td>20180414</td>\n",
              "      <td>CS018205000001</td>\n",
              "      <td>P060104007</td>\n",
              "      <td>600</td>\n",
              "    </tr>\n",
              "    <tr>\n",
              "      <th>21110</th>\n",
              "      <td>20170614</td>\n",
              "      <td>CS018205000001</td>\n",
              "      <td>P050206001</td>\n",
              "      <td>990</td>\n",
              "    </tr>\n",
              "    <tr>\n",
              "      <th>27673</th>\n",
              "      <td>20170614</td>\n",
              "      <td>CS018205000001</td>\n",
              "      <td>P060702015</td>\n",
              "      <td>108</td>\n",
              "    </tr>\n",
              "    <tr>\n",
              "      <th>27840</th>\n",
              "      <td>20190216</td>\n",
              "      <td>CS018205000001</td>\n",
              "      <td>P071005024</td>\n",
              "      <td>102</td>\n",
              "    </tr>\n",
              "    <tr>\n",
              "      <th>28757</th>\n",
              "      <td>20180414</td>\n",
              "      <td>CS018205000001</td>\n",
              "      <td>P071101002</td>\n",
              "      <td>278</td>\n",
              "    </tr>\n",
              "    <tr>\n",
              "      <th>39256</th>\n",
              "      <td>20190226</td>\n",
              "      <td>CS018205000001</td>\n",
              "      <td>P070902035</td>\n",
              "      <td>168</td>\n",
              "    </tr>\n",
              "    <tr>\n",
              "      <th>58121</th>\n",
              "      <td>20190924</td>\n",
              "      <td>CS018205000001</td>\n",
              "      <td>P060805001</td>\n",
              "      <td>495</td>\n",
              "    </tr>\n",
              "    <tr>\n",
              "      <th>68117</th>\n",
              "      <td>20190226</td>\n",
              "      <td>CS018205000001</td>\n",
              "      <td>P071401020</td>\n",
              "      <td>2200</td>\n",
              "    </tr>\n",
              "    <tr>\n",
              "      <th>72254</th>\n",
              "      <td>20180911</td>\n",
              "      <td>CS018205000001</td>\n",
              "      <td>P071401005</td>\n",
              "      <td>1100</td>\n",
              "    </tr>\n",
              "    <tr>\n",
              "      <th>88508</th>\n",
              "      <td>20190216</td>\n",
              "      <td>CS018205000001</td>\n",
              "      <td>P040101002</td>\n",
              "      <td>218</td>\n",
              "    </tr>\n",
              "    <tr>\n",
              "      <th>91525</th>\n",
              "      <td>20190924</td>\n",
              "      <td>CS018205000001</td>\n",
              "      <td>P091503001</td>\n",
              "      <td>280</td>\n",
              "    </tr>\n",
              "  </tbody>\n",
              "</table>\n",
              "</div>\n",
              "      <button class=\"colab-df-convert\" onclick=\"convertToInteractive('df-e2f011a6-078c-48f4-91fb-82680c966883')\"\n",
              "              title=\"Convert this dataframe to an interactive table.\"\n",
              "              style=\"display:none;\">\n",
              "        \n",
              "  <svg xmlns=\"http://www.w3.org/2000/svg\" height=\"24px\"viewBox=\"0 0 24 24\"\n",
              "       width=\"24px\">\n",
              "    <path d=\"M0 0h24v24H0V0z\" fill=\"none\"/>\n",
              "    <path d=\"M18.56 5.44l.94 2.06.94-2.06 2.06-.94-2.06-.94-.94-2.06-.94 2.06-2.06.94zm-11 1L8.5 8.5l.94-2.06 2.06-.94-2.06-.94L8.5 2.5l-.94 2.06-2.06.94zm10 10l.94 2.06.94-2.06 2.06-.94-2.06-.94-.94-2.06-.94 2.06-2.06.94z\"/><path d=\"M17.41 7.96l-1.37-1.37c-.4-.4-.92-.59-1.43-.59-.52 0-1.04.2-1.43.59L10.3 9.45l-7.72 7.72c-.78.78-.78 2.05 0 2.83L4 21.41c.39.39.9.59 1.41.59.51 0 1.02-.2 1.41-.59l7.78-7.78 2.81-2.81c.8-.78.8-2.07 0-2.86zM5.41 20L4 18.59l7.72-7.72 1.47 1.35L5.41 20z\"/>\n",
              "  </svg>\n",
              "      </button>\n",
              "      \n",
              "  <style>\n",
              "    .colab-df-container {\n",
              "      display:flex;\n",
              "      flex-wrap:wrap;\n",
              "      gap: 12px;\n",
              "    }\n",
              "\n",
              "    .colab-df-convert {\n",
              "      background-color: #E8F0FE;\n",
              "      border: none;\n",
              "      border-radius: 50%;\n",
              "      cursor: pointer;\n",
              "      display: none;\n",
              "      fill: #1967D2;\n",
              "      height: 32px;\n",
              "      padding: 0 0 0 0;\n",
              "      width: 32px;\n",
              "    }\n",
              "\n",
              "    .colab-df-convert:hover {\n",
              "      background-color: #E2EBFA;\n",
              "      box-shadow: 0px 1px 2px rgba(60, 64, 67, 0.3), 0px 1px 3px 1px rgba(60, 64, 67, 0.15);\n",
              "      fill: #174EA6;\n",
              "    }\n",
              "\n",
              "    [theme=dark] .colab-df-convert {\n",
              "      background-color: #3B4455;\n",
              "      fill: #D2E3FC;\n",
              "    }\n",
              "\n",
              "    [theme=dark] .colab-df-convert:hover {\n",
              "      background-color: #434B5C;\n",
              "      box-shadow: 0px 1px 3px 1px rgba(0, 0, 0, 0.15);\n",
              "      filter: drop-shadow(0px 1px 2px rgba(0, 0, 0, 0.3));\n",
              "      fill: #FFFFFF;\n",
              "    }\n",
              "  </style>\n",
              "\n",
              "      <script>\n",
              "        const buttonEl =\n",
              "          document.querySelector('#df-e2f011a6-078c-48f4-91fb-82680c966883 button.colab-df-convert');\n",
              "        buttonEl.style.display =\n",
              "          google.colab.kernel.accessAllowed ? 'block' : 'none';\n",
              "\n",
              "        async function convertToInteractive(key) {\n",
              "          const element = document.querySelector('#df-e2f011a6-078c-48f4-91fb-82680c966883');\n",
              "          const dataTable =\n",
              "            await google.colab.kernel.invokeFunction('convertToInteractive',\n",
              "                                                     [key], {});\n",
              "          if (!dataTable) return;\n",
              "\n",
              "          const docLinkHtml = 'Like what you see? Visit the ' +\n",
              "            '<a target=\"_blank\" href=https://colab.research.google.com/notebooks/data_table.ipynb>data table notebook</a>'\n",
              "            + ' to learn more about interactive tables.';\n",
              "          element.innerHTML = '';\n",
              "          dataTable['output_type'] = 'display_data';\n",
              "          await google.colab.output.renderOutput(dataTable, element);\n",
              "          const docLink = document.createElement('div');\n",
              "          docLink.innerHTML = docLinkHtml;\n",
              "          element.appendChild(docLink);\n",
              "        }\n",
              "      </script>\n",
              "    </div>\n",
              "  </div>\n",
              "  "
            ],
            "text/plain": [
              "       sales_ymd     customer_id  product_cd  amount\n",
              "36      20180911  CS018205000001  P071401012    2200\n",
              "9843    20180414  CS018205000001  P060104007     600\n",
              "21110   20170614  CS018205000001  P050206001     990\n",
              "27673   20170614  CS018205000001  P060702015     108\n",
              "27840   20190216  CS018205000001  P071005024     102\n",
              "28757   20180414  CS018205000001  P071101002     278\n",
              "39256   20190226  CS018205000001  P070902035     168\n",
              "58121   20190924  CS018205000001  P060805001     495\n",
              "68117   20190226  CS018205000001  P071401020    2200\n",
              "72254   20180911  CS018205000001  P071401005    1100\n",
              "88508   20190216  CS018205000001  P040101002     218\n",
              "91525   20190924  CS018205000001  P091503001     280"
            ]
          },
          "metadata": {},
          "execution_count": 11
        }
      ]
    },
    {
      "metadata": {
        "id": "N1Wg_FQfqtd_"
      },
      "cell_type": "markdown",
      "source": [
        "---\n",
        "> P-009: 以下の処理において、出力結果を変えずにORをANDに書き換えよ。\n",
        "\n",
        "`df_store.query('not(prefecture_cd == \"13\" | floor_area > 900)')`"
      ]
    },
    {
      "metadata": {
        "trusted": false,
        "id": "1nn58WyDqteA",
        "outputId": "42a91474-4fc2-4e5d-eac8-af932e12fb60",
        "colab": {
          "base_uri": "https://localhost:8080/",
          "height": 532
        }
      },
      "cell_type": "code",
      "source": [
        "df_store.query('not(prefecture_cd == \"13\" | floor_area > 900)')\n",
        "# df_store.query('prefecture_cd != \"13\" & floor_area <= 900')"
      ],
      "execution_count": 12,
      "outputs": [
        {
          "output_type": "execute_result",
          "data": {
            "text/html": [
              "\n",
              "  <div id=\"df-d72e33bb-78bc-49cf-af6d-0a888b658116\">\n",
              "    <div class=\"colab-df-container\">\n",
              "      <div>\n",
              "<style scoped>\n",
              "    .dataframe tbody tr th:only-of-type {\n",
              "        vertical-align: middle;\n",
              "    }\n",
              "\n",
              "    .dataframe tbody tr th {\n",
              "        vertical-align: top;\n",
              "    }\n",
              "\n",
              "    .dataframe thead th {\n",
              "        text-align: right;\n",
              "    }\n",
              "</style>\n",
              "<table border=\"1\" class=\"dataframe\">\n",
              "  <thead>\n",
              "    <tr style=\"text-align: right;\">\n",
              "      <th></th>\n",
              "      <th>store_cd</th>\n",
              "      <th>store_name</th>\n",
              "      <th>prefecture_cd</th>\n",
              "      <th>prefecture</th>\n",
              "      <th>address</th>\n",
              "      <th>address_kana</th>\n",
              "      <th>tel_no</th>\n",
              "      <th>longitude</th>\n",
              "      <th>latitude</th>\n",
              "      <th>floor_area</th>\n",
              "    </tr>\n",
              "  </thead>\n",
              "  <tbody>\n",
              "    <tr>\n",
              "      <th>18</th>\n",
              "      <td>S14046</td>\n",
              "      <td>北山田店</td>\n",
              "      <td>14</td>\n",
              "      <td>神奈川県</td>\n",
              "      <td>神奈川県横浜市都筑区北山田一丁目</td>\n",
              "      <td>カナガワケンヨコハマシツヅキクキタヤマタイッチョウメ</td>\n",
              "      <td>045-123-4049</td>\n",
              "      <td>139.5916</td>\n",
              "      <td>35.56189</td>\n",
              "      <td>831.0</td>\n",
              "    </tr>\n",
              "    <tr>\n",
              "      <th>20</th>\n",
              "      <td>S14011</td>\n",
              "      <td>日吉本町店</td>\n",
              "      <td>14</td>\n",
              "      <td>神奈川県</td>\n",
              "      <td>神奈川県横浜市港北区日吉本町四丁目</td>\n",
              "      <td>カナガワケンヨコハマシコウホククヒヨシホンチョウヨンチョウメ</td>\n",
              "      <td>045-123-4033</td>\n",
              "      <td>139.6316</td>\n",
              "      <td>35.54655</td>\n",
              "      <td>890.0</td>\n",
              "    </tr>\n",
              "    <tr>\n",
              "      <th>23</th>\n",
              "      <td>S13008</td>\n",
              "      <td>成城店</td>\n",
              "      <td>13</td>\n",
              "      <td>東京都</td>\n",
              "      <td>東京都世田谷区成城三丁目</td>\n",
              "      <td>トウキョウトセタガヤクセイジョウサンチョウメ</td>\n",
              "      <td>03-0123-4012</td>\n",
              "      <td>139.5966</td>\n",
              "      <td>35.63614</td>\n",
              "      <td>883.0</td>\n",
              "    </tr>\n",
              "    <tr>\n",
              "      <th>24</th>\n",
              "      <td>S13020</td>\n",
              "      <td>十条仲原店</td>\n",
              "      <td>13</td>\n",
              "      <td>東京都</td>\n",
              "      <td>東京都北区十条仲原三丁目</td>\n",
              "      <td>トウキョウトキタクジュウジョウナカハラサンチョウメ</td>\n",
              "      <td>03-0123-4019</td>\n",
              "      <td>139.7186</td>\n",
              "      <td>35.76686</td>\n",
              "      <td>801.0</td>\n",
              "    </tr>\n",
              "    <tr>\n",
              "      <th>25</th>\n",
              "      <td>S13043</td>\n",
              "      <td>南品川店</td>\n",
              "      <td>13</td>\n",
              "      <td>東京都</td>\n",
              "      <td>東京都品川区南品川三丁目</td>\n",
              "      <td>トウキョウトシナガワクミナミシナガワサンチョウメ</td>\n",
              "      <td>03-0123-4027</td>\n",
              "      <td>139.7436</td>\n",
              "      <td>35.60981</td>\n",
              "      <td>845.0</td>\n",
              "    </tr>\n",
              "    <tr>\n",
              "      <th>29</th>\n",
              "      <td>S13041</td>\n",
              "      <td>八王子店</td>\n",
              "      <td>13</td>\n",
              "      <td>東京都</td>\n",
              "      <td>東京都八王子市大塚</td>\n",
              "      <td>トウキョウトハチオウジシオオツカ</td>\n",
              "      <td>042-123-4026</td>\n",
              "      <td>139.4235</td>\n",
              "      <td>35.63787</td>\n",
              "      <td>810.0</td>\n",
              "    </tr>\n",
              "    <tr>\n",
              "      <th>30</th>\n",
              "      <td>S13017</td>\n",
              "      <td>高円寺南店</td>\n",
              "      <td>13</td>\n",
              "      <td>東京都</td>\n",
              "      <td>東京都杉並区高円寺南四丁目</td>\n",
              "      <td>トウキョウトスギナミクコウエンジミナミヨンチョウメ</td>\n",
              "      <td>03-0123-4016</td>\n",
              "      <td>139.6513</td>\n",
              "      <td>35.70273</td>\n",
              "      <td>841.0</td>\n",
              "    </tr>\n",
              "    <tr>\n",
              "      <th>38</th>\n",
              "      <td>S12013</td>\n",
              "      <td>習志野店</td>\n",
              "      <td>12</td>\n",
              "      <td>千葉県</td>\n",
              "      <td>千葉県習志野市芝園一丁目</td>\n",
              "      <td>チバケンナラシノシシバゾノイッチョウメ</td>\n",
              "      <td>047-123-4002</td>\n",
              "      <td>140.0220</td>\n",
              "      <td>35.66122</td>\n",
              "      <td>808.0</td>\n",
              "    </tr>\n",
              "    <tr>\n",
              "      <th>50</th>\n",
              "      <td>S13037</td>\n",
              "      <td>南砂一丁目店</td>\n",
              "      <td>13</td>\n",
              "      <td>東京都</td>\n",
              "      <td>東京都江東区南砂一丁目</td>\n",
              "      <td>トウキョウトコウトウクミナミスナイッチョウメ</td>\n",
              "      <td>03-0123-4023</td>\n",
              "      <td>139.8215</td>\n",
              "      <td>35.67898</td>\n",
              "      <td>814.0</td>\n",
              "    </tr>\n",
              "  </tbody>\n",
              "</table>\n",
              "</div>\n",
              "      <button class=\"colab-df-convert\" onclick=\"convertToInteractive('df-d72e33bb-78bc-49cf-af6d-0a888b658116')\"\n",
              "              title=\"Convert this dataframe to an interactive table.\"\n",
              "              style=\"display:none;\">\n",
              "        \n",
              "  <svg xmlns=\"http://www.w3.org/2000/svg\" height=\"24px\"viewBox=\"0 0 24 24\"\n",
              "       width=\"24px\">\n",
              "    <path d=\"M0 0h24v24H0V0z\" fill=\"none\"/>\n",
              "    <path d=\"M18.56 5.44l.94 2.06.94-2.06 2.06-.94-2.06-.94-.94-2.06-.94 2.06-2.06.94zm-11 1L8.5 8.5l.94-2.06 2.06-.94-2.06-.94L8.5 2.5l-.94 2.06-2.06.94zm10 10l.94 2.06.94-2.06 2.06-.94-2.06-.94-.94-2.06-.94 2.06-2.06.94z\"/><path d=\"M17.41 7.96l-1.37-1.37c-.4-.4-.92-.59-1.43-.59-.52 0-1.04.2-1.43.59L10.3 9.45l-7.72 7.72c-.78.78-.78 2.05 0 2.83L4 21.41c.39.39.9.59 1.41.59.51 0 1.02-.2 1.41-.59l7.78-7.78 2.81-2.81c.8-.78.8-2.07 0-2.86zM5.41 20L4 18.59l7.72-7.72 1.47 1.35L5.41 20z\"/>\n",
              "  </svg>\n",
              "      </button>\n",
              "      \n",
              "  <style>\n",
              "    .colab-df-container {\n",
              "      display:flex;\n",
              "      flex-wrap:wrap;\n",
              "      gap: 12px;\n",
              "    }\n",
              "\n",
              "    .colab-df-convert {\n",
              "      background-color: #E8F0FE;\n",
              "      border: none;\n",
              "      border-radius: 50%;\n",
              "      cursor: pointer;\n",
              "      display: none;\n",
              "      fill: #1967D2;\n",
              "      height: 32px;\n",
              "      padding: 0 0 0 0;\n",
              "      width: 32px;\n",
              "    }\n",
              "\n",
              "    .colab-df-convert:hover {\n",
              "      background-color: #E2EBFA;\n",
              "      box-shadow: 0px 1px 2px rgba(60, 64, 67, 0.3), 0px 1px 3px 1px rgba(60, 64, 67, 0.15);\n",
              "      fill: #174EA6;\n",
              "    }\n",
              "\n",
              "    [theme=dark] .colab-df-convert {\n",
              "      background-color: #3B4455;\n",
              "      fill: #D2E3FC;\n",
              "    }\n",
              "\n",
              "    [theme=dark] .colab-df-convert:hover {\n",
              "      background-color: #434B5C;\n",
              "      box-shadow: 0px 1px 3px 1px rgba(0, 0, 0, 0.15);\n",
              "      filter: drop-shadow(0px 1px 2px rgba(0, 0, 0, 0.3));\n",
              "      fill: #FFFFFF;\n",
              "    }\n",
              "  </style>\n",
              "\n",
              "      <script>\n",
              "        const buttonEl =\n",
              "          document.querySelector('#df-d72e33bb-78bc-49cf-af6d-0a888b658116 button.colab-df-convert');\n",
              "        buttonEl.style.display =\n",
              "          google.colab.kernel.accessAllowed ? 'block' : 'none';\n",
              "\n",
              "        async function convertToInteractive(key) {\n",
              "          const element = document.querySelector('#df-d72e33bb-78bc-49cf-af6d-0a888b658116');\n",
              "          const dataTable =\n",
              "            await google.colab.kernel.invokeFunction('convertToInteractive',\n",
              "                                                     [key], {});\n",
              "          if (!dataTable) return;\n",
              "\n",
              "          const docLinkHtml = 'Like what you see? Visit the ' +\n",
              "            '<a target=\"_blank\" href=https://colab.research.google.com/notebooks/data_table.ipynb>data table notebook</a>'\n",
              "            + ' to learn more about interactive tables.';\n",
              "          element.innerHTML = '';\n",
              "          dataTable['output_type'] = 'display_data';\n",
              "          await google.colab.output.renderOutput(dataTable, element);\n",
              "          const docLink = document.createElement('div');\n",
              "          docLink.innerHTML = docLinkHtml;\n",
              "          element.appendChild(docLink);\n",
              "        }\n",
              "      </script>\n",
              "    </div>\n",
              "  </div>\n",
              "  "
            ],
            "text/plain": [
              "   store_cd store_name  prefecture_cd  ... longitude  latitude floor_area\n",
              "18   S14046       北山田店             14  ...  139.5916  35.56189      831.0\n",
              "20   S14011      日吉本町店             14  ...  139.6316  35.54655      890.0\n",
              "23   S13008        成城店             13  ...  139.5966  35.63614      883.0\n",
              "24   S13020      十条仲原店             13  ...  139.7186  35.76686      801.0\n",
              "25   S13043       南品川店             13  ...  139.7436  35.60981      845.0\n",
              "29   S13041       八王子店             13  ...  139.4235  35.63787      810.0\n",
              "30   S13017      高円寺南店             13  ...  139.6513  35.70273      841.0\n",
              "38   S12013       習志野店             12  ...  140.0220  35.66122      808.0\n",
              "50   S13037     南砂一丁目店             13  ...  139.8215  35.67898      814.0\n",
              "\n",
              "[9 rows x 10 columns]"
            ]
          },
          "metadata": {},
          "execution_count": 12
        }
      ]
    },
    {
      "metadata": {
        "id": "CYs87N-7qteB"
      },
      "cell_type": "markdown",
      "source": [
        "---\n",
        "> P-010: 店舗データフレーム（df_store）から、店舗コード（store_cd）が\"S14\"で始まるものだけ全項目抽出し、10件だけ表示せよ。"
      ]
    },
    {
      "metadata": {
        "trusted": false,
        "id": "dGDyJ7lPqteB",
        "outputId": "427ce583-caa0-4ca0-cf17-d8c00050f279",
        "colab": {
          "base_uri": "https://localhost:8080/",
          "height": 581
        }
      },
      "cell_type": "code",
      "source": [
        "df_store.query('store_cd.str.startswith(\"S14\")', engine='python').head(10)"
      ],
      "execution_count": 13,
      "outputs": [
        {
          "output_type": "execute_result",
          "data": {
            "text/html": [
              "\n",
              "  <div id=\"df-a7960832-b2cf-4c79-bf59-d4fb1d061ab3\">\n",
              "    <div class=\"colab-df-container\">\n",
              "      <div>\n",
              "<style scoped>\n",
              "    .dataframe tbody tr th:only-of-type {\n",
              "        vertical-align: middle;\n",
              "    }\n",
              "\n",
              "    .dataframe tbody tr th {\n",
              "        vertical-align: top;\n",
              "    }\n",
              "\n",
              "    .dataframe thead th {\n",
              "        text-align: right;\n",
              "    }\n",
              "</style>\n",
              "<table border=\"1\" class=\"dataframe\">\n",
              "  <thead>\n",
              "    <tr style=\"text-align: right;\">\n",
              "      <th></th>\n",
              "      <th>store_cd</th>\n",
              "      <th>store_name</th>\n",
              "      <th>prefecture_cd</th>\n",
              "      <th>prefecture</th>\n",
              "      <th>address</th>\n",
              "      <th>address_kana</th>\n",
              "      <th>tel_no</th>\n",
              "      <th>longitude</th>\n",
              "      <th>latitude</th>\n",
              "      <th>floor_area</th>\n",
              "    </tr>\n",
              "  </thead>\n",
              "  <tbody>\n",
              "    <tr>\n",
              "      <th>2</th>\n",
              "      <td>S14010</td>\n",
              "      <td>菊名店</td>\n",
              "      <td>14</td>\n",
              "      <td>神奈川県</td>\n",
              "      <td>神奈川県横浜市港北区菊名一丁目</td>\n",
              "      <td>カナガワケンヨコハマシコウホククキクナイッチョウメ</td>\n",
              "      <td>045-123-4032</td>\n",
              "      <td>139.6326</td>\n",
              "      <td>35.50049</td>\n",
              "      <td>1732.0</td>\n",
              "    </tr>\n",
              "    <tr>\n",
              "      <th>3</th>\n",
              "      <td>S14033</td>\n",
              "      <td>阿久和店</td>\n",
              "      <td>14</td>\n",
              "      <td>神奈川県</td>\n",
              "      <td>神奈川県横浜市瀬谷区阿久和西一丁目</td>\n",
              "      <td>カナガワケンヨコハマシセヤクアクワニシイッチョウメ</td>\n",
              "      <td>045-123-4043</td>\n",
              "      <td>139.4961</td>\n",
              "      <td>35.45918</td>\n",
              "      <td>1495.0</td>\n",
              "    </tr>\n",
              "    <tr>\n",
              "      <th>4</th>\n",
              "      <td>S14036</td>\n",
              "      <td>相模原中央店</td>\n",
              "      <td>14</td>\n",
              "      <td>神奈川県</td>\n",
              "      <td>神奈川県相模原市中央二丁目</td>\n",
              "      <td>カナガワケンサガミハラシチュウオウニチョウメ</td>\n",
              "      <td>042-123-4045</td>\n",
              "      <td>139.3716</td>\n",
              "      <td>35.57327</td>\n",
              "      <td>1679.0</td>\n",
              "    </tr>\n",
              "    <tr>\n",
              "      <th>7</th>\n",
              "      <td>S14040</td>\n",
              "      <td>長津田店</td>\n",
              "      <td>14</td>\n",
              "      <td>神奈川県</td>\n",
              "      <td>神奈川県横浜市緑区長津田みなみ台五丁目</td>\n",
              "      <td>カナガワケンヨコハマシミドリクナガツタミナミダイゴチョウメ</td>\n",
              "      <td>045-123-4046</td>\n",
              "      <td>139.4994</td>\n",
              "      <td>35.52398</td>\n",
              "      <td>1548.0</td>\n",
              "    </tr>\n",
              "    <tr>\n",
              "      <th>9</th>\n",
              "      <td>S14050</td>\n",
              "      <td>阿久和西店</td>\n",
              "      <td>14</td>\n",
              "      <td>神奈川県</td>\n",
              "      <td>神奈川県横浜市瀬谷区阿久和西一丁目</td>\n",
              "      <td>カナガワケンヨコハマシセヤクアクワニシイッチョウメ</td>\n",
              "      <td>045-123-4053</td>\n",
              "      <td>139.4961</td>\n",
              "      <td>35.45918</td>\n",
              "      <td>1830.0</td>\n",
              "    </tr>\n",
              "    <tr>\n",
              "      <th>12</th>\n",
              "      <td>S14028</td>\n",
              "      <td>二ツ橋店</td>\n",
              "      <td>14</td>\n",
              "      <td>神奈川県</td>\n",
              "      <td>神奈川県横浜市瀬谷区二ツ橋町</td>\n",
              "      <td>カナガワケンヨコハマシセヤクフタツバシチョウ</td>\n",
              "      <td>045-123-4042</td>\n",
              "      <td>139.4963</td>\n",
              "      <td>35.46304</td>\n",
              "      <td>1574.0</td>\n",
              "    </tr>\n",
              "    <tr>\n",
              "      <th>16</th>\n",
              "      <td>S14012</td>\n",
              "      <td>本牧和田店</td>\n",
              "      <td>14</td>\n",
              "      <td>神奈川県</td>\n",
              "      <td>神奈川県横浜市中区本牧和田</td>\n",
              "      <td>カナガワケンヨコハマシナカクホンモクワダ</td>\n",
              "      <td>045-123-4034</td>\n",
              "      <td>139.6582</td>\n",
              "      <td>35.42156</td>\n",
              "      <td>1341.0</td>\n",
              "    </tr>\n",
              "    <tr>\n",
              "      <th>18</th>\n",
              "      <td>S14046</td>\n",
              "      <td>北山田店</td>\n",
              "      <td>14</td>\n",
              "      <td>神奈川県</td>\n",
              "      <td>神奈川県横浜市都筑区北山田一丁目</td>\n",
              "      <td>カナガワケンヨコハマシツヅキクキタヤマタイッチョウメ</td>\n",
              "      <td>045-123-4049</td>\n",
              "      <td>139.5916</td>\n",
              "      <td>35.56189</td>\n",
              "      <td>831.0</td>\n",
              "    </tr>\n",
              "    <tr>\n",
              "      <th>19</th>\n",
              "      <td>S14022</td>\n",
              "      <td>逗子店</td>\n",
              "      <td>14</td>\n",
              "      <td>神奈川県</td>\n",
              "      <td>神奈川県逗子市逗子一丁目</td>\n",
              "      <td>カナガワケンズシシズシイッチョウメ</td>\n",
              "      <td>046-123-4036</td>\n",
              "      <td>139.5789</td>\n",
              "      <td>35.29642</td>\n",
              "      <td>1838.0</td>\n",
              "    </tr>\n",
              "    <tr>\n",
              "      <th>20</th>\n",
              "      <td>S14011</td>\n",
              "      <td>日吉本町店</td>\n",
              "      <td>14</td>\n",
              "      <td>神奈川県</td>\n",
              "      <td>神奈川県横浜市港北区日吉本町四丁目</td>\n",
              "      <td>カナガワケンヨコハマシコウホククヒヨシホンチョウヨンチョウメ</td>\n",
              "      <td>045-123-4033</td>\n",
              "      <td>139.6316</td>\n",
              "      <td>35.54655</td>\n",
              "      <td>890.0</td>\n",
              "    </tr>\n",
              "  </tbody>\n",
              "</table>\n",
              "</div>\n",
              "      <button class=\"colab-df-convert\" onclick=\"convertToInteractive('df-a7960832-b2cf-4c79-bf59-d4fb1d061ab3')\"\n",
              "              title=\"Convert this dataframe to an interactive table.\"\n",
              "              style=\"display:none;\">\n",
              "        \n",
              "  <svg xmlns=\"http://www.w3.org/2000/svg\" height=\"24px\"viewBox=\"0 0 24 24\"\n",
              "       width=\"24px\">\n",
              "    <path d=\"M0 0h24v24H0V0z\" fill=\"none\"/>\n",
              "    <path d=\"M18.56 5.44l.94 2.06.94-2.06 2.06-.94-2.06-.94-.94-2.06-.94 2.06-2.06.94zm-11 1L8.5 8.5l.94-2.06 2.06-.94-2.06-.94L8.5 2.5l-.94 2.06-2.06.94zm10 10l.94 2.06.94-2.06 2.06-.94-2.06-.94-.94-2.06-.94 2.06-2.06.94z\"/><path d=\"M17.41 7.96l-1.37-1.37c-.4-.4-.92-.59-1.43-.59-.52 0-1.04.2-1.43.59L10.3 9.45l-7.72 7.72c-.78.78-.78 2.05 0 2.83L4 21.41c.39.39.9.59 1.41.59.51 0 1.02-.2 1.41-.59l7.78-7.78 2.81-2.81c.8-.78.8-2.07 0-2.86zM5.41 20L4 18.59l7.72-7.72 1.47 1.35L5.41 20z\"/>\n",
              "  </svg>\n",
              "      </button>\n",
              "      \n",
              "  <style>\n",
              "    .colab-df-container {\n",
              "      display:flex;\n",
              "      flex-wrap:wrap;\n",
              "      gap: 12px;\n",
              "    }\n",
              "\n",
              "    .colab-df-convert {\n",
              "      background-color: #E8F0FE;\n",
              "      border: none;\n",
              "      border-radius: 50%;\n",
              "      cursor: pointer;\n",
              "      display: none;\n",
              "      fill: #1967D2;\n",
              "      height: 32px;\n",
              "      padding: 0 0 0 0;\n",
              "      width: 32px;\n",
              "    }\n",
              "\n",
              "    .colab-df-convert:hover {\n",
              "      background-color: #E2EBFA;\n",
              "      box-shadow: 0px 1px 2px rgba(60, 64, 67, 0.3), 0px 1px 3px 1px rgba(60, 64, 67, 0.15);\n",
              "      fill: #174EA6;\n",
              "    }\n",
              "\n",
              "    [theme=dark] .colab-df-convert {\n",
              "      background-color: #3B4455;\n",
              "      fill: #D2E3FC;\n",
              "    }\n",
              "\n",
              "    [theme=dark] .colab-df-convert:hover {\n",
              "      background-color: #434B5C;\n",
              "      box-shadow: 0px 1px 3px 1px rgba(0, 0, 0, 0.15);\n",
              "      filter: drop-shadow(0px 1px 2px rgba(0, 0, 0, 0.3));\n",
              "      fill: #FFFFFF;\n",
              "    }\n",
              "  </style>\n",
              "\n",
              "      <script>\n",
              "        const buttonEl =\n",
              "          document.querySelector('#df-a7960832-b2cf-4c79-bf59-d4fb1d061ab3 button.colab-df-convert');\n",
              "        buttonEl.style.display =\n",
              "          google.colab.kernel.accessAllowed ? 'block' : 'none';\n",
              "\n",
              "        async function convertToInteractive(key) {\n",
              "          const element = document.querySelector('#df-a7960832-b2cf-4c79-bf59-d4fb1d061ab3');\n",
              "          const dataTable =\n",
              "            await google.colab.kernel.invokeFunction('convertToInteractive',\n",
              "                                                     [key], {});\n",
              "          if (!dataTable) return;\n",
              "\n",
              "          const docLinkHtml = 'Like what you see? Visit the ' +\n",
              "            '<a target=\"_blank\" href=https://colab.research.google.com/notebooks/data_table.ipynb>data table notebook</a>'\n",
              "            + ' to learn more about interactive tables.';\n",
              "          element.innerHTML = '';\n",
              "          dataTable['output_type'] = 'display_data';\n",
              "          await google.colab.output.renderOutput(dataTable, element);\n",
              "          const docLink = document.createElement('div');\n",
              "          docLink.innerHTML = docLinkHtml;\n",
              "          element.appendChild(docLink);\n",
              "        }\n",
              "      </script>\n",
              "    </div>\n",
              "  </div>\n",
              "  "
            ],
            "text/plain": [
              "   store_cd store_name  prefecture_cd  ... longitude  latitude floor_area\n",
              "2    S14010        菊名店             14  ...  139.6326  35.50049     1732.0\n",
              "3    S14033       阿久和店             14  ...  139.4961  35.45918     1495.0\n",
              "4    S14036     相模原中央店             14  ...  139.3716  35.57327     1679.0\n",
              "7    S14040       長津田店             14  ...  139.4994  35.52398     1548.0\n",
              "9    S14050      阿久和西店             14  ...  139.4961  35.45918     1830.0\n",
              "12   S14028       二ツ橋店             14  ...  139.4963  35.46304     1574.0\n",
              "16   S14012      本牧和田店             14  ...  139.6582  35.42156     1341.0\n",
              "18   S14046       北山田店             14  ...  139.5916  35.56189      831.0\n",
              "19   S14022        逗子店             14  ...  139.5789  35.29642     1838.0\n",
              "20   S14011      日吉本町店             14  ...  139.6316  35.54655      890.0\n",
              "\n",
              "[10 rows x 10 columns]"
            ]
          },
          "metadata": {},
          "execution_count": 13
        }
      ]
    },
    {
      "metadata": {
        "id": "LOxXRebAqteC"
      },
      "cell_type": "markdown",
      "source": [
        "---\n",
        "> P-011: 顧客データフレーム（df_customer）から顧客ID（customer_id）の末尾が1のものだけ全項目抽出し、10件だけ表示せよ。"
      ]
    },
    {
      "metadata": {
        "trusted": false,
        "id": "7GW2gcGBqteC",
        "outputId": "afd58750-e0ad-46f1-e103-214846fa38ed",
        "colab": {
          "base_uri": "https://localhost:8080/",
          "height": 792
        }
      },
      "cell_type": "code",
      "source": [
        "df_customer.query('customer_id.str.endswith(\"1\")', engine='python').head(10)"
      ],
      "execution_count": 14,
      "outputs": [
        {
          "output_type": "execute_result",
          "data": {
            "text/html": [
              "\n",
              "  <div id=\"df-324c2989-8a9e-423b-b628-bdb5c8ac803b\">\n",
              "    <div class=\"colab-df-container\">\n",
              "      <div>\n",
              "<style scoped>\n",
              "    .dataframe tbody tr th:only-of-type {\n",
              "        vertical-align: middle;\n",
              "    }\n",
              "\n",
              "    .dataframe tbody tr th {\n",
              "        vertical-align: top;\n",
              "    }\n",
              "\n",
              "    .dataframe thead th {\n",
              "        text-align: right;\n",
              "    }\n",
              "</style>\n",
              "<table border=\"1\" class=\"dataframe\">\n",
              "  <thead>\n",
              "    <tr style=\"text-align: right;\">\n",
              "      <th></th>\n",
              "      <th>customer_id</th>\n",
              "      <th>customer_name</th>\n",
              "      <th>gender_cd</th>\n",
              "      <th>gender</th>\n",
              "      <th>birth_day</th>\n",
              "      <th>age</th>\n",
              "      <th>postal_cd</th>\n",
              "      <th>address</th>\n",
              "      <th>application_store_cd</th>\n",
              "      <th>application_date</th>\n",
              "      <th>status_cd</th>\n",
              "    </tr>\n",
              "  </thead>\n",
              "  <tbody>\n",
              "    <tr>\n",
              "      <th>1</th>\n",
              "      <td>CS037613000071</td>\n",
              "      <td>六角 雅彦</td>\n",
              "      <td>9</td>\n",
              "      <td>不明</td>\n",
              "      <td>1952-04-01</td>\n",
              "      <td>66</td>\n",
              "      <td>136-0076</td>\n",
              "      <td>東京都江東区南砂**********</td>\n",
              "      <td>S13037</td>\n",
              "      <td>20150414</td>\n",
              "      <td>0-00000000-0</td>\n",
              "    </tr>\n",
              "    <tr>\n",
              "      <th>3</th>\n",
              "      <td>CS028811000001</td>\n",
              "      <td>堀井 かおり</td>\n",
              "      <td>1</td>\n",
              "      <td>女性</td>\n",
              "      <td>1933-03-27</td>\n",
              "      <td>86</td>\n",
              "      <td>245-0016</td>\n",
              "      <td>神奈川県横浜市泉区和泉町**********</td>\n",
              "      <td>S14028</td>\n",
              "      <td>20160115</td>\n",
              "      <td>0-00000000-0</td>\n",
              "    </tr>\n",
              "    <tr>\n",
              "      <th>14</th>\n",
              "      <td>CS040412000191</td>\n",
              "      <td>川井 郁恵</td>\n",
              "      <td>1</td>\n",
              "      <td>女性</td>\n",
              "      <td>1977-01-05</td>\n",
              "      <td>42</td>\n",
              "      <td>226-0021</td>\n",
              "      <td>神奈川県横浜市緑区北八朔町**********</td>\n",
              "      <td>S14040</td>\n",
              "      <td>20151101</td>\n",
              "      <td>1-20091025-4</td>\n",
              "    </tr>\n",
              "    <tr>\n",
              "      <th>31</th>\n",
              "      <td>CS028314000011</td>\n",
              "      <td>小菅 あおい</td>\n",
              "      <td>1</td>\n",
              "      <td>女性</td>\n",
              "      <td>1983-11-26</td>\n",
              "      <td>35</td>\n",
              "      <td>246-0038</td>\n",
              "      <td>神奈川県横浜市瀬谷区宮沢**********</td>\n",
              "      <td>S14028</td>\n",
              "      <td>20151123</td>\n",
              "      <td>1-20080426-5</td>\n",
              "    </tr>\n",
              "    <tr>\n",
              "      <th>56</th>\n",
              "      <td>CS039212000051</td>\n",
              "      <td>藤島 恵梨香</td>\n",
              "      <td>1</td>\n",
              "      <td>女性</td>\n",
              "      <td>1997-02-03</td>\n",
              "      <td>22</td>\n",
              "      <td>166-0001</td>\n",
              "      <td>東京都杉並区阿佐谷北**********</td>\n",
              "      <td>S13039</td>\n",
              "      <td>20171121</td>\n",
              "      <td>1-20100215-4</td>\n",
              "    </tr>\n",
              "    <tr>\n",
              "      <th>59</th>\n",
              "      <td>CS015412000111</td>\n",
              "      <td>松居 奈月</td>\n",
              "      <td>1</td>\n",
              "      <td>女性</td>\n",
              "      <td>1972-10-04</td>\n",
              "      <td>46</td>\n",
              "      <td>136-0071</td>\n",
              "      <td>東京都江東区亀戸**********</td>\n",
              "      <td>S13015</td>\n",
              "      <td>20150629</td>\n",
              "      <td>0-00000000-0</td>\n",
              "    </tr>\n",
              "    <tr>\n",
              "      <th>63</th>\n",
              "      <td>CS004702000041</td>\n",
              "      <td>野島 洋</td>\n",
              "      <td>0</td>\n",
              "      <td>男性</td>\n",
              "      <td>1943-08-24</td>\n",
              "      <td>75</td>\n",
              "      <td>176-0022</td>\n",
              "      <td>東京都練馬区向山**********</td>\n",
              "      <td>S13004</td>\n",
              "      <td>20170218</td>\n",
              "      <td>0-00000000-0</td>\n",
              "    </tr>\n",
              "    <tr>\n",
              "      <th>74</th>\n",
              "      <td>CS041515000001</td>\n",
              "      <td>栗田 千夏</td>\n",
              "      <td>1</td>\n",
              "      <td>女性</td>\n",
              "      <td>1967-01-02</td>\n",
              "      <td>52</td>\n",
              "      <td>206-0001</td>\n",
              "      <td>東京都多摩市和田**********</td>\n",
              "      <td>S13041</td>\n",
              "      <td>20160422</td>\n",
              "      <td>E-20100803-F</td>\n",
              "    </tr>\n",
              "    <tr>\n",
              "      <th>85</th>\n",
              "      <td>CS029313000221</td>\n",
              "      <td>北条 ひかり</td>\n",
              "      <td>1</td>\n",
              "      <td>女性</td>\n",
              "      <td>1987-06-19</td>\n",
              "      <td>31</td>\n",
              "      <td>279-0011</td>\n",
              "      <td>千葉県浦安市美浜**********</td>\n",
              "      <td>S12029</td>\n",
              "      <td>20180810</td>\n",
              "      <td>0-00000000-0</td>\n",
              "    </tr>\n",
              "    <tr>\n",
              "      <th>102</th>\n",
              "      <td>CS034312000071</td>\n",
              "      <td>望月 奈央</td>\n",
              "      <td>1</td>\n",
              "      <td>女性</td>\n",
              "      <td>1980-09-20</td>\n",
              "      <td>38</td>\n",
              "      <td>213-0026</td>\n",
              "      <td>神奈川県川崎市高津区久末**********</td>\n",
              "      <td>S14034</td>\n",
              "      <td>20160106</td>\n",
              "      <td>0-00000000-0</td>\n",
              "    </tr>\n",
              "  </tbody>\n",
              "</table>\n",
              "</div>\n",
              "      <button class=\"colab-df-convert\" onclick=\"convertToInteractive('df-324c2989-8a9e-423b-b628-bdb5c8ac803b')\"\n",
              "              title=\"Convert this dataframe to an interactive table.\"\n",
              "              style=\"display:none;\">\n",
              "        \n",
              "  <svg xmlns=\"http://www.w3.org/2000/svg\" height=\"24px\"viewBox=\"0 0 24 24\"\n",
              "       width=\"24px\">\n",
              "    <path d=\"M0 0h24v24H0V0z\" fill=\"none\"/>\n",
              "    <path d=\"M18.56 5.44l.94 2.06.94-2.06 2.06-.94-2.06-.94-.94-2.06-.94 2.06-2.06.94zm-11 1L8.5 8.5l.94-2.06 2.06-.94-2.06-.94L8.5 2.5l-.94 2.06-2.06.94zm10 10l.94 2.06.94-2.06 2.06-.94-2.06-.94-.94-2.06-.94 2.06-2.06.94z\"/><path d=\"M17.41 7.96l-1.37-1.37c-.4-.4-.92-.59-1.43-.59-.52 0-1.04.2-1.43.59L10.3 9.45l-7.72 7.72c-.78.78-.78 2.05 0 2.83L4 21.41c.39.39.9.59 1.41.59.51 0 1.02-.2 1.41-.59l7.78-7.78 2.81-2.81c.8-.78.8-2.07 0-2.86zM5.41 20L4 18.59l7.72-7.72 1.47 1.35L5.41 20z\"/>\n",
              "  </svg>\n",
              "      </button>\n",
              "      \n",
              "  <style>\n",
              "    .colab-df-container {\n",
              "      display:flex;\n",
              "      flex-wrap:wrap;\n",
              "      gap: 12px;\n",
              "    }\n",
              "\n",
              "    .colab-df-convert {\n",
              "      background-color: #E8F0FE;\n",
              "      border: none;\n",
              "      border-radius: 50%;\n",
              "      cursor: pointer;\n",
              "      display: none;\n",
              "      fill: #1967D2;\n",
              "      height: 32px;\n",
              "      padding: 0 0 0 0;\n",
              "      width: 32px;\n",
              "    }\n",
              "\n",
              "    .colab-df-convert:hover {\n",
              "      background-color: #E2EBFA;\n",
              "      box-shadow: 0px 1px 2px rgba(60, 64, 67, 0.3), 0px 1px 3px 1px rgba(60, 64, 67, 0.15);\n",
              "      fill: #174EA6;\n",
              "    }\n",
              "\n",
              "    [theme=dark] .colab-df-convert {\n",
              "      background-color: #3B4455;\n",
              "      fill: #D2E3FC;\n",
              "    }\n",
              "\n",
              "    [theme=dark] .colab-df-convert:hover {\n",
              "      background-color: #434B5C;\n",
              "      box-shadow: 0px 1px 3px 1px rgba(0, 0, 0, 0.15);\n",
              "      filter: drop-shadow(0px 1px 2px rgba(0, 0, 0, 0.3));\n",
              "      fill: #FFFFFF;\n",
              "    }\n",
              "  </style>\n",
              "\n",
              "      <script>\n",
              "        const buttonEl =\n",
              "          document.querySelector('#df-324c2989-8a9e-423b-b628-bdb5c8ac803b button.colab-df-convert');\n",
              "        buttonEl.style.display =\n",
              "          google.colab.kernel.accessAllowed ? 'block' : 'none';\n",
              "\n",
              "        async function convertToInteractive(key) {\n",
              "          const element = document.querySelector('#df-324c2989-8a9e-423b-b628-bdb5c8ac803b');\n",
              "          const dataTable =\n",
              "            await google.colab.kernel.invokeFunction('convertToInteractive',\n",
              "                                                     [key], {});\n",
              "          if (!dataTable) return;\n",
              "\n",
              "          const docLinkHtml = 'Like what you see? Visit the ' +\n",
              "            '<a target=\"_blank\" href=https://colab.research.google.com/notebooks/data_table.ipynb>data table notebook</a>'\n",
              "            + ' to learn more about interactive tables.';\n",
              "          element.innerHTML = '';\n",
              "          dataTable['output_type'] = 'display_data';\n",
              "          await google.colab.output.renderOutput(dataTable, element);\n",
              "          const docLink = document.createElement('div');\n",
              "          docLink.innerHTML = docLinkHtml;\n",
              "          element.appendChild(docLink);\n",
              "        }\n",
              "      </script>\n",
              "    </div>\n",
              "  </div>\n",
              "  "
            ],
            "text/plain": [
              "        customer_id customer_name  ...  application_date     status_cd\n",
              "1    CS037613000071         六角 雅彦  ...          20150414  0-00000000-0\n",
              "3    CS028811000001        堀井 かおり  ...          20160115  0-00000000-0\n",
              "14   CS040412000191         川井 郁恵  ...          20151101  1-20091025-4\n",
              "31   CS028314000011        小菅 あおい  ...          20151123  1-20080426-5\n",
              "56   CS039212000051        藤島 恵梨香  ...          20171121  1-20100215-4\n",
              "59   CS015412000111         松居 奈月  ...          20150629  0-00000000-0\n",
              "63   CS004702000041          野島 洋  ...          20170218  0-00000000-0\n",
              "74   CS041515000001         栗田 千夏  ...          20160422  E-20100803-F\n",
              "85   CS029313000221        北条 ひかり  ...          20180810  0-00000000-0\n",
              "102  CS034312000071         望月 奈央  ...          20160106  0-00000000-0\n",
              "\n",
              "[10 rows x 11 columns]"
            ]
          },
          "metadata": {},
          "execution_count": 14
        }
      ]
    },
    {
      "metadata": {
        "id": "gRXlP7NsqteC"
      },
      "cell_type": "markdown",
      "source": [
        "---\n",
        "> P-012: 店舗データフレーム（df_store）から横浜市の店舗だけ全項目表示せよ。"
      ]
    },
    {
      "metadata": {
        "trusted": false,
        "id": "qwdyBVB6qteD",
        "outputId": "c92a76a1-4e84-4607-fc8e-71d6b0ee34c0",
        "colab": {
          "base_uri": "https://localhost:8080/",
          "height": 629
        }
      },
      "cell_type": "code",
      "source": [
        "df_store.query('address.str.contains(\"横浜\")', engine='python')"
      ],
      "execution_count": 15,
      "outputs": [
        {
          "output_type": "execute_result",
          "data": {
            "text/html": [
              "\n",
              "  <div id=\"df-064371c3-8a08-4def-9fca-ad3fc8a1f5b3\">\n",
              "    <div class=\"colab-df-container\">\n",
              "      <div>\n",
              "<style scoped>\n",
              "    .dataframe tbody tr th:only-of-type {\n",
              "        vertical-align: middle;\n",
              "    }\n",
              "\n",
              "    .dataframe tbody tr th {\n",
              "        vertical-align: top;\n",
              "    }\n",
              "\n",
              "    .dataframe thead th {\n",
              "        text-align: right;\n",
              "    }\n",
              "</style>\n",
              "<table border=\"1\" class=\"dataframe\">\n",
              "  <thead>\n",
              "    <tr style=\"text-align: right;\">\n",
              "      <th></th>\n",
              "      <th>store_cd</th>\n",
              "      <th>store_name</th>\n",
              "      <th>prefecture_cd</th>\n",
              "      <th>prefecture</th>\n",
              "      <th>address</th>\n",
              "      <th>address_kana</th>\n",
              "      <th>tel_no</th>\n",
              "      <th>longitude</th>\n",
              "      <th>latitude</th>\n",
              "      <th>floor_area</th>\n",
              "    </tr>\n",
              "  </thead>\n",
              "  <tbody>\n",
              "    <tr>\n",
              "      <th>2</th>\n",
              "      <td>S14010</td>\n",
              "      <td>菊名店</td>\n",
              "      <td>14</td>\n",
              "      <td>神奈川県</td>\n",
              "      <td>神奈川県横浜市港北区菊名一丁目</td>\n",
              "      <td>カナガワケンヨコハマシコウホククキクナイッチョウメ</td>\n",
              "      <td>045-123-4032</td>\n",
              "      <td>139.6326</td>\n",
              "      <td>35.50049</td>\n",
              "      <td>1732.0</td>\n",
              "    </tr>\n",
              "    <tr>\n",
              "      <th>3</th>\n",
              "      <td>S14033</td>\n",
              "      <td>阿久和店</td>\n",
              "      <td>14</td>\n",
              "      <td>神奈川県</td>\n",
              "      <td>神奈川県横浜市瀬谷区阿久和西一丁目</td>\n",
              "      <td>カナガワケンヨコハマシセヤクアクワニシイッチョウメ</td>\n",
              "      <td>045-123-4043</td>\n",
              "      <td>139.4961</td>\n",
              "      <td>35.45918</td>\n",
              "      <td>1495.0</td>\n",
              "    </tr>\n",
              "    <tr>\n",
              "      <th>7</th>\n",
              "      <td>S14040</td>\n",
              "      <td>長津田店</td>\n",
              "      <td>14</td>\n",
              "      <td>神奈川県</td>\n",
              "      <td>神奈川県横浜市緑区長津田みなみ台五丁目</td>\n",
              "      <td>カナガワケンヨコハマシミドリクナガツタミナミダイゴチョウメ</td>\n",
              "      <td>045-123-4046</td>\n",
              "      <td>139.4994</td>\n",
              "      <td>35.52398</td>\n",
              "      <td>1548.0</td>\n",
              "    </tr>\n",
              "    <tr>\n",
              "      <th>9</th>\n",
              "      <td>S14050</td>\n",
              "      <td>阿久和西店</td>\n",
              "      <td>14</td>\n",
              "      <td>神奈川県</td>\n",
              "      <td>神奈川県横浜市瀬谷区阿久和西一丁目</td>\n",
              "      <td>カナガワケンヨコハマシセヤクアクワニシイッチョウメ</td>\n",
              "      <td>045-123-4053</td>\n",
              "      <td>139.4961</td>\n",
              "      <td>35.45918</td>\n",
              "      <td>1830.0</td>\n",
              "    </tr>\n",
              "    <tr>\n",
              "      <th>12</th>\n",
              "      <td>S14028</td>\n",
              "      <td>二ツ橋店</td>\n",
              "      <td>14</td>\n",
              "      <td>神奈川県</td>\n",
              "      <td>神奈川県横浜市瀬谷区二ツ橋町</td>\n",
              "      <td>カナガワケンヨコハマシセヤクフタツバシチョウ</td>\n",
              "      <td>045-123-4042</td>\n",
              "      <td>139.4963</td>\n",
              "      <td>35.46304</td>\n",
              "      <td>1574.0</td>\n",
              "    </tr>\n",
              "    <tr>\n",
              "      <th>16</th>\n",
              "      <td>S14012</td>\n",
              "      <td>本牧和田店</td>\n",
              "      <td>14</td>\n",
              "      <td>神奈川県</td>\n",
              "      <td>神奈川県横浜市中区本牧和田</td>\n",
              "      <td>カナガワケンヨコハマシナカクホンモクワダ</td>\n",
              "      <td>045-123-4034</td>\n",
              "      <td>139.6582</td>\n",
              "      <td>35.42156</td>\n",
              "      <td>1341.0</td>\n",
              "    </tr>\n",
              "    <tr>\n",
              "      <th>18</th>\n",
              "      <td>S14046</td>\n",
              "      <td>北山田店</td>\n",
              "      <td>14</td>\n",
              "      <td>神奈川県</td>\n",
              "      <td>神奈川県横浜市都筑区北山田一丁目</td>\n",
              "      <td>カナガワケンヨコハマシツヅキクキタヤマタイッチョウメ</td>\n",
              "      <td>045-123-4049</td>\n",
              "      <td>139.5916</td>\n",
              "      <td>35.56189</td>\n",
              "      <td>831.0</td>\n",
              "    </tr>\n",
              "    <tr>\n",
              "      <th>20</th>\n",
              "      <td>S14011</td>\n",
              "      <td>日吉本町店</td>\n",
              "      <td>14</td>\n",
              "      <td>神奈川県</td>\n",
              "      <td>神奈川県横浜市港北区日吉本町四丁目</td>\n",
              "      <td>カナガワケンヨコハマシコウホククヒヨシホンチョウヨンチョウメ</td>\n",
              "      <td>045-123-4033</td>\n",
              "      <td>139.6316</td>\n",
              "      <td>35.54655</td>\n",
              "      <td>890.0</td>\n",
              "    </tr>\n",
              "    <tr>\n",
              "      <th>26</th>\n",
              "      <td>S14048</td>\n",
              "      <td>中川中央店</td>\n",
              "      <td>14</td>\n",
              "      <td>神奈川県</td>\n",
              "      <td>神奈川県横浜市都筑区中川中央二丁目</td>\n",
              "      <td>カナガワケンヨコハマシツヅキクナカガワチュウオウニチョウメ</td>\n",
              "      <td>045-123-4051</td>\n",
              "      <td>139.5758</td>\n",
              "      <td>35.54912</td>\n",
              "      <td>1657.0</td>\n",
              "    </tr>\n",
              "    <tr>\n",
              "      <th>40</th>\n",
              "      <td>S14042</td>\n",
              "      <td>新山下店</td>\n",
              "      <td>14</td>\n",
              "      <td>神奈川県</td>\n",
              "      <td>神奈川県横浜市中区新山下二丁目</td>\n",
              "      <td>カナガワケンヨコハマシナカクシンヤマシタニチョウメ</td>\n",
              "      <td>045-123-4047</td>\n",
              "      <td>139.6593</td>\n",
              "      <td>35.43894</td>\n",
              "      <td>1044.0</td>\n",
              "    </tr>\n",
              "    <tr>\n",
              "      <th>52</th>\n",
              "      <td>S14006</td>\n",
              "      <td>葛が谷店</td>\n",
              "      <td>14</td>\n",
              "      <td>神奈川県</td>\n",
              "      <td>神奈川県横浜市都筑区葛が谷</td>\n",
              "      <td>カナガワケンヨコハマシツヅキククズガヤ</td>\n",
              "      <td>045-123-4031</td>\n",
              "      <td>139.5633</td>\n",
              "      <td>35.53573</td>\n",
              "      <td>1886.0</td>\n",
              "    </tr>\n",
              "  </tbody>\n",
              "</table>\n",
              "</div>\n",
              "      <button class=\"colab-df-convert\" onclick=\"convertToInteractive('df-064371c3-8a08-4def-9fca-ad3fc8a1f5b3')\"\n",
              "              title=\"Convert this dataframe to an interactive table.\"\n",
              "              style=\"display:none;\">\n",
              "        \n",
              "  <svg xmlns=\"http://www.w3.org/2000/svg\" height=\"24px\"viewBox=\"0 0 24 24\"\n",
              "       width=\"24px\">\n",
              "    <path d=\"M0 0h24v24H0V0z\" fill=\"none\"/>\n",
              "    <path d=\"M18.56 5.44l.94 2.06.94-2.06 2.06-.94-2.06-.94-.94-2.06-.94 2.06-2.06.94zm-11 1L8.5 8.5l.94-2.06 2.06-.94-2.06-.94L8.5 2.5l-.94 2.06-2.06.94zm10 10l.94 2.06.94-2.06 2.06-.94-2.06-.94-.94-2.06-.94 2.06-2.06.94z\"/><path d=\"M17.41 7.96l-1.37-1.37c-.4-.4-.92-.59-1.43-.59-.52 0-1.04.2-1.43.59L10.3 9.45l-7.72 7.72c-.78.78-.78 2.05 0 2.83L4 21.41c.39.39.9.59 1.41.59.51 0 1.02-.2 1.41-.59l7.78-7.78 2.81-2.81c.8-.78.8-2.07 0-2.86zM5.41 20L4 18.59l7.72-7.72 1.47 1.35L5.41 20z\"/>\n",
              "  </svg>\n",
              "      </button>\n",
              "      \n",
              "  <style>\n",
              "    .colab-df-container {\n",
              "      display:flex;\n",
              "      flex-wrap:wrap;\n",
              "      gap: 12px;\n",
              "    }\n",
              "\n",
              "    .colab-df-convert {\n",
              "      background-color: #E8F0FE;\n",
              "      border: none;\n",
              "      border-radius: 50%;\n",
              "      cursor: pointer;\n",
              "      display: none;\n",
              "      fill: #1967D2;\n",
              "      height: 32px;\n",
              "      padding: 0 0 0 0;\n",
              "      width: 32px;\n",
              "    }\n",
              "\n",
              "    .colab-df-convert:hover {\n",
              "      background-color: #E2EBFA;\n",
              "      box-shadow: 0px 1px 2px rgba(60, 64, 67, 0.3), 0px 1px 3px 1px rgba(60, 64, 67, 0.15);\n",
              "      fill: #174EA6;\n",
              "    }\n",
              "\n",
              "    [theme=dark] .colab-df-convert {\n",
              "      background-color: #3B4455;\n",
              "      fill: #D2E3FC;\n",
              "    }\n",
              "\n",
              "    [theme=dark] .colab-df-convert:hover {\n",
              "      background-color: #434B5C;\n",
              "      box-shadow: 0px 1px 3px 1px rgba(0, 0, 0, 0.15);\n",
              "      filter: drop-shadow(0px 1px 2px rgba(0, 0, 0, 0.3));\n",
              "      fill: #FFFFFF;\n",
              "    }\n",
              "  </style>\n",
              "\n",
              "      <script>\n",
              "        const buttonEl =\n",
              "          document.querySelector('#df-064371c3-8a08-4def-9fca-ad3fc8a1f5b3 button.colab-df-convert');\n",
              "        buttonEl.style.display =\n",
              "          google.colab.kernel.accessAllowed ? 'block' : 'none';\n",
              "\n",
              "        async function convertToInteractive(key) {\n",
              "          const element = document.querySelector('#df-064371c3-8a08-4def-9fca-ad3fc8a1f5b3');\n",
              "          const dataTable =\n",
              "            await google.colab.kernel.invokeFunction('convertToInteractive',\n",
              "                                                     [key], {});\n",
              "          if (!dataTable) return;\n",
              "\n",
              "          const docLinkHtml = 'Like what you see? Visit the ' +\n",
              "            '<a target=\"_blank\" href=https://colab.research.google.com/notebooks/data_table.ipynb>data table notebook</a>'\n",
              "            + ' to learn more about interactive tables.';\n",
              "          element.innerHTML = '';\n",
              "          dataTable['output_type'] = 'display_data';\n",
              "          await google.colab.output.renderOutput(dataTable, element);\n",
              "          const docLink = document.createElement('div');\n",
              "          docLink.innerHTML = docLinkHtml;\n",
              "          element.appendChild(docLink);\n",
              "        }\n",
              "      </script>\n",
              "    </div>\n",
              "  </div>\n",
              "  "
            ],
            "text/plain": [
              "   store_cd store_name  prefecture_cd  ... longitude  latitude floor_area\n",
              "2    S14010        菊名店             14  ...  139.6326  35.50049     1732.0\n",
              "3    S14033       阿久和店             14  ...  139.4961  35.45918     1495.0\n",
              "7    S14040       長津田店             14  ...  139.4994  35.52398     1548.0\n",
              "9    S14050      阿久和西店             14  ...  139.4961  35.45918     1830.0\n",
              "12   S14028       二ツ橋店             14  ...  139.4963  35.46304     1574.0\n",
              "16   S14012      本牧和田店             14  ...  139.6582  35.42156     1341.0\n",
              "18   S14046       北山田店             14  ...  139.5916  35.56189      831.0\n",
              "20   S14011      日吉本町店             14  ...  139.6316  35.54655      890.0\n",
              "26   S14048      中川中央店             14  ...  139.5758  35.54912     1657.0\n",
              "40   S14042       新山下店             14  ...  139.6593  35.43894     1044.0\n",
              "52   S14006       葛が谷店             14  ...  139.5633  35.53573     1886.0\n",
              "\n",
              "[11 rows x 10 columns]"
            ]
          },
          "metadata": {},
          "execution_count": 15
        }
      ]
    },
    {
      "metadata": {
        "id": "F6ngDpHPqteD"
      },
      "cell_type": "markdown",
      "source": [
        "---\n",
        "> P-013: 顧客データフレーム（df_customer）から、ステータスコード（status_cd）の先頭がアルファベットのA〜Fで始まるデータを全項目抽出し、10件だけ表示せよ。"
      ]
    },
    {
      "metadata": {
        "trusted": false,
        "id": "aa0RNCgKqteE",
        "outputId": "4cecbb07-6496-4482-e039-949bf32a8410",
        "colab": {
          "base_uri": "https://localhost:8080/",
          "height": 789
        }
      },
      "cell_type": "code",
      "source": [
        "df_customer.query('status_cd.str.contains(\"^[A-F]\")', engine='python').head(10)"
      ],
      "execution_count": 16,
      "outputs": [
        {
          "output_type": "execute_result",
          "data": {
            "text/html": [
              "\n",
              "  <div id=\"df-e0e58db9-1637-409f-954c-ed089794acfb\">\n",
              "    <div class=\"colab-df-container\">\n",
              "      <div>\n",
              "<style scoped>\n",
              "    .dataframe tbody tr th:only-of-type {\n",
              "        vertical-align: middle;\n",
              "    }\n",
              "\n",
              "    .dataframe tbody tr th {\n",
              "        vertical-align: top;\n",
              "    }\n",
              "\n",
              "    .dataframe thead th {\n",
              "        text-align: right;\n",
              "    }\n",
              "</style>\n",
              "<table border=\"1\" class=\"dataframe\">\n",
              "  <thead>\n",
              "    <tr style=\"text-align: right;\">\n",
              "      <th></th>\n",
              "      <th>customer_id</th>\n",
              "      <th>customer_name</th>\n",
              "      <th>gender_cd</th>\n",
              "      <th>gender</th>\n",
              "      <th>birth_day</th>\n",
              "      <th>age</th>\n",
              "      <th>postal_cd</th>\n",
              "      <th>address</th>\n",
              "      <th>application_store_cd</th>\n",
              "      <th>application_date</th>\n",
              "      <th>status_cd</th>\n",
              "    </tr>\n",
              "  </thead>\n",
              "  <tbody>\n",
              "    <tr>\n",
              "      <th>2</th>\n",
              "      <td>CS031415000172</td>\n",
              "      <td>宇多田 貴美子</td>\n",
              "      <td>1</td>\n",
              "      <td>女性</td>\n",
              "      <td>1976-10-04</td>\n",
              "      <td>42</td>\n",
              "      <td>151-0053</td>\n",
              "      <td>東京都渋谷区代々木**********</td>\n",
              "      <td>S13031</td>\n",
              "      <td>20150529</td>\n",
              "      <td>D-20100325-C</td>\n",
              "    </tr>\n",
              "    <tr>\n",
              "      <th>6</th>\n",
              "      <td>CS015414000103</td>\n",
              "      <td>奥野 陽子</td>\n",
              "      <td>1</td>\n",
              "      <td>女性</td>\n",
              "      <td>1977-08-09</td>\n",
              "      <td>41</td>\n",
              "      <td>136-0073</td>\n",
              "      <td>東京都江東区北砂**********</td>\n",
              "      <td>S13015</td>\n",
              "      <td>20150722</td>\n",
              "      <td>B-20100609-B</td>\n",
              "    </tr>\n",
              "    <tr>\n",
              "      <th>12</th>\n",
              "      <td>CS011215000048</td>\n",
              "      <td>芦田 沙耶</td>\n",
              "      <td>1</td>\n",
              "      <td>女性</td>\n",
              "      <td>1992-02-01</td>\n",
              "      <td>27</td>\n",
              "      <td>223-0062</td>\n",
              "      <td>神奈川県横浜市港北区日吉本町**********</td>\n",
              "      <td>S14011</td>\n",
              "      <td>20150228</td>\n",
              "      <td>C-20100421-9</td>\n",
              "    </tr>\n",
              "    <tr>\n",
              "      <th>15</th>\n",
              "      <td>CS029415000023</td>\n",
              "      <td>梅田 里穂</td>\n",
              "      <td>1</td>\n",
              "      <td>女性</td>\n",
              "      <td>1976-01-17</td>\n",
              "      <td>43</td>\n",
              "      <td>279-0043</td>\n",
              "      <td>千葉県浦安市富士見**********</td>\n",
              "      <td>S12029</td>\n",
              "      <td>20150610</td>\n",
              "      <td>D-20100918-E</td>\n",
              "    </tr>\n",
              "    <tr>\n",
              "      <th>21</th>\n",
              "      <td>CS035415000029</td>\n",
              "      <td>寺沢 真希</td>\n",
              "      <td>9</td>\n",
              "      <td>不明</td>\n",
              "      <td>1977-09-27</td>\n",
              "      <td>41</td>\n",
              "      <td>158-0096</td>\n",
              "      <td>東京都世田谷区玉川台**********</td>\n",
              "      <td>S13035</td>\n",
              "      <td>20141220</td>\n",
              "      <td>F-20101029-F</td>\n",
              "    </tr>\n",
              "    <tr>\n",
              "      <th>32</th>\n",
              "      <td>CS031415000106</td>\n",
              "      <td>宇野 由美子</td>\n",
              "      <td>1</td>\n",
              "      <td>女性</td>\n",
              "      <td>1970-02-26</td>\n",
              "      <td>49</td>\n",
              "      <td>151-0053</td>\n",
              "      <td>東京都渋谷区代々木**********</td>\n",
              "      <td>S13031</td>\n",
              "      <td>20150201</td>\n",
              "      <td>F-20100511-E</td>\n",
              "    </tr>\n",
              "    <tr>\n",
              "      <th>33</th>\n",
              "      <td>CS029215000025</td>\n",
              "      <td>石倉 美帆</td>\n",
              "      <td>1</td>\n",
              "      <td>女性</td>\n",
              "      <td>1993-09-28</td>\n",
              "      <td>25</td>\n",
              "      <td>279-0022</td>\n",
              "      <td>千葉県浦安市今川**********</td>\n",
              "      <td>S12029</td>\n",
              "      <td>20150708</td>\n",
              "      <td>B-20100820-C</td>\n",
              "    </tr>\n",
              "    <tr>\n",
              "      <th>40</th>\n",
              "      <td>CS033605000005</td>\n",
              "      <td>猪股 雄太</td>\n",
              "      <td>0</td>\n",
              "      <td>男性</td>\n",
              "      <td>1955-12-05</td>\n",
              "      <td>63</td>\n",
              "      <td>246-0031</td>\n",
              "      <td>神奈川県横浜市瀬谷区瀬谷**********</td>\n",
              "      <td>S14033</td>\n",
              "      <td>20150425</td>\n",
              "      <td>F-20100917-E</td>\n",
              "    </tr>\n",
              "    <tr>\n",
              "      <th>44</th>\n",
              "      <td>CS033415000229</td>\n",
              "      <td>板垣 菜々美</td>\n",
              "      <td>1</td>\n",
              "      <td>女性</td>\n",
              "      <td>1977-11-07</td>\n",
              "      <td>41</td>\n",
              "      <td>246-0021</td>\n",
              "      <td>神奈川県横浜市瀬谷区二ツ橋町**********</td>\n",
              "      <td>S14033</td>\n",
              "      <td>20150712</td>\n",
              "      <td>F-20100326-E</td>\n",
              "    </tr>\n",
              "    <tr>\n",
              "      <th>53</th>\n",
              "      <td>CS008415000145</td>\n",
              "      <td>黒谷 麻緒</td>\n",
              "      <td>1</td>\n",
              "      <td>女性</td>\n",
              "      <td>1977-06-27</td>\n",
              "      <td>41</td>\n",
              "      <td>157-0067</td>\n",
              "      <td>東京都世田谷区喜多見**********</td>\n",
              "      <td>S13008</td>\n",
              "      <td>20150829</td>\n",
              "      <td>F-20100622-F</td>\n",
              "    </tr>\n",
              "  </tbody>\n",
              "</table>\n",
              "</div>\n",
              "      <button class=\"colab-df-convert\" onclick=\"convertToInteractive('df-e0e58db9-1637-409f-954c-ed089794acfb')\"\n",
              "              title=\"Convert this dataframe to an interactive table.\"\n",
              "              style=\"display:none;\">\n",
              "        \n",
              "  <svg xmlns=\"http://www.w3.org/2000/svg\" height=\"24px\"viewBox=\"0 0 24 24\"\n",
              "       width=\"24px\">\n",
              "    <path d=\"M0 0h24v24H0V0z\" fill=\"none\"/>\n",
              "    <path d=\"M18.56 5.44l.94 2.06.94-2.06 2.06-.94-2.06-.94-.94-2.06-.94 2.06-2.06.94zm-11 1L8.5 8.5l.94-2.06 2.06-.94-2.06-.94L8.5 2.5l-.94 2.06-2.06.94zm10 10l.94 2.06.94-2.06 2.06-.94-2.06-.94-.94-2.06-.94 2.06-2.06.94z\"/><path d=\"M17.41 7.96l-1.37-1.37c-.4-.4-.92-.59-1.43-.59-.52 0-1.04.2-1.43.59L10.3 9.45l-7.72 7.72c-.78.78-.78 2.05 0 2.83L4 21.41c.39.39.9.59 1.41.59.51 0 1.02-.2 1.41-.59l7.78-7.78 2.81-2.81c.8-.78.8-2.07 0-2.86zM5.41 20L4 18.59l7.72-7.72 1.47 1.35L5.41 20z\"/>\n",
              "  </svg>\n",
              "      </button>\n",
              "      \n",
              "  <style>\n",
              "    .colab-df-container {\n",
              "      display:flex;\n",
              "      flex-wrap:wrap;\n",
              "      gap: 12px;\n",
              "    }\n",
              "\n",
              "    .colab-df-convert {\n",
              "      background-color: #E8F0FE;\n",
              "      border: none;\n",
              "      border-radius: 50%;\n",
              "      cursor: pointer;\n",
              "      display: none;\n",
              "      fill: #1967D2;\n",
              "      height: 32px;\n",
              "      padding: 0 0 0 0;\n",
              "      width: 32px;\n",
              "    }\n",
              "\n",
              "    .colab-df-convert:hover {\n",
              "      background-color: #E2EBFA;\n",
              "      box-shadow: 0px 1px 2px rgba(60, 64, 67, 0.3), 0px 1px 3px 1px rgba(60, 64, 67, 0.15);\n",
              "      fill: #174EA6;\n",
              "    }\n",
              "\n",
              "    [theme=dark] .colab-df-convert {\n",
              "      background-color: #3B4455;\n",
              "      fill: #D2E3FC;\n",
              "    }\n",
              "\n",
              "    [theme=dark] .colab-df-convert:hover {\n",
              "      background-color: #434B5C;\n",
              "      box-shadow: 0px 1px 3px 1px rgba(0, 0, 0, 0.15);\n",
              "      filter: drop-shadow(0px 1px 2px rgba(0, 0, 0, 0.3));\n",
              "      fill: #FFFFFF;\n",
              "    }\n",
              "  </style>\n",
              "\n",
              "      <script>\n",
              "        const buttonEl =\n",
              "          document.querySelector('#df-e0e58db9-1637-409f-954c-ed089794acfb button.colab-df-convert');\n",
              "        buttonEl.style.display =\n",
              "          google.colab.kernel.accessAllowed ? 'block' : 'none';\n",
              "\n",
              "        async function convertToInteractive(key) {\n",
              "          const element = document.querySelector('#df-e0e58db9-1637-409f-954c-ed089794acfb');\n",
              "          const dataTable =\n",
              "            await google.colab.kernel.invokeFunction('convertToInteractive',\n",
              "                                                     [key], {});\n",
              "          if (!dataTable) return;\n",
              "\n",
              "          const docLinkHtml = 'Like what you see? Visit the ' +\n",
              "            '<a target=\"_blank\" href=https://colab.research.google.com/notebooks/data_table.ipynb>data table notebook</a>'\n",
              "            + ' to learn more about interactive tables.';\n",
              "          element.innerHTML = '';\n",
              "          dataTable['output_type'] = 'display_data';\n",
              "          await google.colab.output.renderOutput(dataTable, element);\n",
              "          const docLink = document.createElement('div');\n",
              "          docLink.innerHTML = docLinkHtml;\n",
              "          element.appendChild(docLink);\n",
              "        }\n",
              "      </script>\n",
              "    </div>\n",
              "  </div>\n",
              "  "
            ],
            "text/plain": [
              "       customer_id customer_name  ...  application_date     status_cd\n",
              "2   CS031415000172       宇多田 貴美子  ...          20150529  D-20100325-C\n",
              "6   CS015414000103         奥野 陽子  ...          20150722  B-20100609-B\n",
              "12  CS011215000048         芦田 沙耶  ...          20150228  C-20100421-9\n",
              "15  CS029415000023         梅田 里穂  ...          20150610  D-20100918-E\n",
              "21  CS035415000029         寺沢 真希  ...          20141220  F-20101029-F\n",
              "32  CS031415000106        宇野 由美子  ...          20150201  F-20100511-E\n",
              "33  CS029215000025         石倉 美帆  ...          20150708  B-20100820-C\n",
              "40  CS033605000005         猪股 雄太  ...          20150425  F-20100917-E\n",
              "44  CS033415000229        板垣 菜々美  ...          20150712  F-20100326-E\n",
              "53  CS008415000145         黒谷 麻緒  ...          20150829  F-20100622-F\n",
              "\n",
              "[10 rows x 11 columns]"
            ]
          },
          "metadata": {},
          "execution_count": 16
        }
      ]
    },
    {
      "metadata": {
        "id": "iO_tgylcqteF"
      },
      "cell_type": "markdown",
      "source": [
        "---\n",
        "> P-014: 顧客データフレーム（df_customer）から、ステータスコード（status_cd）の末尾が数字の1〜9で終わるデータを全項目抽出し、10件だけ表示せよ。"
      ]
    },
    {
      "metadata": {
        "trusted": false,
        "id": "nu7juN3uqteF",
        "outputId": "b2ab3909-7042-4f28-8650-0fab774b4492",
        "colab": {
          "base_uri": "https://localhost:8080/",
          "height": 806
        }
      },
      "cell_type": "code",
      "source": [
        "df_customer.query('status_cd.str.contains(\"[1-9]$\")', engine='python').head(10)"
      ],
      "execution_count": 17,
      "outputs": [
        {
          "output_type": "execute_result",
          "data": {
            "text/html": [
              "\n",
              "  <div id=\"df-976b6733-8cea-4de1-b0c8-6d7da6a62abb\">\n",
              "    <div class=\"colab-df-container\">\n",
              "      <div>\n",
              "<style scoped>\n",
              "    .dataframe tbody tr th:only-of-type {\n",
              "        vertical-align: middle;\n",
              "    }\n",
              "\n",
              "    .dataframe tbody tr th {\n",
              "        vertical-align: top;\n",
              "    }\n",
              "\n",
              "    .dataframe thead th {\n",
              "        text-align: right;\n",
              "    }\n",
              "</style>\n",
              "<table border=\"1\" class=\"dataframe\">\n",
              "  <thead>\n",
              "    <tr style=\"text-align: right;\">\n",
              "      <th></th>\n",
              "      <th>customer_id</th>\n",
              "      <th>customer_name</th>\n",
              "      <th>gender_cd</th>\n",
              "      <th>gender</th>\n",
              "      <th>birth_day</th>\n",
              "      <th>age</th>\n",
              "      <th>postal_cd</th>\n",
              "      <th>address</th>\n",
              "      <th>application_store_cd</th>\n",
              "      <th>application_date</th>\n",
              "      <th>status_cd</th>\n",
              "    </tr>\n",
              "  </thead>\n",
              "  <tbody>\n",
              "    <tr>\n",
              "      <th>4</th>\n",
              "      <td>CS001215000145</td>\n",
              "      <td>田崎 美紀</td>\n",
              "      <td>1</td>\n",
              "      <td>女性</td>\n",
              "      <td>1995-03-29</td>\n",
              "      <td>24</td>\n",
              "      <td>144-0055</td>\n",
              "      <td>東京都大田区仲六郷**********</td>\n",
              "      <td>S13001</td>\n",
              "      <td>20170605</td>\n",
              "      <td>6-20090929-2</td>\n",
              "    </tr>\n",
              "    <tr>\n",
              "      <th>9</th>\n",
              "      <td>CS033513000180</td>\n",
              "      <td>安斎 遥</td>\n",
              "      <td>1</td>\n",
              "      <td>女性</td>\n",
              "      <td>1962-07-11</td>\n",
              "      <td>56</td>\n",
              "      <td>241-0823</td>\n",
              "      <td>神奈川県横浜市旭区善部町**********</td>\n",
              "      <td>S14033</td>\n",
              "      <td>20150728</td>\n",
              "      <td>6-20080506-5</td>\n",
              "    </tr>\n",
              "    <tr>\n",
              "      <th>12</th>\n",
              "      <td>CS011215000048</td>\n",
              "      <td>芦田 沙耶</td>\n",
              "      <td>1</td>\n",
              "      <td>女性</td>\n",
              "      <td>1992-02-01</td>\n",
              "      <td>27</td>\n",
              "      <td>223-0062</td>\n",
              "      <td>神奈川県横浜市港北区日吉本町**********</td>\n",
              "      <td>S14011</td>\n",
              "      <td>20150228</td>\n",
              "      <td>C-20100421-9</td>\n",
              "    </tr>\n",
              "    <tr>\n",
              "      <th>14</th>\n",
              "      <td>CS040412000191</td>\n",
              "      <td>川井 郁恵</td>\n",
              "      <td>1</td>\n",
              "      <td>女性</td>\n",
              "      <td>1977-01-05</td>\n",
              "      <td>42</td>\n",
              "      <td>226-0021</td>\n",
              "      <td>神奈川県横浜市緑区北八朔町**********</td>\n",
              "      <td>S14040</td>\n",
              "      <td>20151101</td>\n",
              "      <td>1-20091025-4</td>\n",
              "    </tr>\n",
              "    <tr>\n",
              "      <th>16</th>\n",
              "      <td>CS009315000023</td>\n",
              "      <td>皆川 文世</td>\n",
              "      <td>1</td>\n",
              "      <td>女性</td>\n",
              "      <td>1980-04-15</td>\n",
              "      <td>38</td>\n",
              "      <td>154-0012</td>\n",
              "      <td>東京都世田谷区駒沢**********</td>\n",
              "      <td>S13009</td>\n",
              "      <td>20150319</td>\n",
              "      <td>5-20080322-1</td>\n",
              "    </tr>\n",
              "    <tr>\n",
              "      <th>22</th>\n",
              "      <td>CS015315000033</td>\n",
              "      <td>福士 璃奈子</td>\n",
              "      <td>1</td>\n",
              "      <td>女性</td>\n",
              "      <td>1983-03-17</td>\n",
              "      <td>36</td>\n",
              "      <td>135-0043</td>\n",
              "      <td>東京都江東区塩浜**********</td>\n",
              "      <td>S13015</td>\n",
              "      <td>20141024</td>\n",
              "      <td>4-20080219-3</td>\n",
              "    </tr>\n",
              "    <tr>\n",
              "      <th>23</th>\n",
              "      <td>CS023513000066</td>\n",
              "      <td>神戸 そら</td>\n",
              "      <td>1</td>\n",
              "      <td>女性</td>\n",
              "      <td>1961-12-17</td>\n",
              "      <td>57</td>\n",
              "      <td>210-0005</td>\n",
              "      <td>神奈川県川崎市川崎区東田町**********</td>\n",
              "      <td>S14023</td>\n",
              "      <td>20150915</td>\n",
              "      <td>5-20100524-9</td>\n",
              "    </tr>\n",
              "    <tr>\n",
              "      <th>24</th>\n",
              "      <td>CS035513000134</td>\n",
              "      <td>市川 美帆</td>\n",
              "      <td>1</td>\n",
              "      <td>女性</td>\n",
              "      <td>1960-03-27</td>\n",
              "      <td>59</td>\n",
              "      <td>156-0053</td>\n",
              "      <td>東京都世田谷区桜**********</td>\n",
              "      <td>S13035</td>\n",
              "      <td>20150227</td>\n",
              "      <td>8-20100711-9</td>\n",
              "    </tr>\n",
              "    <tr>\n",
              "      <th>27</th>\n",
              "      <td>CS001515000263</td>\n",
              "      <td>高松 夏空</td>\n",
              "      <td>1</td>\n",
              "      <td>女性</td>\n",
              "      <td>1962-11-09</td>\n",
              "      <td>56</td>\n",
              "      <td>144-0051</td>\n",
              "      <td>東京都大田区西蒲田**********</td>\n",
              "      <td>S13001</td>\n",
              "      <td>20160812</td>\n",
              "      <td>1-20100804-1</td>\n",
              "    </tr>\n",
              "    <tr>\n",
              "      <th>28</th>\n",
              "      <td>CS040314000027</td>\n",
              "      <td>鶴田 きみまろ</td>\n",
              "      <td>9</td>\n",
              "      <td>不明</td>\n",
              "      <td>1986-03-26</td>\n",
              "      <td>33</td>\n",
              "      <td>226-0027</td>\n",
              "      <td>神奈川県横浜市緑区長津田**********</td>\n",
              "      <td>S14040</td>\n",
              "      <td>20150122</td>\n",
              "      <td>2-20080426-4</td>\n",
              "    </tr>\n",
              "  </tbody>\n",
              "</table>\n",
              "</div>\n",
              "      <button class=\"colab-df-convert\" onclick=\"convertToInteractive('df-976b6733-8cea-4de1-b0c8-6d7da6a62abb')\"\n",
              "              title=\"Convert this dataframe to an interactive table.\"\n",
              "              style=\"display:none;\">\n",
              "        \n",
              "  <svg xmlns=\"http://www.w3.org/2000/svg\" height=\"24px\"viewBox=\"0 0 24 24\"\n",
              "       width=\"24px\">\n",
              "    <path d=\"M0 0h24v24H0V0z\" fill=\"none\"/>\n",
              "    <path d=\"M18.56 5.44l.94 2.06.94-2.06 2.06-.94-2.06-.94-.94-2.06-.94 2.06-2.06.94zm-11 1L8.5 8.5l.94-2.06 2.06-.94-2.06-.94L8.5 2.5l-.94 2.06-2.06.94zm10 10l.94 2.06.94-2.06 2.06-.94-2.06-.94-.94-2.06-.94 2.06-2.06.94z\"/><path d=\"M17.41 7.96l-1.37-1.37c-.4-.4-.92-.59-1.43-.59-.52 0-1.04.2-1.43.59L10.3 9.45l-7.72 7.72c-.78.78-.78 2.05 0 2.83L4 21.41c.39.39.9.59 1.41.59.51 0 1.02-.2 1.41-.59l7.78-7.78 2.81-2.81c.8-.78.8-2.07 0-2.86zM5.41 20L4 18.59l7.72-7.72 1.47 1.35L5.41 20z\"/>\n",
              "  </svg>\n",
              "      </button>\n",
              "      \n",
              "  <style>\n",
              "    .colab-df-container {\n",
              "      display:flex;\n",
              "      flex-wrap:wrap;\n",
              "      gap: 12px;\n",
              "    }\n",
              "\n",
              "    .colab-df-convert {\n",
              "      background-color: #E8F0FE;\n",
              "      border: none;\n",
              "      border-radius: 50%;\n",
              "      cursor: pointer;\n",
              "      display: none;\n",
              "      fill: #1967D2;\n",
              "      height: 32px;\n",
              "      padding: 0 0 0 0;\n",
              "      width: 32px;\n",
              "    }\n",
              "\n",
              "    .colab-df-convert:hover {\n",
              "      background-color: #E2EBFA;\n",
              "      box-shadow: 0px 1px 2px rgba(60, 64, 67, 0.3), 0px 1px 3px 1px rgba(60, 64, 67, 0.15);\n",
              "      fill: #174EA6;\n",
              "    }\n",
              "\n",
              "    [theme=dark] .colab-df-convert {\n",
              "      background-color: #3B4455;\n",
              "      fill: #D2E3FC;\n",
              "    }\n",
              "\n",
              "    [theme=dark] .colab-df-convert:hover {\n",
              "      background-color: #434B5C;\n",
              "      box-shadow: 0px 1px 3px 1px rgba(0, 0, 0, 0.15);\n",
              "      filter: drop-shadow(0px 1px 2px rgba(0, 0, 0, 0.3));\n",
              "      fill: #FFFFFF;\n",
              "    }\n",
              "  </style>\n",
              "\n",
              "      <script>\n",
              "        const buttonEl =\n",
              "          document.querySelector('#df-976b6733-8cea-4de1-b0c8-6d7da6a62abb button.colab-df-convert');\n",
              "        buttonEl.style.display =\n",
              "          google.colab.kernel.accessAllowed ? 'block' : 'none';\n",
              "\n",
              "        async function convertToInteractive(key) {\n",
              "          const element = document.querySelector('#df-976b6733-8cea-4de1-b0c8-6d7da6a62abb');\n",
              "          const dataTable =\n",
              "            await google.colab.kernel.invokeFunction('convertToInteractive',\n",
              "                                                     [key], {});\n",
              "          if (!dataTable) return;\n",
              "\n",
              "          const docLinkHtml = 'Like what you see? Visit the ' +\n",
              "            '<a target=\"_blank\" href=https://colab.research.google.com/notebooks/data_table.ipynb>data table notebook</a>'\n",
              "            + ' to learn more about interactive tables.';\n",
              "          element.innerHTML = '';\n",
              "          dataTable['output_type'] = 'display_data';\n",
              "          await google.colab.output.renderOutput(dataTable, element);\n",
              "          const docLink = document.createElement('div');\n",
              "          docLink.innerHTML = docLinkHtml;\n",
              "          element.appendChild(docLink);\n",
              "        }\n",
              "      </script>\n",
              "    </div>\n",
              "  </div>\n",
              "  "
            ],
            "text/plain": [
              "       customer_id customer_name  ...  application_date     status_cd\n",
              "4   CS001215000145         田崎 美紀  ...          20170605  6-20090929-2\n",
              "9   CS033513000180          安斎 遥  ...          20150728  6-20080506-5\n",
              "12  CS011215000048         芦田 沙耶  ...          20150228  C-20100421-9\n",
              "14  CS040412000191         川井 郁恵  ...          20151101  1-20091025-4\n",
              "16  CS009315000023         皆川 文世  ...          20150319  5-20080322-1\n",
              "22  CS015315000033        福士 璃奈子  ...          20141024  4-20080219-3\n",
              "23  CS023513000066         神戸 そら  ...          20150915  5-20100524-9\n",
              "24  CS035513000134         市川 美帆  ...          20150227  8-20100711-9\n",
              "27  CS001515000263         高松 夏空  ...          20160812  1-20100804-1\n",
              "28  CS040314000027       鶴田 きみまろ  ...          20150122  2-20080426-4\n",
              "\n",
              "[10 rows x 11 columns]"
            ]
          },
          "metadata": {},
          "execution_count": 17
        }
      ]
    },
    {
      "metadata": {
        "id": "OCu-KPcHqteF"
      },
      "cell_type": "markdown",
      "source": [
        "---\n",
        "> P-015: 顧客データフレーム（df_customer）から、ステータスコード（status_cd）の先頭がアルファベットのA〜Fで始まり、末尾が数字の1〜9で終わるデータを全項目抽出し、10件だけ表示せよ。"
      ]
    },
    {
      "metadata": {
        "trusted": false,
        "id": "Ve11vsr6qteG",
        "outputId": "f7fdf867-d954-4cd3-d071-c35f9f4f90cb",
        "colab": {
          "base_uri": "https://localhost:8080/",
          "height": 809
        }
      },
      "cell_type": "code",
      "source": [
        "df_customer.query('status_cd.str.contains(\"^[A-F]\") & status_cd.str.contains(\"[1-9]$\")', engine='python').head(10)"
      ],
      "execution_count": 18,
      "outputs": [
        {
          "output_type": "execute_result",
          "data": {
            "text/html": [
              "\n",
              "  <div id=\"df-4da2d523-8fa5-4818-8199-5da31da620ca\">\n",
              "    <div class=\"colab-df-container\">\n",
              "      <div>\n",
              "<style scoped>\n",
              "    .dataframe tbody tr th:only-of-type {\n",
              "        vertical-align: middle;\n",
              "    }\n",
              "\n",
              "    .dataframe tbody tr th {\n",
              "        vertical-align: top;\n",
              "    }\n",
              "\n",
              "    .dataframe thead th {\n",
              "        text-align: right;\n",
              "    }\n",
              "</style>\n",
              "<table border=\"1\" class=\"dataframe\">\n",
              "  <thead>\n",
              "    <tr style=\"text-align: right;\">\n",
              "      <th></th>\n",
              "      <th>customer_id</th>\n",
              "      <th>customer_name</th>\n",
              "      <th>gender_cd</th>\n",
              "      <th>gender</th>\n",
              "      <th>birth_day</th>\n",
              "      <th>age</th>\n",
              "      <th>postal_cd</th>\n",
              "      <th>address</th>\n",
              "      <th>application_store_cd</th>\n",
              "      <th>application_date</th>\n",
              "      <th>status_cd</th>\n",
              "    </tr>\n",
              "  </thead>\n",
              "  <tbody>\n",
              "    <tr>\n",
              "      <th>12</th>\n",
              "      <td>CS011215000048</td>\n",
              "      <td>芦田 沙耶</td>\n",
              "      <td>1</td>\n",
              "      <td>女性</td>\n",
              "      <td>1992-02-01</td>\n",
              "      <td>27</td>\n",
              "      <td>223-0062</td>\n",
              "      <td>神奈川県横浜市港北区日吉本町**********</td>\n",
              "      <td>S14011</td>\n",
              "      <td>20150228</td>\n",
              "      <td>C-20100421-9</td>\n",
              "    </tr>\n",
              "    <tr>\n",
              "      <th>68</th>\n",
              "      <td>CS022513000105</td>\n",
              "      <td>島村 貴美子</td>\n",
              "      <td>1</td>\n",
              "      <td>女性</td>\n",
              "      <td>1962-03-12</td>\n",
              "      <td>57</td>\n",
              "      <td>249-0002</td>\n",
              "      <td>神奈川県逗子市山の根**********</td>\n",
              "      <td>S14022</td>\n",
              "      <td>20150320</td>\n",
              "      <td>A-20091115-7</td>\n",
              "    </tr>\n",
              "    <tr>\n",
              "      <th>71</th>\n",
              "      <td>CS001515000096</td>\n",
              "      <td>水野 陽子</td>\n",
              "      <td>9</td>\n",
              "      <td>不明</td>\n",
              "      <td>1960-11-29</td>\n",
              "      <td>58</td>\n",
              "      <td>144-0053</td>\n",
              "      <td>東京都大田区蒲田本町**********</td>\n",
              "      <td>S13001</td>\n",
              "      <td>20150614</td>\n",
              "      <td>A-20100724-7</td>\n",
              "    </tr>\n",
              "    <tr>\n",
              "      <th>122</th>\n",
              "      <td>CS013615000053</td>\n",
              "      <td>西脇 季衣</td>\n",
              "      <td>1</td>\n",
              "      <td>女性</td>\n",
              "      <td>1953-10-18</td>\n",
              "      <td>65</td>\n",
              "      <td>261-0026</td>\n",
              "      <td>千葉県千葉市美浜区幕張西**********</td>\n",
              "      <td>S12013</td>\n",
              "      <td>20150128</td>\n",
              "      <td>B-20100329-6</td>\n",
              "    </tr>\n",
              "    <tr>\n",
              "      <th>144</th>\n",
              "      <td>CS020412000161</td>\n",
              "      <td>小宮 薫</td>\n",
              "      <td>1</td>\n",
              "      <td>女性</td>\n",
              "      <td>1974-05-21</td>\n",
              "      <td>44</td>\n",
              "      <td>174-0042</td>\n",
              "      <td>東京都板橋区東坂下**********</td>\n",
              "      <td>S13020</td>\n",
              "      <td>20150822</td>\n",
              "      <td>B-20081021-3</td>\n",
              "    </tr>\n",
              "    <tr>\n",
              "      <th>178</th>\n",
              "      <td>CS001215000097</td>\n",
              "      <td>竹中 あさみ</td>\n",
              "      <td>1</td>\n",
              "      <td>女性</td>\n",
              "      <td>1990-07-25</td>\n",
              "      <td>28</td>\n",
              "      <td>146-0095</td>\n",
              "      <td>東京都大田区多摩川**********</td>\n",
              "      <td>S13001</td>\n",
              "      <td>20170315</td>\n",
              "      <td>A-20100211-2</td>\n",
              "    </tr>\n",
              "    <tr>\n",
              "      <th>252</th>\n",
              "      <td>CS035212000007</td>\n",
              "      <td>内村 恵梨香</td>\n",
              "      <td>1</td>\n",
              "      <td>女性</td>\n",
              "      <td>1990-12-04</td>\n",
              "      <td>28</td>\n",
              "      <td>152-0023</td>\n",
              "      <td>東京都目黒区八雲**********</td>\n",
              "      <td>S13035</td>\n",
              "      <td>20151013</td>\n",
              "      <td>B-20101018-6</td>\n",
              "    </tr>\n",
              "    <tr>\n",
              "      <th>259</th>\n",
              "      <td>CS002515000386</td>\n",
              "      <td>野田 コウ</td>\n",
              "      <td>1</td>\n",
              "      <td>女性</td>\n",
              "      <td>1963-05-30</td>\n",
              "      <td>55</td>\n",
              "      <td>185-0013</td>\n",
              "      <td>東京都国分寺市西恋ケ窪**********</td>\n",
              "      <td>S13002</td>\n",
              "      <td>20160410</td>\n",
              "      <td>C-20100127-8</td>\n",
              "    </tr>\n",
              "    <tr>\n",
              "      <th>293</th>\n",
              "      <td>CS001615000372</td>\n",
              "      <td>稲垣 寿々花</td>\n",
              "      <td>1</td>\n",
              "      <td>女性</td>\n",
              "      <td>1956-10-29</td>\n",
              "      <td>62</td>\n",
              "      <td>144-0035</td>\n",
              "      <td>東京都大田区南蒲田**********</td>\n",
              "      <td>S13001</td>\n",
              "      <td>20170403</td>\n",
              "      <td>A-20100104-1</td>\n",
              "    </tr>\n",
              "    <tr>\n",
              "      <th>297</th>\n",
              "      <td>CS032512000121</td>\n",
              "      <td>松井 知世</td>\n",
              "      <td>1</td>\n",
              "      <td>女性</td>\n",
              "      <td>1962-09-04</td>\n",
              "      <td>56</td>\n",
              "      <td>210-0011</td>\n",
              "      <td>神奈川県川崎市川崎区富士見**********</td>\n",
              "      <td>S13032</td>\n",
              "      <td>20150727</td>\n",
              "      <td>A-20100103-5</td>\n",
              "    </tr>\n",
              "  </tbody>\n",
              "</table>\n",
              "</div>\n",
              "      <button class=\"colab-df-convert\" onclick=\"convertToInteractive('df-4da2d523-8fa5-4818-8199-5da31da620ca')\"\n",
              "              title=\"Convert this dataframe to an interactive table.\"\n",
              "              style=\"display:none;\">\n",
              "        \n",
              "  <svg xmlns=\"http://www.w3.org/2000/svg\" height=\"24px\"viewBox=\"0 0 24 24\"\n",
              "       width=\"24px\">\n",
              "    <path d=\"M0 0h24v24H0V0z\" fill=\"none\"/>\n",
              "    <path d=\"M18.56 5.44l.94 2.06.94-2.06 2.06-.94-2.06-.94-.94-2.06-.94 2.06-2.06.94zm-11 1L8.5 8.5l.94-2.06 2.06-.94-2.06-.94L8.5 2.5l-.94 2.06-2.06.94zm10 10l.94 2.06.94-2.06 2.06-.94-2.06-.94-.94-2.06-.94 2.06-2.06.94z\"/><path d=\"M17.41 7.96l-1.37-1.37c-.4-.4-.92-.59-1.43-.59-.52 0-1.04.2-1.43.59L10.3 9.45l-7.72 7.72c-.78.78-.78 2.05 0 2.83L4 21.41c.39.39.9.59 1.41.59.51 0 1.02-.2 1.41-.59l7.78-7.78 2.81-2.81c.8-.78.8-2.07 0-2.86zM5.41 20L4 18.59l7.72-7.72 1.47 1.35L5.41 20z\"/>\n",
              "  </svg>\n",
              "      </button>\n",
              "      \n",
              "  <style>\n",
              "    .colab-df-container {\n",
              "      display:flex;\n",
              "      flex-wrap:wrap;\n",
              "      gap: 12px;\n",
              "    }\n",
              "\n",
              "    .colab-df-convert {\n",
              "      background-color: #E8F0FE;\n",
              "      border: none;\n",
              "      border-radius: 50%;\n",
              "      cursor: pointer;\n",
              "      display: none;\n",
              "      fill: #1967D2;\n",
              "      height: 32px;\n",
              "      padding: 0 0 0 0;\n",
              "      width: 32px;\n",
              "    }\n",
              "\n",
              "    .colab-df-convert:hover {\n",
              "      background-color: #E2EBFA;\n",
              "      box-shadow: 0px 1px 2px rgba(60, 64, 67, 0.3), 0px 1px 3px 1px rgba(60, 64, 67, 0.15);\n",
              "      fill: #174EA6;\n",
              "    }\n",
              "\n",
              "    [theme=dark] .colab-df-convert {\n",
              "      background-color: #3B4455;\n",
              "      fill: #D2E3FC;\n",
              "    }\n",
              "\n",
              "    [theme=dark] .colab-df-convert:hover {\n",
              "      background-color: #434B5C;\n",
              "      box-shadow: 0px 1px 3px 1px rgba(0, 0, 0, 0.15);\n",
              "      filter: drop-shadow(0px 1px 2px rgba(0, 0, 0, 0.3));\n",
              "      fill: #FFFFFF;\n",
              "    }\n",
              "  </style>\n",
              "\n",
              "      <script>\n",
              "        const buttonEl =\n",
              "          document.querySelector('#df-4da2d523-8fa5-4818-8199-5da31da620ca button.colab-df-convert');\n",
              "        buttonEl.style.display =\n",
              "          google.colab.kernel.accessAllowed ? 'block' : 'none';\n",
              "\n",
              "        async function convertToInteractive(key) {\n",
              "          const element = document.querySelector('#df-4da2d523-8fa5-4818-8199-5da31da620ca');\n",
              "          const dataTable =\n",
              "            await google.colab.kernel.invokeFunction('convertToInteractive',\n",
              "                                                     [key], {});\n",
              "          if (!dataTable) return;\n",
              "\n",
              "          const docLinkHtml = 'Like what you see? Visit the ' +\n",
              "            '<a target=\"_blank\" href=https://colab.research.google.com/notebooks/data_table.ipynb>data table notebook</a>'\n",
              "            + ' to learn more about interactive tables.';\n",
              "          element.innerHTML = '';\n",
              "          dataTable['output_type'] = 'display_data';\n",
              "          await google.colab.output.renderOutput(dataTable, element);\n",
              "          const docLink = document.createElement('div');\n",
              "          docLink.innerHTML = docLinkHtml;\n",
              "          element.appendChild(docLink);\n",
              "        }\n",
              "      </script>\n",
              "    </div>\n",
              "  </div>\n",
              "  "
            ],
            "text/plain": [
              "        customer_id customer_name  ...  application_date     status_cd\n",
              "12   CS011215000048         芦田 沙耶  ...          20150228  C-20100421-9\n",
              "68   CS022513000105        島村 貴美子  ...          20150320  A-20091115-7\n",
              "71   CS001515000096         水野 陽子  ...          20150614  A-20100724-7\n",
              "122  CS013615000053         西脇 季衣  ...          20150128  B-20100329-6\n",
              "144  CS020412000161          小宮 薫  ...          20150822  B-20081021-3\n",
              "178  CS001215000097        竹中 あさみ  ...          20170315  A-20100211-2\n",
              "252  CS035212000007        内村 恵梨香  ...          20151013  B-20101018-6\n",
              "259  CS002515000386         野田 コウ  ...          20160410  C-20100127-8\n",
              "293  CS001615000372        稲垣 寿々花  ...          20170403  A-20100104-1\n",
              "297  CS032512000121         松井 知世  ...          20150727  A-20100103-5\n",
              "\n",
              "[10 rows x 11 columns]"
            ]
          },
          "metadata": {},
          "execution_count": 18
        }
      ]
    },
    {
      "metadata": {
        "id": "uDKEFtQmqteG"
      },
      "cell_type": "markdown",
      "source": [
        "---\n",
        "> P-016: 店舗データフレーム（df_store）から、電話番号（tel_no）が3桁-3桁-4桁のデータを全項目表示せよ。"
      ]
    },
    {
      "metadata": {
        "trusted": false,
        "id": "RbinNrcvqteH",
        "outputId": "c05d21ae-0a07-4d96-f6fd-b086a9ef141d",
        "colab": {
          "base_uri": "https://localhost:8080/",
          "height": 1000
        }
      },
      "cell_type": "code",
      "source": [
        "df_store.query('tel_no.str.contains(\"[0-9]{3}-[0-9]{3}-[0-9]{4}\")', engine='python')"
      ],
      "execution_count": 19,
      "outputs": [
        {
          "output_type": "execute_result",
          "data": {
            "text/html": [
              "\n",
              "  <div id=\"df-7402b730-6f08-49f1-a2c2-09198ef3c873\">\n",
              "    <div class=\"colab-df-container\">\n",
              "      <div>\n",
              "<style scoped>\n",
              "    .dataframe tbody tr th:only-of-type {\n",
              "        vertical-align: middle;\n",
              "    }\n",
              "\n",
              "    .dataframe tbody tr th {\n",
              "        vertical-align: top;\n",
              "    }\n",
              "\n",
              "    .dataframe thead th {\n",
              "        text-align: right;\n",
              "    }\n",
              "</style>\n",
              "<table border=\"1\" class=\"dataframe\">\n",
              "  <thead>\n",
              "    <tr style=\"text-align: right;\">\n",
              "      <th></th>\n",
              "      <th>store_cd</th>\n",
              "      <th>store_name</th>\n",
              "      <th>prefecture_cd</th>\n",
              "      <th>prefecture</th>\n",
              "      <th>address</th>\n",
              "      <th>address_kana</th>\n",
              "      <th>tel_no</th>\n",
              "      <th>longitude</th>\n",
              "      <th>latitude</th>\n",
              "      <th>floor_area</th>\n",
              "    </tr>\n",
              "  </thead>\n",
              "  <tbody>\n",
              "    <tr>\n",
              "      <th>0</th>\n",
              "      <td>S12014</td>\n",
              "      <td>千草台店</td>\n",
              "      <td>12</td>\n",
              "      <td>千葉県</td>\n",
              "      <td>千葉県千葉市稲毛区千草台一丁目</td>\n",
              "      <td>チバケンチバシイナゲクチグサダイイッチョウメ</td>\n",
              "      <td>043-123-4003</td>\n",
              "      <td>140.1180</td>\n",
              "      <td>35.63559</td>\n",
              "      <td>1698.0</td>\n",
              "    </tr>\n",
              "    <tr>\n",
              "      <th>1</th>\n",
              "      <td>S13002</td>\n",
              "      <td>国分寺店</td>\n",
              "      <td>13</td>\n",
              "      <td>東京都</td>\n",
              "      <td>東京都国分寺市本多二丁目</td>\n",
              "      <td>トウキョウトコクブンジシホンダニチョウメ</td>\n",
              "      <td>042-123-4008</td>\n",
              "      <td>139.4802</td>\n",
              "      <td>35.70566</td>\n",
              "      <td>1735.0</td>\n",
              "    </tr>\n",
              "    <tr>\n",
              "      <th>2</th>\n",
              "      <td>S14010</td>\n",
              "      <td>菊名店</td>\n",
              "      <td>14</td>\n",
              "      <td>神奈川県</td>\n",
              "      <td>神奈川県横浜市港北区菊名一丁目</td>\n",
              "      <td>カナガワケンヨコハマシコウホククキクナイッチョウメ</td>\n",
              "      <td>045-123-4032</td>\n",
              "      <td>139.6326</td>\n",
              "      <td>35.50049</td>\n",
              "      <td>1732.0</td>\n",
              "    </tr>\n",
              "    <tr>\n",
              "      <th>3</th>\n",
              "      <td>S14033</td>\n",
              "      <td>阿久和店</td>\n",
              "      <td>14</td>\n",
              "      <td>神奈川県</td>\n",
              "      <td>神奈川県横浜市瀬谷区阿久和西一丁目</td>\n",
              "      <td>カナガワケンヨコハマシセヤクアクワニシイッチョウメ</td>\n",
              "      <td>045-123-4043</td>\n",
              "      <td>139.4961</td>\n",
              "      <td>35.45918</td>\n",
              "      <td>1495.0</td>\n",
              "    </tr>\n",
              "    <tr>\n",
              "      <th>4</th>\n",
              "      <td>S14036</td>\n",
              "      <td>相模原中央店</td>\n",
              "      <td>14</td>\n",
              "      <td>神奈川県</td>\n",
              "      <td>神奈川県相模原市中央二丁目</td>\n",
              "      <td>カナガワケンサガミハラシチュウオウニチョウメ</td>\n",
              "      <td>042-123-4045</td>\n",
              "      <td>139.3716</td>\n",
              "      <td>35.57327</td>\n",
              "      <td>1679.0</td>\n",
              "    </tr>\n",
              "    <tr>\n",
              "      <th>7</th>\n",
              "      <td>S14040</td>\n",
              "      <td>長津田店</td>\n",
              "      <td>14</td>\n",
              "      <td>神奈川県</td>\n",
              "      <td>神奈川県横浜市緑区長津田みなみ台五丁目</td>\n",
              "      <td>カナガワケンヨコハマシミドリクナガツタミナミダイゴチョウメ</td>\n",
              "      <td>045-123-4046</td>\n",
              "      <td>139.4994</td>\n",
              "      <td>35.52398</td>\n",
              "      <td>1548.0</td>\n",
              "    </tr>\n",
              "    <tr>\n",
              "      <th>9</th>\n",
              "      <td>S14050</td>\n",
              "      <td>阿久和西店</td>\n",
              "      <td>14</td>\n",
              "      <td>神奈川県</td>\n",
              "      <td>神奈川県横浜市瀬谷区阿久和西一丁目</td>\n",
              "      <td>カナガワケンヨコハマシセヤクアクワニシイッチョウメ</td>\n",
              "      <td>045-123-4053</td>\n",
              "      <td>139.4961</td>\n",
              "      <td>35.45918</td>\n",
              "      <td>1830.0</td>\n",
              "    </tr>\n",
              "    <tr>\n",
              "      <th>11</th>\n",
              "      <td>S13052</td>\n",
              "      <td>森野店</td>\n",
              "      <td>13</td>\n",
              "      <td>東京都</td>\n",
              "      <td>東京都町田市森野三丁目</td>\n",
              "      <td>トウキョウトマチダシモリノサンチョウメ</td>\n",
              "      <td>042-123-4030</td>\n",
              "      <td>139.4383</td>\n",
              "      <td>35.55293</td>\n",
              "      <td>1087.0</td>\n",
              "    </tr>\n",
              "    <tr>\n",
              "      <th>12</th>\n",
              "      <td>S14028</td>\n",
              "      <td>二ツ橋店</td>\n",
              "      <td>14</td>\n",
              "      <td>神奈川県</td>\n",
              "      <td>神奈川県横浜市瀬谷区二ツ橋町</td>\n",
              "      <td>カナガワケンヨコハマシセヤクフタツバシチョウ</td>\n",
              "      <td>045-123-4042</td>\n",
              "      <td>139.4963</td>\n",
              "      <td>35.46304</td>\n",
              "      <td>1574.0</td>\n",
              "    </tr>\n",
              "    <tr>\n",
              "      <th>16</th>\n",
              "      <td>S14012</td>\n",
              "      <td>本牧和田店</td>\n",
              "      <td>14</td>\n",
              "      <td>神奈川県</td>\n",
              "      <td>神奈川県横浜市中区本牧和田</td>\n",
              "      <td>カナガワケンヨコハマシナカクホンモクワダ</td>\n",
              "      <td>045-123-4034</td>\n",
              "      <td>139.6582</td>\n",
              "      <td>35.42156</td>\n",
              "      <td>1341.0</td>\n",
              "    </tr>\n",
              "    <tr>\n",
              "      <th>18</th>\n",
              "      <td>S14046</td>\n",
              "      <td>北山田店</td>\n",
              "      <td>14</td>\n",
              "      <td>神奈川県</td>\n",
              "      <td>神奈川県横浜市都筑区北山田一丁目</td>\n",
              "      <td>カナガワケンヨコハマシツヅキクキタヤマタイッチョウメ</td>\n",
              "      <td>045-123-4049</td>\n",
              "      <td>139.5916</td>\n",
              "      <td>35.56189</td>\n",
              "      <td>831.0</td>\n",
              "    </tr>\n",
              "    <tr>\n",
              "      <th>19</th>\n",
              "      <td>S14022</td>\n",
              "      <td>逗子店</td>\n",
              "      <td>14</td>\n",
              "      <td>神奈川県</td>\n",
              "      <td>神奈川県逗子市逗子一丁目</td>\n",
              "      <td>カナガワケンズシシズシイッチョウメ</td>\n",
              "      <td>046-123-4036</td>\n",
              "      <td>139.5789</td>\n",
              "      <td>35.29642</td>\n",
              "      <td>1838.0</td>\n",
              "    </tr>\n",
              "    <tr>\n",
              "      <th>20</th>\n",
              "      <td>S14011</td>\n",
              "      <td>日吉本町店</td>\n",
              "      <td>14</td>\n",
              "      <td>神奈川県</td>\n",
              "      <td>神奈川県横浜市港北区日吉本町四丁目</td>\n",
              "      <td>カナガワケンヨコハマシコウホククヒヨシホンチョウヨンチョウメ</td>\n",
              "      <td>045-123-4033</td>\n",
              "      <td>139.6316</td>\n",
              "      <td>35.54655</td>\n",
              "      <td>890.0</td>\n",
              "    </tr>\n",
              "    <tr>\n",
              "      <th>21</th>\n",
              "      <td>S13016</td>\n",
              "      <td>小金井店</td>\n",
              "      <td>13</td>\n",
              "      <td>東京都</td>\n",
              "      <td>東京都小金井市本町一丁目</td>\n",
              "      <td>トウキョウトコガネイシホンチョウイッチョウメ</td>\n",
              "      <td>042-123-4015</td>\n",
              "      <td>139.5094</td>\n",
              "      <td>35.70018</td>\n",
              "      <td>1399.0</td>\n",
              "    </tr>\n",
              "    <tr>\n",
              "      <th>22</th>\n",
              "      <td>S14034</td>\n",
              "      <td>川崎野川店</td>\n",
              "      <td>14</td>\n",
              "      <td>神奈川県</td>\n",
              "      <td>神奈川県川崎市宮前区野川</td>\n",
              "      <td>カナガワケンカワサキシミヤマエクノガワ</td>\n",
              "      <td>044-123-4044</td>\n",
              "      <td>139.5998</td>\n",
              "      <td>35.57693</td>\n",
              "      <td>1318.0</td>\n",
              "    </tr>\n",
              "    <tr>\n",
              "      <th>26</th>\n",
              "      <td>S14048</td>\n",
              "      <td>中川中央店</td>\n",
              "      <td>14</td>\n",
              "      <td>神奈川県</td>\n",
              "      <td>神奈川県横浜市都筑区中川中央二丁目</td>\n",
              "      <td>カナガワケンヨコハマシツヅキクナカガワチュウオウニチョウメ</td>\n",
              "      <td>045-123-4051</td>\n",
              "      <td>139.5758</td>\n",
              "      <td>35.54912</td>\n",
              "      <td>1657.0</td>\n",
              "    </tr>\n",
              "    <tr>\n",
              "      <th>27</th>\n",
              "      <td>S12007</td>\n",
              "      <td>佐倉店</td>\n",
              "      <td>12</td>\n",
              "      <td>千葉県</td>\n",
              "      <td>千葉県佐倉市上志津</td>\n",
              "      <td>チバケンサクラシカミシヅ</td>\n",
              "      <td>043-123-4001</td>\n",
              "      <td>140.1452</td>\n",
              "      <td>35.71872</td>\n",
              "      <td>1895.0</td>\n",
              "    </tr>\n",
              "    <tr>\n",
              "      <th>28</th>\n",
              "      <td>S14026</td>\n",
              "      <td>辻堂西海岸店</td>\n",
              "      <td>14</td>\n",
              "      <td>神奈川県</td>\n",
              "      <td>神奈川県藤沢市辻堂西海岸二丁目</td>\n",
              "      <td>カナガワケンフジサワシツジドウニシカイガンニチョウメ</td>\n",
              "      <td>046-123-4040</td>\n",
              "      <td>139.4466</td>\n",
              "      <td>35.32464</td>\n",
              "      <td>1732.0</td>\n",
              "    </tr>\n",
              "    <tr>\n",
              "      <th>29</th>\n",
              "      <td>S13041</td>\n",
              "      <td>八王子店</td>\n",
              "      <td>13</td>\n",
              "      <td>東京都</td>\n",
              "      <td>東京都八王子市大塚</td>\n",
              "      <td>トウキョウトハチオウジシオオツカ</td>\n",
              "      <td>042-123-4026</td>\n",
              "      <td>139.4235</td>\n",
              "      <td>35.63787</td>\n",
              "      <td>810.0</td>\n",
              "    </tr>\n",
              "    <tr>\n",
              "      <th>31</th>\n",
              "      <td>S14049</td>\n",
              "      <td>川崎大師店</td>\n",
              "      <td>14</td>\n",
              "      <td>神奈川県</td>\n",
              "      <td>神奈川県川崎市川崎区中瀬三丁目</td>\n",
              "      <td>カナガワケンカワサキシカワサキクナカゼサンチョウメ</td>\n",
              "      <td>044-123-4052</td>\n",
              "      <td>139.7327</td>\n",
              "      <td>35.53759</td>\n",
              "      <td>962.0</td>\n",
              "    </tr>\n",
              "    <tr>\n",
              "      <th>32</th>\n",
              "      <td>S14023</td>\n",
              "      <td>川崎店</td>\n",
              "      <td>14</td>\n",
              "      <td>神奈川県</td>\n",
              "      <td>神奈川県川崎市川崎区本町二丁目</td>\n",
              "      <td>カナガワケンカワサキシカワサキクホンチョウニチョウメ</td>\n",
              "      <td>044-123-4037</td>\n",
              "      <td>139.7028</td>\n",
              "      <td>35.53599</td>\n",
              "      <td>1804.0</td>\n",
              "    </tr>\n",
              "    <tr>\n",
              "      <th>33</th>\n",
              "      <td>S13018</td>\n",
              "      <td>清瀬店</td>\n",
              "      <td>13</td>\n",
              "      <td>東京都</td>\n",
              "      <td>東京都清瀬市松山一丁目</td>\n",
              "      <td>トウキョウトキヨセシマツヤマイッチョウメ</td>\n",
              "      <td>042-123-4017</td>\n",
              "      <td>139.5178</td>\n",
              "      <td>35.76885</td>\n",
              "      <td>1220.0</td>\n",
              "    </tr>\n",
              "    <tr>\n",
              "      <th>35</th>\n",
              "      <td>S14027</td>\n",
              "      <td>南藤沢店</td>\n",
              "      <td>14</td>\n",
              "      <td>神奈川県</td>\n",
              "      <td>神奈川県藤沢市南藤沢</td>\n",
              "      <td>カナガワケンフジサワシミナミフジサワ</td>\n",
              "      <td>046-123-4041</td>\n",
              "      <td>139.4896</td>\n",
              "      <td>35.33762</td>\n",
              "      <td>1521.0</td>\n",
              "    </tr>\n",
              "    <tr>\n",
              "      <th>36</th>\n",
              "      <td>S14021</td>\n",
              "      <td>伊勢原店</td>\n",
              "      <td>14</td>\n",
              "      <td>神奈川県</td>\n",
              "      <td>神奈川県伊勢原市伊勢原四丁目</td>\n",
              "      <td>カナガワケンイセハラシイセハラヨンチョウメ</td>\n",
              "      <td>046-123-4035</td>\n",
              "      <td>139.3129</td>\n",
              "      <td>35.40169</td>\n",
              "      <td>962.0</td>\n",
              "    </tr>\n",
              "    <tr>\n",
              "      <th>37</th>\n",
              "      <td>S14047</td>\n",
              "      <td>相模原店</td>\n",
              "      <td>14</td>\n",
              "      <td>神奈川県</td>\n",
              "      <td>神奈川県相模原市千代田六丁目</td>\n",
              "      <td>カナガワケンサガミハラシチヨダロクチョウメ</td>\n",
              "      <td>042-123-4050</td>\n",
              "      <td>139.3748</td>\n",
              "      <td>35.55959</td>\n",
              "      <td>1047.0</td>\n",
              "    </tr>\n",
              "    <tr>\n",
              "      <th>38</th>\n",
              "      <td>S12013</td>\n",
              "      <td>習志野店</td>\n",
              "      <td>12</td>\n",
              "      <td>千葉県</td>\n",
              "      <td>千葉県習志野市芝園一丁目</td>\n",
              "      <td>チバケンナラシノシシバゾノイッチョウメ</td>\n",
              "      <td>047-123-4002</td>\n",
              "      <td>140.0220</td>\n",
              "      <td>35.66122</td>\n",
              "      <td>808.0</td>\n",
              "    </tr>\n",
              "    <tr>\n",
              "      <th>40</th>\n",
              "      <td>S14042</td>\n",
              "      <td>新山下店</td>\n",
              "      <td>14</td>\n",
              "      <td>神奈川県</td>\n",
              "      <td>神奈川県横浜市中区新山下二丁目</td>\n",
              "      <td>カナガワケンヨコハマシナカクシンヤマシタニチョウメ</td>\n",
              "      <td>045-123-4047</td>\n",
              "      <td>139.6593</td>\n",
              "      <td>35.43894</td>\n",
              "      <td>1044.0</td>\n",
              "    </tr>\n",
              "    <tr>\n",
              "      <th>42</th>\n",
              "      <td>S12030</td>\n",
              "      <td>八幡店</td>\n",
              "      <td>12</td>\n",
              "      <td>千葉県</td>\n",
              "      <td>千葉県市川市八幡三丁目</td>\n",
              "      <td>チバケンイチカワシヤワタサンチョウメ</td>\n",
              "      <td>047-123-4005</td>\n",
              "      <td>139.9240</td>\n",
              "      <td>35.72318</td>\n",
              "      <td>1162.0</td>\n",
              "    </tr>\n",
              "    <tr>\n",
              "      <th>44</th>\n",
              "      <td>S14025</td>\n",
              "      <td>大和店</td>\n",
              "      <td>14</td>\n",
              "      <td>神奈川県</td>\n",
              "      <td>神奈川県大和市下和田</td>\n",
              "      <td>カナガワケンヤマトシシモワダ</td>\n",
              "      <td>046-123-4039</td>\n",
              "      <td>139.4680</td>\n",
              "      <td>35.43414</td>\n",
              "      <td>1011.0</td>\n",
              "    </tr>\n",
              "    <tr>\n",
              "      <th>45</th>\n",
              "      <td>S14045</td>\n",
              "      <td>厚木店</td>\n",
              "      <td>14</td>\n",
              "      <td>神奈川県</td>\n",
              "      <td>神奈川県厚木市中町二丁目</td>\n",
              "      <td>カナガワケンアツギシナカチョウニチョウメ</td>\n",
              "      <td>046-123-4048</td>\n",
              "      <td>139.3651</td>\n",
              "      <td>35.44182</td>\n",
              "      <td>980.0</td>\n",
              "    </tr>\n",
              "    <tr>\n",
              "      <th>47</th>\n",
              "      <td>S12029</td>\n",
              "      <td>東野店</td>\n",
              "      <td>12</td>\n",
              "      <td>千葉県</td>\n",
              "      <td>千葉県浦安市東野一丁目</td>\n",
              "      <td>チバケンウラヤスシヒガシノイッチョウメ</td>\n",
              "      <td>047-123-4004</td>\n",
              "      <td>139.8968</td>\n",
              "      <td>35.65086</td>\n",
              "      <td>1101.0</td>\n",
              "    </tr>\n",
              "    <tr>\n",
              "      <th>49</th>\n",
              "      <td>S12053</td>\n",
              "      <td>高洲店</td>\n",
              "      <td>12</td>\n",
              "      <td>千葉県</td>\n",
              "      <td>千葉県浦安市高洲五丁目</td>\n",
              "      <td>チバケンウラヤスシタカスゴチョウメ</td>\n",
              "      <td>047-123-4006</td>\n",
              "      <td>139.9176</td>\n",
              "      <td>35.63755</td>\n",
              "      <td>1555.0</td>\n",
              "    </tr>\n",
              "    <tr>\n",
              "      <th>51</th>\n",
              "      <td>S14024</td>\n",
              "      <td>三田店</td>\n",
              "      <td>14</td>\n",
              "      <td>神奈川県</td>\n",
              "      <td>神奈川県川崎市多摩区三田四丁目</td>\n",
              "      <td>カナガワケンカワサキシタマクミタヨンチョウメ</td>\n",
              "      <td>044-123-4038</td>\n",
              "      <td>139.5424</td>\n",
              "      <td>35.60770</td>\n",
              "      <td>972.0</td>\n",
              "    </tr>\n",
              "    <tr>\n",
              "      <th>52</th>\n",
              "      <td>S14006</td>\n",
              "      <td>葛が谷店</td>\n",
              "      <td>14</td>\n",
              "      <td>神奈川県</td>\n",
              "      <td>神奈川県横浜市都筑区葛が谷</td>\n",
              "      <td>カナガワケンヨコハマシツヅキククズガヤ</td>\n",
              "      <td>045-123-4031</td>\n",
              "      <td>139.5633</td>\n",
              "      <td>35.53573</td>\n",
              "      <td>1886.0</td>\n",
              "    </tr>\n",
              "  </tbody>\n",
              "</table>\n",
              "</div>\n",
              "      <button class=\"colab-df-convert\" onclick=\"convertToInteractive('df-7402b730-6f08-49f1-a2c2-09198ef3c873')\"\n",
              "              title=\"Convert this dataframe to an interactive table.\"\n",
              "              style=\"display:none;\">\n",
              "        \n",
              "  <svg xmlns=\"http://www.w3.org/2000/svg\" height=\"24px\"viewBox=\"0 0 24 24\"\n",
              "       width=\"24px\">\n",
              "    <path d=\"M0 0h24v24H0V0z\" fill=\"none\"/>\n",
              "    <path d=\"M18.56 5.44l.94 2.06.94-2.06 2.06-.94-2.06-.94-.94-2.06-.94 2.06-2.06.94zm-11 1L8.5 8.5l.94-2.06 2.06-.94-2.06-.94L8.5 2.5l-.94 2.06-2.06.94zm10 10l.94 2.06.94-2.06 2.06-.94-2.06-.94-.94-2.06-.94 2.06-2.06.94z\"/><path d=\"M17.41 7.96l-1.37-1.37c-.4-.4-.92-.59-1.43-.59-.52 0-1.04.2-1.43.59L10.3 9.45l-7.72 7.72c-.78.78-.78 2.05 0 2.83L4 21.41c.39.39.9.59 1.41.59.51 0 1.02-.2 1.41-.59l7.78-7.78 2.81-2.81c.8-.78.8-2.07 0-2.86zM5.41 20L4 18.59l7.72-7.72 1.47 1.35L5.41 20z\"/>\n",
              "  </svg>\n",
              "      </button>\n",
              "      \n",
              "  <style>\n",
              "    .colab-df-container {\n",
              "      display:flex;\n",
              "      flex-wrap:wrap;\n",
              "      gap: 12px;\n",
              "    }\n",
              "\n",
              "    .colab-df-convert {\n",
              "      background-color: #E8F0FE;\n",
              "      border: none;\n",
              "      border-radius: 50%;\n",
              "      cursor: pointer;\n",
              "      display: none;\n",
              "      fill: #1967D2;\n",
              "      height: 32px;\n",
              "      padding: 0 0 0 0;\n",
              "      width: 32px;\n",
              "    }\n",
              "\n",
              "    .colab-df-convert:hover {\n",
              "      background-color: #E2EBFA;\n",
              "      box-shadow: 0px 1px 2px rgba(60, 64, 67, 0.3), 0px 1px 3px 1px rgba(60, 64, 67, 0.15);\n",
              "      fill: #174EA6;\n",
              "    }\n",
              "\n",
              "    [theme=dark] .colab-df-convert {\n",
              "      background-color: #3B4455;\n",
              "      fill: #D2E3FC;\n",
              "    }\n",
              "\n",
              "    [theme=dark] .colab-df-convert:hover {\n",
              "      background-color: #434B5C;\n",
              "      box-shadow: 0px 1px 3px 1px rgba(0, 0, 0, 0.15);\n",
              "      filter: drop-shadow(0px 1px 2px rgba(0, 0, 0, 0.3));\n",
              "      fill: #FFFFFF;\n",
              "    }\n",
              "  </style>\n",
              "\n",
              "      <script>\n",
              "        const buttonEl =\n",
              "          document.querySelector('#df-7402b730-6f08-49f1-a2c2-09198ef3c873 button.colab-df-convert');\n",
              "        buttonEl.style.display =\n",
              "          google.colab.kernel.accessAllowed ? 'block' : 'none';\n",
              "\n",
              "        async function convertToInteractive(key) {\n",
              "          const element = document.querySelector('#df-7402b730-6f08-49f1-a2c2-09198ef3c873');\n",
              "          const dataTable =\n",
              "            await google.colab.kernel.invokeFunction('convertToInteractive',\n",
              "                                                     [key], {});\n",
              "          if (!dataTable) return;\n",
              "\n",
              "          const docLinkHtml = 'Like what you see? Visit the ' +\n",
              "            '<a target=\"_blank\" href=https://colab.research.google.com/notebooks/data_table.ipynb>data table notebook</a>'\n",
              "            + ' to learn more about interactive tables.';\n",
              "          element.innerHTML = '';\n",
              "          dataTable['output_type'] = 'display_data';\n",
              "          await google.colab.output.renderOutput(dataTable, element);\n",
              "          const docLink = document.createElement('div');\n",
              "          docLink.innerHTML = docLinkHtml;\n",
              "          element.appendChild(docLink);\n",
              "        }\n",
              "      </script>\n",
              "    </div>\n",
              "  </div>\n",
              "  "
            ],
            "text/plain": [
              "   store_cd store_name  prefecture_cd  ... longitude  latitude floor_area\n",
              "0    S12014       千草台店             12  ...  140.1180  35.63559     1698.0\n",
              "1    S13002       国分寺店             13  ...  139.4802  35.70566     1735.0\n",
              "2    S14010        菊名店             14  ...  139.6326  35.50049     1732.0\n",
              "3    S14033       阿久和店             14  ...  139.4961  35.45918     1495.0\n",
              "4    S14036     相模原中央店             14  ...  139.3716  35.57327     1679.0\n",
              "7    S14040       長津田店             14  ...  139.4994  35.52398     1548.0\n",
              "9    S14050      阿久和西店             14  ...  139.4961  35.45918     1830.0\n",
              "11   S13052        森野店             13  ...  139.4383  35.55293     1087.0\n",
              "12   S14028       二ツ橋店             14  ...  139.4963  35.46304     1574.0\n",
              "16   S14012      本牧和田店             14  ...  139.6582  35.42156     1341.0\n",
              "18   S14046       北山田店             14  ...  139.5916  35.56189      831.0\n",
              "19   S14022        逗子店             14  ...  139.5789  35.29642     1838.0\n",
              "20   S14011      日吉本町店             14  ...  139.6316  35.54655      890.0\n",
              "21   S13016       小金井店             13  ...  139.5094  35.70018     1399.0\n",
              "22   S14034      川崎野川店             14  ...  139.5998  35.57693     1318.0\n",
              "26   S14048      中川中央店             14  ...  139.5758  35.54912     1657.0\n",
              "27   S12007        佐倉店             12  ...  140.1452  35.71872     1895.0\n",
              "28   S14026     辻堂西海岸店             14  ...  139.4466  35.32464     1732.0\n",
              "29   S13041       八王子店             13  ...  139.4235  35.63787      810.0\n",
              "31   S14049      川崎大師店             14  ...  139.7327  35.53759      962.0\n",
              "32   S14023        川崎店             14  ...  139.7028  35.53599     1804.0\n",
              "33   S13018        清瀬店             13  ...  139.5178  35.76885     1220.0\n",
              "35   S14027       南藤沢店             14  ...  139.4896  35.33762     1521.0\n",
              "36   S14021       伊勢原店             14  ...  139.3129  35.40169      962.0\n",
              "37   S14047       相模原店             14  ...  139.3748  35.55959     1047.0\n",
              "38   S12013       習志野店             12  ...  140.0220  35.66122      808.0\n",
              "40   S14042       新山下店             14  ...  139.6593  35.43894     1044.0\n",
              "42   S12030        八幡店             12  ...  139.9240  35.72318     1162.0\n",
              "44   S14025        大和店             14  ...  139.4680  35.43414     1011.0\n",
              "45   S14045        厚木店             14  ...  139.3651  35.44182      980.0\n",
              "47   S12029        東野店             12  ...  139.8968  35.65086     1101.0\n",
              "49   S12053        高洲店             12  ...  139.9176  35.63755     1555.0\n",
              "51   S14024        三田店             14  ...  139.5424  35.60770      972.0\n",
              "52   S14006       葛が谷店             14  ...  139.5633  35.53573     1886.0\n",
              "\n",
              "[34 rows x 10 columns]"
            ]
          },
          "metadata": {},
          "execution_count": 19
        }
      ]
    },
    {
      "metadata": {
        "id": "2hwHtMFxqteH"
      },
      "cell_type": "markdown",
      "source": [
        "---\n",
        "> P-17: 顧客データフレーム（df_customer）を生年月日（birth_day）で高齢順にソートし、先頭10件を全項目表示せよ。"
      ]
    },
    {
      "metadata": {
        "trusted": false,
        "id": "_7NIyIzFqteI",
        "outputId": "5e8b9b94-219f-4cdf-e11d-688a65b918b1",
        "colab": {
          "base_uri": "https://localhost:8080/",
          "height": 774
        }
      },
      "cell_type": "code",
      "source": [
        "df_customer.sort_values('birth_day', ascending=True).head(10)"
      ],
      "execution_count": 20,
      "outputs": [
        {
          "output_type": "execute_result",
          "data": {
            "text/html": [
              "\n",
              "  <div id=\"df-98a44d0e-d03c-4ae8-ad14-4b7137cc2fea\">\n",
              "    <div class=\"colab-df-container\">\n",
              "      <div>\n",
              "<style scoped>\n",
              "    .dataframe tbody tr th:only-of-type {\n",
              "        vertical-align: middle;\n",
              "    }\n",
              "\n",
              "    .dataframe tbody tr th {\n",
              "        vertical-align: top;\n",
              "    }\n",
              "\n",
              "    .dataframe thead th {\n",
              "        text-align: right;\n",
              "    }\n",
              "</style>\n",
              "<table border=\"1\" class=\"dataframe\">\n",
              "  <thead>\n",
              "    <tr style=\"text-align: right;\">\n",
              "      <th></th>\n",
              "      <th>customer_id</th>\n",
              "      <th>customer_name</th>\n",
              "      <th>gender_cd</th>\n",
              "      <th>gender</th>\n",
              "      <th>birth_day</th>\n",
              "      <th>age</th>\n",
              "      <th>postal_cd</th>\n",
              "      <th>address</th>\n",
              "      <th>application_store_cd</th>\n",
              "      <th>application_date</th>\n",
              "      <th>status_cd</th>\n",
              "    </tr>\n",
              "  </thead>\n",
              "  <tbody>\n",
              "    <tr>\n",
              "      <th>18817</th>\n",
              "      <td>CS003813000014</td>\n",
              "      <td>村山 菜々美</td>\n",
              "      <td>1</td>\n",
              "      <td>女性</td>\n",
              "      <td>1928-11-26</td>\n",
              "      <td>90</td>\n",
              "      <td>182-0007</td>\n",
              "      <td>東京都調布市菊野台**********</td>\n",
              "      <td>S13003</td>\n",
              "      <td>20160214</td>\n",
              "      <td>0-00000000-0</td>\n",
              "    </tr>\n",
              "    <tr>\n",
              "      <th>12328</th>\n",
              "      <td>CS026813000004</td>\n",
              "      <td>吉村 朝陽</td>\n",
              "      <td>1</td>\n",
              "      <td>女性</td>\n",
              "      <td>1928-12-14</td>\n",
              "      <td>90</td>\n",
              "      <td>251-0043</td>\n",
              "      <td>神奈川県藤沢市辻堂元町**********</td>\n",
              "      <td>S14026</td>\n",
              "      <td>20150723</td>\n",
              "      <td>0-00000000-0</td>\n",
              "    </tr>\n",
              "    <tr>\n",
              "      <th>15682</th>\n",
              "      <td>CS018811000003</td>\n",
              "      <td>熊沢 美里</td>\n",
              "      <td>1</td>\n",
              "      <td>女性</td>\n",
              "      <td>1929-01-07</td>\n",
              "      <td>90</td>\n",
              "      <td>204-0004</td>\n",
              "      <td>東京都清瀬市野塩**********</td>\n",
              "      <td>S13018</td>\n",
              "      <td>20150403</td>\n",
              "      <td>0-00000000-0</td>\n",
              "    </tr>\n",
              "    <tr>\n",
              "      <th>15302</th>\n",
              "      <td>CS027803000004</td>\n",
              "      <td>内村 拓郎</td>\n",
              "      <td>0</td>\n",
              "      <td>男性</td>\n",
              "      <td>1929-01-12</td>\n",
              "      <td>90</td>\n",
              "      <td>251-0031</td>\n",
              "      <td>神奈川県藤沢市鵠沼藤が谷**********</td>\n",
              "      <td>S14027</td>\n",
              "      <td>20151227</td>\n",
              "      <td>0-00000000-0</td>\n",
              "    </tr>\n",
              "    <tr>\n",
              "      <th>1681</th>\n",
              "      <td>CS013801000003</td>\n",
              "      <td>天野 拓郎</td>\n",
              "      <td>0</td>\n",
              "      <td>男性</td>\n",
              "      <td>1929-01-15</td>\n",
              "      <td>90</td>\n",
              "      <td>274-0824</td>\n",
              "      <td>千葉県船橋市前原東**********</td>\n",
              "      <td>S12013</td>\n",
              "      <td>20160120</td>\n",
              "      <td>0-00000000-0</td>\n",
              "    </tr>\n",
              "    <tr>\n",
              "      <th>7511</th>\n",
              "      <td>CS001814000022</td>\n",
              "      <td>鶴田 里穂</td>\n",
              "      <td>1</td>\n",
              "      <td>女性</td>\n",
              "      <td>1929-01-28</td>\n",
              "      <td>90</td>\n",
              "      <td>144-0045</td>\n",
              "      <td>東京都大田区南六郷**********</td>\n",
              "      <td>S13001</td>\n",
              "      <td>20161012</td>\n",
              "      <td>A-20090415-7</td>\n",
              "    </tr>\n",
              "    <tr>\n",
              "      <th>2378</th>\n",
              "      <td>CS016815000002</td>\n",
              "      <td>山元 美紀</td>\n",
              "      <td>1</td>\n",
              "      <td>女性</td>\n",
              "      <td>1929-02-22</td>\n",
              "      <td>90</td>\n",
              "      <td>184-0005</td>\n",
              "      <td>東京都小金井市桜町**********</td>\n",
              "      <td>S13016</td>\n",
              "      <td>20150629</td>\n",
              "      <td>C-20090923-C</td>\n",
              "    </tr>\n",
              "    <tr>\n",
              "      <th>4680</th>\n",
              "      <td>CS009815000003</td>\n",
              "      <td>中田 里穂</td>\n",
              "      <td>1</td>\n",
              "      <td>女性</td>\n",
              "      <td>1929-04-08</td>\n",
              "      <td>89</td>\n",
              "      <td>154-0014</td>\n",
              "      <td>東京都世田谷区新町**********</td>\n",
              "      <td>S13009</td>\n",
              "      <td>20150421</td>\n",
              "      <td>D-20091021-E</td>\n",
              "    </tr>\n",
              "    <tr>\n",
              "      <th>16070</th>\n",
              "      <td>CS005813000015</td>\n",
              "      <td>金谷 恵梨香</td>\n",
              "      <td>1</td>\n",
              "      <td>女性</td>\n",
              "      <td>1929-04-09</td>\n",
              "      <td>89</td>\n",
              "      <td>165-0032</td>\n",
              "      <td>東京都中野区鷺宮**********</td>\n",
              "      <td>S13005</td>\n",
              "      <td>20150506</td>\n",
              "      <td>0-00000000-0</td>\n",
              "    </tr>\n",
              "    <tr>\n",
              "      <th>6305</th>\n",
              "      <td>CS012813000013</td>\n",
              "      <td>宇野 南朋</td>\n",
              "      <td>1</td>\n",
              "      <td>女性</td>\n",
              "      <td>1929-04-09</td>\n",
              "      <td>89</td>\n",
              "      <td>231-0806</td>\n",
              "      <td>神奈川県横浜市中区本牧町**********</td>\n",
              "      <td>S14012</td>\n",
              "      <td>20150712</td>\n",
              "      <td>0-00000000-0</td>\n",
              "    </tr>\n",
              "  </tbody>\n",
              "</table>\n",
              "</div>\n",
              "      <button class=\"colab-df-convert\" onclick=\"convertToInteractive('df-98a44d0e-d03c-4ae8-ad14-4b7137cc2fea')\"\n",
              "              title=\"Convert this dataframe to an interactive table.\"\n",
              "              style=\"display:none;\">\n",
              "        \n",
              "  <svg xmlns=\"http://www.w3.org/2000/svg\" height=\"24px\"viewBox=\"0 0 24 24\"\n",
              "       width=\"24px\">\n",
              "    <path d=\"M0 0h24v24H0V0z\" fill=\"none\"/>\n",
              "    <path d=\"M18.56 5.44l.94 2.06.94-2.06 2.06-.94-2.06-.94-.94-2.06-.94 2.06-2.06.94zm-11 1L8.5 8.5l.94-2.06 2.06-.94-2.06-.94L8.5 2.5l-.94 2.06-2.06.94zm10 10l.94 2.06.94-2.06 2.06-.94-2.06-.94-.94-2.06-.94 2.06-2.06.94z\"/><path d=\"M17.41 7.96l-1.37-1.37c-.4-.4-.92-.59-1.43-.59-.52 0-1.04.2-1.43.59L10.3 9.45l-7.72 7.72c-.78.78-.78 2.05 0 2.83L4 21.41c.39.39.9.59 1.41.59.51 0 1.02-.2 1.41-.59l7.78-7.78 2.81-2.81c.8-.78.8-2.07 0-2.86zM5.41 20L4 18.59l7.72-7.72 1.47 1.35L5.41 20z\"/>\n",
              "  </svg>\n",
              "      </button>\n",
              "      \n",
              "  <style>\n",
              "    .colab-df-container {\n",
              "      display:flex;\n",
              "      flex-wrap:wrap;\n",
              "      gap: 12px;\n",
              "    }\n",
              "\n",
              "    .colab-df-convert {\n",
              "      background-color: #E8F0FE;\n",
              "      border: none;\n",
              "      border-radius: 50%;\n",
              "      cursor: pointer;\n",
              "      display: none;\n",
              "      fill: #1967D2;\n",
              "      height: 32px;\n",
              "      padding: 0 0 0 0;\n",
              "      width: 32px;\n",
              "    }\n",
              "\n",
              "    .colab-df-convert:hover {\n",
              "      background-color: #E2EBFA;\n",
              "      box-shadow: 0px 1px 2px rgba(60, 64, 67, 0.3), 0px 1px 3px 1px rgba(60, 64, 67, 0.15);\n",
              "      fill: #174EA6;\n",
              "    }\n",
              "\n",
              "    [theme=dark] .colab-df-convert {\n",
              "      background-color: #3B4455;\n",
              "      fill: #D2E3FC;\n",
              "    }\n",
              "\n",
              "    [theme=dark] .colab-df-convert:hover {\n",
              "      background-color: #434B5C;\n",
              "      box-shadow: 0px 1px 3px 1px rgba(0, 0, 0, 0.15);\n",
              "      filter: drop-shadow(0px 1px 2px rgba(0, 0, 0, 0.3));\n",
              "      fill: #FFFFFF;\n",
              "    }\n",
              "  </style>\n",
              "\n",
              "      <script>\n",
              "        const buttonEl =\n",
              "          document.querySelector('#df-98a44d0e-d03c-4ae8-ad14-4b7137cc2fea button.colab-df-convert');\n",
              "        buttonEl.style.display =\n",
              "          google.colab.kernel.accessAllowed ? 'block' : 'none';\n",
              "\n",
              "        async function convertToInteractive(key) {\n",
              "          const element = document.querySelector('#df-98a44d0e-d03c-4ae8-ad14-4b7137cc2fea');\n",
              "          const dataTable =\n",
              "            await google.colab.kernel.invokeFunction('convertToInteractive',\n",
              "                                                     [key], {});\n",
              "          if (!dataTable) return;\n",
              "\n",
              "          const docLinkHtml = 'Like what you see? Visit the ' +\n",
              "            '<a target=\"_blank\" href=https://colab.research.google.com/notebooks/data_table.ipynb>data table notebook</a>'\n",
              "            + ' to learn more about interactive tables.';\n",
              "          element.innerHTML = '';\n",
              "          dataTable['output_type'] = 'display_data';\n",
              "          await google.colab.output.renderOutput(dataTable, element);\n",
              "          const docLink = document.createElement('div');\n",
              "          docLink.innerHTML = docLinkHtml;\n",
              "          element.appendChild(docLink);\n",
              "        }\n",
              "      </script>\n",
              "    </div>\n",
              "  </div>\n",
              "  "
            ],
            "text/plain": [
              "          customer_id customer_name  ...  application_date     status_cd\n",
              "18817  CS003813000014        村山 菜々美  ...          20160214  0-00000000-0\n",
              "12328  CS026813000004         吉村 朝陽  ...          20150723  0-00000000-0\n",
              "15682  CS018811000003         熊沢 美里  ...          20150403  0-00000000-0\n",
              "15302  CS027803000004         内村 拓郎  ...          20151227  0-00000000-0\n",
              "1681   CS013801000003         天野 拓郎  ...          20160120  0-00000000-0\n",
              "7511   CS001814000022         鶴田 里穂  ...          20161012  A-20090415-7\n",
              "2378   CS016815000002         山元 美紀  ...          20150629  C-20090923-C\n",
              "4680   CS009815000003         中田 里穂  ...          20150421  D-20091021-E\n",
              "16070  CS005813000015        金谷 恵梨香  ...          20150506  0-00000000-0\n",
              "6305   CS012813000013         宇野 南朋  ...          20150712  0-00000000-0\n",
              "\n",
              "[10 rows x 11 columns]"
            ]
          },
          "metadata": {},
          "execution_count": 20
        }
      ]
    },
    {
      "metadata": {
        "id": "lDKkt6wPqteJ"
      },
      "cell_type": "markdown",
      "source": [
        "---\n",
        "> P-18: 顧客データフレーム（df_customer）を生年月日（birth_day）で若い順にソートし、先頭10件を全項目表示せよ。"
      ]
    },
    {
      "metadata": {
        "trusted": false,
        "id": "5bAjutroqteJ",
        "outputId": "05e24785-e178-4d5d-df90-4d60afab8434",
        "colab": {
          "base_uri": "https://localhost:8080/",
          "height": 809
        }
      },
      "cell_type": "code",
      "source": [
        "df_customer.sort_values('birth_day', ascending=False).head(10)"
      ],
      "execution_count": 21,
      "outputs": [
        {
          "output_type": "execute_result",
          "data": {
            "text/html": [
              "\n",
              "  <div id=\"df-561e06a5-7d9c-436f-b011-3f274cfa8207\">\n",
              "    <div class=\"colab-df-container\">\n",
              "      <div>\n",
              "<style scoped>\n",
              "    .dataframe tbody tr th:only-of-type {\n",
              "        vertical-align: middle;\n",
              "    }\n",
              "\n",
              "    .dataframe tbody tr th {\n",
              "        vertical-align: top;\n",
              "    }\n",
              "\n",
              "    .dataframe thead th {\n",
              "        text-align: right;\n",
              "    }\n",
              "</style>\n",
              "<table border=\"1\" class=\"dataframe\">\n",
              "  <thead>\n",
              "    <tr style=\"text-align: right;\">\n",
              "      <th></th>\n",
              "      <th>customer_id</th>\n",
              "      <th>customer_name</th>\n",
              "      <th>gender_cd</th>\n",
              "      <th>gender</th>\n",
              "      <th>birth_day</th>\n",
              "      <th>age</th>\n",
              "      <th>postal_cd</th>\n",
              "      <th>address</th>\n",
              "      <th>application_store_cd</th>\n",
              "      <th>application_date</th>\n",
              "      <th>status_cd</th>\n",
              "    </tr>\n",
              "  </thead>\n",
              "  <tbody>\n",
              "    <tr>\n",
              "      <th>15639</th>\n",
              "      <td>CS035114000004</td>\n",
              "      <td>大村 美里</td>\n",
              "      <td>1</td>\n",
              "      <td>女性</td>\n",
              "      <td>2007-11-25</td>\n",
              "      <td>11</td>\n",
              "      <td>156-0053</td>\n",
              "      <td>東京都世田谷区桜**********</td>\n",
              "      <td>S13035</td>\n",
              "      <td>20150619</td>\n",
              "      <td>6-20091205-6</td>\n",
              "    </tr>\n",
              "    <tr>\n",
              "      <th>7468</th>\n",
              "      <td>CS022103000002</td>\n",
              "      <td>福山 はじめ</td>\n",
              "      <td>9</td>\n",
              "      <td>不明</td>\n",
              "      <td>2007-10-02</td>\n",
              "      <td>11</td>\n",
              "      <td>249-0006</td>\n",
              "      <td>神奈川県逗子市逗子**********</td>\n",
              "      <td>S14022</td>\n",
              "      <td>20160909</td>\n",
              "      <td>0-00000000-0</td>\n",
              "    </tr>\n",
              "    <tr>\n",
              "      <th>10745</th>\n",
              "      <td>CS002113000009</td>\n",
              "      <td>柴田 真悠子</td>\n",
              "      <td>1</td>\n",
              "      <td>女性</td>\n",
              "      <td>2007-09-17</td>\n",
              "      <td>11</td>\n",
              "      <td>184-0014</td>\n",
              "      <td>東京都小金井市貫井南町**********</td>\n",
              "      <td>S13002</td>\n",
              "      <td>20160304</td>\n",
              "      <td>0-00000000-0</td>\n",
              "    </tr>\n",
              "    <tr>\n",
              "      <th>19811</th>\n",
              "      <td>CS004115000014</td>\n",
              "      <td>松井 京子</td>\n",
              "      <td>1</td>\n",
              "      <td>女性</td>\n",
              "      <td>2007-08-09</td>\n",
              "      <td>11</td>\n",
              "      <td>165-0031</td>\n",
              "      <td>東京都中野区上鷺宮**********</td>\n",
              "      <td>S13004</td>\n",
              "      <td>20161120</td>\n",
              "      <td>1-20081231-1</td>\n",
              "    </tr>\n",
              "    <tr>\n",
              "      <th>7039</th>\n",
              "      <td>CS002114000010</td>\n",
              "      <td>山内 遥</td>\n",
              "      <td>1</td>\n",
              "      <td>女性</td>\n",
              "      <td>2007-06-03</td>\n",
              "      <td>11</td>\n",
              "      <td>184-0015</td>\n",
              "      <td>東京都小金井市貫井北町**********</td>\n",
              "      <td>S13002</td>\n",
              "      <td>20160920</td>\n",
              "      <td>6-20100510-1</td>\n",
              "    </tr>\n",
              "    <tr>\n",
              "      <th>3670</th>\n",
              "      <td>CS025115000002</td>\n",
              "      <td>小柳 夏希</td>\n",
              "      <td>1</td>\n",
              "      <td>女性</td>\n",
              "      <td>2007-04-18</td>\n",
              "      <td>11</td>\n",
              "      <td>245-0018</td>\n",
              "      <td>神奈川県横浜市泉区上飯田町**********</td>\n",
              "      <td>S14025</td>\n",
              "      <td>20160116</td>\n",
              "      <td>D-20100913-D</td>\n",
              "    </tr>\n",
              "    <tr>\n",
              "      <th>12493</th>\n",
              "      <td>CS002113000025</td>\n",
              "      <td>広末 まなみ</td>\n",
              "      <td>1</td>\n",
              "      <td>女性</td>\n",
              "      <td>2007-03-30</td>\n",
              "      <td>12</td>\n",
              "      <td>184-0015</td>\n",
              "      <td>東京都小金井市貫井北町**********</td>\n",
              "      <td>S13002</td>\n",
              "      <td>20171030</td>\n",
              "      <td>0-00000000-0</td>\n",
              "    </tr>\n",
              "    <tr>\n",
              "      <th>15977</th>\n",
              "      <td>CS033112000003</td>\n",
              "      <td>長野 美紀</td>\n",
              "      <td>1</td>\n",
              "      <td>女性</td>\n",
              "      <td>2007-03-22</td>\n",
              "      <td>12</td>\n",
              "      <td>245-0051</td>\n",
              "      <td>神奈川県横浜市戸塚区名瀬町**********</td>\n",
              "      <td>S14033</td>\n",
              "      <td>20150606</td>\n",
              "      <td>0-00000000-0</td>\n",
              "    </tr>\n",
              "    <tr>\n",
              "      <th>5716</th>\n",
              "      <td>CS007115000006</td>\n",
              "      <td>福岡 瞬</td>\n",
              "      <td>1</td>\n",
              "      <td>女性</td>\n",
              "      <td>2007-03-10</td>\n",
              "      <td>12</td>\n",
              "      <td>285-0845</td>\n",
              "      <td>千葉県佐倉市西志津**********</td>\n",
              "      <td>S12007</td>\n",
              "      <td>20151118</td>\n",
              "      <td>F-20101016-F</td>\n",
              "    </tr>\n",
              "    <tr>\n",
              "      <th>15097</th>\n",
              "      <td>CS014113000008</td>\n",
              "      <td>矢口 莉緒</td>\n",
              "      <td>1</td>\n",
              "      <td>女性</td>\n",
              "      <td>2007-03-05</td>\n",
              "      <td>12</td>\n",
              "      <td>260-0041</td>\n",
              "      <td>千葉県千葉市中央区東千葉**********</td>\n",
              "      <td>S12014</td>\n",
              "      <td>20150622</td>\n",
              "      <td>3-20091108-6</td>\n",
              "    </tr>\n",
              "  </tbody>\n",
              "</table>\n",
              "</div>\n",
              "      <button class=\"colab-df-convert\" onclick=\"convertToInteractive('df-561e06a5-7d9c-436f-b011-3f274cfa8207')\"\n",
              "              title=\"Convert this dataframe to an interactive table.\"\n",
              "              style=\"display:none;\">\n",
              "        \n",
              "  <svg xmlns=\"http://www.w3.org/2000/svg\" height=\"24px\"viewBox=\"0 0 24 24\"\n",
              "       width=\"24px\">\n",
              "    <path d=\"M0 0h24v24H0V0z\" fill=\"none\"/>\n",
              "    <path d=\"M18.56 5.44l.94 2.06.94-2.06 2.06-.94-2.06-.94-.94-2.06-.94 2.06-2.06.94zm-11 1L8.5 8.5l.94-2.06 2.06-.94-2.06-.94L8.5 2.5l-.94 2.06-2.06.94zm10 10l.94 2.06.94-2.06 2.06-.94-2.06-.94-.94-2.06-.94 2.06-2.06.94z\"/><path d=\"M17.41 7.96l-1.37-1.37c-.4-.4-.92-.59-1.43-.59-.52 0-1.04.2-1.43.59L10.3 9.45l-7.72 7.72c-.78.78-.78 2.05 0 2.83L4 21.41c.39.39.9.59 1.41.59.51 0 1.02-.2 1.41-.59l7.78-7.78 2.81-2.81c.8-.78.8-2.07 0-2.86zM5.41 20L4 18.59l7.72-7.72 1.47 1.35L5.41 20z\"/>\n",
              "  </svg>\n",
              "      </button>\n",
              "      \n",
              "  <style>\n",
              "    .colab-df-container {\n",
              "      display:flex;\n",
              "      flex-wrap:wrap;\n",
              "      gap: 12px;\n",
              "    }\n",
              "\n",
              "    .colab-df-convert {\n",
              "      background-color: #E8F0FE;\n",
              "      border: none;\n",
              "      border-radius: 50%;\n",
              "      cursor: pointer;\n",
              "      display: none;\n",
              "      fill: #1967D2;\n",
              "      height: 32px;\n",
              "      padding: 0 0 0 0;\n",
              "      width: 32px;\n",
              "    }\n",
              "\n",
              "    .colab-df-convert:hover {\n",
              "      background-color: #E2EBFA;\n",
              "      box-shadow: 0px 1px 2px rgba(60, 64, 67, 0.3), 0px 1px 3px 1px rgba(60, 64, 67, 0.15);\n",
              "      fill: #174EA6;\n",
              "    }\n",
              "\n",
              "    [theme=dark] .colab-df-convert {\n",
              "      background-color: #3B4455;\n",
              "      fill: #D2E3FC;\n",
              "    }\n",
              "\n",
              "    [theme=dark] .colab-df-convert:hover {\n",
              "      background-color: #434B5C;\n",
              "      box-shadow: 0px 1px 3px 1px rgba(0, 0, 0, 0.15);\n",
              "      filter: drop-shadow(0px 1px 2px rgba(0, 0, 0, 0.3));\n",
              "      fill: #FFFFFF;\n",
              "    }\n",
              "  </style>\n",
              "\n",
              "      <script>\n",
              "        const buttonEl =\n",
              "          document.querySelector('#df-561e06a5-7d9c-436f-b011-3f274cfa8207 button.colab-df-convert');\n",
              "        buttonEl.style.display =\n",
              "          google.colab.kernel.accessAllowed ? 'block' : 'none';\n",
              "\n",
              "        async function convertToInteractive(key) {\n",
              "          const element = document.querySelector('#df-561e06a5-7d9c-436f-b011-3f274cfa8207');\n",
              "          const dataTable =\n",
              "            await google.colab.kernel.invokeFunction('convertToInteractive',\n",
              "                                                     [key], {});\n",
              "          if (!dataTable) return;\n",
              "\n",
              "          const docLinkHtml = 'Like what you see? Visit the ' +\n",
              "            '<a target=\"_blank\" href=https://colab.research.google.com/notebooks/data_table.ipynb>data table notebook</a>'\n",
              "            + ' to learn more about interactive tables.';\n",
              "          element.innerHTML = '';\n",
              "          dataTable['output_type'] = 'display_data';\n",
              "          await google.colab.output.renderOutput(dataTable, element);\n",
              "          const docLink = document.createElement('div');\n",
              "          docLink.innerHTML = docLinkHtml;\n",
              "          element.appendChild(docLink);\n",
              "        }\n",
              "      </script>\n",
              "    </div>\n",
              "  </div>\n",
              "  "
            ],
            "text/plain": [
              "          customer_id customer_name  ...  application_date     status_cd\n",
              "15639  CS035114000004         大村 美里  ...          20150619  6-20091205-6\n",
              "7468   CS022103000002        福山 はじめ  ...          20160909  0-00000000-0\n",
              "10745  CS002113000009        柴田 真悠子  ...          20160304  0-00000000-0\n",
              "19811  CS004115000014         松井 京子  ...          20161120  1-20081231-1\n",
              "7039   CS002114000010          山内 遥  ...          20160920  6-20100510-1\n",
              "3670   CS025115000002         小柳 夏希  ...          20160116  D-20100913-D\n",
              "12493  CS002113000025        広末 まなみ  ...          20171030  0-00000000-0\n",
              "15977  CS033112000003         長野 美紀  ...          20150606  0-00000000-0\n",
              "5716   CS007115000006          福岡 瞬  ...          20151118  F-20101016-F\n",
              "15097  CS014113000008         矢口 莉緒  ...          20150622  3-20091108-6\n",
              "\n",
              "[10 rows x 11 columns]"
            ]
          },
          "metadata": {},
          "execution_count": 21
        }
      ]
    },
    {
      "metadata": {
        "id": "BYxO0ni9qteJ"
      },
      "cell_type": "markdown",
      "source": [
        "---\n",
        "> P-19: レシート明細データフレーム（df_receipt）に対し、1件あたりの売上金額（amount）が高い順にランクを付与し、先頭10件を抽出せよ。項目は顧客ID（customer_id）、売上金額（amount）、付与したランクを表示させること。なお、売上金額（amount）が等しい場合は同一順位を付与するものとする。"
      ]
    },
    {
      "metadata": {
        "trusted": false,
        "id": "yFMnd62sqteK",
        "outputId": "0b480c5e-9711-42d9-ef35-94a108e84961",
        "colab": {
          "base_uri": "https://localhost:8080/",
          "height": 363
        }
      },
      "cell_type": "code",
      "source": [
        "# df_19 = df_receipt.sort_values('amount',ascending=False)\n",
        "# print(df_19[['customer_id', 'amount']].rank(method='dense').head(10))\n",
        "\n",
        "df_19 = df_receipt\n",
        "\n",
        "# df_19['rank'] = df_19['amount'].rank(method='max')\n",
        "# df_19.sort_values('rank', ascending=False)\n",
        "\n",
        "\n",
        "df_19['rank']=df_19['amount'].rank(ascending=False,method='max')\n",
        "\n",
        "df_19.sort_values('rank',ascending=True).head(10)\n",
        "# sample[\"rank\"]=sample.groupby(\"ID\")[\"セッション\"].rank(ascending=True,method=\"first\")"
      ],
      "execution_count": 22,
      "outputs": [
        {
          "output_type": "execute_result",
          "data": {
            "text/html": [
              "\n",
              "  <div id=\"df-7bd23f6f-eaac-4ab2-81c1-f4289a33282b\">\n",
              "    <div class=\"colab-df-container\">\n",
              "      <div>\n",
              "<style scoped>\n",
              "    .dataframe tbody tr th:only-of-type {\n",
              "        vertical-align: middle;\n",
              "    }\n",
              "\n",
              "    .dataframe tbody tr th {\n",
              "        vertical-align: top;\n",
              "    }\n",
              "\n",
              "    .dataframe thead th {\n",
              "        text-align: right;\n",
              "    }\n",
              "</style>\n",
              "<table border=\"1\" class=\"dataframe\">\n",
              "  <thead>\n",
              "    <tr style=\"text-align: right;\">\n",
              "      <th></th>\n",
              "      <th>sales_ymd</th>\n",
              "      <th>sales_epoch</th>\n",
              "      <th>store_cd</th>\n",
              "      <th>receipt_no</th>\n",
              "      <th>receipt_sub_no</th>\n",
              "      <th>customer_id</th>\n",
              "      <th>product_cd</th>\n",
              "      <th>quantity</th>\n",
              "      <th>amount</th>\n",
              "      <th>rank</th>\n",
              "    </tr>\n",
              "  </thead>\n",
              "  <tbody>\n",
              "    <tr>\n",
              "      <th>1202</th>\n",
              "      <td>20190903</td>\n",
              "      <td>1567468800</td>\n",
              "      <td>S14011</td>\n",
              "      <td>1192</td>\n",
              "      <td>2</td>\n",
              "      <td>CS011415000006</td>\n",
              "      <td>P080104055</td>\n",
              "      <td>1</td>\n",
              "      <td>10925</td>\n",
              "      <td>1.0</td>\n",
              "    </tr>\n",
              "    <tr>\n",
              "      <th>62317</th>\n",
              "      <td>20190304</td>\n",
              "      <td>1551657600</td>\n",
              "      <td>S14046</td>\n",
              "      <td>1152</td>\n",
              "      <td>2</td>\n",
              "      <td>ZZ000000000000</td>\n",
              "      <td>P090302118</td>\n",
              "      <td>1</td>\n",
              "      <td>6800</td>\n",
              "      <td>2.0</td>\n",
              "    </tr>\n",
              "    <tr>\n",
              "      <th>54095</th>\n",
              "      <td>20170921</td>\n",
              "      <td>1505952000</td>\n",
              "      <td>S14028</td>\n",
              "      <td>1192</td>\n",
              "      <td>2</td>\n",
              "      <td>CS028605000002</td>\n",
              "      <td>P090907210</td>\n",
              "      <td>1</td>\n",
              "      <td>5780</td>\n",
              "      <td>3.0</td>\n",
              "    </tr>\n",
              "    <tr>\n",
              "      <th>4632</th>\n",
              "      <td>20170721</td>\n",
              "      <td>1500595200</td>\n",
              "      <td>S13015</td>\n",
              "      <td>1112</td>\n",
              "      <td>1</td>\n",
              "      <td>CS015515000034</td>\n",
              "      <td>P090907208</td>\n",
              "      <td>1</td>\n",
              "      <td>5480</td>\n",
              "      <td>6.0</td>\n",
              "    </tr>\n",
              "    <tr>\n",
              "      <th>72747</th>\n",
              "      <td>20190724</td>\n",
              "      <td>1563926400</td>\n",
              "      <td>S13009</td>\n",
              "      <td>1192</td>\n",
              "      <td>2</td>\n",
              "      <td>ZZ000000000000</td>\n",
              "      <td>P090907209</td>\n",
              "      <td>1</td>\n",
              "      <td>5480</td>\n",
              "      <td>6.0</td>\n",
              "    </tr>\n",
              "    <tr>\n",
              "      <th>10320</th>\n",
              "      <td>20190103</td>\n",
              "      <td>1546473600</td>\n",
              "      <td>S14021</td>\n",
              "      <td>1162</td>\n",
              "      <td>2</td>\n",
              "      <td>ZZ000000000000</td>\n",
              "      <td>P090907208</td>\n",
              "      <td>1</td>\n",
              "      <td>5480</td>\n",
              "      <td>6.0</td>\n",
              "    </tr>\n",
              "    <tr>\n",
              "      <th>97294</th>\n",
              "      <td>20190209</td>\n",
              "      <td>1549670400</td>\n",
              "      <td>S14021</td>\n",
              "      <td>1142</td>\n",
              "      <td>2</td>\n",
              "      <td>CS021515000089</td>\n",
              "      <td>P090907206</td>\n",
              "      <td>1</td>\n",
              "      <td>5440</td>\n",
              "      <td>8.0</td>\n",
              "    </tr>\n",
              "    <tr>\n",
              "      <th>28304</th>\n",
              "      <td>20180621</td>\n",
              "      <td>1529539200</td>\n",
              "      <td>S13004</td>\n",
              "      <td>1172</td>\n",
              "      <td>2</td>\n",
              "      <td>ZZ000000000000</td>\n",
              "      <td>P090907206</td>\n",
              "      <td>1</td>\n",
              "      <td>5440</td>\n",
              "      <td>8.0</td>\n",
              "    </tr>\n",
              "    <tr>\n",
              "      <th>92246</th>\n",
              "      <td>20180212</td>\n",
              "      <td>1518393600</td>\n",
              "      <td>S13009</td>\n",
              "      <td>1142</td>\n",
              "      <td>1</td>\n",
              "      <td>CS009415000038</td>\n",
              "      <td>P071301009</td>\n",
              "      <td>1</td>\n",
              "      <td>5280</td>\n",
              "      <td>39.0</td>\n",
              "    </tr>\n",
              "    <tr>\n",
              "      <th>68553</th>\n",
              "      <td>20181021</td>\n",
              "      <td>1540080000</td>\n",
              "      <td>S14040</td>\n",
              "      <td>1182</td>\n",
              "      <td>2</td>\n",
              "      <td>CS040415000200</td>\n",
              "      <td>P071301009</td>\n",
              "      <td>1</td>\n",
              "      <td>5280</td>\n",
              "      <td>39.0</td>\n",
              "    </tr>\n",
              "  </tbody>\n",
              "</table>\n",
              "</div>\n",
              "      <button class=\"colab-df-convert\" onclick=\"convertToInteractive('df-7bd23f6f-eaac-4ab2-81c1-f4289a33282b')\"\n",
              "              title=\"Convert this dataframe to an interactive table.\"\n",
              "              style=\"display:none;\">\n",
              "        \n",
              "  <svg xmlns=\"http://www.w3.org/2000/svg\" height=\"24px\"viewBox=\"0 0 24 24\"\n",
              "       width=\"24px\">\n",
              "    <path d=\"M0 0h24v24H0V0z\" fill=\"none\"/>\n",
              "    <path d=\"M18.56 5.44l.94 2.06.94-2.06 2.06-.94-2.06-.94-.94-2.06-.94 2.06-2.06.94zm-11 1L8.5 8.5l.94-2.06 2.06-.94-2.06-.94L8.5 2.5l-.94 2.06-2.06.94zm10 10l.94 2.06.94-2.06 2.06-.94-2.06-.94-.94-2.06-.94 2.06-2.06.94z\"/><path d=\"M17.41 7.96l-1.37-1.37c-.4-.4-.92-.59-1.43-.59-.52 0-1.04.2-1.43.59L10.3 9.45l-7.72 7.72c-.78.78-.78 2.05 0 2.83L4 21.41c.39.39.9.59 1.41.59.51 0 1.02-.2 1.41-.59l7.78-7.78 2.81-2.81c.8-.78.8-2.07 0-2.86zM5.41 20L4 18.59l7.72-7.72 1.47 1.35L5.41 20z\"/>\n",
              "  </svg>\n",
              "      </button>\n",
              "      \n",
              "  <style>\n",
              "    .colab-df-container {\n",
              "      display:flex;\n",
              "      flex-wrap:wrap;\n",
              "      gap: 12px;\n",
              "    }\n",
              "\n",
              "    .colab-df-convert {\n",
              "      background-color: #E8F0FE;\n",
              "      border: none;\n",
              "      border-radius: 50%;\n",
              "      cursor: pointer;\n",
              "      display: none;\n",
              "      fill: #1967D2;\n",
              "      height: 32px;\n",
              "      padding: 0 0 0 0;\n",
              "      width: 32px;\n",
              "    }\n",
              "\n",
              "    .colab-df-convert:hover {\n",
              "      background-color: #E2EBFA;\n",
              "      box-shadow: 0px 1px 2px rgba(60, 64, 67, 0.3), 0px 1px 3px 1px rgba(60, 64, 67, 0.15);\n",
              "      fill: #174EA6;\n",
              "    }\n",
              "\n",
              "    [theme=dark] .colab-df-convert {\n",
              "      background-color: #3B4455;\n",
              "      fill: #D2E3FC;\n",
              "    }\n",
              "\n",
              "    [theme=dark] .colab-df-convert:hover {\n",
              "      background-color: #434B5C;\n",
              "      box-shadow: 0px 1px 3px 1px rgba(0, 0, 0, 0.15);\n",
              "      filter: drop-shadow(0px 1px 2px rgba(0, 0, 0, 0.3));\n",
              "      fill: #FFFFFF;\n",
              "    }\n",
              "  </style>\n",
              "\n",
              "      <script>\n",
              "        const buttonEl =\n",
              "          document.querySelector('#df-7bd23f6f-eaac-4ab2-81c1-f4289a33282b button.colab-df-convert');\n",
              "        buttonEl.style.display =\n",
              "          google.colab.kernel.accessAllowed ? 'block' : 'none';\n",
              "\n",
              "        async function convertToInteractive(key) {\n",
              "          const element = document.querySelector('#df-7bd23f6f-eaac-4ab2-81c1-f4289a33282b');\n",
              "          const dataTable =\n",
              "            await google.colab.kernel.invokeFunction('convertToInteractive',\n",
              "                                                     [key], {});\n",
              "          if (!dataTable) return;\n",
              "\n",
              "          const docLinkHtml = 'Like what you see? Visit the ' +\n",
              "            '<a target=\"_blank\" href=https://colab.research.google.com/notebooks/data_table.ipynb>data table notebook</a>'\n",
              "            + ' to learn more about interactive tables.';\n",
              "          element.innerHTML = '';\n",
              "          dataTable['output_type'] = 'display_data';\n",
              "          await google.colab.output.renderOutput(dataTable, element);\n",
              "          const docLink = document.createElement('div');\n",
              "          docLink.innerHTML = docLinkHtml;\n",
              "          element.appendChild(docLink);\n",
              "        }\n",
              "      </script>\n",
              "    </div>\n",
              "  </div>\n",
              "  "
            ],
            "text/plain": [
              "       sales_ymd  sales_epoch store_cd  ...  quantity  amount  rank\n",
              "1202    20190903   1567468800   S14011  ...         1   10925   1.0\n",
              "62317   20190304   1551657600   S14046  ...         1    6800   2.0\n",
              "54095   20170921   1505952000   S14028  ...         1    5780   3.0\n",
              "4632    20170721   1500595200   S13015  ...         1    5480   6.0\n",
              "72747   20190724   1563926400   S13009  ...         1    5480   6.0\n",
              "10320   20190103   1546473600   S14021  ...         1    5480   6.0\n",
              "97294   20190209   1549670400   S14021  ...         1    5440   8.0\n",
              "28304   20180621   1529539200   S13004  ...         1    5440   8.0\n",
              "92246   20180212   1518393600   S13009  ...         1    5280  39.0\n",
              "68553   20181021   1540080000   S14040  ...         1    5280  39.0\n",
              "\n",
              "[10 rows x 10 columns]"
            ]
          },
          "metadata": {},
          "execution_count": 22
        }
      ]
    },
    {
      "metadata": {
        "id": "b0ZHKqOYqteK"
      },
      "cell_type": "markdown",
      "source": [
        "---\n",
        "> P-020: レシート明細データフレーム（df_receipt）に対し、1件あたりの売上金額（amount）が高い順にランクを付与し、先頭10件を抽出せよ。項目は顧客ID（customer_id）、売上金額（amount）、付与したランクを表示させること。なお、売上金額（amount）が等しい場合でも別順位を付与すること。"
      ]
    },
    {
      "metadata": {
        "trusted": false,
        "id": "yAVFdHm3qteL",
        "outputId": "0e2b5015-a504-4171-c476-bc4d3c2383b2",
        "colab": {
          "base_uri": "https://localhost:8080/",
          "height": 363
        }
      },
      "cell_type": "code",
      "source": [
        "df_20 = df_receipt\n",
        "\n",
        "# df_19['rank'] = df_19['amount'].rank(method='max')\n",
        "# df_19.sort_values('rank', ascending=False)\n",
        "\n",
        "\n",
        "df_20['rank']=df_20['amount'].rank(ascending=False,method='first')\n",
        "\n",
        "df_20.sort_values('rank',ascending=True).head(10)\n"
      ],
      "execution_count": 23,
      "outputs": [
        {
          "output_type": "execute_result",
          "data": {
            "text/html": [
              "\n",
              "  <div id=\"df-c84e85c9-aae0-4e9f-85e8-41930c711765\">\n",
              "    <div class=\"colab-df-container\">\n",
              "      <div>\n",
              "<style scoped>\n",
              "    .dataframe tbody tr th:only-of-type {\n",
              "        vertical-align: middle;\n",
              "    }\n",
              "\n",
              "    .dataframe tbody tr th {\n",
              "        vertical-align: top;\n",
              "    }\n",
              "\n",
              "    .dataframe thead th {\n",
              "        text-align: right;\n",
              "    }\n",
              "</style>\n",
              "<table border=\"1\" class=\"dataframe\">\n",
              "  <thead>\n",
              "    <tr style=\"text-align: right;\">\n",
              "      <th></th>\n",
              "      <th>sales_ymd</th>\n",
              "      <th>sales_epoch</th>\n",
              "      <th>store_cd</th>\n",
              "      <th>receipt_no</th>\n",
              "      <th>receipt_sub_no</th>\n",
              "      <th>customer_id</th>\n",
              "      <th>product_cd</th>\n",
              "      <th>quantity</th>\n",
              "      <th>amount</th>\n",
              "      <th>rank</th>\n",
              "    </tr>\n",
              "  </thead>\n",
              "  <tbody>\n",
              "    <tr>\n",
              "      <th>1202</th>\n",
              "      <td>20190903</td>\n",
              "      <td>1567468800</td>\n",
              "      <td>S14011</td>\n",
              "      <td>1192</td>\n",
              "      <td>2</td>\n",
              "      <td>CS011415000006</td>\n",
              "      <td>P080104055</td>\n",
              "      <td>1</td>\n",
              "      <td>10925</td>\n",
              "      <td>1.0</td>\n",
              "    </tr>\n",
              "    <tr>\n",
              "      <th>62317</th>\n",
              "      <td>20190304</td>\n",
              "      <td>1551657600</td>\n",
              "      <td>S14046</td>\n",
              "      <td>1152</td>\n",
              "      <td>2</td>\n",
              "      <td>ZZ000000000000</td>\n",
              "      <td>P090302118</td>\n",
              "      <td>1</td>\n",
              "      <td>6800</td>\n",
              "      <td>2.0</td>\n",
              "    </tr>\n",
              "    <tr>\n",
              "      <th>54095</th>\n",
              "      <td>20170921</td>\n",
              "      <td>1505952000</td>\n",
              "      <td>S14028</td>\n",
              "      <td>1192</td>\n",
              "      <td>2</td>\n",
              "      <td>CS028605000002</td>\n",
              "      <td>P090907210</td>\n",
              "      <td>1</td>\n",
              "      <td>5780</td>\n",
              "      <td>3.0</td>\n",
              "    </tr>\n",
              "    <tr>\n",
              "      <th>4632</th>\n",
              "      <td>20170721</td>\n",
              "      <td>1500595200</td>\n",
              "      <td>S13015</td>\n",
              "      <td>1112</td>\n",
              "      <td>1</td>\n",
              "      <td>CS015515000034</td>\n",
              "      <td>P090907208</td>\n",
              "      <td>1</td>\n",
              "      <td>5480</td>\n",
              "      <td>4.0</td>\n",
              "    </tr>\n",
              "    <tr>\n",
              "      <th>10320</th>\n",
              "      <td>20190103</td>\n",
              "      <td>1546473600</td>\n",
              "      <td>S14021</td>\n",
              "      <td>1162</td>\n",
              "      <td>2</td>\n",
              "      <td>ZZ000000000000</td>\n",
              "      <td>P090907208</td>\n",
              "      <td>1</td>\n",
              "      <td>5480</td>\n",
              "      <td>5.0</td>\n",
              "    </tr>\n",
              "    <tr>\n",
              "      <th>72747</th>\n",
              "      <td>20190724</td>\n",
              "      <td>1563926400</td>\n",
              "      <td>S13009</td>\n",
              "      <td>1192</td>\n",
              "      <td>2</td>\n",
              "      <td>ZZ000000000000</td>\n",
              "      <td>P090907209</td>\n",
              "      <td>1</td>\n",
              "      <td>5480</td>\n",
              "      <td>6.0</td>\n",
              "    </tr>\n",
              "    <tr>\n",
              "      <th>28304</th>\n",
              "      <td>20180621</td>\n",
              "      <td>1529539200</td>\n",
              "      <td>S13004</td>\n",
              "      <td>1172</td>\n",
              "      <td>2</td>\n",
              "      <td>ZZ000000000000</td>\n",
              "      <td>P090907206</td>\n",
              "      <td>1</td>\n",
              "      <td>5440</td>\n",
              "      <td>7.0</td>\n",
              "    </tr>\n",
              "    <tr>\n",
              "      <th>97294</th>\n",
              "      <td>20190209</td>\n",
              "      <td>1549670400</td>\n",
              "      <td>S14021</td>\n",
              "      <td>1142</td>\n",
              "      <td>2</td>\n",
              "      <td>CS021515000089</td>\n",
              "      <td>P090907206</td>\n",
              "      <td>1</td>\n",
              "      <td>5440</td>\n",
              "      <td>8.0</td>\n",
              "    </tr>\n",
              "    <tr>\n",
              "      <th>596</th>\n",
              "      <td>20181219</td>\n",
              "      <td>1545177600</td>\n",
              "      <td>S13015</td>\n",
              "      <td>1132</td>\n",
              "      <td>1</td>\n",
              "      <td>CS015515000083</td>\n",
              "      <td>P071301009</td>\n",
              "      <td>1</td>\n",
              "      <td>5280</td>\n",
              "      <td>9.0</td>\n",
              "    </tr>\n",
              "    <tr>\n",
              "      <th>11275</th>\n",
              "      <td>20180603</td>\n",
              "      <td>1527984000</td>\n",
              "      <td>S13017</td>\n",
              "      <td>1192</td>\n",
              "      <td>1</td>\n",
              "      <td>CS017414000114</td>\n",
              "      <td>P071301009</td>\n",
              "      <td>1</td>\n",
              "      <td>5280</td>\n",
              "      <td>10.0</td>\n",
              "    </tr>\n",
              "  </tbody>\n",
              "</table>\n",
              "</div>\n",
              "      <button class=\"colab-df-convert\" onclick=\"convertToInteractive('df-c84e85c9-aae0-4e9f-85e8-41930c711765')\"\n",
              "              title=\"Convert this dataframe to an interactive table.\"\n",
              "              style=\"display:none;\">\n",
              "        \n",
              "  <svg xmlns=\"http://www.w3.org/2000/svg\" height=\"24px\"viewBox=\"0 0 24 24\"\n",
              "       width=\"24px\">\n",
              "    <path d=\"M0 0h24v24H0V0z\" fill=\"none\"/>\n",
              "    <path d=\"M18.56 5.44l.94 2.06.94-2.06 2.06-.94-2.06-.94-.94-2.06-.94 2.06-2.06.94zm-11 1L8.5 8.5l.94-2.06 2.06-.94-2.06-.94L8.5 2.5l-.94 2.06-2.06.94zm10 10l.94 2.06.94-2.06 2.06-.94-2.06-.94-.94-2.06-.94 2.06-2.06.94z\"/><path d=\"M17.41 7.96l-1.37-1.37c-.4-.4-.92-.59-1.43-.59-.52 0-1.04.2-1.43.59L10.3 9.45l-7.72 7.72c-.78.78-.78 2.05 0 2.83L4 21.41c.39.39.9.59 1.41.59.51 0 1.02-.2 1.41-.59l7.78-7.78 2.81-2.81c.8-.78.8-2.07 0-2.86zM5.41 20L4 18.59l7.72-7.72 1.47 1.35L5.41 20z\"/>\n",
              "  </svg>\n",
              "      </button>\n",
              "      \n",
              "  <style>\n",
              "    .colab-df-container {\n",
              "      display:flex;\n",
              "      flex-wrap:wrap;\n",
              "      gap: 12px;\n",
              "    }\n",
              "\n",
              "    .colab-df-convert {\n",
              "      background-color: #E8F0FE;\n",
              "      border: none;\n",
              "      border-radius: 50%;\n",
              "      cursor: pointer;\n",
              "      display: none;\n",
              "      fill: #1967D2;\n",
              "      height: 32px;\n",
              "      padding: 0 0 0 0;\n",
              "      width: 32px;\n",
              "    }\n",
              "\n",
              "    .colab-df-convert:hover {\n",
              "      background-color: #E2EBFA;\n",
              "      box-shadow: 0px 1px 2px rgba(60, 64, 67, 0.3), 0px 1px 3px 1px rgba(60, 64, 67, 0.15);\n",
              "      fill: #174EA6;\n",
              "    }\n",
              "\n",
              "    [theme=dark] .colab-df-convert {\n",
              "      background-color: #3B4455;\n",
              "      fill: #D2E3FC;\n",
              "    }\n",
              "\n",
              "    [theme=dark] .colab-df-convert:hover {\n",
              "      background-color: #434B5C;\n",
              "      box-shadow: 0px 1px 3px 1px rgba(0, 0, 0, 0.15);\n",
              "      filter: drop-shadow(0px 1px 2px rgba(0, 0, 0, 0.3));\n",
              "      fill: #FFFFFF;\n",
              "    }\n",
              "  </style>\n",
              "\n",
              "      <script>\n",
              "        const buttonEl =\n",
              "          document.querySelector('#df-c84e85c9-aae0-4e9f-85e8-41930c711765 button.colab-df-convert');\n",
              "        buttonEl.style.display =\n",
              "          google.colab.kernel.accessAllowed ? 'block' : 'none';\n",
              "\n",
              "        async function convertToInteractive(key) {\n",
              "          const element = document.querySelector('#df-c84e85c9-aae0-4e9f-85e8-41930c711765');\n",
              "          const dataTable =\n",
              "            await google.colab.kernel.invokeFunction('convertToInteractive',\n",
              "                                                     [key], {});\n",
              "          if (!dataTable) return;\n",
              "\n",
              "          const docLinkHtml = 'Like what you see? Visit the ' +\n",
              "            '<a target=\"_blank\" href=https://colab.research.google.com/notebooks/data_table.ipynb>data table notebook</a>'\n",
              "            + ' to learn more about interactive tables.';\n",
              "          element.innerHTML = '';\n",
              "          dataTable['output_type'] = 'display_data';\n",
              "          await google.colab.output.renderOutput(dataTable, element);\n",
              "          const docLink = document.createElement('div');\n",
              "          docLink.innerHTML = docLinkHtml;\n",
              "          element.appendChild(docLink);\n",
              "        }\n",
              "      </script>\n",
              "    </div>\n",
              "  </div>\n",
              "  "
            ],
            "text/plain": [
              "       sales_ymd  sales_epoch store_cd  ...  quantity  amount  rank\n",
              "1202    20190903   1567468800   S14011  ...         1   10925   1.0\n",
              "62317   20190304   1551657600   S14046  ...         1    6800   2.0\n",
              "54095   20170921   1505952000   S14028  ...         1    5780   3.0\n",
              "4632    20170721   1500595200   S13015  ...         1    5480   4.0\n",
              "10320   20190103   1546473600   S14021  ...         1    5480   5.0\n",
              "72747   20190724   1563926400   S13009  ...         1    5480   6.0\n",
              "28304   20180621   1529539200   S13004  ...         1    5440   7.0\n",
              "97294   20190209   1549670400   S14021  ...         1    5440   8.0\n",
              "596     20181219   1545177600   S13015  ...         1    5280   9.0\n",
              "11275   20180603   1527984000   S13017  ...         1    5280  10.0\n",
              "\n",
              "[10 rows x 10 columns]"
            ]
          },
          "metadata": {},
          "execution_count": 23
        }
      ]
    },
    {
      "metadata": {
        "id": "LVTQiSpqqteL"
      },
      "cell_type": "markdown",
      "source": [
        "---\n",
        "> P-021: レシート明細データフレーム（df_receipt）に対し、件数をカウントせよ。"
      ]
    },
    {
      "metadata": {
        "trusted": false,
        "id": "R5vs4vk3qteL",
        "outputId": "e94b8cbe-27f0-4553-8e07-a7d9de19f94a",
        "colab": {
          "base_uri": "https://localhost:8080/"
        }
      },
      "cell_type": "code",
      "source": [
        "df_receipt.shape"
      ],
      "execution_count": 24,
      "outputs": [
        {
          "output_type": "execute_result",
          "data": {
            "text/plain": [
              "(104681, 10)"
            ]
          },
          "metadata": {},
          "execution_count": 24
        }
      ]
    },
    {
      "metadata": {
        "id": "m_6O9tJEqteM"
      },
      "cell_type": "markdown",
      "source": [
        "---\n",
        "> P-022: レシート明細データフレーム（df_receipt）の顧客ID（customer_id）に対し、ユニーク件数をカウントせよ。"
      ]
    },
    {
      "metadata": {
        "trusted": false,
        "id": "StBb7M9qqteM",
        "outputId": "5013b4ed-fe21-440a-9c4a-e99a9446df86",
        "colab": {
          "base_uri": "https://localhost:8080/"
        }
      },
      "cell_type": "code",
      "source": [
        "print(len(df_receipt['customer_id'].unique()))"
      ],
      "execution_count": 25,
      "outputs": [
        {
          "output_type": "stream",
          "name": "stdout",
          "text": [
            "8307\n"
          ]
        }
      ]
    },
    {
      "metadata": {
        "id": "ofAlfmRVqteN"
      },
      "cell_type": "markdown",
      "source": [
        "---\n",
        "> P-023: レシート明細データフレーム（df_receipt）に対し、店舗コード（store_cd）ごとに売上金額（amount）と売上数量（quantity）を合計せよ。"
      ]
    },
    {
      "cell_type": "code",
      "source": [
        "!pip install pandas-profiling"
      ],
      "metadata": {
        "id": "GGvvo0MHJhfG",
        "outputId": "347c8248-79fe-443b-e4c9-71ef3c2b8834",
        "colab": {
          "base_uri": "https://localhost:8080/"
        }
      },
      "execution_count": 26,
      "outputs": [
        {
          "output_type": "stream",
          "name": "stdout",
          "text": [
            "Requirement already satisfied: pandas-profiling in /usr/local/lib/python3.7/dist-packages (1.4.1)\n",
            "Requirement already satisfied: six>=1.9 in /usr/local/lib/python3.7/dist-packages (from pandas-profiling) (1.15.0)\n",
            "Requirement already satisfied: jinja2>=2.8 in /usr/local/lib/python3.7/dist-packages (from pandas-profiling) (2.11.3)\n",
            "Requirement already satisfied: matplotlib>=1.4 in /usr/local/lib/python3.7/dist-packages (from pandas-profiling) (3.2.2)\n",
            "Requirement already satisfied: pandas>=0.19 in /usr/local/lib/python3.7/dist-packages (from pandas-profiling) (1.3.5)\n",
            "Requirement already satisfied: MarkupSafe>=0.23 in /usr/local/lib/python3.7/dist-packages (from jinja2>=2.8->pandas-profiling) (2.0.1)\n",
            "Requirement already satisfied: pyparsing!=2.0.4,!=2.1.2,!=2.1.6,>=2.0.1 in /usr/local/lib/python3.7/dist-packages (from matplotlib>=1.4->pandas-profiling) (3.0.6)\n",
            "Requirement already satisfied: python-dateutil>=2.1 in /usr/local/lib/python3.7/dist-packages (from matplotlib>=1.4->pandas-profiling) (2.8.2)\n",
            "Requirement already satisfied: cycler>=0.10 in /usr/local/lib/python3.7/dist-packages (from matplotlib>=1.4->pandas-profiling) (0.11.0)\n",
            "Requirement already satisfied: kiwisolver>=1.0.1 in /usr/local/lib/python3.7/dist-packages (from matplotlib>=1.4->pandas-profiling) (1.3.2)\n",
            "Requirement already satisfied: numpy>=1.11 in /usr/local/lib/python3.7/dist-packages (from matplotlib>=1.4->pandas-profiling) (1.21.5)\n",
            "Requirement already satisfied: pytz>=2017.3 in /usr/local/lib/python3.7/dist-packages (from pandas>=0.19->pandas-profiling) (2018.9)\n",
            "\u001b[33mWARNING: Running pip as the 'root' user can result in broken permissions and conflicting behaviour with the system package manager. It is recommended to use a virtual environment instead: https://pip.pypa.io/warnings/venv\u001b[0m\n"
          ]
        }
      ]
    },
    {
      "cell_type": "code",
      "source": [
        "!pip install --upgrade pandas_profiling"
      ],
      "metadata": {
        "id": "cOPn4MBCKg_X",
        "outputId": "e95fb382-d154-440b-8680-df65d3a62f9a",
        "colab": {
          "base_uri": "https://localhost:8080/",
          "height": 1000
        }
      },
      "execution_count": 27,
      "outputs": [
        {
          "output_type": "stream",
          "name": "stdout",
          "text": [
            "Requirement already satisfied: pandas_profiling in /usr/local/lib/python3.7/dist-packages (1.4.1)\n",
            "Collecting pandas_profiling\n",
            "  Downloading pandas_profiling-3.1.0-py2.py3-none-any.whl (261 kB)\n",
            "     |████████████████████████████████| 261 kB 5.3 MB/s            \n",
            "\u001b[?25hCollecting pydantic>=1.8.1\n",
            "  Downloading pydantic-1.9.0-cp37-cp37m-manylinux_2_17_x86_64.manylinux2014_x86_64.whl (10.9 MB)\n",
            "     |████████████████████████████████| 10.9 MB 46.9 MB/s            \n",
            "\u001b[?25hCollecting phik>=0.11.1\n",
            "  Downloading phik-0.12.0-cp37-cp37m-manylinux2010_x86_64.whl (675 kB)\n",
            "     |████████████████████████████████| 675 kB 44.5 MB/s            \n",
            "\u001b[?25hRequirement already satisfied: pandas!=1.0.0,!=1.0.1,!=1.0.2,!=1.1.0,>=0.25.3 in /usr/local/lib/python3.7/dist-packages (from pandas_profiling) (1.3.5)\n",
            "Collecting joblib~=1.0.1\n",
            "  Downloading joblib-1.0.1-py3-none-any.whl (303 kB)\n",
            "     |████████████████████████████████| 303 kB 44.8 MB/s            \n",
            "\u001b[?25hRequirement already satisfied: jinja2>=2.11.1 in /usr/local/lib/python3.7/dist-packages (from pandas_profiling) (2.11.3)\n",
            "Collecting tangled-up-in-unicode==0.1.0\n",
            "  Downloading tangled_up_in_unicode-0.1.0-py3-none-any.whl (3.1 MB)\n",
            "     |████████████████████████████████| 3.1 MB 40.7 MB/s            \n",
            "\u001b[?25hRequirement already satisfied: markupsafe~=2.0.1 in /usr/local/lib/python3.7/dist-packages (from pandas_profiling) (2.0.1)\n",
            "Requirement already satisfied: scipy>=1.4.1 in /usr/local/lib/python3.7/dist-packages (from pandas_profiling) (1.4.1)\n",
            "Requirement already satisfied: matplotlib>=3.2.0 in /usr/local/lib/python3.7/dist-packages (from pandas_profiling) (3.2.2)\n",
            "Requirement already satisfied: numpy>=1.16.0 in /usr/local/lib/python3.7/dist-packages (from pandas_profiling) (1.21.5)\n",
            "Collecting htmlmin>=0.1.12\n",
            "  Downloading htmlmin-0.1.12.tar.gz (19 kB)\n",
            "  Preparing metadata (setup.py) ... \u001b[?25l\u001b[?25hdone\n",
            "Requirement already satisfied: missingno>=0.4.2 in /usr/local/lib/python3.7/dist-packages (from pandas_profiling) (0.5.0)\n",
            "Requirement already satisfied: seaborn>=0.10.1 in /usr/local/lib/python3.7/dist-packages (from pandas_profiling) (0.11.2)\n",
            "Collecting multimethod>=1.4\n",
            "  Downloading multimethod-1.6-py3-none-any.whl (9.4 kB)\n",
            "Collecting PyYAML>=5.0.0\n",
            "  Downloading PyYAML-6.0-cp37-cp37m-manylinux_2_5_x86_64.manylinux1_x86_64.manylinux_2_12_x86_64.manylinux2010_x86_64.whl (596 kB)\n",
            "     |████████████████████████████████| 596 kB 47.5 MB/s            \n",
            "\u001b[?25hCollecting visions[type_image_path]==0.7.4\n",
            "  Downloading visions-0.7.4-py3-none-any.whl (102 kB)\n",
            "     |████████████████████████████████| 102 kB 12.1 MB/s           \n",
            "\u001b[?25hRequirement already satisfied: tqdm>=4.48.2 in /usr/local/lib/python3.7/dist-packages (from pandas_profiling) (4.62.3)\n",
            "Collecting requests>=2.24.0\n",
            "  Downloading requests-2.27.1-py2.py3-none-any.whl (63 kB)\n",
            "     |████████████████████████████████| 63 kB 1.9 MB/s             \n",
            "\u001b[?25hRequirement already satisfied: networkx>=2.4 in /usr/local/lib/python3.7/dist-packages (from visions[type_image_path]==0.7.4->pandas_profiling) (2.6.3)\n",
            "Requirement already satisfied: attrs>=19.3.0 in /usr/local/lib/python3.7/dist-packages (from visions[type_image_path]==0.7.4->pandas_profiling) (21.4.0)\n",
            "Requirement already satisfied: Pillow in /usr/local/lib/python3.7/dist-packages (from visions[type_image_path]==0.7.4->pandas_profiling) (7.1.2)\n",
            "Collecting imagehash\n",
            "  Downloading ImageHash-4.2.1.tar.gz (812 kB)\n",
            "     |████████████████████████████████| 812 kB 45.6 MB/s            \n",
            "\u001b[?25h  Preparing metadata (setup.py) ... \u001b[?25l\u001b[?25hdone\n",
            "Requirement already satisfied: kiwisolver>=1.0.1 in /usr/local/lib/python3.7/dist-packages (from matplotlib>=3.2.0->pandas_profiling) (1.3.2)\n",
            "Requirement already satisfied: cycler>=0.10 in /usr/local/lib/python3.7/dist-packages (from matplotlib>=3.2.0->pandas_profiling) (0.11.0)\n",
            "Requirement already satisfied: pyparsing!=2.0.4,!=2.1.2,!=2.1.6,>=2.0.1 in /usr/local/lib/python3.7/dist-packages (from matplotlib>=3.2.0->pandas_profiling) (3.0.6)\n",
            "Requirement already satisfied: python-dateutil>=2.1 in /usr/local/lib/python3.7/dist-packages (from matplotlib>=3.2.0->pandas_profiling) (2.8.2)\n",
            "Requirement already satisfied: pytz>=2017.3 in /usr/local/lib/python3.7/dist-packages (from pandas!=1.0.0,!=1.0.1,!=1.0.2,!=1.1.0,>=0.25.3->pandas_profiling) (2018.9)\n",
            "Collecting scipy>=1.4.1\n",
            "  Downloading scipy-1.7.3-cp37-cp37m-manylinux_2_12_x86_64.manylinux2010_x86_64.whl (38.1 MB)\n",
            "     |████████████████████████████████| 38.1 MB 41.2 MB/s            \n",
            "\u001b[?25hRequirement already satisfied: typing-extensions>=3.7.4.3 in /usr/local/lib/python3.7/dist-packages (from pydantic>=1.8.1->pandas_profiling) (3.10.0.2)\n",
            "Requirement already satisfied: charset-normalizer~=2.0.0 in /usr/local/lib/python3.7/dist-packages (from requests>=2.24.0->pandas_profiling) (2.0.10)\n",
            "Requirement already satisfied: idna<4,>=2.5 in /usr/local/lib/python3.7/dist-packages (from requests>=2.24.0->pandas_profiling) (2.10)\n",
            "Requirement already satisfied: certifi>=2017.4.17 in /usr/local/lib/python3.7/dist-packages (from requests>=2.24.0->pandas_profiling) (2021.10.8)\n",
            "Requirement already satisfied: urllib3<1.27,>=1.21.1 in /usr/local/lib/python3.7/dist-packages (from requests>=2.24.0->pandas_profiling) (1.24.3)\n",
            "Requirement already satisfied: six>=1.5 in /usr/local/lib/python3.7/dist-packages (from python-dateutil>=2.1->matplotlib>=3.2.0->pandas_profiling) (1.15.0)\n",
            "Requirement already satisfied: PyWavelets in /usr/local/lib/python3.7/dist-packages (from imagehash->visions[type_image_path]==0.7.4->pandas_profiling) (1.2.0)\n",
            "Building wheels for collected packages: htmlmin, imagehash\n",
            "  Building wheel for htmlmin (setup.py) ... \u001b[?25l\u001b[?25hdone\n",
            "  Created wheel for htmlmin: filename=htmlmin-0.1.12-py3-none-any.whl size=27098 sha256=418d00ee9d677e490436ec5eb5fe91b6dda74337a48dae171a4f91df3775d4ca\n",
            "  Stored in directory: /root/.cache/pip/wheels/70/e1/52/5b14d250ba868768823940c3229e9950d201a26d0bd3ee8655\n",
            "  Building wheel for imagehash (setup.py) ... \u001b[?25l\u001b[?25hdone\n",
            "  Created wheel for imagehash: filename=ImageHash-4.2.1-py2.py3-none-any.whl size=295206 sha256=31ceaabf6e2862e8357320e5473c798a8e32d8ced8de1f526acf1acb73a1b2b8\n",
            "  Stored in directory: /root/.cache/pip/wheels/4c/d5/59/5e3e297533ddb09407769762985d134135064c6831e29a914e\n",
            "Successfully built htmlmin imagehash\n",
            "Installing collected packages: tangled-up-in-unicode, scipy, multimethod, visions, joblib, imagehash, requests, PyYAML, pydantic, phik, htmlmin, pandas-profiling\n",
            "  Attempting uninstall: scipy\n",
            "    Found existing installation: scipy 1.4.1\n",
            "    Uninstalling scipy-1.4.1:\n",
            "      Successfully uninstalled scipy-1.4.1\n",
            "  Attempting uninstall: joblib\n",
            "    Found existing installation: joblib 1.1.0\n",
            "    Uninstalling joblib-1.1.0:\n",
            "      Successfully uninstalled joblib-1.1.0\n",
            "  Attempting uninstall: requests\n",
            "    Found existing installation: requests 2.23.0\n",
            "    Uninstalling requests-2.23.0:\n",
            "      Successfully uninstalled requests-2.23.0\n",
            "  Attempting uninstall: PyYAML\n",
            "    Found existing installation: PyYAML 3.13\n",
            "    Uninstalling PyYAML-3.13:\n",
            "      Successfully uninstalled PyYAML-3.13\n",
            "  Attempting uninstall: pandas-profiling\n",
            "    Found existing installation: pandas-profiling 1.4.1\n",
            "    Uninstalling pandas-profiling-1.4.1:\n",
            "      Successfully uninstalled pandas-profiling-1.4.1\n",
            "\u001b[31mERROR: pip's dependency resolver does not currently take into account all the packages that are installed. This behaviour is the source of the following dependency conflicts.\n",
            "yellowbrick 1.3.post1 requires numpy<1.20,>=1.16.0, but you have numpy 1.21.5 which is incompatible.\n",
            "google-colab 1.0.0 requires pandas~=1.1.0; python_version >= \"3.0\", but you have pandas 1.3.5 which is incompatible.\n",
            "google-colab 1.0.0 requires requests~=2.23.0, but you have requests 2.27.1 which is incompatible.\n",
            "datascience 0.10.6 requires folium==0.2.1, but you have folium 0.8.3 which is incompatible.\n",
            "albumentations 0.1.12 requires imgaug<0.2.7,>=0.2.5, but you have imgaug 0.2.9 which is incompatible.\u001b[0m\n",
            "Successfully installed PyYAML-6.0 htmlmin-0.1.12 imagehash-4.2.1 joblib-1.0.1 multimethod-1.6 pandas-profiling-3.1.0 phik-0.12.0 pydantic-1.9.0 requests-2.27.1 scipy-1.7.3 tangled-up-in-unicode-0.1.0 visions-0.7.4\n",
            "\u001b[33mWARNING: Running pip as the 'root' user can result in broken permissions and conflicting behaviour with the system package manager. It is recommended to use a virtual environment instead: https://pip.pypa.io/warnings/venv\u001b[0m\n"
          ]
        },
        {
          "output_type": "display_data",
          "data": {
            "application/vnd.colab-display-data+json": {
              "pip_warning": {
                "packages": [
                  "joblib",
                  "scipy"
                ]
              }
            }
          },
          "metadata": {}
        }
      ]
    },
    {
      "cell_type": "code",
      "source": [
        "import pandas_profiling as pdp"
      ],
      "metadata": {
        "id": "kBQq26GhJDPZ",
        "outputId": "9c2823d8-9b09-49ae-8659-655995929d49",
        "colab": {
          "base_uri": "https://localhost:8080/",
          "height": 455
        }
      },
      "execution_count": 28,
      "outputs": [
        {
          "output_type": "error",
          "ename": "ImportError",
          "evalue": "ignored",
          "traceback": [
            "\u001b[0;31m---------------------------------------------------------------------------\u001b[0m",
            "\u001b[0;31mImportError\u001b[0m                               Traceback (most recent call last)",
            "\u001b[0;32m<ipython-input-28-bed81e652925>\u001b[0m in \u001b[0;36m<module>\u001b[0;34m()\u001b[0m\n\u001b[0;32m----> 1\u001b[0;31m \u001b[0;32mimport\u001b[0m \u001b[0mpandas_profiling\u001b[0m \u001b[0;32mas\u001b[0m \u001b[0mpdp\u001b[0m\u001b[0;34m\u001b[0m\u001b[0;34m\u001b[0m\u001b[0m\n\u001b[0m",
            "\u001b[0;32m/usr/local/lib/python3.7/dist-packages/pandas_profiling/__init__.py\u001b[0m in \u001b[0;36m<module>\u001b[0;34m()\u001b[0m\n\u001b[1;32m      4\u001b[0m \"\"\"\n\u001b[1;32m      5\u001b[0m \u001b[0;34m\u001b[0m\u001b[0m\n\u001b[0;32m----> 6\u001b[0;31m \u001b[0;32mfrom\u001b[0m \u001b[0mpandas_profiling\u001b[0m\u001b[0;34m.\u001b[0m\u001b[0mcontroller\u001b[0m \u001b[0;32mimport\u001b[0m \u001b[0mpandas_decorator\u001b[0m\u001b[0;34m\u001b[0m\u001b[0;34m\u001b[0m\u001b[0m\n\u001b[0m\u001b[1;32m      7\u001b[0m \u001b[0;32mfrom\u001b[0m \u001b[0mpandas_profiling\u001b[0m\u001b[0;34m.\u001b[0m\u001b[0mprofile_report\u001b[0m \u001b[0;32mimport\u001b[0m \u001b[0mProfileReport\u001b[0m\u001b[0;34m\u001b[0m\u001b[0;34m\u001b[0m\u001b[0m\n\u001b[1;32m      8\u001b[0m \u001b[0;32mfrom\u001b[0m \u001b[0mpandas_profiling\u001b[0m\u001b[0;34m.\u001b[0m\u001b[0mversion\u001b[0m \u001b[0;32mimport\u001b[0m \u001b[0m__version__\u001b[0m\u001b[0;34m\u001b[0m\u001b[0;34m\u001b[0m\u001b[0m\n",
            "\u001b[0;32m/usr/local/lib/python3.7/dist-packages/pandas_profiling/controller/pandas_decorator.py\u001b[0m in \u001b[0;36m<module>\u001b[0;34m()\u001b[0m\n\u001b[1;32m      2\u001b[0m \u001b[0;32mfrom\u001b[0m \u001b[0mpandas\u001b[0m \u001b[0;32mimport\u001b[0m \u001b[0mDataFrame\u001b[0m\u001b[0;34m\u001b[0m\u001b[0;34m\u001b[0m\u001b[0m\n\u001b[1;32m      3\u001b[0m \u001b[0;34m\u001b[0m\u001b[0m\n\u001b[0;32m----> 4\u001b[0;31m \u001b[0;32mfrom\u001b[0m \u001b[0mpandas_profiling\u001b[0m\u001b[0;34m.\u001b[0m\u001b[0mprofile_report\u001b[0m \u001b[0;32mimport\u001b[0m \u001b[0mProfileReport\u001b[0m\u001b[0;34m\u001b[0m\u001b[0;34m\u001b[0m\u001b[0m\n\u001b[0m\u001b[1;32m      5\u001b[0m \u001b[0;34m\u001b[0m\u001b[0m\n\u001b[1;32m      6\u001b[0m \u001b[0;34m\u001b[0m\u001b[0m\n",
            "\u001b[0;32m/usr/local/lib/python3.7/dist-packages/pandas_profiling/profile_report.py\u001b[0m in \u001b[0;36m<module>\u001b[0;34m()\u001b[0m\n\u001b[1;32m     14\u001b[0m \u001b[0;32mfrom\u001b[0m \u001b[0mpandas_profiling\u001b[0m\u001b[0;34m.\u001b[0m\u001b[0mexpectations_report\u001b[0m \u001b[0;32mimport\u001b[0m \u001b[0mExpectationsReport\u001b[0m\u001b[0;34m\u001b[0m\u001b[0;34m\u001b[0m\u001b[0m\n\u001b[1;32m     15\u001b[0m \u001b[0;32mfrom\u001b[0m \u001b[0mpandas_profiling\u001b[0m\u001b[0;34m.\u001b[0m\u001b[0mmodel\u001b[0m\u001b[0;34m.\u001b[0m\u001b[0malerts\u001b[0m \u001b[0;32mimport\u001b[0m \u001b[0mAlertType\u001b[0m\u001b[0;34m\u001b[0m\u001b[0;34m\u001b[0m\u001b[0m\n\u001b[0;32m---> 16\u001b[0;31m \u001b[0;32mfrom\u001b[0m \u001b[0mpandas_profiling\u001b[0m\u001b[0;34m.\u001b[0m\u001b[0mmodel\u001b[0m\u001b[0;34m.\u001b[0m\u001b[0mdescribe\u001b[0m \u001b[0;32mimport\u001b[0m \u001b[0mdescribe\u001b[0m \u001b[0;32mas\u001b[0m \u001b[0mdescribe_df\u001b[0m\u001b[0;34m\u001b[0m\u001b[0;34m\u001b[0m\u001b[0m\n\u001b[0m\u001b[1;32m     17\u001b[0m \u001b[0;32mfrom\u001b[0m \u001b[0mpandas_profiling\u001b[0m\u001b[0;34m.\u001b[0m\u001b[0mmodel\u001b[0m\u001b[0;34m.\u001b[0m\u001b[0msample\u001b[0m \u001b[0;32mimport\u001b[0m \u001b[0mSample\u001b[0m\u001b[0;34m\u001b[0m\u001b[0;34m\u001b[0m\u001b[0m\n\u001b[1;32m     18\u001b[0m from pandas_profiling.model.summarizer import (\n",
            "\u001b[0;32m/usr/local/lib/python3.7/dist-packages/pandas_profiling/model/describe.py\u001b[0m in \u001b[0;36m<module>\u001b[0;34m()\u001b[0m\n\u001b[1;32m     16\u001b[0m \u001b[0;32mfrom\u001b[0m \u001b[0mpandas_profiling\u001b[0m\u001b[0;34m.\u001b[0m\u001b[0mmodel\u001b[0m\u001b[0;34m.\u001b[0m\u001b[0mduplicates\u001b[0m \u001b[0;32mimport\u001b[0m \u001b[0mget_duplicates\u001b[0m\u001b[0;34m\u001b[0m\u001b[0;34m\u001b[0m\u001b[0m\n\u001b[1;32m     17\u001b[0m \u001b[0;32mfrom\u001b[0m \u001b[0mpandas_profiling\u001b[0m\u001b[0;34m.\u001b[0m\u001b[0mmodel\u001b[0m\u001b[0;34m.\u001b[0m\u001b[0mmissing\u001b[0m \u001b[0;32mimport\u001b[0m \u001b[0mget_missing_active\u001b[0m\u001b[0;34m,\u001b[0m \u001b[0mget_missing_diagram\u001b[0m\u001b[0;34m\u001b[0m\u001b[0;34m\u001b[0m\u001b[0m\n\u001b[0;32m---> 18\u001b[0;31m \u001b[0;32mfrom\u001b[0m \u001b[0mpandas_profiling\u001b[0m\u001b[0;34m.\u001b[0m\u001b[0mmodel\u001b[0m\u001b[0;34m.\u001b[0m\u001b[0mpairwise\u001b[0m \u001b[0;32mimport\u001b[0m \u001b[0mget_scatter_plot\u001b[0m\u001b[0;34m,\u001b[0m \u001b[0mget_scatter_tasks\u001b[0m\u001b[0;34m\u001b[0m\u001b[0;34m\u001b[0m\u001b[0m\n\u001b[0m\u001b[1;32m     19\u001b[0m \u001b[0;32mfrom\u001b[0m \u001b[0mpandas_profiling\u001b[0m\u001b[0;34m.\u001b[0m\u001b[0mmodel\u001b[0m\u001b[0;34m.\u001b[0m\u001b[0msample\u001b[0m \u001b[0;32mimport\u001b[0m \u001b[0mget_custom_sample\u001b[0m\u001b[0;34m,\u001b[0m \u001b[0mget_sample\u001b[0m\u001b[0;34m\u001b[0m\u001b[0;34m\u001b[0m\u001b[0m\n\u001b[1;32m     20\u001b[0m \u001b[0;32mfrom\u001b[0m \u001b[0mpandas_profiling\u001b[0m\u001b[0;34m.\u001b[0m\u001b[0mmodel\u001b[0m\u001b[0;34m.\u001b[0m\u001b[0msummarizer\u001b[0m \u001b[0;32mimport\u001b[0m \u001b[0mBaseSummarizer\u001b[0m\u001b[0;34m\u001b[0m\u001b[0;34m\u001b[0m\u001b[0m\n",
            "\u001b[0;32m/usr/local/lib/python3.7/dist-packages/pandas_profiling/model/pairwise.py\u001b[0m in \u001b[0;36m<module>\u001b[0;34m()\u001b[0m\n\u001b[1;32m      4\u001b[0m \u001b[0;34m\u001b[0m\u001b[0m\n\u001b[1;32m      5\u001b[0m \u001b[0;32mfrom\u001b[0m \u001b[0mpandas_profiling\u001b[0m\u001b[0;34m.\u001b[0m\u001b[0mconfig\u001b[0m \u001b[0;32mimport\u001b[0m \u001b[0mSettings\u001b[0m\u001b[0;34m\u001b[0m\u001b[0;34m\u001b[0m\u001b[0m\n\u001b[0;32m----> 6\u001b[0;31m \u001b[0;32mfrom\u001b[0m \u001b[0mpandas_profiling\u001b[0m\u001b[0;34m.\u001b[0m\u001b[0mvisualisation\u001b[0m\u001b[0;34m.\u001b[0m\u001b[0mplot\u001b[0m \u001b[0;32mimport\u001b[0m \u001b[0mscatter_pairwise\u001b[0m\u001b[0;34m\u001b[0m\u001b[0;34m\u001b[0m\u001b[0m\n\u001b[0m\u001b[1;32m      7\u001b[0m \u001b[0;34m\u001b[0m\u001b[0m\n\u001b[1;32m      8\u001b[0m \u001b[0;34m\u001b[0m\u001b[0m\n",
            "\u001b[0;32m/usr/local/lib/python3.7/dist-packages/pandas_profiling/visualisation/plot.py\u001b[0m in \u001b[0;36m<module>\u001b[0;34m()\u001b[0m\n\u001b[1;32m      5\u001b[0m \u001b[0;32mimport\u001b[0m \u001b[0mnumpy\u001b[0m \u001b[0;32mas\u001b[0m \u001b[0mnp\u001b[0m\u001b[0;34m\u001b[0m\u001b[0;34m\u001b[0m\u001b[0m\n\u001b[1;32m      6\u001b[0m \u001b[0;32mimport\u001b[0m \u001b[0mpandas\u001b[0m \u001b[0;32mas\u001b[0m \u001b[0mpd\u001b[0m\u001b[0;34m\u001b[0m\u001b[0;34m\u001b[0m\u001b[0m\n\u001b[0;32m----> 7\u001b[0;31m \u001b[0;32mimport\u001b[0m \u001b[0mseaborn\u001b[0m \u001b[0;32mas\u001b[0m \u001b[0msns\u001b[0m\u001b[0;34m\u001b[0m\u001b[0;34m\u001b[0m\u001b[0m\n\u001b[0m\u001b[1;32m      8\u001b[0m \u001b[0;32mfrom\u001b[0m \u001b[0mmatplotlib\u001b[0m \u001b[0;32mimport\u001b[0m \u001b[0mpyplot\u001b[0m \u001b[0;32mas\u001b[0m \u001b[0mplt\u001b[0m\u001b[0;34m\u001b[0m\u001b[0;34m\u001b[0m\u001b[0m\n\u001b[1;32m      9\u001b[0m \u001b[0;32mfrom\u001b[0m \u001b[0mmatplotlib\u001b[0m\u001b[0;34m.\u001b[0m\u001b[0mcolors\u001b[0m \u001b[0;32mimport\u001b[0m \u001b[0mColormap\u001b[0m\u001b[0;34m,\u001b[0m \u001b[0mLinearSegmentedColormap\u001b[0m\u001b[0;34m,\u001b[0m \u001b[0mListedColormap\u001b[0m\u001b[0;34m\u001b[0m\u001b[0;34m\u001b[0m\u001b[0m\n",
            "\u001b[0;32m/usr/local/lib/python3.7/dist-packages/seaborn/__init__.py\u001b[0m in \u001b[0;36m<module>\u001b[0;34m()\u001b[0m\n\u001b[1;32m      7\u001b[0m \u001b[0;32mfrom\u001b[0m \u001b[0;34m.\u001b[0m\u001b[0mcategorical\u001b[0m \u001b[0;32mimport\u001b[0m \u001b[0;34m*\u001b[0m  \u001b[0;31m# noqa: F401,F403\u001b[0m\u001b[0;34m\u001b[0m\u001b[0;34m\u001b[0m\u001b[0m\n\u001b[1;32m      8\u001b[0m \u001b[0;32mfrom\u001b[0m \u001b[0;34m.\u001b[0m\u001b[0mdistributions\u001b[0m \u001b[0;32mimport\u001b[0m \u001b[0;34m*\u001b[0m  \u001b[0;31m# noqa: F401,F403\u001b[0m\u001b[0;34m\u001b[0m\u001b[0;34m\u001b[0m\u001b[0m\n\u001b[0;32m----> 9\u001b[0;31m \u001b[0;32mfrom\u001b[0m \u001b[0;34m.\u001b[0m\u001b[0mmatrix\u001b[0m \u001b[0;32mimport\u001b[0m \u001b[0;34m*\u001b[0m  \u001b[0;31m# noqa: F401,F403\u001b[0m\u001b[0;34m\u001b[0m\u001b[0;34m\u001b[0m\u001b[0m\n\u001b[0m\u001b[1;32m     10\u001b[0m \u001b[0;32mfrom\u001b[0m \u001b[0;34m.\u001b[0m\u001b[0mmiscplot\u001b[0m \u001b[0;32mimport\u001b[0m \u001b[0;34m*\u001b[0m  \u001b[0;31m# noqa: F401,F403\u001b[0m\u001b[0;34m\u001b[0m\u001b[0;34m\u001b[0m\u001b[0m\n\u001b[1;32m     11\u001b[0m \u001b[0;32mfrom\u001b[0m \u001b[0;34m.\u001b[0m\u001b[0maxisgrid\u001b[0m \u001b[0;32mimport\u001b[0m \u001b[0;34m*\u001b[0m  \u001b[0;31m# noqa: F401,F403\u001b[0m\u001b[0;34m\u001b[0m\u001b[0;34m\u001b[0m\u001b[0m\n",
            "\u001b[0;32m/usr/local/lib/python3.7/dist-packages/seaborn/matrix.py\u001b[0m in \u001b[0;36m<module>\u001b[0;34m()\u001b[0m\n\u001b[1;32m      8\u001b[0m \u001b[0;32mimport\u001b[0m \u001b[0mnumpy\u001b[0m \u001b[0;32mas\u001b[0m \u001b[0mnp\u001b[0m\u001b[0;34m\u001b[0m\u001b[0;34m\u001b[0m\u001b[0m\n\u001b[1;32m      9\u001b[0m \u001b[0;32mimport\u001b[0m \u001b[0mpandas\u001b[0m \u001b[0;32mas\u001b[0m \u001b[0mpd\u001b[0m\u001b[0;34m\u001b[0m\u001b[0;34m\u001b[0m\u001b[0m\n\u001b[0;32m---> 10\u001b[0;31m \u001b[0;32mfrom\u001b[0m \u001b[0mscipy\u001b[0m\u001b[0;34m.\u001b[0m\u001b[0mcluster\u001b[0m \u001b[0;32mimport\u001b[0m \u001b[0mhierarchy\u001b[0m\u001b[0;34m\u001b[0m\u001b[0;34m\u001b[0m\u001b[0m\n\u001b[0m\u001b[1;32m     11\u001b[0m \u001b[0;34m\u001b[0m\u001b[0m\n\u001b[1;32m     12\u001b[0m \u001b[0;32mfrom\u001b[0m \u001b[0;34m.\u001b[0m \u001b[0;32mimport\u001b[0m \u001b[0mcm\u001b[0m\u001b[0;34m\u001b[0m\u001b[0;34m\u001b[0m\u001b[0m\n",
            "\u001b[0;32m/usr/local/lib/python3.7/dist-packages/scipy/cluster/__init__.py\u001b[0m in \u001b[0;36m<module>\u001b[0;34m()\u001b[0m\n\u001b[1;32m     23\u001b[0m \u001b[0m__all__\u001b[0m \u001b[0;34m=\u001b[0m \u001b[0;34m[\u001b[0m\u001b[0;34m'vq'\u001b[0m\u001b[0;34m,\u001b[0m \u001b[0;34m'hierarchy'\u001b[0m\u001b[0;34m]\u001b[0m\u001b[0;34m\u001b[0m\u001b[0;34m\u001b[0m\u001b[0m\n\u001b[1;32m     24\u001b[0m \u001b[0;34m\u001b[0m\u001b[0m\n\u001b[0;32m---> 25\u001b[0;31m \u001b[0;32mfrom\u001b[0m \u001b[0;34m.\u001b[0m \u001b[0;32mimport\u001b[0m \u001b[0mvq\u001b[0m\u001b[0;34m,\u001b[0m \u001b[0mhierarchy\u001b[0m\u001b[0;34m\u001b[0m\u001b[0;34m\u001b[0m\u001b[0m\n\u001b[0m\u001b[1;32m     26\u001b[0m \u001b[0;34m\u001b[0m\u001b[0m\n\u001b[1;32m     27\u001b[0m \u001b[0;32mfrom\u001b[0m \u001b[0mscipy\u001b[0m\u001b[0;34m.\u001b[0m\u001b[0m_lib\u001b[0m\u001b[0;34m.\u001b[0m\u001b[0m_testutils\u001b[0m \u001b[0;32mimport\u001b[0m \u001b[0mPytestTester\u001b[0m\u001b[0;34m\u001b[0m\u001b[0;34m\u001b[0m\u001b[0m\n",
            "\u001b[0;32m/usr/local/lib/python3.7/dist-packages/scipy/cluster/vq.py\u001b[0m in \u001b[0;36m<module>\u001b[0;34m()\u001b[0m\n\u001b[1;32m     68\u001b[0m \u001b[0;32mimport\u001b[0m \u001b[0mnumpy\u001b[0m \u001b[0;32mas\u001b[0m \u001b[0mnp\u001b[0m\u001b[0;34m\u001b[0m\u001b[0;34m\u001b[0m\u001b[0m\n\u001b[1;32m     69\u001b[0m \u001b[0;32mfrom\u001b[0m \u001b[0mcollections\u001b[0m \u001b[0;32mimport\u001b[0m \u001b[0mdeque\u001b[0m\u001b[0;34m\u001b[0m\u001b[0;34m\u001b[0m\u001b[0m\n\u001b[0;32m---> 70\u001b[0;31m \u001b[0;32mfrom\u001b[0m \u001b[0mscipy\u001b[0m\u001b[0;34m.\u001b[0m\u001b[0m_lib\u001b[0m\u001b[0;34m.\u001b[0m\u001b[0m_util\u001b[0m \u001b[0;32mimport\u001b[0m \u001b[0m_asarray_validated\u001b[0m\u001b[0;34m,\u001b[0m \u001b[0mcheck_random_state\u001b[0m\u001b[0;34m,\u001b[0m\u001b[0;31m\\\u001b[0m\u001b[0;34m\u001b[0m\u001b[0;34m\u001b[0m\u001b[0m\n\u001b[0m\u001b[1;32m     71\u001b[0m     \u001b[0mrng_integers\u001b[0m\u001b[0;34m\u001b[0m\u001b[0;34m\u001b[0m\u001b[0m\n\u001b[1;32m     72\u001b[0m \u001b[0;32mfrom\u001b[0m \u001b[0mscipy\u001b[0m\u001b[0;34m.\u001b[0m\u001b[0mspatial\u001b[0m\u001b[0;34m.\u001b[0m\u001b[0mdistance\u001b[0m \u001b[0;32mimport\u001b[0m \u001b[0mcdist\u001b[0m\u001b[0;34m\u001b[0m\u001b[0;34m\u001b[0m\u001b[0m\n",
            "\u001b[0;31mImportError\u001b[0m: cannot import name 'rng_integers' from 'scipy._lib._util' (/usr/local/lib/python3.7/dist-packages/scipy/_lib/_util.py)",
            "",
            "\u001b[0;31m---------------------------------------------------------------------------\u001b[0;32m\nNOTE: If your import is failing due to a missing package, you can\nmanually install dependencies using either !pip or !apt.\n\nTo view examples of installing some common dependencies, click the\n\"Open Examples\" button below.\n\u001b[0;31m---------------------------------------------------------------------------\u001b[0m\n"
          ],
          "errorDetails": {
            "actions": [
              {
                "action": "open_url",
                "actionText": "Open Examples",
                "url": "/notebooks/snippets/importing_libraries.ipynb"
              }
            ]
          }
        }
      ]
    },
    {
      "metadata": {
        "trusted": false,
        "id": "OGgYa9VQqteO"
      },
      "cell_type": "code",
      "source": [
        "df_023 = df_receipt\n",
        "df_023['P023'] = df_023['quantity']*df_023['amount']\n",
        "df_023\n",
        "\n",
        "\n",
        "# pdp.ProfileReport(df_023)"
      ],
      "execution_count": null,
      "outputs": []
    },
    {
      "cell_type": "code",
      "source": [
        "df_023.query('quantity != 1')"
      ],
      "metadata": {
        "id": "LhkUkpr7LUFQ"
      },
      "execution_count": null,
      "outputs": []
    },
    {
      "metadata": {
        "id": "xmZLBB2gqteO"
      },
      "cell_type": "markdown",
      "source": [
        "---\n",
        "> P-024: レシート明細データフレーム（df_receipt）に対し、顧客ID（customer_id）ごとに最も新しい売上日（sales_ymd）を求め、10件表示せよ。"
      ]
    },
    {
      "metadata": {
        "trusted": false,
        "id": "RVNW44mSqteP"
      },
      "cell_type": "code",
      "source": [
        "df_024 = df_receipt.sort_values('sales_ymd', ascending=False).head(10)\n",
        "df_024"
      ],
      "execution_count": null,
      "outputs": []
    },
    {
      "metadata": {
        "id": "qU8pNbw_qteP"
      },
      "cell_type": "markdown",
      "source": [
        "---\n",
        "> P-025: レシート明細データフレーム（df_receipt）に対し、顧客ID（customer_id）ごとに最も古い売上日（sales_ymd）を求め、10件表示せよ。"
      ]
    },
    {
      "metadata": {
        "trusted": false,
        "id": "i4DYXnEAqteP"
      },
      "cell_type": "code",
      "source": [
        "df_025 = df_receipt.sort_values('sales_ymd', ascending=True).head(10)\n",
        "df_025"
      ],
      "execution_count": null,
      "outputs": []
    },
    {
      "metadata": {
        "id": "nA8yhIfpqteQ"
      },
      "cell_type": "markdown",
      "source": [
        "---\n",
        "> P-026: レシート明細データフレーム（df_receipt）に対し、顧客ID（customer_id）ごとに最も新しい売上日（sales_ymd）と古い売上日を求め、両者が異なるデータを10件表示せよ。"
      ]
    },
    {
      "metadata": {
        "trusted": false,
        "id": "jlpaU7bAqteQ"
      },
      "cell_type": "code",
      "source": [
        "# type(df_receipt['sales_ymd'])\n",
        "\n",
        "\n",
        "df_026 = df_receipt.groupby('customer_id').agg({\"sales_ymd\":['max','min']}).reset_index()\n",
        "df_026.columns = [\"_\".join(pair) for pair in df_026.columns]\n",
        "# df_026\n",
        "df_026.query('sales_ymd_max != sales_ymd_min').head(10)\n",
        "\n",
        "\n",
        "# # df_receipt_max\n",
        "# df_receipt_max_uni = df_receipt['sales_ymd'].unique().tolist()\n",
        "\n",
        "# df_receipt_max_query = df_receipt.query(f'sales_ymd == {df_receipt_max_uni}')\n",
        "\n",
        "# df_receipt_max_query\n",
        "\n",
        "# df_receipt_max_query.query(f'sales_ymd == {df_receipt_max_uni}')\n",
        "\n",
        "\n"
      ],
      "execution_count": null,
      "outputs": []
    },
    {
      "metadata": {
        "id": "Cdyr_hGoqteQ"
      },
      "cell_type": "markdown",
      "source": [
        "---\n",
        "> P-027: レシート明細データフレーム（df_receipt）に対し、店舗コード（store_cd）ごとに売上金額（amount）の平均を計算し、降順でTOP5を表示せよ。"
      ]
    },
    {
      "cell_type": "code",
      "source": [
        "df_receipt[['store_cd', 'amount']]"
      ],
      "metadata": {
        "id": "G2_QcqYOD9AA"
      },
      "execution_count": null,
      "outputs": []
    },
    {
      "metadata": {
        "trusted": false,
        "id": "cMTO5POfqteQ"
      },
      "cell_type": "code",
      "source": [
        "df_receipt[['store_cd', 'amount']].groupby('store_cd').mean().sort_values('amount',ascending=False).head(5)\n",
        "\n",
        "\n"
      ],
      "execution_count": null,
      "outputs": []
    },
    {
      "metadata": {
        "id": "3kZk_sQzqteQ"
      },
      "cell_type": "markdown",
      "source": [
        "---\n",
        "> P-028: レシート明細データフレーム（df_receipt）に対し、店舗コード（store_cd）ごとに売上金額（amount）の中央値を計算し、降順でTOP5を表示せよ。"
      ]
    },
    {
      "metadata": {
        "trusted": false,
        "id": "8XihqpEuqteR"
      },
      "cell_type": "code",
      "source": [
        "df_receipt[['store_cd', 'amount']].groupby('store_cd').median().sort_values('amount', ascending=False).head(5)"
      ],
      "execution_count": null,
      "outputs": []
    },
    {
      "metadata": {
        "id": "8nonem75qteR"
      },
      "cell_type": "markdown",
      "source": [
        "---\n",
        "> P-029: レシート明細データフレーム（df_receipt）に対し、店舗コード（store_cd）ごとに商品コード（product_cd）の最頻値を求めよ。"
      ]
    },
    {
      "metadata": {
        "trusted": false,
        "id": "_-YLhwQcqteR"
      },
      "cell_type": "code",
      "source": [
        "# df_receipt['product_cd']\n",
        "df_receipt[['store_cd','product_cd']].groupby('store_cd').product_cd.apply(lambda x: x.mode())\n",
        " \n",
        "# print(df_receipt.query('store_cd == \"S13051\" & product_cd == \"P050102001\"').shape)\n",
        "# print(df_receipt.query('store_cd == \"S13051\" & product_cd == \"P071003001\"').shape)\n",
        "# print(df_receipt.query('store_cd == \"S13051\" & product_cd == \"P080804001\"').shape)\n",
        "# df_receipt.query('store_cd == \"S12007\"')['amount']"
      ],
      "execution_count": null,
      "outputs": []
    },
    {
      "metadata": {
        "id": "0hB_ZEzuqteR"
      },
      "cell_type": "markdown",
      "source": [
        "---\n",
        "> P-030: レシート明細データフレーム（df_receipt）に対し、店舗コード（store_cd）ごとに売上金額（amount）の標本分散を計算し、降順でTOP5を表示せよ。"
      ]
    },
    {
      "metadata": {
        "trusted": false,
        "id": "JkcDe8-NqteR"
      },
      "cell_type": "code",
      "source": [
        "df_receipt[['store_cd', 'amount']].groupby('store_cd').amount.var(ddof=0).sort_values(ascending=False).head(5)"
      ],
      "execution_count": null,
      "outputs": []
    },
    {
      "metadata": {
        "id": "X1uoGqxEqteS"
      },
      "cell_type": "markdown",
      "source": [
        "---\n",
        "> P-031: レシート明細データフレーム（df_receipt）に対し、店舗コード（store_cd）ごとに売上金額（amount）の標本標準偏差を計算し、降順でTOP5を表示せよ。"
      ]
    },
    {
      "metadata": {
        "trusted": false,
        "id": "KMnWaf_oqteS"
      },
      "cell_type": "code",
      "source": [
        "df_receipt[['store_cd', 'amount']].groupby('store_cd').amount.std(ddof=0).sort_values(ascending=False).head(5)"
      ],
      "execution_count": null,
      "outputs": []
    },
    {
      "metadata": {
        "id": "PyCIM9oqqteS"
      },
      "cell_type": "markdown",
      "source": [
        "---\n",
        "> P-032: レシート明細データフレーム（df_receipt）の売上金額（amount）について、25％刻みでパーセンタイル値を求めよ。"
      ]
    },
    {
      "cell_type": "code",
      "source": [
        "np.percentile(df_receipt['amount'],q=[25,50,75,100])\n",
        "# df_receipt['amount'].min()"
      ],
      "metadata": {
        "id": "YWOTPcWs0lhX"
      },
      "execution_count": null,
      "outputs": []
    },
    {
      "metadata": {
        "trusted": false,
        "id": "or8hCjiXqteT"
      },
      "cell_type": "code",
      "source": [
        "df_receipt.amount.quantile(q=np.arange(5)/4)\n",
        "# np.arange(5)/4"
      ],
      "execution_count": null,
      "outputs": []
    },
    {
      "metadata": {
        "id": "nvaQML0hqteT"
      },
      "cell_type": "markdown",
      "source": [
        "---\n",
        "> P-033: レシート明細データフレーム（df_receipt）に対し、店舗コード（store_cd）ごとに売上金額（amount）の平均を計算し、330以上のものを抽出せよ。"
      ]
    },
    {
      "metadata": {
        "trusted": false,
        "id": "Yv_VwQFyqteU"
      },
      "cell_type": "code",
      "source": [
        "df_receipt[['store_cd','amount']].groupby('store_cd').mean().query('amount >= 330')"
      ],
      "execution_count": null,
      "outputs": []
    },
    {
      "metadata": {
        "id": "lZryjG9yqteU"
      },
      "cell_type": "markdown",
      "source": [
        "---\n",
        "> P-034: レシート明細データフレーム（df_receipt）に対し、顧客ID（customer_id）ごとに売上金額（amount）を合計して全顧客の平均を求めよ。ただし、顧客IDが\"Z\"から始まるのものは非会員を表すため、除外して計算すること。\n"
      ]
    },
    {
      "metadata": {
        "trusted": false,
        "id": "FDBM7GXrqteV"
      },
      "cell_type": "code",
      "source": [
        "df_receipt[['customer_id', 'amount']].groupby('customer_id').sum().query('customer_id.str.startswith(\"Z\") == False', engine='python').mean()\n",
        "# df_receipt[['customer_id', 'amount']].groupby('customer_id').sum().query('customer_id.str[0] != \"Z\"', engine='python').mean()"
      ],
      "execution_count": null,
      "outputs": []
    },
    {
      "metadata": {
        "id": "LJNw731nqteV"
      },
      "cell_type": "markdown",
      "source": [
        "---\n",
        "> P-035: レシート明細データフレーム（df_receipt）に対し、顧客ID（customer_id）ごとに売上金額（amount）を合計して全顧客の平均を求め、平均以上に買い物をしている顧客を抽出せよ。ただし、顧客IDが\"Z\"から始まるのものは非会員を表すため、除外して計算すること。なお、データは10件だけ表示させれば良い。"
      ]
    },
    {
      "metadata": {
        "trusted": false,
        "id": "esWT8Z_nqteW"
      },
      "cell_type": "code",
      "source": [
        "mean = df_receipt[['customer_id','amount']].groupby('customer_id').sum().query('customer_id.str.startswith(\"Z\") == False', engine='python').mean()\n",
        "mean = int(mean)\n",
        "print(mean)\n",
        "df_receipt[['customer_id','amount']].groupby('customer_id').sum().query(f'amount >= {mean}')"
      ],
      "execution_count": null,
      "outputs": []
    },
    {
      "metadata": {
        "id": "nUdsz01uqteW"
      },
      "cell_type": "markdown",
      "source": [
        "---\n",
        "> P-036: レシート明細データフレーム（df_receipt）と店舗データフレーム（df_store）を内部結合し、レシート明細データフレームの全項目と店舗データフレームの店舗名（store_name）を10件表示させよ。"
      ]
    },
    {
      "metadata": {
        "trusted": false,
        "id": "cssogIGnqteW"
      },
      "cell_type": "code",
      "source": [
        "df_036 = pd.merge(df_receipt, df_store)\n",
        "# print(pd.get_option(\"df_036.max_columns\", None))\n",
        "print(df_036.columns)\n",
        "\n",
        "# df_036[['store_name']].groupby('store_name').head(10)\n",
        "\n",
        "df_036.drop_duplicates(subset=['store_name'])['store_name'].head(10)"
      ],
      "execution_count": null,
      "outputs": []
    },
    {
      "metadata": {
        "id": "duLN-LWAqteX"
      },
      "cell_type": "markdown",
      "source": [
        "---\n",
        "> P-037: 商品データフレーム（df_product）とカテゴリデータフレーム（df_category）を内部結合し、商品データフレームの全項目とカテゴリデータフレームの小区分名（category_small_name）を10件表示させよ。"
      ]
    },
    {
      "metadata": {
        "trusted": false,
        "id": "jFVc73ZaqteX"
      },
      "cell_type": "code",
      "source": [
        "df_037 = pd.merge(df_product, df_category)\n",
        "\n",
        "print(df_036.columns)\n",
        "df_037.drop_duplicates(subset=['category_small_name'])['category_small_name'].head(10)"
      ],
      "execution_count": null,
      "outputs": []
    },
    {
      "metadata": {
        "id": "puU1hNVnqteX"
      },
      "cell_type": "markdown",
      "source": [
        "---\n",
        "> P-038: 顧客データフレーム（df_customer）とレシート明細データフレーム（df_receipt）から、各顧客ごとの売上金額合計を求めよ。ただし、買い物の実績がない顧客については売上金額を0として表示させること。また、顧客は性別コード（gender_cd）が女性（1）であるものを対象とし、非会員（顧客IDが'Z'から始まるもの）は除外すること。なお、結果は10件だけ表示させれば良い。"
      ]
    },
    {
      "metadata": {
        "trusted": false,
        "id": "m9R99eivqteX"
      },
      "cell_type": "code",
      "source": [
        "df_amount_sum = df_receipt.groupby('customer_id').amount.sum().reset_index()\n",
        "df_tmp = df_customer.query('gender_cd == 1 and not customer_id.str.startswith(\"Z\")', engine='python')\n",
        "pd.merge(df_tmp['customer_id'], df_amount_sum, how='left', on='customer_id').fillna(0).head(10)\n"
      ],
      "execution_count": null,
      "outputs": []
    },
    {
      "metadata": {
        "id": "GFnw1wd1qteX"
      },
      "cell_type": "markdown",
      "source": [
        "---\n",
        "> P-039: レシート明細データフレーム（df_receipt）から売上日数の多い顧客の上位20件と、売上金額合計の多い顧客の上位20件を抽出し、完全外部結合せよ。ただし、非会員（顧客IDが'Z'から始まるもの）は除外すること。"
      ]
    },
    {
      "metadata": {
        "trusted": false,
        "id": "WbF_on7jqteY"
      },
      "cell_type": "code",
      "source": [
        "df_sum = df_receipt.groupby('customer_id').amount.sum().reset_index()\n",
        "df_sum = df_sum.query('not customer_id.str.startswith(\"Z\")', engine='python')\n",
        "df_sum = df_sum.sort_values('amount', ascending=False).head(20)\n",
        "\n",
        "df_cnt = df_receipt[~df_receipt.duplicated(subset=['customer_id','sales_ymd'])] #「~」がわからない\n",
        "df_cnt = df_cnt.query('not customer_id.str.startswith(\"Z\")',engine='python')\n",
        "df_cnt = df_cnt.groupby('customer_id').sales_ymd.count().reset_index()\n",
        "df_cnt = df_cnt.sort_values('sales_ymd', ascending=False).head(20)\n",
        "\n",
        "pd.merge(df_sum, df_cnt, how='outer', on='customer_id') # 完全外部結合\n",
        "################ TODO 後でやり直す ################\n",
        "\n",
        "# base = df_receipt.query('customer_id.str.startswith(\"Z\") == False', engine='python')\n",
        "# count = pd.pivot_table(base,index=['customer_id','sales_ymd'],values='amount', aggfunc='sum').fillna(0).astype(int).sort_values('amount', ascending=False).head(20)\n",
        "# uriage = base[['customer_id','amount']].sort_values('amount', ascending=False).head(20)\n",
        "# pd.merge(count, uriage,how='left', on='customer_id')"
      ],
      "execution_count": null,
      "outputs": []
    },
    {
      "metadata": {
        "id": "D650QLB_qteY"
      },
      "cell_type": "markdown",
      "source": [
        "---\n",
        "> P-040: 全ての店舗と全ての商品を組み合わせると何件のデータとなるか調査したい。店舗（df_store）と商品（df_product）を直積した件数を計算せよ。"
      ]
    },
    {
      "metadata": {
        "trusted": false,
        "id": "zUxo2BY4qteY"
      },
      "cell_type": "code",
      "source": [
        "# TODO あとで見直す\n",
        "\n",
        "df_40_store = df_store.copy() # copy関数使う\n",
        "df_40_product = df_product.copy()\n",
        "\n",
        "df_40_store['key'] = 0 # keyはなぜ作成しておく必要があるのか\n",
        "df_40_product['key'] = 0\n",
        "\n",
        "len(pd.merge(df_40_store, df_40_product, how='outer',on='key')) \n",
        "# 531590"
      ],
      "execution_count": null,
      "outputs": []
    },
    {
      "metadata": {
        "id": "W1IXPLIEqteY"
      },
      "cell_type": "markdown",
      "source": [
        "---\n",
        "> P-041: レシート明細データフレーム（df_receipt）の売上金額（amount）を日付（sales_ymd）ごとに集計し、前日からの売上金額増減を計算せよ。なお、計算結果は10件表示すればよい。"
      ]
    },
    {
      "metadata": {
        "trusted": false,
        "id": "JxeqBUiwqteY"
      },
      "cell_type": "code",
      "source": [
        "# TODO 見直す\n",
        "\n",
        "df_41_receipt = df_receipt.copy()\n",
        "df_41_uriage = df_41_receipt[['sales_ymd', 'amount']].groupby('sales_ymd').sum().reset_index()\n",
        "\n",
        "df_41_keisan = pd.concat([df_41_uriage, df_41_uriage.shift()],axis=1) # あとで見直す\n",
        "df_41_keisan.columns = ['sales_ymd', 'amount', 'lag_ymd', 'lag_amount']\n",
        "df_41_keisan['diff_amount'] = df_41_keisan['amount'] - df_41_keisan['lag_amount'] \n",
        "\n",
        "df_41_keisan.head(10)"
      ],
      "execution_count": null,
      "outputs": []
    },
    {
      "metadata": {
        "id": "enYIMuiPqteZ"
      },
      "cell_type": "markdown",
      "source": [
        "---\n",
        "> P-042: レシート明細データフレーム（df_receipt）の売上金額（amount）を日付（sales_ymd）ごとに集計し、各日付のデータに対し、１日前、２日前、３日前のデータを結合せよ。結果は10件表示すればよい。"
      ]
    },
    {
      "metadata": {
        "trusted": false,
        "id": "OauPCp0qqteZ"
      },
      "cell_type": "code",
      "source": [
        "# df_42_re = df_receipt[['sales_ymd', 'amount']].groupby('sales_ymd').sum().reset_index()\n",
        "\n",
        "# df_42_re[['sales_ymd', 'amount']].groupby('sales_ymd').amount.shift(2)\n",
        "# df_42_re[hiduke-1] = df_42_re['sales_ymd'][hiduke-1]\n",
        "\n",
        "# df_sales_amount_by_date = df_receipt[['sales_ymd', 'amount']].groupby('sales_ymd').sum().reset_index()\n",
        "\n",
        "# for i in range(1,4):\n",
        "#     if i == 1:\n",
        "#         df_lag = pd.concat([df_sales_amount_by_date,df_sales_amount_by_date.shift(i)],axis=1)\n",
        "#     else:\n",
        "#         df_lag = df_lag.append(pd.concat([df_sales_amount_by_date, df_sales_amount_by_date.shift(i)],axis=1))\n",
        "# df_lag.columns = ['sales_ymd', 'amount', 'lag_ymd', 'lag_amount']\n",
        "# df_lag.dropna().sort_values(['sales_ymd', 'lag_ymd']).head(10)\n",
        "\n",
        "df_sales_amount_by_date = df_receipt[['sales_ymd', 'amount']].groupby('sales_ymd').sum().reset_index()\n",
        "for i in range(1,4):\n",
        "    if i == 1:\n",
        "        df_lag = pd.concat([df_sales_amount_by_date,df_sales_amount_by_date.shift(i)],axis=1)\n",
        "    else:\n",
        "        df_lag = pd.concat([df_lag, df_sales_amount_by_date.shift(i)],axis=1)\n",
        "\n",
        "# df_lag.columns = ['sales_ymd', 'amount', 'lag_ymd_1', 'lag_amount_1','lag_ymd_2', 'lag_amount_2','lag_ymd_3', 'lag_amount_3']\n",
        "# df_lag.dropna().sort_values(['sales_ymd']).head(10)\n",
        "\n",
        "# TODO 調べる\n",
        "# concat, shift, dropna\n"
      ],
      "execution_count": null,
      "outputs": []
    },
    {
      "metadata": {
        "id": "8gLQ9HQ1qteZ"
      },
      "cell_type": "markdown",
      "source": [
        "---\n",
        "> P-043： レシート明細データフレーム（df_receipt）と顧客データフレーム（df_customer）を結合し、性別（gender）と年代（ageから計算）ごとに売上金額（amount）を合計した売上サマリデータフレーム（df_sales_summary）を作成せよ。性別は0が男性、1が女性、9が不明を表すものとする。\n",
        ">\n",
        "> ただし、項目構成は年代、女性の売上金額、男性の売上金額、性別不明の売上金額の4項目とすること（縦に年代、横に性別のクロス集計）。また、年代は10歳ごとの階級とすること。"
      ]
    },
    {
      "metadata": {
        "trusted": false,
        "id": "vEUGPmx7qteZ",
        "outputId": "87f7659a-ac44-4c6c-b71a-6f19c5b2f6e6",
        "colab": {
          "base_uri": "https://localhost:8080/",
          "height": 332
        }
      },
      "cell_type": "code",
      "source": [
        "df_sales_summary = pd.merge(df_receipt, df_customer,how='inner',on='customer_id')\n",
        "df_sales_summary['era'] = df_sales_summary['age'].apply(lambda x: math.floor(x/10) * 10)\n",
        "df_sales_summary = pd.pivot_table(df_sales_summary, index='era', columns='gender_cd', values='amount',  aggfunc='sum').reset_index()\n",
        "df_sales_summary.columns = ['era', 'male', 'female', 'unknown']\n",
        "df_sales_summary\n",
        "\n",
        "\n",
        "# TODO apply, math.floor,\n",
        "\n",
        "\n"
      ],
      "execution_count": 41,
      "outputs": [
        {
          "output_type": "execute_result",
          "data": {
            "text/html": [
              "\n",
              "  <div id=\"df-13cb2bd3-ed4f-4560-b42a-001a45141190\">\n",
              "    <div class=\"colab-df-container\">\n",
              "      <div>\n",
              "<style scoped>\n",
              "    .dataframe tbody tr th:only-of-type {\n",
              "        vertical-align: middle;\n",
              "    }\n",
              "\n",
              "    .dataframe tbody tr th {\n",
              "        vertical-align: top;\n",
              "    }\n",
              "\n",
              "    .dataframe thead th {\n",
              "        text-align: right;\n",
              "    }\n",
              "</style>\n",
              "<table border=\"1\" class=\"dataframe\">\n",
              "  <thead>\n",
              "    <tr style=\"text-align: right;\">\n",
              "      <th></th>\n",
              "      <th>era</th>\n",
              "      <th>male</th>\n",
              "      <th>female</th>\n",
              "      <th>unknown</th>\n",
              "    </tr>\n",
              "  </thead>\n",
              "  <tbody>\n",
              "    <tr>\n",
              "      <th>0</th>\n",
              "      <td>10</td>\n",
              "      <td>1591.0</td>\n",
              "      <td>149836.0</td>\n",
              "      <td>4317.0</td>\n",
              "    </tr>\n",
              "    <tr>\n",
              "      <th>1</th>\n",
              "      <td>20</td>\n",
              "      <td>72940.0</td>\n",
              "      <td>1363724.0</td>\n",
              "      <td>44328.0</td>\n",
              "    </tr>\n",
              "    <tr>\n",
              "      <th>2</th>\n",
              "      <td>30</td>\n",
              "      <td>177322.0</td>\n",
              "      <td>693047.0</td>\n",
              "      <td>50441.0</td>\n",
              "    </tr>\n",
              "    <tr>\n",
              "      <th>3</th>\n",
              "      <td>40</td>\n",
              "      <td>19355.0</td>\n",
              "      <td>9320791.0</td>\n",
              "      <td>483512.0</td>\n",
              "    </tr>\n",
              "    <tr>\n",
              "      <th>4</th>\n",
              "      <td>50</td>\n",
              "      <td>54320.0</td>\n",
              "      <td>6685192.0</td>\n",
              "      <td>342923.0</td>\n",
              "    </tr>\n",
              "    <tr>\n",
              "      <th>5</th>\n",
              "      <td>60</td>\n",
              "      <td>272469.0</td>\n",
              "      <td>987741.0</td>\n",
              "      <td>71418.0</td>\n",
              "    </tr>\n",
              "    <tr>\n",
              "      <th>6</th>\n",
              "      <td>70</td>\n",
              "      <td>13435.0</td>\n",
              "      <td>29764.0</td>\n",
              "      <td>2427.0</td>\n",
              "    </tr>\n",
              "    <tr>\n",
              "      <th>7</th>\n",
              "      <td>80</td>\n",
              "      <td>46360.0</td>\n",
              "      <td>262923.0</td>\n",
              "      <td>5111.0</td>\n",
              "    </tr>\n",
              "    <tr>\n",
              "      <th>8</th>\n",
              "      <td>90</td>\n",
              "      <td>NaN</td>\n",
              "      <td>6260.0</td>\n",
              "      <td>NaN</td>\n",
              "    </tr>\n",
              "  </tbody>\n",
              "</table>\n",
              "</div>\n",
              "      <button class=\"colab-df-convert\" onclick=\"convertToInteractive('df-13cb2bd3-ed4f-4560-b42a-001a45141190')\"\n",
              "              title=\"Convert this dataframe to an interactive table.\"\n",
              "              style=\"display:none;\">\n",
              "        \n",
              "  <svg xmlns=\"http://www.w3.org/2000/svg\" height=\"24px\"viewBox=\"0 0 24 24\"\n",
              "       width=\"24px\">\n",
              "    <path d=\"M0 0h24v24H0V0z\" fill=\"none\"/>\n",
              "    <path d=\"M18.56 5.44l.94 2.06.94-2.06 2.06-.94-2.06-.94-.94-2.06-.94 2.06-2.06.94zm-11 1L8.5 8.5l.94-2.06 2.06-.94-2.06-.94L8.5 2.5l-.94 2.06-2.06.94zm10 10l.94 2.06.94-2.06 2.06-.94-2.06-.94-.94-2.06-.94 2.06-2.06.94z\"/><path d=\"M17.41 7.96l-1.37-1.37c-.4-.4-.92-.59-1.43-.59-.52 0-1.04.2-1.43.59L10.3 9.45l-7.72 7.72c-.78.78-.78 2.05 0 2.83L4 21.41c.39.39.9.59 1.41.59.51 0 1.02-.2 1.41-.59l7.78-7.78 2.81-2.81c.8-.78.8-2.07 0-2.86zM5.41 20L4 18.59l7.72-7.72 1.47 1.35L5.41 20z\"/>\n",
              "  </svg>\n",
              "      </button>\n",
              "      \n",
              "  <style>\n",
              "    .colab-df-container {\n",
              "      display:flex;\n",
              "      flex-wrap:wrap;\n",
              "      gap: 12px;\n",
              "    }\n",
              "\n",
              "    .colab-df-convert {\n",
              "      background-color: #E8F0FE;\n",
              "      border: none;\n",
              "      border-radius: 50%;\n",
              "      cursor: pointer;\n",
              "      display: none;\n",
              "      fill: #1967D2;\n",
              "      height: 32px;\n",
              "      padding: 0 0 0 0;\n",
              "      width: 32px;\n",
              "    }\n",
              "\n",
              "    .colab-df-convert:hover {\n",
              "      background-color: #E2EBFA;\n",
              "      box-shadow: 0px 1px 2px rgba(60, 64, 67, 0.3), 0px 1px 3px 1px rgba(60, 64, 67, 0.15);\n",
              "      fill: #174EA6;\n",
              "    }\n",
              "\n",
              "    [theme=dark] .colab-df-convert {\n",
              "      background-color: #3B4455;\n",
              "      fill: #D2E3FC;\n",
              "    }\n",
              "\n",
              "    [theme=dark] .colab-df-convert:hover {\n",
              "      background-color: #434B5C;\n",
              "      box-shadow: 0px 1px 3px 1px rgba(0, 0, 0, 0.15);\n",
              "      filter: drop-shadow(0px 1px 2px rgba(0, 0, 0, 0.3));\n",
              "      fill: #FFFFFF;\n",
              "    }\n",
              "  </style>\n",
              "\n",
              "      <script>\n",
              "        const buttonEl =\n",
              "          document.querySelector('#df-13cb2bd3-ed4f-4560-b42a-001a45141190 button.colab-df-convert');\n",
              "        buttonEl.style.display =\n",
              "          google.colab.kernel.accessAllowed ? 'block' : 'none';\n",
              "\n",
              "        async function convertToInteractive(key) {\n",
              "          const element = document.querySelector('#df-13cb2bd3-ed4f-4560-b42a-001a45141190');\n",
              "          const dataTable =\n",
              "            await google.colab.kernel.invokeFunction('convertToInteractive',\n",
              "                                                     [key], {});\n",
              "          if (!dataTable) return;\n",
              "\n",
              "          const docLinkHtml = 'Like what you see? Visit the ' +\n",
              "            '<a target=\"_blank\" href=https://colab.research.google.com/notebooks/data_table.ipynb>data table notebook</a>'\n",
              "            + ' to learn more about interactive tables.';\n",
              "          element.innerHTML = '';\n",
              "          dataTable['output_type'] = 'display_data';\n",
              "          await google.colab.output.renderOutput(dataTable, element);\n",
              "          const docLink = document.createElement('div');\n",
              "          docLink.innerHTML = docLinkHtml;\n",
              "          element.appendChild(docLink);\n",
              "        }\n",
              "      </script>\n",
              "    </div>\n",
              "  </div>\n",
              "  "
            ],
            "text/plain": [
              "   era      male     female   unknown\n",
              "0   10    1591.0   149836.0    4317.0\n",
              "1   20   72940.0  1363724.0   44328.0\n",
              "2   30  177322.0   693047.0   50441.0\n",
              "3   40   19355.0  9320791.0  483512.0\n",
              "4   50   54320.0  6685192.0  342923.0\n",
              "5   60  272469.0   987741.0   71418.0\n",
              "6   70   13435.0    29764.0    2427.0\n",
              "7   80   46360.0   262923.0    5111.0\n",
              "8   90       NaN     6260.0       NaN"
            ]
          },
          "metadata": {},
          "execution_count": 41
        }
      ]
    },
    {
      "metadata": {
        "id": "3DqBl417qteZ"
      },
      "cell_type": "markdown",
      "source": [
        "---\n",
        "> P-044： 前設問で作成した売上サマリデータフレーム（df_sales_summary）は性別の売上を横持ちさせたものであった。このデータフレームから性別を縦持ちさせ、年代、性別コード、売上金額の3項目に変換せよ。ただし、性別コードは男性を'00'、女性を'01'、不明を'99'とする。"
      ]
    },
    {
      "metadata": {
        "trusted": false,
        "id": "RwtrQKZ8qtea"
      },
      "cell_type": "code",
      "source": [
        ""
      ],
      "execution_count": null,
      "outputs": []
    },
    {
      "metadata": {
        "id": "0LCg9G66qtea"
      },
      "cell_type": "markdown",
      "source": [
        "---\n",
        "> P-045: 顧客データフレーム（df_customer）の生年月日（birth_day）は日付型（Date）でデータを保有している。これをYYYYMMDD形式の文字列に変換し、顧客ID（customer_id）とともに抽出せよ。データは10件を抽出すれば良い。"
      ]
    },
    {
      "metadata": {
        "trusted": false,
        "id": "ILC7Q_BRqteb"
      },
      "cell_type": "code",
      "source": [
        ""
      ],
      "execution_count": null,
      "outputs": []
    },
    {
      "metadata": {
        "id": "SKNCst_Nqteb"
      },
      "cell_type": "markdown",
      "source": [
        "---\n",
        "> P-046: 顧客データフレーム（df_customer）の申し込み日（application_date）はYYYYMMD形式の文字列型でデータを保有している。これを日付型（dateやdatetime）に変換し、顧客ID（customer_id）とともに抽出せよ。データは10件を抽出すれば良い。"
      ]
    },
    {
      "metadata": {
        "trusted": false,
        "id": "k1VBARuIqtec"
      },
      "cell_type": "code",
      "source": [
        ""
      ],
      "execution_count": null,
      "outputs": []
    },
    {
      "metadata": {
        "id": "EYFBPwrxqtec"
      },
      "cell_type": "markdown",
      "source": [
        "---\n",
        "> P-047: レシート明細データフレーム（df_receipt）の売上日（sales_ymd）はYYYYMMDD形式の数値型でデータを保有している。これを日付型（dateやdatetime）に変換し、レシート番号(receipt_no)、レシートサブ番号（receipt_sub_no）とともに抽出せよ。データは10件を抽出すれば良い。"
      ]
    },
    {
      "metadata": {
        "trusted": false,
        "id": "9Qbxojo3qted"
      },
      "cell_type": "code",
      "source": [
        ""
      ],
      "execution_count": null,
      "outputs": []
    },
    {
      "metadata": {
        "id": "dOwE3JzNqted"
      },
      "cell_type": "markdown",
      "source": [
        "---\n",
        "> P-048: レシート明細データフレーム（df_receipt）の売上エポック秒（sales_epoch）は数値型のUNIX秒でデータを保有している。これを日付型（dateやdatetime）に変換し、レシート番号(receipt_no)、レシートサブ番号（receipt_sub_no）とともに抽出せよ。データは10件を抽出すれば良い。"
      ]
    },
    {
      "metadata": {
        "trusted": false,
        "id": "lAoZ_zyDqtee"
      },
      "cell_type": "code",
      "source": [
        ""
      ],
      "execution_count": null,
      "outputs": []
    },
    {
      "metadata": {
        "id": "dUkEpiywqtee"
      },
      "cell_type": "markdown",
      "source": [
        "---\n",
        "> P-049: レシート明細データフレーム（df_receipt）の売上エポック秒（sales_epoch）を日付型（timestamp型）に変換し、\"年\"だけ取り出してレシート番号(receipt_no)、レシートサブ番号（receipt_sub_no）とともに抽出せよ。データは10件を抽出すれば良い。"
      ]
    },
    {
      "metadata": {
        "trusted": false,
        "id": "DbK0D0eiqtef"
      },
      "cell_type": "code",
      "source": [
        ""
      ],
      "execution_count": null,
      "outputs": []
    },
    {
      "metadata": {
        "id": "A5yEqQa-qtef"
      },
      "cell_type": "markdown",
      "source": [
        "---\n",
        "> P-050: レシート明細データフレーム（df_receipt）の売上エポック秒（sales_epoch）を日付型（timestamp型）に変換し、\"月\"だけ取り出してレシート番号(receipt_no)、レシートサブ番号（receipt_sub_no）とともに抽出せよ。なお、\"月\"は0埋め2桁で取り出すこと。データは10件を抽出すれば良い。"
      ]
    },
    {
      "metadata": {
        "trusted": false,
        "id": "t_fkq5WXqteg"
      },
      "cell_type": "code",
      "source": [
        ""
      ],
      "execution_count": null,
      "outputs": []
    },
    {
      "metadata": {
        "id": "bUkMdEweqteg"
      },
      "cell_type": "markdown",
      "source": [
        "---\n",
        "> P-051: レシート明細データフレーム（df_receipt）の売上エポック秒（sales_epoch）を日付型（timestamp型）に変換し、\"日\"だけ取り出してレシート番号(receipt_no)、レシートサブ番号（receipt_sub_no）とともに抽出せよ。なお、\"日\"は0埋め2桁で取り出すこと。データは10件を抽出すれば良い。"
      ]
    },
    {
      "metadata": {
        "trusted": false,
        "id": "AodCYYxTqteh"
      },
      "cell_type": "code",
      "source": [
        ""
      ],
      "execution_count": null,
      "outputs": []
    },
    {
      "metadata": {
        "id": "D_JvleYQqteh"
      },
      "cell_type": "markdown",
      "source": [
        "---\n",
        "> P-052: レシート明細データフレーム（df_receipt）の売上金額（amount）を顧客ID（customer_id）ごとに合計の上、売上金額合計に対して2000円以下を0、2000円超を1に2値化し、顧客ID、売上金額合計とともに10件表示せよ。ただし、顧客IDが\"Z\"から始まるのものは非会員を表すため、除外して計算すること。"
      ]
    },
    {
      "metadata": {
        "trusted": false,
        "id": "cDyYdOTDqtei"
      },
      "cell_type": "code",
      "source": [
        ""
      ],
      "execution_count": null,
      "outputs": []
    },
    {
      "metadata": {
        "id": "nZ_H9pZaqtei"
      },
      "cell_type": "markdown",
      "source": [
        "---\n",
        "> P-053: 顧客データフレーム（df_customer）の郵便番号（postal_cd）に対し、東京（先頭3桁が100〜209のもの）を1、それ以外のものを0に２値化せよ。さらにレシート明細データフレーム（df_receipt）と結合し、全期間において買い物実績のある顧客数を、作成した2値ごとにカウントせよ。"
      ]
    },
    {
      "metadata": {
        "trusted": false,
        "id": "7chzrasmqtej"
      },
      "cell_type": "code",
      "source": [
        ""
      ],
      "execution_count": null,
      "outputs": []
    },
    {
      "metadata": {
        "id": "iuybez9pqtej"
      },
      "cell_type": "markdown",
      "source": [
        "---\n",
        "> P-054: 顧客データデータフレーム（df_customer）の住所（address）は、埼玉県、千葉県、東京都、神奈川県のいずれかとなっている。都道府県毎にコード値を作成し、顧客ID、住所とともに抽出せよ。値は埼玉県を11、千葉県を12、東京都を13、神奈川県を14とすること。結果は10件表示させれば良い。"
      ]
    },
    {
      "metadata": {
        "trusted": false,
        "id": "niD2YUQwqtej"
      },
      "cell_type": "code",
      "source": [
        ""
      ],
      "execution_count": null,
      "outputs": []
    },
    {
      "metadata": {
        "id": "L5ADmU5Zqtej"
      },
      "cell_type": "markdown",
      "source": [
        "---\n",
        "> P-055: レシート明細データフレーム（df_receipt）の売上金額（amount）を顧客ID（customer_id）ごとに合計し、その合計金額の四分位点を求めよ。その上で、顧客ごとの売上金額合計に対して以下の基準でカテゴリ値を作成し、顧客ID、売上金額と合計ともに表示せよ。カテゴリ値は上から順に1〜4とする。結果は10件表示させれば良い。\n",
        ">\n",
        "> - 最小値以上第一四分位未満\n",
        "> - 第一四分位以上第二四分位未満\n",
        "> - 第二四分位以上第三四分位未満\n",
        "> - 第三四分位以上"
      ]
    },
    {
      "metadata": {
        "trusted": false,
        "id": "M-dJ1H9Sqtek"
      },
      "cell_type": "code",
      "source": [
        ""
      ],
      "execution_count": null,
      "outputs": []
    },
    {
      "metadata": {
        "id": "riFttii0qtel"
      },
      "cell_type": "markdown",
      "source": [
        "---\n",
        "> P-056: 顧客データフレーム（df_customer）の年齢（age）をもとに10歳刻みで年代を算出し、顧客ID（customer_id）、生年月日（birth_day）とともに抽出せよ。ただし、60歳以上は全て60歳代とすること。年代を表すカテゴリ名は任意とする。先頭10件を表示させればよい。"
      ]
    },
    {
      "metadata": {
        "trusted": false,
        "id": "bi3zvOfiqtel"
      },
      "cell_type": "code",
      "source": [
        ""
      ],
      "execution_count": null,
      "outputs": []
    },
    {
      "metadata": {
        "id": "DlicLaCwqtel"
      },
      "cell_type": "markdown",
      "source": [
        "---\n",
        "> P-057: 前問題の抽出結果と性別（gender）を組み合わせ、新たに性別×年代の組み合わせを表すカテゴリデータを作成せよ。組み合わせを表すカテゴリの値は任意とする。先頭10件を表示させればよい。"
      ]
    },
    {
      "metadata": {
        "trusted": false,
        "id": "MeydJTh7qtem"
      },
      "cell_type": "code",
      "source": [
        ""
      ],
      "execution_count": null,
      "outputs": []
    },
    {
      "metadata": {
        "id": "LM88IzVMqtem"
      },
      "cell_type": "markdown",
      "source": [
        "---\n",
        "> P-058: 顧客データフレーム（df_customer）の性別コード（gender_cd）をダミー変数化し、顧客ID（customer_id）とともに抽出せよ。結果は10件表示させれば良い。"
      ]
    },
    {
      "metadata": {
        "trusted": false,
        "id": "Rcc6f5x6qtem"
      },
      "cell_type": "code",
      "source": [
        ""
      ],
      "execution_count": null,
      "outputs": []
    },
    {
      "metadata": {
        "id": "JfGR02Ebqtem"
      },
      "cell_type": "markdown",
      "source": [
        "---\n",
        "> P-059: レシート明細データフレーム（df_receipt）の売上金額（amount）を顧客ID（customer_id）ごとに合計し、合計した売上金額を平均0、標準偏差1に標準化して顧客ID、売上金額合計とともに表示せよ。標準化に使用する標準偏差は、不偏標準偏差と標本標準偏差のどちらでも良いものとする。ただし、顧客IDが\"Z\"から始まるのものは非会員を表すため、除外して計算すること。結果は10件表示させれば良い。"
      ]
    },
    {
      "metadata": {
        "trusted": false,
        "id": "T7welHsPqten"
      },
      "cell_type": "code",
      "source": [
        ""
      ],
      "execution_count": null,
      "outputs": []
    },
    {
      "metadata": {
        "id": "h93r_5lrqten"
      },
      "cell_type": "markdown",
      "source": [
        "---\n",
        "> P-060: レシート明細データフレーム（df_receipt）の売上金額（amount）を顧客ID（customer_id）ごとに合計し、合計した売上金額を最小値0、最大値1に正規化して顧客ID、売上金額合計とともに表示せよ。ただし、顧客IDが\"Z\"から始まるのものは非会員を表すため、除外して計算すること。結果は10件表示させれば良い。"
      ]
    },
    {
      "metadata": {
        "trusted": false,
        "id": "0iEEw4qqqten"
      },
      "cell_type": "code",
      "source": [
        ""
      ],
      "execution_count": null,
      "outputs": []
    },
    {
      "metadata": {
        "id": "nrMiNXUwqteo"
      },
      "cell_type": "markdown",
      "source": [
        "---\n",
        "> P-061: レシート明細データフレーム（df_receipt）の売上金額（amount）を顧客ID（customer_id）ごとに合計し、合計した売上金額を常用対数化（底=10）して顧客ID、売上金額合計とともに表示せよ。ただし、顧客IDが\"Z\"から始まるのものは非会員を表すため、除外して計算すること。結果は10件表示させれば良い。"
      ]
    },
    {
      "metadata": {
        "trusted": false,
        "id": "MLeQUuJyqteo"
      },
      "cell_type": "code",
      "source": [
        ""
      ],
      "execution_count": null,
      "outputs": []
    },
    {
      "metadata": {
        "id": "5E7RqnETqteo"
      },
      "cell_type": "markdown",
      "source": [
        "---\n",
        "> P-062: レシート明細データフレーム（df_receipt）の売上金額（amount）を顧客ID（customer_id）ごとに合計し、合計した売上金額を自然対数化(底=e）して顧客ID、売上金額合計とともに表示せよ。ただし、顧客IDが\"Z\"から始まるのものは非会員を表すため、除外して計算すること。結果は10件表示させれば良い。"
      ]
    },
    {
      "metadata": {
        "trusted": false,
        "id": "osN0pqIMqtep"
      },
      "cell_type": "code",
      "source": [
        ""
      ],
      "execution_count": null,
      "outputs": []
    },
    {
      "metadata": {
        "id": "wt7n3amYqtep"
      },
      "cell_type": "markdown",
      "source": [
        "---\n",
        "> P-063: 商品データフレーム（df_product）の単価（unit_price）と原価（unit_cost）から、各商品の利益額を算出せよ。結果は10件表示させれば良い。"
      ]
    },
    {
      "metadata": {
        "trusted": false,
        "id": "aBqRpGB2qtep"
      },
      "cell_type": "code",
      "source": [
        ""
      ],
      "execution_count": null,
      "outputs": []
    },
    {
      "metadata": {
        "id": "wViE0fLwqtep"
      },
      "cell_type": "markdown",
      "source": [
        "---\n",
        "> P-064: 商品データフレーム（df_product）の単価（unit_price）と原価（unit_cost）から、各商品の利益率の全体平均を算出せよ。\n",
        "ただし、単価と原価にはNULLが存在することに注意せよ。"
      ]
    },
    {
      "metadata": {
        "trusted": false,
        "id": "qJTmrXbmqteq"
      },
      "cell_type": "code",
      "source": [
        ""
      ],
      "execution_count": null,
      "outputs": []
    },
    {
      "metadata": {
        "id": "X-jp-UOhqteq"
      },
      "cell_type": "markdown",
      "source": [
        "---\n",
        "> P-065: 商品データフレーム（df_product）の各商品について、利益率が30%となる新たな単価を求めよ。ただし、1円未満は切り捨てること。そして結果を10件表示させ、利益率がおよそ30％付近であることを確認せよ。ただし、単価（unit_price）と原価（unit_cost）にはNULLが存在することに注意せよ。"
      ]
    },
    {
      "metadata": {
        "trusted": false,
        "id": "NFPuQTPLqteq"
      },
      "cell_type": "code",
      "source": [
        ""
      ],
      "execution_count": null,
      "outputs": []
    },
    {
      "metadata": {
        "id": "s6s1pc3-qteq"
      },
      "cell_type": "markdown",
      "source": [
        "---\n",
        "> P-066: 商品データフレーム（df_product）の各商品について、利益率が30%となる新たな単価を求めよ。今回は、1円未満を四捨五入すること（0.5については偶数方向の丸めで良い）。そして結果を10件表示させ、利益率がおよそ30％付近であることを確認せよ。ただし、単価（unit_price）と原価（unit_cost）にはNULLが存在することに注意せよ。"
      ]
    },
    {
      "metadata": {
        "trusted": false,
        "id": "ahucRrN4qter"
      },
      "cell_type": "code",
      "source": [
        ""
      ],
      "execution_count": null,
      "outputs": []
    },
    {
      "metadata": {
        "id": "BQQOuKZVqter"
      },
      "cell_type": "markdown",
      "source": [
        "---\n",
        "> P-067: 商品データフレーム（df_product）の各商品について、利益率が30%となる新たな単価を求めよ。今回は、1円未満を切り上げること。そして結果を10件表示させ、利益率がおよそ30％付近であることを確認せよ。ただし、単価（unit_price）と原価（unit_cost）にはNULLが存在することに注意せよ。"
      ]
    },
    {
      "metadata": {
        "trusted": false,
        "id": "apuSQ9l6qter"
      },
      "cell_type": "code",
      "source": [
        ""
      ],
      "execution_count": null,
      "outputs": []
    },
    {
      "metadata": {
        "id": "4Ny0bYfeqter"
      },
      "cell_type": "markdown",
      "source": [
        "---\n",
        "> P-068: 商品データフレーム（df_product）の各商品について、消費税率10%の税込み金額を求めよ。 1円未満の端数は切り捨てとし、結果は10件表示すれば良い。ただし、単価（unit_price）にはNULLが存在することに注意せよ。"
      ]
    },
    {
      "metadata": {
        "trusted": false,
        "id": "0DxOnkfIqtes"
      },
      "cell_type": "code",
      "source": [
        ""
      ],
      "execution_count": null,
      "outputs": []
    },
    {
      "metadata": {
        "id": "WmMPmhWbqtes"
      },
      "cell_type": "markdown",
      "source": [
        "---\n",
        "> P-069: レシート明細データフレーム（df_receipt）と商品データフレーム（df_product）を結合し、顧客毎に全商品の売上金額合計と、カテゴリ大区分（category_major_cd）が\"07\"（瓶詰缶詰）の売上金額合計を計算の上、両者の比率を求めよ。抽出対象はカテゴリ大区分\"07\"（瓶詰缶詰）の購入実績がある顧客のみとし、結果は10件表示させればよい。"
      ]
    },
    {
      "metadata": {
        "trusted": false,
        "id": "4hmF919iqtet"
      },
      "cell_type": "code",
      "source": [
        ""
      ],
      "execution_count": null,
      "outputs": []
    },
    {
      "metadata": {
        "id": "RABuv_acqtet"
      },
      "cell_type": "markdown",
      "source": [
        "---\n",
        "> P-070: レシート明細データフレーム（df_receipt）の売上日（sales_ymd）に対し、顧客データフレーム（df_customer）の会員申込日（application_date）からの経過日数を計算し、顧客ID（customer_id）、売上日、会員申込日とともに表示せよ。結果は10件表示させれば良い（なお、sales_ymdは数値、application_dateは文字列でデータを保持している点に注意）。"
      ]
    },
    {
      "metadata": {
        "trusted": false,
        "id": "Gahm3kUeqteu"
      },
      "cell_type": "code",
      "source": [
        ""
      ],
      "execution_count": null,
      "outputs": []
    },
    {
      "metadata": {
        "id": "yfKST4wZqteu"
      },
      "cell_type": "markdown",
      "source": [
        "---\n",
        "> P-071: レシート明細データフレーム（df_receipt）の売上日（sales_ymd）に対し、顧客データフレーム（df_customer）の会員申込日（application_date）からの経過月数を計算し、顧客ID（customer_id）、売上日、会員申込日とともに表示せよ。結果は10件表示させれば良い（なお、sales_ymdは数値、application_dateは文字列でデータを保持している点に注意）。1ヶ月未満は切り捨てること。"
      ]
    },
    {
      "metadata": {
        "trusted": false,
        "id": "tgHXWIAPqteu"
      },
      "cell_type": "code",
      "source": [
        ""
      ],
      "execution_count": null,
      "outputs": []
    },
    {
      "metadata": {
        "id": "n56i9Pq-qtev"
      },
      "cell_type": "markdown",
      "source": [
        "---\n",
        "> P-072: レシート明細データフレーム（df_receipt）の売上日（sales_ymd）に対し、顧客データフレーム（df_customer）の会員申込日（application_date）からの経過年数を計算し、顧客ID（customer_id）、売上日、会員申込日とともに表示せよ。結果は10件表示させれば良い。（なお、sales_ymdは数値、application_dateは文字列でデータを保持している点に注意）。1年未満は切り捨てること。"
      ]
    },
    {
      "metadata": {
        "trusted": false,
        "id": "DudH42sEqtev"
      },
      "cell_type": "code",
      "source": [
        ""
      ],
      "execution_count": null,
      "outputs": []
    },
    {
      "metadata": {
        "id": "3DiS0JPjqtew"
      },
      "cell_type": "markdown",
      "source": [
        "---\n",
        "> P-073: レシート明細データフレーム（df_receipt）の売上日（sales_ymd）に対し、顧客データフレーム（df_customer）の会員申込日（application_date）からのエポック秒による経過時間を計算し、顧客ID（customer_id）、売上日、会員申込日とともに表示せよ。結果は10件表示させれば良い（なお、sales_ymdは数値、application_dateは文字列でデータを保持している点に注意）。なお、時間情報は保有していないため各日付は0時0分0秒を表すものとする。"
      ]
    },
    {
      "metadata": {
        "trusted": false,
        "id": "u-YbIRbYqtew"
      },
      "cell_type": "code",
      "source": [
        ""
      ],
      "execution_count": null,
      "outputs": []
    },
    {
      "metadata": {
        "id": "91btR-7Mqtew"
      },
      "cell_type": "markdown",
      "source": [
        "---\n",
        "> P-074: レシート明細データフレーム（df_receipt）の売上日（sales_ymd）に対し、当該週の月曜日からの経過日数を計算し、売上日、当該週の月曜日付とともに表示せよ。結果は10件表示させれば良い（なお、sales_ymdは数値でデータを保持している点に注意）。"
      ]
    },
    {
      "metadata": {
        "trusted": false,
        "id": "x61uwiwKqtex"
      },
      "cell_type": "code",
      "source": [
        ""
      ],
      "execution_count": null,
      "outputs": []
    },
    {
      "metadata": {
        "id": "M_BWDK0Gqtex"
      },
      "cell_type": "markdown",
      "source": [
        "---\n",
        "> P-075: 顧客データフレーム（df_customer）からランダムに1%のデータを抽出し、先頭から10件データを抽出せよ。"
      ]
    },
    {
      "metadata": {
        "trusted": false,
        "id": "CVxjDszqqtex"
      },
      "cell_type": "code",
      "source": [
        ""
      ],
      "execution_count": null,
      "outputs": []
    },
    {
      "metadata": {
        "id": "VPxe__vFqtey"
      },
      "cell_type": "markdown",
      "source": [
        "---\n",
        "> P-076: 顧客データフレーム（df_customer）から性別（gender_cd）の割合に基づきランダムに10%のデータを層化抽出データし、性別ごとに件数を集計せよ。"
      ]
    },
    {
      "metadata": {
        "trusted": false,
        "id": "9XZa2gYYqtey"
      },
      "cell_type": "code",
      "source": [
        ""
      ],
      "execution_count": null,
      "outputs": []
    },
    {
      "metadata": {
        "id": "zQglv58Rqtez"
      },
      "cell_type": "markdown",
      "source": [
        "---\n",
        "> P-077: レシート明細データフレーム（df_receipt）の売上金額（amount）を顧客単位に合計し、合計した売上金額の外れ値を抽出せよ。ただし、顧客IDが\"Z\"から始まるのものは非会員を表すため、除外して計算すること。なお、ここでは外れ値を平均から3σ以上離れたものとする。結果は10件表示させれば良い。"
      ]
    },
    {
      "metadata": {
        "trusted": false,
        "id": "_x5EFfY7qtez"
      },
      "cell_type": "code",
      "source": [
        ""
      ],
      "execution_count": null,
      "outputs": []
    },
    {
      "metadata": {
        "id": "3ZfnHfCNqte0"
      },
      "cell_type": "markdown",
      "source": [
        "---\n",
        "> P-078: レシート明細データフレーム（df_receipt）の売上金額（amount）を顧客単位に合計し、合計した売上金額の外れ値を抽出せよ。ただし、顧客IDが\"Z\"から始まるのものは非会員を表すため、除外して計算すること。なお、ここでは外れ値を第一四分位と第三四分位の差であるIQRを用いて、「第一四分位数-1.5×IQR」よりも下回るもの、または「第三四分位数+1.5×IQR」を超えるものとする。結果は10件表示させれば良い。"
      ]
    },
    {
      "metadata": {
        "trusted": false,
        "id": "B4L_wpHGqte0"
      },
      "cell_type": "code",
      "source": [
        ""
      ],
      "execution_count": null,
      "outputs": []
    },
    {
      "metadata": {
        "id": "lspXy8Acqte1"
      },
      "cell_type": "markdown",
      "source": [
        "---\n",
        "> P-079: 商品データフレーム（df_product）の各項目に対し、欠損数を確認せよ。"
      ]
    },
    {
      "metadata": {
        "trusted": false,
        "id": "s8zdoICEqte2"
      },
      "cell_type": "code",
      "source": [
        ""
      ],
      "execution_count": null,
      "outputs": []
    },
    {
      "metadata": {
        "id": "3tXrGcrQqte2"
      },
      "cell_type": "markdown",
      "source": [
        "---\n",
        "> P-080: 商品データフレーム（df_product）のいずれかの項目に欠損が発生しているレコードを全て削除した新たなdf_product_1を作成せよ。なお、削除前後の件数を表示させ、前設問で確認した件数だけ減少していることも確認すること。"
      ]
    },
    {
      "metadata": {
        "trusted": false,
        "id": "EE7Epzkzqte3"
      },
      "cell_type": "code",
      "source": [
        ""
      ],
      "execution_count": null,
      "outputs": []
    },
    {
      "metadata": {
        "id": "tmWpjd_Fqte3"
      },
      "cell_type": "markdown",
      "source": [
        "---\n",
        "> P-081: 単価（unit_price）と原価（unit_cost）の欠損値について、それぞれの平均値で補完した新たなdf_product_2を作成せよ。なお、平均値について1円未満は四捨五入とし、0.5については偶数寄せでかまわない。補完実施後、各項目について欠損が生じていないことも確認すること。"
      ]
    },
    {
      "metadata": {
        "trusted": false,
        "id": "FmgeDOPFqte4"
      },
      "cell_type": "code",
      "source": [
        ""
      ],
      "execution_count": null,
      "outputs": []
    },
    {
      "metadata": {
        "id": "LWw43VAbqte4"
      },
      "cell_type": "markdown",
      "source": [
        "---\n",
        "> P-082: 単価（unit_price）と原価（unit_cost）の欠損値について、それぞれの中央値で補完した新たなdf_product_3を作成せよ。なお、中央値について1円未満は四捨五入とし、0.5については偶数寄せでかまわない。補完実施後、各項目について欠損が生じていないことも確認すること。"
      ]
    },
    {
      "metadata": {
        "trusted": false,
        "id": "parBno9Bqte5"
      },
      "cell_type": "code",
      "source": [
        ""
      ],
      "execution_count": null,
      "outputs": []
    },
    {
      "metadata": {
        "id": "1Ea35OD7qte5"
      },
      "cell_type": "markdown",
      "source": [
        "---\n",
        "> P-083: 単価（unit_price）と原価（unit_cost）の欠損値について、各商品の小区分（category_small_cd）ごとに算出した中央値で補完した新たなdf_product_4を作成せよ。なお、中央値について1円未満は四捨五入とし、0.5については偶数寄せでかまわない。補完実施後、各項目について欠損が生じていないことも確認すること。"
      ]
    },
    {
      "metadata": {
        "trusted": false,
        "id": "Sn9F9SALqte5"
      },
      "cell_type": "code",
      "source": [
        ""
      ],
      "execution_count": null,
      "outputs": []
    },
    {
      "metadata": {
        "id": "Js37j8d3qte5"
      },
      "cell_type": "markdown",
      "source": [
        "---\n",
        "> P-084: 顧客データフレーム（df_customer）の全顧客に対し、全期間の売上金額に占める2019年売上金額の割合を計算せよ。ただし、販売実績のない場合は0として扱うこと。そして計算した割合が0超のものを抽出せよ。 結果は10件表示させれば良い。また、作成したデータにNAやNANが存在しないことを確認せよ。"
      ]
    },
    {
      "metadata": {
        "trusted": false,
        "id": "SoHVjGqqqte6"
      },
      "cell_type": "code",
      "source": [
        ""
      ],
      "execution_count": null,
      "outputs": []
    },
    {
      "metadata": {
        "id": "42VFdAeRqte6"
      },
      "cell_type": "markdown",
      "source": [
        "---\n",
        "> P-085: 顧客データフレーム（df_customer）の全顧客に対し、郵便番号（postal_cd）を用いて経度緯度変換用データフレーム（df_geocode）を紐付け、新たなdf_customer_1を作成せよ。ただし、複数紐づく場合は経度（longitude）、緯度（latitude）それぞれ平均を算出すること。\n"
      ]
    },
    {
      "metadata": {
        "trusted": false,
        "id": "pyyh0mUKqte6"
      },
      "cell_type": "code",
      "source": [
        ""
      ],
      "execution_count": null,
      "outputs": []
    },
    {
      "metadata": {
        "id": "e-KNq8rYqte6"
      },
      "cell_type": "markdown",
      "source": [
        "---\n",
        "> P-086: 前設問で作成した緯度経度つき顧客データフレーム（df_customer_1）に対し、申込み店舗コード（application_store_cd）をキーに店舗データフレーム（df_store）と結合せよ。そして申込み店舗の緯度（latitude）・経度情報（longitude)と顧客の緯度・経度を用いて距離（km）を求め、顧客ID（customer_id）、顧客住所（address）、店舗住所（address）とともに表示せよ。計算式は簡易式で良いものとするが、その他精度の高い方式を利用したライブラリを利用してもかまわない。結果は10件表示すれば良い。"
      ]
    },
    {
      "metadata": {
        "id": "FPLwBqOWqte7"
      },
      "cell_type": "markdown",
      "source": [
        "$$\n",
        "緯度（ラジアン）：\\phi \\\\\n",
        "経度（ラジアン）：\\lambda \\\\\n",
        "距離L = 6371 * arccos(sin \\phi_1 * sin \\phi_2\n",
        "+ cos \\phi_1 * cos \\phi_2 * cos(\\lambda_1 − \\lambda_2))\n",
        "$$"
      ]
    },
    {
      "metadata": {
        "trusted": false,
        "id": "OJbNxiWlqte7"
      },
      "cell_type": "code",
      "source": [
        ""
      ],
      "execution_count": null,
      "outputs": []
    },
    {
      "metadata": {
        "id": "NGucu7tvqte8"
      },
      "cell_type": "markdown",
      "source": [
        "---\n",
        "> P-087:  顧客データフレーム（df_customer）では、異なる店舗での申込みなどにより同一顧客が複数登録されている。名前（customer_name）と郵便番号（postal_cd）が同じ顧客は同一顧客とみなし、1顧客1レコードとなるように名寄せした名寄顧客データフレーム（df_customer_u）を作成せよ。ただし、同一顧客に対しては売上金額合計が最も高いものを残すものとし、売上金額合計が同一もしくは売上実績の無い顧客については顧客ID（customer_id）の番号が小さいものを残すこととする。"
      ]
    },
    {
      "metadata": {
        "trusted": false,
        "id": "0XIgpvUBqte9"
      },
      "cell_type": "code",
      "source": [
        ""
      ],
      "execution_count": null,
      "outputs": []
    },
    {
      "metadata": {
        "id": "nZ6-17SZqte9"
      },
      "cell_type": "markdown",
      "source": [
        "---\n",
        "> P-088: 前設問で作成したデータを元に、顧客データフレームに統合名寄IDを付与したデータフレーム（df_customer_n）を作成せよ。ただし、統合名寄IDは以下の仕様で付与するものとする。\n",
        ">\n",
        "> - 重複していない顧客：顧客ID（customer_id）を設定\n",
        "> - 重複している顧客：前設問で抽出したレコードの顧客IDを設定"
      ]
    },
    {
      "metadata": {
        "trusted": false,
        "id": "VhpVs5dCqte-"
      },
      "cell_type": "code",
      "source": [
        ""
      ],
      "execution_count": null,
      "outputs": []
    },
    {
      "metadata": {
        "id": "ZFmvdscXqte-"
      },
      "cell_type": "markdown",
      "source": [
        "---\n",
        "> P-閑話: df_customer_1, df_customer_nは使わないので削除する。"
      ]
    },
    {
      "metadata": {
        "trusted": false,
        "id": "b5XQ6_Tqqte-"
      },
      "cell_type": "code",
      "source": [
        ""
      ],
      "execution_count": null,
      "outputs": []
    },
    {
      "metadata": {
        "id": "wK6D2hqlqte_"
      },
      "cell_type": "markdown",
      "source": [
        "---\n",
        "> P-089: 売上実績のある顧客に対し、予測モデル構築のため学習用データとテスト用データに分割したい。それぞれ8:2の割合でランダムにデータを分割せよ。"
      ]
    },
    {
      "metadata": {
        "trusted": false,
        "id": "RMi0JBQOqte_"
      },
      "cell_type": "code",
      "source": [
        ""
      ],
      "execution_count": null,
      "outputs": []
    },
    {
      "metadata": {
        "id": "05lExKJVqte_"
      },
      "cell_type": "markdown",
      "source": [
        "---\n",
        "> P-090: レシート明細データフレーム（df_receipt）は2017年1月1日〜2019年10月31日までのデータを有している。売上金額（amount）を月次で集計し、学習用に12ヶ月、テスト用に6ヶ月のモデル構築用データを3セット作成せよ。"
      ]
    },
    {
      "metadata": {
        "trusted": false,
        "id": "bkCqyOHgqtfA"
      },
      "cell_type": "code",
      "source": [
        ""
      ],
      "execution_count": null,
      "outputs": []
    },
    {
      "metadata": {
        "id": "LwJDTXzJqtfA"
      },
      "cell_type": "markdown",
      "source": [
        "---\n",
        "> P-091: 顧客データフレーム（df_customer）の各顧客に対し、売上実績のある顧客数と売上実績のない顧客数が1:1となるようにアンダーサンプリングで抽出せよ。"
      ]
    },
    {
      "metadata": {
        "trusted": false,
        "id": "N85LuUwJqtfB"
      },
      "cell_type": "code",
      "source": [
        ""
      ],
      "execution_count": null,
      "outputs": []
    },
    {
      "metadata": {
        "id": "XCpUyrEVqtfB"
      },
      "cell_type": "markdown",
      "source": [
        "---\n",
        "> P-092: 顧客データフレーム（df_customer）では、性別に関する情報が非正規化の状態で保持されている。これを第三正規化せよ。"
      ]
    },
    {
      "metadata": {
        "trusted": false,
        "id": "toFBFWjJqtfB"
      },
      "cell_type": "code",
      "source": [
        ""
      ],
      "execution_count": null,
      "outputs": []
    },
    {
      "metadata": {
        "id": "_VacxhjQqtfB"
      },
      "cell_type": "markdown",
      "source": [
        "---\n",
        "> P-093: 商品データフレーム（df_product）では各カテゴリのコード値だけを保有し、カテゴリ名は保有していない。カテゴリデータフレーム（df_category）と組み合わせて非正規化し、カテゴリ名を保有した新たな商品データフレームを作成せよ。"
      ]
    },
    {
      "metadata": {
        "trusted": false,
        "id": "wfqq2cypqtfC"
      },
      "cell_type": "code",
      "source": [
        ""
      ],
      "execution_count": null,
      "outputs": []
    },
    {
      "metadata": {
        "id": "a9swqmJRqtfC"
      },
      "cell_type": "markdown",
      "source": [
        "---\n",
        "> P-094: 先に作成したカテゴリ名付き商品データを以下の仕様でファイル出力せよ。なお、出力先のパスはdata配下とする。\n",
        ">\n",
        "> - ファイル形式はCSV（カンマ区切り）\n",
        "> - ヘッダ有り\n",
        "> - 文字コードはUTF-8"
      ]
    },
    {
      "metadata": {
        "trusted": false,
        "id": "KhVGG-NTqtfD"
      },
      "cell_type": "code",
      "source": [
        ""
      ],
      "execution_count": null,
      "outputs": []
    },
    {
      "metadata": {
        "id": "LGfHWI-VqtfF"
      },
      "cell_type": "markdown",
      "source": [
        "---\n",
        "> P-095: 先に作成したカテゴリ名付き商品データを以下の仕様でファイル出力せよ。なお、出力先のパスはdata配下とする。\n",
        ">\n",
        "> - ファイル形式はCSV（カンマ区切り）\n",
        "> - ヘッダ有り\n",
        "> - 文字コードはCP932"
      ]
    },
    {
      "metadata": {
        "trusted": false,
        "id": "z6nrISmzqtfF"
      },
      "cell_type": "code",
      "source": [
        ""
      ],
      "execution_count": null,
      "outputs": []
    },
    {
      "metadata": {
        "id": "S_o-GvPMqtfF"
      },
      "cell_type": "markdown",
      "source": [
        "---\n",
        "> P-096: 先に作成したカテゴリ名付き商品データを以下の仕様でファイル出力せよ。なお、出力先のパスはdata配下とする。\n",
        ">\n",
        "> - ファイル形式はCSV（カンマ区切り）\n",
        "> - ヘッダ無し\n",
        "> - 文字コードはUTF-8"
      ]
    },
    {
      "metadata": {
        "trusted": false,
        "id": "dtbsDCWhqtfF"
      },
      "cell_type": "code",
      "source": [
        ""
      ],
      "execution_count": null,
      "outputs": []
    },
    {
      "metadata": {
        "id": "Gu9ns5wzqtfG"
      },
      "cell_type": "markdown",
      "source": [
        "---\n",
        "> P-097: 先に作成した以下形式のファイルを読み込み、データフレームを作成せよ。また、先頭10件を表示させ、正しくとりまれていることを確認せよ。\n",
        ">\n",
        "> - ファイル形式はCSV（カンマ区切り）\n",
        "> - ヘッダ有り\n",
        "> - 文字コードはUTF-8"
      ]
    },
    {
      "metadata": {
        "trusted": false,
        "id": "Uhthwmp9qtfH"
      },
      "cell_type": "code",
      "source": [
        ""
      ],
      "execution_count": null,
      "outputs": []
    },
    {
      "metadata": {
        "id": "LFW7NrqIqtfH"
      },
      "cell_type": "markdown",
      "source": [
        "---\n",
        "> P-098: 先に作成した以下形式のファイルを読み込み、データフレームを作成せよ。また、先頭10件を表示させ、正しくとりまれていることを確認せよ。\n",
        ">\n",
        "> - ファイル形式はCSV（カンマ区切り）\n",
        "> - ヘッダ無し\n",
        "> - 文字コードはUTF-8"
      ]
    },
    {
      "metadata": {
        "trusted": false,
        "id": "ALbIb2mFqtfH"
      },
      "cell_type": "code",
      "source": [
        ""
      ],
      "execution_count": null,
      "outputs": []
    },
    {
      "metadata": {
        "id": "4rISHI6YqtfH"
      },
      "cell_type": "markdown",
      "source": [
        "---\n",
        "> P-099: 先に作成したカテゴリ名付き商品データを以下の仕様でファイル出力せよ。なお、出力先のパスはdata配下とする。\n",
        ">\n",
        "> - ファイル形式はTSV（タブ区切り）\n",
        "> - ヘッダ有り\n",
        "> - 文字コードはUTF-8"
      ]
    },
    {
      "metadata": {
        "trusted": false,
        "id": "twqpIZVQqtfI"
      },
      "cell_type": "code",
      "source": [
        ""
      ],
      "execution_count": null,
      "outputs": []
    },
    {
      "metadata": {
        "id": "XN20E-zRqtfI"
      },
      "cell_type": "markdown",
      "source": [
        "---\n",
        "> P-100: 先に作成した以下形式のファイルを読み込み、データフレームを作成せよ。また、先頭10件を表示させ、正しくとりまれていることを確認せよ。\n",
        ">\n",
        "> - ファイル形式はTSV（タブ区切り）\n",
        "> - ヘッダ有り\n",
        "> - 文字コードはUTF-8"
      ]
    },
    {
      "metadata": {
        "trusted": false,
        "id": "Th0etSH2qtfI"
      },
      "cell_type": "code",
      "source": [
        ""
      ],
      "execution_count": null,
      "outputs": []
    },
    {
      "metadata": {
        "id": "NvFCDYeJqtfJ"
      },
      "cell_type": "markdown",
      "source": [
        "# これで１００本終わりです。おつかれさまでした！"
      ]
    }
  ],
  "metadata": {
    "kernelspec": {
      "name": "python36",
      "display_name": "Python 3.6",
      "language": "python"
    },
    "language_info": {
      "mimetype": "text/x-python",
      "nbconvert_exporter": "python",
      "name": "python",
      "pygments_lexer": "ipython3",
      "version": "3.6.6",
      "file_extension": ".py",
      "codemirror_mode": {
        "version": 3,
        "name": "ipython"
      }
    },
    "colab": {
      "name": "preprocess_knock_Python_Azure.ipynb",
      "provenance": [],
      "include_colab_link": true
    },
    "accelerator": "GPU"
  },
  "nbformat": 4,
  "nbformat_minor": 0
}