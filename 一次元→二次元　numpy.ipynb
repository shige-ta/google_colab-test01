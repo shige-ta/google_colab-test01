{
  "nbformat": 4,
  "nbformat_minor": 0,
  "metadata": {
    "colab": {
      "name": "一次元→二次元　numpy",
      "provenance": [],
      "authorship_tag": "ABX9TyM6MJlg0yNMW5UjtYZ3hG1J",
      "include_colab_link": true
    },
    "kernelspec": {
      "name": "python3",
      "display_name": "Python 3"
    },
    "language_info": {
      "name": "python"
    }
  },
  "cells": [
    {
      "cell_type": "markdown",
      "metadata": {
        "id": "view-in-github",
        "colab_type": "text"
      },
      "source": [
        "<a href=\"https://colab.research.google.com/github/shige-ta/google_colab-test01/blob/main/%E4%B8%80%E6%AC%A1%E5%85%83%E2%86%92%E4%BA%8C%E6%AC%A1%E5%85%83%E3%80%80numpy.ipynb\" target=\"_parent\"><img src=\"https://colab.research.google.com/assets/colab-badge.svg\" alt=\"Open In Colab\"/></a>"
      ]
    },
    {
      "cell_type": "code",
      "execution_count": 3,
      "metadata": {
        "colab": {
          "base_uri": "https://localhost:8080/"
        },
        "id": "NhZBUdjXNwg5",
        "outputId": "2bd4ba7e-e3c1-4a8a-fea4-19e42cf3bd23"
      },
      "outputs": [
        {
          "output_type": "stream",
          "name": "stdout",
          "text": [
            "[['A' 'B']\n",
            " ['A' 'B']\n",
            " ['A' 'B']\n",
            " ['A' 'B']\n",
            " ['A' 'B']\n",
            " ['A' 'B']\n",
            " ['A' 'B']\n",
            " ['A' 'B']\n",
            " ['A' 'B']\n",
            " ['A' 'B']\n",
            " ['A' 'B']]\n"
          ]
        }
      ],
      "source": [
        "import numpy as np\n",
        "\n",
        "\n",
        "s = \"ABABABABABABABABABABAB\"\n",
        "\n",
        "# print(list(s))\n",
        "data_1 = np.array(list(s))\n",
        "data_2 = data_1.reshape(len(s)//2, 2)\n",
        "\n",
        "print(data_2)\n"
      ]
    },
    {
      "cell_type": "code",
      "source": [
        ""
      ],
      "metadata": {
        "id": "P3zBvkXHOBfz"
      },
      "execution_count": null,
      "outputs": []
    }
  ]
}